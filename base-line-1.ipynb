{
 "cells": [
  {
   "cell_type": "markdown",
   "id": "e3ff14f5",
   "metadata": {},
   "source": [
    "## Imports"
   ]
  },
  {
   "cell_type": "code",
   "execution_count": null,
   "id": "29e28da2",
   "metadata": {},
   "outputs": [
    {
     "name": "stdout",
     "output_type": "stream",
     "text": [
      "python： 3.10.12 (main, Nov 20 2023, 15:14:05) [GCC 11.4.0]\n"
     ]
    },
    {
     "name": "stderr",
     "output_type": "stream",
     "text": [
      "/tmp/ipykernel_9164/1559013524.py:7: DeprecationWarning: pkg_resources is deprecated as an API. See https://setuptools.pypa.io/en/latest/pkg_resources.html\n",
      "  import pkg_resources\n"
     ]
    }
   ],
   "source": [
    "import sys\n",
    "\n",
    "print(\"python：\", sys.version)\n",
    "\n",
    "import gc\n",
    "\n",
    "import pkg_resources"
   ]
  },
  {
   "cell_type": "code",
   "execution_count": null,
   "id": "b9202ca9",
   "metadata": {},
   "outputs": [],
   "source": [
    "def get_package_version(package_name):\n",
    "    try:\n",
    "        version = pkg_resources.get_distribution(package_name).version\n",
    "        return version\n",
    "    except pkg_resources.DistributionNotFound:\n",
    "        return \"Package not found\""
   ]
  },
  {
   "cell_type": "code",
   "execution_count": null,
   "id": "1b4315a4",
   "metadata": {},
   "outputs": [
    {
     "name": "stdout",
     "output_type": "stream",
     "text": [
      "torch：2.3.0\n"
     ]
    }
   ],
   "source": [
    "package_name = \"torch\"\n",
    "version = get_package_version(package_name)\n",
    "print(f\"{package_name}：{version}\")"
   ]
  },
  {
   "cell_type": "code",
   "execution_count": null,
   "id": "7a8e34ff",
   "metadata": {},
   "outputs": [
    {
     "name": "stdout",
     "output_type": "stream",
     "text": [
      "transformers：4.40.1\n"
     ]
    }
   ],
   "source": [
    "package_name = \"transformers\"\n",
    "version = get_package_version(package_name)\n",
    "print(f\"{package_name}：{version}\")"
   ]
  },
  {
   "cell_type": "code",
   "execution_count": null,
   "id": "fa7c6afb",
   "metadata": {},
   "outputs": [
    {
     "name": "stdout",
     "output_type": "stream",
     "text": [
      "pandas：2.2.2\n"
     ]
    }
   ],
   "source": [
    "package_name = \"pandas\"\n",
    "version = get_package_version(package_name)\n",
    "print(f\"{package_name}：{version}\")"
   ]
  },
  {
   "cell_type": "code",
   "execution_count": null,
   "id": "bbf43da8",
   "metadata": {},
   "outputs": [],
   "source": [
    "import math\n",
    "import random\n",
    "import re\n",
    "import subprocess\n",
    "import sys\n",
    "from collections import Counter, defaultdict\n",
    "\n",
    "import numpy as np\n",
    "import pandas as pd\n",
    "from numpy.random import choice\n",
    "from tqdm import tqdm"
   ]
  },
  {
   "cell_type": "code",
   "execution_count": null,
   "id": "a1407238",
   "metadata": {},
   "outputs": [],
   "source": [
    "import transformers\n",
    "from transformers import (\n",
    "    AutoConfig,\n",
    "    AutoModelForCausalLM,\n",
    "    AutoTokenizer,\n",
    "    StoppingCriteria,\n",
    "    StoppingCriteriaList,\n",
    "    set_seed,\n",
    ")"
   ]
  },
  {
   "cell_type": "code",
   "execution_count": null,
   "id": "0ffafd3d",
   "metadata": {},
   "outputs": [
    {
     "name": "stdout",
     "output_type": "stream",
     "text": [
      "CUDA： 12.1\n"
     ]
    }
   ],
   "source": [
    "import torch\n",
    "\n",
    "cuda_version = torch.version.cuda\n",
    "print(\"CUDA：\", cuda_version)"
   ]
  },
  {
   "cell_type": "code",
   "execution_count": null,
   "id": "8cee40db",
   "metadata": {},
   "outputs": [],
   "source": [
    "import time"
   ]
  },
  {
   "cell_type": "code",
   "execution_count": null,
   "id": "90a61c76",
   "metadata": {},
   "outputs": [],
   "source": []
  },
  {
   "cell_type": "code",
   "execution_count": null,
   "id": "629ce043",
   "metadata": {},
   "outputs": [],
   "source": [
    "## Config\n",
    "class Config:\n",
    "    SEED = 42  # SEEDING\n",
    "    DEBUG = False\n",
    "    QUANT = True  # To use quantised version or not\n",
    "    PRIVATE = False  # True for Kaggle submission\n",
    "    USE_PAST_KEY = True\n",
    "    MEM_EFFICIENT_SDP = False  # enable memory efficient scaled dot product\n",
    "    n_repetitions = 19 if PRIVATE else 3  # Number of answers to generate\n",
    "    TOTAL_TOKENS = 2048\n",
    "    # TIME_LIMIT = 31500 if PRIVATE else 1\n",
    "    TIME_LIMIT = 31500\n",
    "\n",
    "    #     MODEL_PATH = \"/kaggle/input/deepseek-math\"\n",
    "    # MODEL_PATH =  \"/kaggle/input/open-math-mistral\"\n",
    "    MODEL_PATH = \"deepseek-ai/deepseek-math-7b-rl\"\n",
    "\n",
    "    ENABLE_GRADIENT_CHECKPOINTING = True\n",
    "\n",
    "    temperature = 0.9\n",
    "    top_p = 1.0\n",
    "\n",
    "    temperature_coding = 0.9\n",
    "    top_p_coding = 1.0"
   ]
  },
  {
   "cell_type": "code",
   "execution_count": null,
   "id": "beabd296",
   "metadata": {},
   "outputs": [],
   "source": [
    "cnfg = Config()"
   ]
  },
  {
   "cell_type": "code",
   "execution_count": null,
   "id": "ca6243bf",
   "metadata": {},
   "outputs": [],
   "source": []
  },
  {
   "cell_type": "code",
   "execution_count": null,
   "id": "4badc215",
   "metadata": {},
   "outputs": [],
   "source": [
    "torch.backends.cuda.enable_mem_efficient_sdp(cnfg.MEM_EFFICIENT_SDP)"
   ]
  },
  {
   "cell_type": "code",
   "execution_count": null,
   "id": "8a8d154c",
   "metadata": {},
   "outputs": [
    {
     "name": "stdout",
     "output_type": "stream",
     "text": [
      "CPU times: user 4.07 ms, sys: 57 µs, total: 4.13 ms\n",
      "Wall time: 3.93 ms\n"
     ]
    }
   ],
   "source": [
    "%%time\n",
    "if cnfg.QUANT:\n",
    "    from transformers import BitsAndBytesConfig\n",
    "\n",
    "    quantization_config = BitsAndBytesConfig(\n",
    "        load_in_4bit=True,\n",
    "        bnb_4bit_quant_type=\"nf4\",\n",
    "        bnb_4bit_compute_dtype=torch.bfloat16,\n",
    "        bnb_4bit_use_double_quant=True,\n",
    "    )\n",
    "\n",
    "    # !pip install -U /kaggle/input/accelerate-wheelwhl/accelerate-0.29.1-py3-none-any.whl -qq\n",
    "    # !pip install -U /kaggle/input/bitsandbytes-0-42-0-py3-none-any-whl/bitsandbytes-0.42.0-py3-none-any.whl -qq\n",
    "\n",
    "\n",
    "set_seed(cnfg.SEED)"
   ]
  },
  {
   "cell_type": "code",
   "execution_count": null,
   "id": "9c78bc6d",
   "metadata": {},
   "outputs": [],
   "source": []
  },
  {
   "cell_type": "markdown",
   "id": "287cdc98",
   "metadata": {},
   "source": [
    "## Utils"
   ]
  },
  {
   "cell_type": "code",
   "execution_count": null,
   "id": "6e201bdc",
   "metadata": {},
   "outputs": [],
   "source": [
    "def naive_parse(answer):\n",
    "    \"\"\"\n",
    "    Takes the generated text and parses the numerical text in the end.\n",
    "    \"\"\"\n",
    "    out = []\n",
    "    start = False\n",
    "    end = False\n",
    "    for l in reversed(list(answer)):\n",
    "        if l in \"0123456789\" and not end:\n",
    "            start = True\n",
    "            out.append(l)\n",
    "        else:\n",
    "            if start:\n",
    "                end = True\n",
    "\n",
    "    out = reversed(out)\n",
    "    return \"\".join(out)"
   ]
  },
  {
   "cell_type": "code",
   "execution_count": null,
   "id": "8f8f32f5",
   "metadata": {},
   "outputs": [],
   "source": [
    "def return_last_print(output, n):\n",
    "    \"\"\"\n",
    "    Return the nth line from the given output\n",
    "    Used for getting the last print from the generated code.\n",
    "    \"\"\"\n",
    "    lines = output.strip().split(\"\\n\")\n",
    "    if lines:\n",
    "        return lines[n]\n",
    "    else:\n",
    "        return \"\""
   ]
  },
  {
   "cell_type": "code",
   "execution_count": null,
   "id": "8d84542e",
   "metadata": {},
   "outputs": [],
   "source": [
    "def process_code(code, return_shell_output=False):\n",
    "    \"\"\"\n",
    "    Given the generated code this functions executes and returns the output\n",
    "    \"\"\"\n",
    "\n",
    "    def repl(match):\n",
    "        if \"real\" not in match.group():\n",
    "            return \"{}{}\".format(match.group()[:-1], \", real=True)\")\n",
    "        else:\n",
    "            return \"{}{}\".format(match.group()[:-1], \")\")\n",
    "\n",
    "    code = re.sub(r\"symbols\\([^)]+\\)\", repl, code)\n",
    "\n",
    "    if return_shell_output:\n",
    "        code = code.replace(\"\\n\", \"\\n    \")\n",
    "        # Add a try...except block\n",
    "        code = \"\\ntry:\\n    from sympy import *\\n{}\\nexcept Exception as e:\\n    print(e)\\n    print('FAIL')\\n\".format(\n",
    "            code\n",
    "        )\n",
    "\n",
    "    if not return_shell_output:\n",
    "        print(code)\n",
    "    with open(\"code.py\", \"w\") as fout:\n",
    "        fout.write(code)\n",
    "\n",
    "    batcmd = \"timeout 7 \" + sys.executable + \" code.py\"\n",
    "    try:\n",
    "        shell_output = subprocess.check_output(batcmd, shell=True).decode(\"utf8\")\n",
    "        return_value = return_last_print(shell_output, -1)\n",
    "        print(shell_output)\n",
    "        if return_shell_output:\n",
    "            if return_value == \"FAIL\":\n",
    "                CODE_STATUS = False\n",
    "                return_value = return_last_print(shell_output, -2)\n",
    "                if \"not defined\" in return_value:\n",
    "                    return_value += \"\\nTry checking the formatting and imports\"\n",
    "            else:\n",
    "                CODE_STATUS = True\n",
    "            return return_value, CODE_STATUS\n",
    "        code_output = round(float(eval(return_value))) % 1000\n",
    "    except Exception as e:\n",
    "        print(e, \"shell_output\")\n",
    "        code_output = -1\n",
    "\n",
    "    if return_shell_output:\n",
    "        if code_output == -1:\n",
    "            CODE_STATUS = False\n",
    "        else:\n",
    "            CODE_STATUS = True\n",
    "        return code_output, CODE_STATUS\n",
    "\n",
    "    return code_output"
   ]
  },
  {
   "cell_type": "code",
   "execution_count": null,
   "id": "b4d0ad15",
   "metadata": {},
   "outputs": [],
   "source": [
    "def process_text_output(output):\n",
    "    \"\"\"\n",
    "    Parsing text output.\n",
    "    \"\"\"\n",
    "    result = output\n",
    "    try:\n",
    "        result_output = re.findall(r\"\\\\boxed\\{(\\d+)\\}\", result)\n",
    "\n",
    "        print(\"BOXED\", result_output)\n",
    "        if not len(result_output):\n",
    "            result_output = naive_parse(result)\n",
    "        else:\n",
    "            result_output = result_output[-1]\n",
    "\n",
    "        print(\"BOXED FINAL\", result_output)\n",
    "        if not len(result_output):\n",
    "            result_output = -1\n",
    "\n",
    "        else:\n",
    "            result_output = round(float(eval(result_output))) % 1000\n",
    "\n",
    "    except Exception as e:\n",
    "        print(e)\n",
    "        print(\"ERROR PARSING TEXT\")\n",
    "        result_output = -1\n",
    "\n",
    "    return result_output"
   ]
  },
  {
   "cell_type": "code",
   "execution_count": null,
   "id": "dac90bd6-a7c9-42fc-8491-eadf55d4bdd8",
   "metadata": {},
   "outputs": [],
   "source": []
  },
  {
   "cell_type": "code",
   "execution_count": null,
   "id": "816bd7cf-22d0-4c74-a48c-4559e361dd98",
   "metadata": {},
   "outputs": [],
   "source": []
  },
  {
   "cell_type": "code",
   "execution_count": null,
   "id": "d428f85b",
   "metadata": {},
   "outputs": [],
   "source": []
  },
  {
   "cell_type": "markdown",
   "id": "247111f6",
   "metadata": {},
   "source": [
    "## Model"
   ]
  },
  {
   "cell_type": "code",
   "execution_count": null,
   "id": "febc2614",
   "metadata": {},
   "outputs": [
    {
     "data": {
      "text/plain": [
       "40"
      ]
     },
     "execution_count": null,
     "metadata": {},
     "output_type": "execute_result"
    }
   ],
   "source": [
    "torch.cuda.empty_cache()\n",
    "gc.collect()"
   ]
  },
  {
   "cell_type": "code",
   "execution_count": null,
   "id": "9f210aac-5e4b-4e67-a63f-7fd480ae9373",
   "metadata": {},
   "outputs": [
    {
     "name": "stderr",
     "output_type": "stream",
     "text": [
      "/home/rohit/Desktop/rohit/virtualenvs/rohit_transformers/lib/python3.10/site-packages/huggingface_hub/file_download.py:1132: FutureWarning: `resume_download` is deprecated and will be removed in version 1.0.0. Downloads always resume when possible. If you want to force a new download, use `force_download=True`.\n",
      "  warnings.warn(\n",
      "Special tokens have been added in the vocabulary, make sure the associated word embeddings are fine-tuned or trained.\n"
     ]
    },
    {
     "name": "stdout",
     "output_type": "stream",
     "text": [
      "CPU times: user 203 ms, sys: 33.8 ms, total: 237 ms\n",
      "Wall time: 585 ms\n"
     ]
    }
   ],
   "source": [
    "%%time\n",
    "config = AutoConfig.from_pretrained(cnfg.MODEL_PATH)\n",
    "config.gradient_checkpointing = cnfg.ENABLE_GRADIENT_CHECKPOINTING\n",
    "\n",
    "tokenizer = AutoTokenizer.from_pretrained(cnfg.MODEL_PATH)"
   ]
  },
  {
   "cell_type": "code",
   "execution_count": null,
   "id": "46a2821a-0629-4719-bd96-5acb91b1f896",
   "metadata": {},
   "outputs": [],
   "source": [
    "# ## For 2 T4 GPUs\n",
    "# device_map = [('model.embed_tokens', 0),\n",
    "#              ('model.layers.0', 0),\n",
    "#              ('model.layers.1', 0),\n",
    "#              ('model.layers.2', 0),\n",
    "#              ('model.layers.3', 0),\n",
    "#              ('model.layers.4', 0),\n",
    "#              ('model.layers.5', 0),\n",
    "#              ('model.layers.6', 0),\n",
    "#              ('model.layers.7', 0),\n",
    "#              ('model.layers.8', 0),\n",
    "#              ('model.layers.9', 0),\n",
    "#              ('model.layers.10', 0),\n",
    "#              ('model.layers.11', 0),\n",
    "#              ('model.layers.12', 0),\n",
    "#              ('model.layers.13', 0),\n",
    "#              ('model.layers.14', 0),\n",
    "#              ('model.layers.15', 0),\n",
    "#              ('model.layers.16', 0),\n",
    "#              ('model.layers.17', 0),\n",
    "#              ('model.layers.18', 0),\n",
    "#              ('model.layers.19', 0),\n",
    "#              ('model.layers.20', 0),\n",
    "#              ('model.layers.21', 0),\n",
    "#              ('model.layers.22', 1),\n",
    "#              ('model.layers.23', 1),\n",
    "#              ('model.layers.24', 1),\n",
    "#              ('model.layers.25', 1),\n",
    "#              ('model.layers.26', 1),\n",
    "#              ('model.layers.27', 1),\n",
    "#              ('model.layers.28', 1),\n",
    "#              ('model.layers.29', 1),\n",
    "#              ('model.norm', 1),\n",
    "#              ('lm_head', 1)]\n",
    "\n",
    "# if 'open-math' in cnfg.MODEL_PATH:\n",
    "#     device_map = 'auto'\n",
    "#     print(device_map)\n",
    "# else:\n",
    "#     device_map = {ii:jj for (ii,jj) in device_map}"
   ]
  },
  {
   "cell_type": "code",
   "execution_count": null,
   "id": "1144b172-6ab8-4fef-a5ef-762c1d2fc051",
   "metadata": {},
   "outputs": [],
   "source": [
    "device_map = \"auto\""
   ]
  },
  {
   "cell_type": "code",
   "execution_count": null,
   "id": "5ed2bdcb-214e-4563-a627-04f35acc45b5",
   "metadata": {},
   "outputs": [],
   "source": []
  },
  {
   "cell_type": "code",
   "execution_count": null,
   "id": "1eae36b8",
   "metadata": {},
   "outputs": [
    {
     "data": {
      "application/vnd.jupyter.widget-view+json": {
       "model_id": "9a4b7693191a42af9feb0fc21870b52b",
       "version_major": 2,
       "version_minor": 0
      },
      "text/plain": [
       "Loading checkpoint shards:   0%|          | 0/2 [00:00<?, ?it/s]"
      ]
     },
     "metadata": {},
     "output_type": "display_data"
    },
    {
     "name": "stderr",
     "output_type": "stream",
     "text": [
      "/home/rohit/Desktop/rohit/virtualenvs/rohit_transformers/lib/python3.10/site-packages/huggingface_hub/file_download.py:1132: FutureWarning: `resume_download` is deprecated and will be removed in version 1.0.0. Downloads always resume when possible. If you want to force a new download, use `force_download=True`.\n",
      "  warnings.warn(\n"
     ]
    }
   ],
   "source": [
    "if cnfg.QUANT:\n",
    "    from transformers import BitsAndBytesConfig\n",
    "\n",
    "    quantization_config = BitsAndBytesConfig(\n",
    "        load_in_4bit=True,\n",
    "        bnb_4bit_quant_type=\"nf4\",\n",
    "        bnb_4bit_compute_dtype=torch.bfloat16,\n",
    "        bnb_4bit_use_double_quant=True,\n",
    "    )\n",
    "    model = AutoModelForCausalLM.from_pretrained(\n",
    "        cnfg.MODEL_PATH,\n",
    "        device_map=\"sequential\",\n",
    "        torch_dtype=\"auto\",\n",
    "        trust_remote_code=True,\n",
    "        quantization_config=quantization_config,\n",
    "        config=config,\n",
    "    )\n",
    "else:\n",
    "    model = AutoModelForCausalLM.from_pretrained(\n",
    "        cnfg.MODEL_PATH,\n",
    "        device_map=device_map,\n",
    "        torch_dtype=\"auto\",\n",
    "        trust_remote_code=True,\n",
    "        # quantization_config=quantization_config,\n",
    "        config=config,\n",
    "    )\n",
    "\n",
    "pipeline = transformers.pipeline(\n",
    "    \"text-generation\",\n",
    "    model=model,\n",
    "    tokenizer=tokenizer,\n",
    "    torch_dtype=\"auto\",\n",
    "    device_map=device_map,\n",
    ")"
   ]
  },
  {
   "cell_type": "code",
   "execution_count": null,
   "id": "9b3fd325",
   "metadata": {},
   "outputs": [
    {
     "data": {
      "text/plain": [
       "(torch.bfloat16, {'': 0})"
      ]
     },
     "execution_count": null,
     "metadata": {},
     "output_type": "execute_result"
    }
   ],
   "source": [
    "model.dtype, model.hf_device_map"
   ]
  },
  {
   "cell_type": "code",
   "execution_count": null,
   "id": "9b9e1131",
   "metadata": {},
   "outputs": [],
   "source": [
    "class StoppingCriteriaSub(StoppingCriteria):\n",
    "    def __init__(self, stops=[], encounters=1):\n",
    "        super().__init__()\n",
    "        self.stops = [stop.to(\"cuda\") for stop in stops]\n",
    "\n",
    "    def __call__(self, input_ids: torch.LongTensor, scores: torch.FloatTensor):\n",
    "        for stop in self.stops:\n",
    "            last_token = input_ids[0][-len(stop) :]\n",
    "            if torch.all(torch.eq(stop, last_token)):\n",
    "                return True\n",
    "        return False\n",
    "\n",
    "\n",
    "stop_words = [\"```output\", \"```python\", \"```\\nOutput\", \")\\n```\", \"``````output\"]  # ,\n",
    "stop_words_ids = [\n",
    "    tokenizer(stop_word, return_tensors=\"pt\", add_special_tokens=False)[\n",
    "        \"input_ids\"\n",
    "    ].squeeze()\n",
    "    for stop_word in stop_words\n",
    "]\n",
    "stopping_criteria = StoppingCriteriaList([StoppingCriteriaSub(stops=stop_words_ids)])"
   ]
  },
  {
   "cell_type": "code",
   "execution_count": null,
   "id": "9f1ccbc6",
   "metadata": {},
   "outputs": [],
   "source": []
  },
  {
   "cell_type": "markdown",
   "id": "9e1e7aa6",
   "metadata": {},
   "source": [
    "## Prompts"
   ]
  },
  {
   "cell_type": "code",
   "execution_count": null,
   "id": "c4185995",
   "metadata": {},
   "outputs": [],
   "source": [
    "# Code prompt\n",
    "code = \"\"\"Below is a math problem you are to solve (positive numerical answer):\n",
    "\\\"{}\\\"\n",
    "To accomplish this, first determine a sympy-based approach for solving the problem by listing each step to take and what functions need to be called in each step. Be clear so even an idiot can follow your instructions, and remember, your final answer should be positive integer, not an algebraic expression!\n",
    "Write the entire script covering all the steps (use comments and document it well) and print the result. After solving the problem, output the final numerical answer within \\\\boxed{}.\n",
    "\n",
    "Approach:\"\"\"\n",
    "\n",
    "# Chain of thought\n",
    "cot = \"\"\"Below is a math problem you are to solve (positive numerical answer!):\n",
    "\\\"{}\\\"\n",
    "Analyze this problem and think step by step to come to a solution with programs. After solving the problem, output the final numerical answer within \\\\boxed{}.\\n\\n\"\"\""
   ]
  },
  {
   "cell_type": "code",
   "execution_count": null,
   "id": "dd731e76",
   "metadata": {},
   "outputs": [],
   "source": [
    "tool_instruction = \"\\n\\nPlease integrate natural language reasoning with programs to solve the above problem, and put your final numerical answer within \\\\boxed{}.\\nNote that the intermediary calculations may be real numbers, but the final numerical answer would always be an integer.\""
   ]
  },
  {
   "cell_type": "code",
   "execution_count": null,
   "id": "870c1efb",
   "metadata": {},
   "outputs": [],
   "source": [
    "promplt_options = [code, cot]"
   ]
  },
  {
   "cell_type": "code",
   "execution_count": null,
   "id": "e5d72ca9-f48f-4cb6-9362-3c5ef80635b9",
   "metadata": {},
   "outputs": [],
   "source": []
  },
  {
   "cell_type": "markdown",
   "id": "99623505-7254-415e-b399-f7d948d2b048",
   "metadata": {},
   "source": [
    "### Read Data"
   ]
  },
  {
   "cell_type": "code",
   "execution_count": null,
   "id": "9978234f-b8a8-489a-8759-144327de4888",
   "metadata": {},
   "outputs": [],
   "source": [
    "data_df = pd.read_csv(\"./data/aimo_given/train.csv\")"
   ]
  },
  {
   "cell_type": "code",
   "execution_count": null,
   "id": "e906d0b2-6d72-4e5d-9368-74a0c22ff41a",
   "metadata": {},
   "outputs": [
    {
     "data": {
      "text/html": [
       "<div>\n",
       "<style scoped>\n",
       "    .dataframe tbody tr th:only-of-type {\n",
       "        vertical-align: middle;\n",
       "    }\n",
       "\n",
       "    .dataframe tbody tr th {\n",
       "        vertical-align: top;\n",
       "    }\n",
       "\n",
       "    .dataframe thead th {\n",
       "        text-align: right;\n",
       "    }\n",
       "</style>\n",
       "<table border=\"1\" class=\"dataframe\">\n",
       "  <thead>\n",
       "    <tr style=\"text-align: right;\">\n",
       "      <th></th>\n",
       "      <th>id</th>\n",
       "      <th>problem</th>\n",
       "      <th>answer</th>\n",
       "    </tr>\n",
       "  </thead>\n",
       "  <tbody>\n",
       "    <tr>\n",
       "      <th>0</th>\n",
       "      <td>229ee8</td>\n",
       "      <td>Let $k, l &gt; 0$ be parameters. The parabola $y ...</td>\n",
       "      <td>52</td>\n",
       "    </tr>\n",
       "    <tr>\n",
       "      <th>1</th>\n",
       "      <td>246d26</td>\n",
       "      <td>Each of the three-digits numbers $111$ to $999...</td>\n",
       "      <td>250</td>\n",
       "    </tr>\n",
       "    <tr>\n",
       "      <th>2</th>\n",
       "      <td>2fc4ad</td>\n",
       "      <td>Let the `sparkle' operation on positive intege...</td>\n",
       "      <td>702</td>\n",
       "    </tr>\n",
       "    <tr>\n",
       "      <th>3</th>\n",
       "      <td>430b63</td>\n",
       "      <td>What is the minimum value of $5x^2+5y^2-8xy$ w...</td>\n",
       "      <td>800</td>\n",
       "    </tr>\n",
       "    <tr>\n",
       "      <th>4</th>\n",
       "      <td>5277ed</td>\n",
       "      <td>There exists a unique increasing geometric seq...</td>\n",
       "      <td>211</td>\n",
       "    </tr>\n",
       "  </tbody>\n",
       "</table>\n",
       "</div>"
      ],
      "text/plain": [
       "       id                                            problem  answer\n",
       "0  229ee8  Let $k, l > 0$ be parameters. The parabola $y ...      52\n",
       "1  246d26  Each of the three-digits numbers $111$ to $999...     250\n",
       "2  2fc4ad  Let the `sparkle' operation on positive intege...     702\n",
       "3  430b63  What is the minimum value of $5x^2+5y^2-8xy$ w...     800\n",
       "4  5277ed  There exists a unique increasing geometric seq...     211"
      ]
     },
     "execution_count": null,
     "metadata": {},
     "output_type": "execute_result"
    }
   ],
   "source": [
    "data_df.head()"
   ]
  },
  {
   "cell_type": "code",
   "execution_count": null,
   "id": "06f084d2-7a1b-4426-8c69-b5813df11ab4",
   "metadata": {},
   "outputs": [],
   "source": [
    "sample_df = data_df.sample(5)"
   ]
  },
  {
   "cell_type": "code",
   "execution_count": null,
   "id": "53edbdd8-cf0c-400b-8399-aa0ab10f7f2a",
   "metadata": {},
   "outputs": [
    {
     "data": {
      "text/html": [
       "<div>\n",
       "<style scoped>\n",
       "    .dataframe tbody tr th:only-of-type {\n",
       "        vertical-align: middle;\n",
       "    }\n",
       "\n",
       "    .dataframe tbody tr th {\n",
       "        vertical-align: top;\n",
       "    }\n",
       "\n",
       "    .dataframe thead th {\n",
       "        text-align: right;\n",
       "    }\n",
       "</style>\n",
       "<table border=\"1\" class=\"dataframe\">\n",
       "  <thead>\n",
       "    <tr style=\"text-align: right;\">\n",
       "      <th></th>\n",
       "      <th>id</th>\n",
       "      <th>problem</th>\n",
       "      <th>answer</th>\n",
       "    </tr>\n",
       "  </thead>\n",
       "  <tbody>\n",
       "    <tr>\n",
       "      <th>8</th>\n",
       "      <td>bedda4</td>\n",
       "      <td>Let $ABCD$ be a unit square. Let $P$ be the po...</td>\n",
       "      <td>480</td>\n",
       "    </tr>\n",
       "    <tr>\n",
       "      <th>1</th>\n",
       "      <td>246d26</td>\n",
       "      <td>Each of the three-digits numbers $111$ to $999...</td>\n",
       "      <td>250</td>\n",
       "    </tr>\n",
       "    <tr>\n",
       "      <th>5</th>\n",
       "      <td>739bc9</td>\n",
       "      <td>For how many positive integers $m$ does the eq...</td>\n",
       "      <td>199</td>\n",
       "    </tr>\n",
       "    <tr>\n",
       "      <th>0</th>\n",
       "      <td>229ee8</td>\n",
       "      <td>Let $k, l &gt; 0$ be parameters. The parabola $y ...</td>\n",
       "      <td>52</td>\n",
       "    </tr>\n",
       "    <tr>\n",
       "      <th>7</th>\n",
       "      <td>8ee6f3</td>\n",
       "      <td>The points $\\left(x, y\\right)$ satisfying $((\\...</td>\n",
       "      <td>320</td>\n",
       "    </tr>\n",
       "  </tbody>\n",
       "</table>\n",
       "</div>"
      ],
      "text/plain": [
       "       id                                            problem  answer\n",
       "8  bedda4  Let $ABCD$ be a unit square. Let $P$ be the po...     480\n",
       "1  246d26  Each of the three-digits numbers $111$ to $999...     250\n",
       "5  739bc9  For how many positive integers $m$ does the eq...     199\n",
       "0  229ee8  Let $k, l > 0$ be parameters. The parabola $y ...      52\n",
       "7  8ee6f3  The points $\\left(x, y\\right)$ satisfying $((\\...     320"
      ]
     },
     "execution_count": null,
     "metadata": {},
     "output_type": "execute_result"
    }
   ],
   "source": [
    "sample_df"
   ]
  },
  {
   "cell_type": "markdown",
   "id": "66f534bc",
   "metadata": {},
   "source": [
    "## Inference"
   ]
  },
  {
   "cell_type": "code",
   "execution_count": null,
   "id": "cab4b99a-7389-491d-b890-342e444b2d36",
   "metadata": {},
   "outputs": [],
   "source": [
    "NOTEBOOK_START_TIME = time.time()"
   ]
  },
  {
   "cell_type": "code",
   "execution_count": null,
   "id": "bea81118",
   "metadata": {},
   "outputs": [
    {
     "name": "stderr",
     "output_type": "stream",
     "text": [
      "0it [00:00, ?it/s]"
     ]
    },
    {
     "name": "stdout",
     "output_type": "stream",
     "text": [
      "Solving problem 0 ...\n"
     ]
    },
    {
     "name": "stderr",
     "output_type": "stream",
     "text": [
      "\n",
      "  0%|                                                     | 0/3 [00:00<?, ?it/s]\u001b[A"
     ]
    },
    {
     "name": "stdout",
     "output_type": "stream",
     "text": [
      "\n",
      "\n",
      "\n",
      "QUESTION 0 - 0 - TIME_SPENT : 0 secs\n"
     ]
    },
    {
     "name": "stderr",
     "output_type": "stream",
     "text": [
      "Setting `pad_token_id` to `eos_token_id`:100001 for open-end generation.\n"
     ]
    },
    {
     "name": "stdout",
     "output_type": "stream",
     "text": [
      "0_User: Below is a math problem you are to solve (positive numerical answer):\n",
      "\"Let $ABCD$ be a unit square. Let $P$ be the point on $AB$ such that $|AP| = 1/{20}$ and let $Q$ be the point on $AD$ such that $|AQ| = 1/{24}$. The lines $DP$ and $BQ$ divide the square into four regions. Find the ratio between the areas of the largest region and the smallest region.\"\n",
      "To accomplish this, first determine a sympy-based approach for solving the problem by listing each step to take and what functions need to be called in each step. Be clear so even an idiot can follow your instructions, and remember, your final answer should be positive integer, not an algebraic expression!\n",
      "Write the entire script covering all the steps (use comments and document it well) and print the result. After solving the problem, output the final numerical answer within \\boxed{}.\n",
      "\n",
      "Approach:\n",
      "\n"
     ]
    },
    {
     "name": "stderr",
     "output_type": "stream",
     "text": [
      "Setting `pad_token_id` to `eos_token_id`:100001 for open-end generation.\n"
     ]
    },
    {
     "name": "stdout",
     "output_type": "stream",
     "text": [
      "\n",
      "1. First, let's calculate the lengths of the segments $AP$ and $AQ$. According to the problem, we have $|AP| = 1/20$ and $|AQ| = 1/24$.\n",
      "2. The area of the triangle $ABP$ is given by $(1/2) * |AB| * |AP| = (1/2) * 1 * (1/20) = 1/40$.\n",
      "3. The area of the triangle $ADQ$ is given by $(1/2) * |AD| * |AQ| = (1/2) * 1 * (1/24) = 1/48$.\n",
      "4. The area of the quadrilateral $ABCD$ is given by $|AB| * |AD| = 1 * 1 = 1$.\n",
      "5. The area of the largest region is the area of the square minus the areas of the two triangles, which is $1 - (1/40 + 1/48) = 1 - (24 + 20)/ (40 * 48) = 1 - 44/1920 = 1 - 1/48 = 47/48$.\n",
      "6. The area of the smallest region is the area of the triangle formed by the intersection of $DP$ and $BQ$, which is the area of the triangle $ADP$ minus the area of the triangle $ABQ$. The area of the triangle $ADP$ is given by $(1/2) * |AD| * |AP| = (1/2) * 1 * (1/20) = 1/40$. Similarly, the area of the triangle $ABQ$ is given by $(1/2) * |AB| * |AQ| = (1/2) * 1 * (1/24) = 1/48$. So the area of the smallest region is $1/40 - 1/48 = (12 - 10)/480 = 2/480 = 1/240$.\n",
      "7. The ratio between the areas of the largest region and the smallest region is $(47/48) / (1/240) = (47/48) * 240 = 47 * 5 = 235$.\n",
      "\n",
      "Now let's write the script to calculate the ratio in Python using the sympy module:\n",
      "\n",
      "```python\n",
      "\n"
     ]
    },
    {
     "name": "stderr",
     "output_type": "stream",
     "text": [
      "Setting `pad_token_id` to `eos_token_id`:100001 for open-end generation.\n"
     ]
    },
    {
     "name": "stdout",
     "output_type": "stream",
     "text": [
      "\n",
      "INTERMEDIATE OUT :\n",
      "\n",
      "from sympy import Rational\n",
      "\n",
      "def calculate_ratio():\n",
      "    # Calculate the areas of the largest and smallest regions\n",
      "    largest_region = 1 - Rational(1, 40) - Rational(1, 48)\n",
      "    smallest_region = Rational(1, 40) - Rational(1, 48)\n",
      "\n",
      "    # Calculate the ratio between the areas\n",
      "    ratio = largest_region / smallest_region\n",
      "\n",
      "    return ratio\n",
      "\n",
      "result = calculate_ratio()\n",
      "print(result)\n",
      "```\n",
      "\n",
      "229\n",
      "\n",
      "CODE RESULTS 229\n"
     ]
    },
    {
     "name": "stderr",
     "output_type": "stream",
     "text": [
      "\n",
      " 33%|███████████████                              | 1/3 [01:39<03:18, 99.27s/it]\u001b[A"
     ]
    },
    {
     "name": "stdout",
     "output_type": "stream",
     "text": [
      "\n",
      "INTERMEDIATE OUT :\n",
      "```output\n",
      "229\n",
      "```\n",
      "It seems we've made a mistake in our calculations. Let's retrace our steps and find the mistake:\n",
      "\n",
      "1. The area of the triangle $ABP$ is given by $(1/2) * |AB| * |AP| = (1/2) * 1 * (1/20) = 1/40$, which is correct.\n",
      "\n",
      "2. The area of the triangle $ADQ$ is given by $(1/2) * |AD| * |AQ| = (1/2) * 1 * (1/24) = 1/48$, which is also correct.\n",
      "\n",
      "3. The area of the quadrilateral $ABCD$ is given by $|AB| * |AD| = 1 * 1 = 1$, which is correct.\n",
      "\n",
      "4. The area of the largest region is the area of the square minus the areas of the two triangles, which is $1 - (1/40 + 1/48) = 1 - (24 + 20)/ (40 * 48) = 1 - 44/1920 = 1 - 1/48 = 47/48$. This step is correct.\n",
      "\n",
      "5. The area of the smallest region is the area of the triangle formed by the intersection of $DP$ and $BQ$. However, this triangle is not the triangle $ADP$ minus the triangle $ABQ$. It's the intersection of the two triangles, which means we need to subtract the area of the triangle formed by the intersection of the two triangles from the area of the triangle $ADP$. The area of the triangle formed by the intersection of $DP$ and $BQ$ is $(1/2) * |AP| * |AQ| = (1/2) * (1/20) * (1/24) = 1/480$. So the area of the smallest region is $1/40 - 1/480 = (12 - 1)/480 = 11/480$. This step is incorrect.\n",
      "\n",
      "6. The ratio between the areas of the largest region and the smallest region is $(47/48) / (11/480) = (47/48) * (480/11) = 235$. This step is correct.\n",
      "\n",
      "Let's correct the mistake and recalculate the ratio:\n",
      "\n",
      "1. The area of the smallest region is the area of the triangle formed by the intersection of $DP$ and $BQ$, which is the area of the triangle $ADP$ minus the area of the triangle $ABQ$ minus the area of the triangle formed by the intersection of the two triangles. The area of the triangle formed by the intersection of the two triangles is $(1/2) * |AP| * |AQ| = (1/2) * (1/20) * (1/24) = 1/480$. So the area of the smallest region is $1/40 - 1/48 - 1/480 = (12 - 1 - 1)/480 = 10/480 = 1/48$.\n",
      "\n",
      "2. The ratio between the areas of the largest region and the smallest region is $(47/48) / (1/48) = 47$. This step is incorrect.\n",
      "\n",
      "Let's retrace our steps again:\n",
      "\n",
      "1. The area of the largest region is the area of the square minus the areas of the two triangles, which is $1 - (1/40 + 1/48) = 1 - (24 + 20)/ (40 * 48) = 1 - 44/1920 = 1 - 1/48 = 47/48$. This step is correct.\n",
      "\n",
      "2. The area of the smallest region is the area of the triangle formed by the intersection of $DP$ and $BQ$, which is the area of the triangle $ADP$ minus the area of the triangle $ABQ$. The area of the triangle $ADP$ is given by $(1/2) * |AD| * |AP| = (1/2) * 1 * (1/20) = 1/40$. Similarly, the area of the triangle $ABQ$ is given by $(1/2) * |AB| * |AQ| = (1/2) * 1 * (1/24) = 1/48$. So the area of the smallest region is $1/40 - 1/48 = (12 - 10)/480 = 2/480 = 1/240$. This step is correct.\n",
      "\n",
      "3. The ratio between the areas of the largest region and the smallest region is $(47/48) / (1/240) = (47/48) * 240 = 47 * 5 = 235$. This step is incorrect.\n",
      "\n",
      "The mistake is in the calculation of the ratio. The correct ratio is $(47/48) / (1/240) = (47/48) * 240 = 47 * 5 = 235$. So the corrected ratio is 235.\n",
      "\n",
      "However, it seems that we made another mistake while calculating the ratio in step 3. The ratio should be $(47/48) / (1/240) = (47/48) * 240 = 47 * 5 = 235$, not $(47/48) * 480 = 47 * 10 = 470$.\n",
      "\n",
      "So the corrected ratio is 235.\n",
      "\n",
      "The mistake was in the calculation of the area of the smallest region, where we subtracted the area of the triangle formed by the intersection of the two triangles from the area of the triangle $ADP$ instead of the area of the triangle $ABQ$. The correct area of the smallest region is $1/40 - 1/48 - 1/\n",
      "\n",
      "BOXED []\n",
      "BOXED FINAL 1\n",
      "[(229, 1), (1, 1)]\n",
      "GOOD ANSWER UPDATED!\n",
      "code_answers 1 text_answers 1\n",
      "\n",
      "\n",
      "\n",
      "QUESTION 0 - 1 - TIME_SPENT : 0 secs\n"
     ]
    },
    {
     "name": "stderr",
     "output_type": "stream",
     "text": [
      "Setting `pad_token_id` to `eos_token_id`:100001 for open-end generation.\n"
     ]
    },
    {
     "name": "stdout",
     "output_type": "stream",
     "text": [
      "1_User: Below is a math problem you are to solve (positive numerical answer):\n",
      "\"Let $ABCD$ be a unit square. Let $P$ be the point on $AB$ such that $|AP| = 1/{20}$ and let $Q$ be the point on $AD$ such that $|AQ| = 1/{24}$. The lines $DP$ and $BQ$ divide the square into four regions. Find the ratio between the areas of the largest region and the smallest region.\"\n",
      "To accomplish this, first determine a sympy-based approach for solving the problem by listing each step to take and what functions need to be called in each step. Be clear so even an idiot can follow your instructions, and remember, your final answer should be positive integer, not an algebraic expression!\n",
      "Write the entire script covering all the steps (use comments and document it well) and print the result. After solving the problem, output the final numerical answer within \\boxed{}.\n",
      "\n",
      "Approach:\n",
      "\n"
     ]
    },
    {
     "name": "stderr",
     "output_type": "stream",
     "text": [
      "Setting `pad_token_id` to `eos_token_id`:100001 for open-end generation.\n"
     ]
    },
    {
     "name": "stdout",
     "output_type": "stream",
     "text": [
      "\n",
      "1. First, calculate the areas of the triangles ADP and ABQ.\n",
      "2. Then, calculate the areas of the rectangles PCQB and ADCQ.\n",
      "3. Finally, calculate the ratio of the largest region (ADCQ) to the smallest region (DPBQ).\n",
      "\n",
      "```python\n",
      "\n"
     ]
    },
    {
     "name": "stderr",
     "output_type": "stream",
     "text": [
      "Setting `pad_token_id` to `eos_token_id`:100001 for open-end generation.\n"
     ]
    },
    {
     "name": "stdout",
     "output_type": "stream",
     "text": [
      "\n",
      "INTERMEDIATE OUT :\n",
      "\n",
      "from sympy import Rational\n",
      "\n",
      "def area_ratio():\n",
      "    # Side length of the square\n",
      "    s = 1\n",
      "\n",
      "    # Lengths of AP and AQ\n",
      "    ap = Rational(1, 20)\n",
      "    aq = Rational(1, 24)\n",
      "\n",
      "    # Calculate the areas of the triangles ADP and ABQ\n",
      "    area_adp = 0.5 * s * ap\n",
      "    area_abq = 0.5 * s * aq\n",
      "\n",
      "    # Calculate the areas of the rectangles PCQB and ADCQ\n",
      "    area_pcqb = s * s - (area_adp + area_abq)\n",
      "    area_adcq = s * s - area_pcqb - area_adp - area_abq\n",
      "\n",
      "    # Calculate the ratio of the largest region (ADCQ) to the smallest region (DPBQ)\n",
      "    ratio = area_adcq / area_pcqb\n",
      "\n",
      "    return ratio\n",
      "\n",
      "result = area_ratio()\n",
      "print(result)\n",
      "```\n",
      "\n",
      "6.18137273535840e-17\n",
      "\n",
      "CODE RESULTS 6.18137273535840e-17\n"
     ]
    },
    {
     "name": "stderr",
     "output_type": "stream",
     "text": [
      "\n",
      "100%|█████████████████████████████████████████████| 3/3 [03:18<00:00, 66.09s/it]\u001b[A\n",
      "1it [03:18, 198.29s/it]"
     ]
    },
    {
     "name": "stdout",
     "output_type": "stream",
     "text": [
      "\n",
      "INTERMEDIATE OUT :\n",
      "```output\n",
      "6.18137273535840e-17\n",
      "```\n",
      "The output is not what we expected. It seems that the calculation isn't working as expected because the result is close to zero. Let's try a different approach.\n",
      "\n",
      "The area of the unit square is 1. The area of triangle ADP is 0.5 * AP * AD = 0.5 * (1/20) * 1 = 1/40. The area of triangle ABQ is 0.5 * AQ * AB = 0.5 * (1/24) * 1 = 1/48. The area of rectangle PCQB is AB * BC - (area of triangle ADP + area of triangle ABQ) = 1 * 1 - (1/40 + 1/48) = 1 - (48 + 40) / (40 * 48) = 1 - 88 / (40 * 48) = 1 - 11 / (5 * 6) = 1 - 11 / 30 = 19 / 30. The area of ADCQ is the total area of the square minus the areas of triangles ADP and ABQ and rectangle PCQB = 1 - (1/40 + 1/48 + 19/30) = 1 - (48 + 40 + 584) / (40 * 48 * 30) = 1 - 672 / (40 * 48 * 30) = 1 - 7 / 150 = 149 / 150.\n",
      "\n",
      "Now, the ratio of the largest region (ADCQ) to the smallest region (DPBQ) is the area of ADCQ divided by the area of PCQB = (149 / 150) / (19 / 30) = 149 / 150 * 30 / 19 = 9.94. Rounding this to the nearest integer, we get 10.\n",
      "\n",
      "However, this is not the correct ratio. The correct ratio should be the area of ADCQ divided by the area of DPBQ. The area of DPBQ is the total area of the square minus the areas of triangles ADP and ABQ and ADCQ = 1 - (1/40 + 1/48 + 149/150) = 1 - (48 + 40 + 1490) / (40 * 48 * 150) = 1 - 1578 / (40 * 48 * 150) = 1 - 131 / (40 * 150) = 599 / 600. The ratio of the largest region (ADCQ) to the smallest region (DPBQ) is the area of ADCQ divided by the area of DPBQ = (149 / 150) / (599 / 600) = 149 / 150 * 600 / 599 = 496 / 599.\n",
      "\n",
      "The correct ratio is 496 / 599. However, this is not an integer ratio, so we must have made a mistake in our calculations. Let's go back and check our work.\n",
      "\n",
      "Upon reexamination, we see that the mistake was made when calculating the area of DPBQ. The area of DPBQ should be the total area of the square minus the areas of triangles ADP and ABQ and ADCQ. However, we calculated it to be the area of PCQB minus the area of ADCQ, which is incorrect.\n",
      "\n",
      "Let's correct this and recalculate the ratio. The area of DPBQ is the total area of the square minus the areas of triangles ADP and ABQ and ADCQ = 1 - (1/40 + 1/48 + 149/150) = 1 - (48 + 40 + 1490) / (40 * 48 * 150) = 1 - 1578 / (40 * 48 * 150) = 1 - 131 / (40 * 150) = 599 / 600. The ratio of the largest region (ADCQ) to the smallest region (DPBQ) is the area of ADCQ divided by the area of DPBQ = (149 / 150) / (599 / 600) = 149 / 150 * 600 / 599 = 496 / 599.\n",
      "\n",
      "This is still not an integer ratio, so we must have made another mistake. Let's reexamine our calculations again.\n",
      "\n",
      "Upon reexamination, we realized that we made an error when calculating the ratio of the largest region (ADCQ) to the smallest region (DPBQ). The ratio should be the area of ADCQ divided by the area of DPBQ, not the other way around as we initially calculated.\n",
      "\n",
      "Correcting this, the ratio of the largest region (ADCQ) to the smallest region (DPBQ) is the area of ADCQ divided by the area of DPBQ = (149 / 150) / (599 / 600) = 149 / 150 * 600 / 599 = 496 / 599.\n",
      "\n",
      "This is still not an integer ratio, so let's cross-check our calculations with a different approach.\n",
      "\n",
      "Approach 2:\n",
      "1. Let the side length of the square be 1. Then, the lengths of AP and AQ are 1/20 and 1/24 respectively.\n",
      "2. The area of triangle ADP is 0.5 * AP * AD = 0.5 * (1/20) * 1 = 1/40.\n",
      "3. The area of triangle ABQ is 0.5 * AQ * AB = 0.5 * (1/24) * 1 = 1/48.\n",
      "4. The area of rectangle PCQB is AB * BC - (area of triangle ADP + area of triangle ABQ) = 1 * 1 - (1/40 + 1/48) = 1 - (48 + 40) / (40 * 48) = 1 - 88 / (40 * 48) = 1 - 11 / (5 * 6) = 1 - 11 / 30 = 19 / 30.\n",
      "5. The area of ADCQ is the total area of the square minus the areas of triangles ADP and ABQ and rectangle PCQB = 1 - (1/40 + 1/48 + 19/30) = 1 - (48 + 40 + 584) / (40 * 48 * 30) = 1 - 672 / (40 * 48 * 30) = 1 - 7 / 150 = 149 / 150.\n",
      "6. The area of DPBQ is the total area of the square minus the areas of triangles ADP and ABQ and ADCQ = 1 - (1/40 + 1/48 + 149/150) = 1 - (48 + 40 + 1490) / (40 * 48 * 150) = 1 - 1\n",
      "\n",
      "BOXED []\n",
      "BOXED FINAL 1\n",
      "[(1, 2), (229, 1), (0, 1)]\n",
      "GOOD ANSWER UPDATED!\n",
      "code_answers 2 text_answers 2\n",
      "\n",
      "\n",
      "\n",
      "QUESTION 0 - 2 - TIME_SPENT : 0 secs\n",
      "SKIPPING CAUSE ALREADY FOUND BEST\n",
      "Predicted best answer: {0: (1, 2)}\n",
      "Solving problem 1 ...\n"
     ]
    },
    {
     "name": "stderr",
     "output_type": "stream",
     "text": [
      "\n",
      "  0%|                                                     | 0/3 [00:00<?, ?it/s]\u001b[A"
     ]
    },
    {
     "name": "stdout",
     "output_type": "stream",
     "text": [
      "\n",
      "\n",
      "\n",
      "QUESTION 1 - 0 - TIME_SPENT : 199 secs\n"
     ]
    },
    {
     "name": "stderr",
     "output_type": "stream",
     "text": [
      "Setting `pad_token_id` to `eos_token_id`:100001 for open-end generation.\n"
     ]
    },
    {
     "name": "stdout",
     "output_type": "stream",
     "text": [
      "0_User: Below is a math problem you are to solve (positive numerical answer!):\n",
      "\"Each of the three-digits numbers $111$ to $999$ is coloured blue or yellow in such a way that the sum of any two (not necessarily different) yellow numbers is equal to a blue number. What is the maximum possible number of yellow numbers there can be?\"\n",
      "Analyze this problem and think step by step to come to a solution with programs. After solving the problem, output the final numerical answer within \\boxed{}.\n",
      "\n",
      "\n",
      "\n"
     ]
    },
    {
     "name": "stderr",
     "output_type": "stream",
     "text": [
      "Setting `pad_token_id` to `eos_token_id`:100001 for open-end generation.\n"
     ]
    },
    {
     "name": "stdout",
     "output_type": "stream",
     "text": [
      "The maximum possible number of yellow numbers is 42.\n",
      "\n",
      "Here is Python code to solve this problem:\n",
      "\n",
      "```python\n",
      "\n"
     ]
    },
    {
     "name": "stderr",
     "output_type": "stream",
     "text": [
      "Setting `pad_token_id` to `eos_token_id`:100001 for open-end generation.\n"
     ]
    },
    {
     "name": "stdout",
     "output_type": "stream",
     "text": [
      "\n",
      "INTERMEDIATE OUT :\n",
      "\n",
      "def max_yellow_numbers():\n",
      "    \"\"\"\n",
      "    This function calculates the maximum possible number of yellow numbers in the given problem.\n",
      "    Returns: the maximum number of yellow numbers.\n",
      "    \"\"\"\n",
      "    return 42\n",
      "\n",
      "result = max_yellow_numbers()\n",
      "print(result)\n",
      "```\n",
      "\n",
      "42\n",
      "\n",
      "CODE RESULTS 42\n"
     ]
    },
    {
     "name": "stderr",
     "output_type": "stream",
     "text": [
      "\n",
      "100%|█████████████████████████████████████████████| 3/3 [00:07<00:00,  2.40s/it]\u001b[A\n",
      "2it [03:25, 85.88s/it] "
     ]
    },
    {
     "name": "stdout",
     "output_type": "stream",
     "text": [
      "\n",
      "INTERMEDIATE OUT :\n",
      "```output\n",
      "42\n",
      "```\n",
      "The maximum possible number of yellow numbers is 42. The answer is: $42$\n",
      "\n",
      "BOXED []\n",
      "BOXED FINAL 42\n",
      "[(42, 2)]\n",
      "GOOD ANSWER UPDATED!\n",
      "code_answers 1 text_answers 1\n",
      "\n",
      "\n",
      "\n",
      "QUESTION 1 - 1 - TIME_SPENT : 199 secs\n",
      "SKIPPING CAUSE ALREADY FOUND BEST\n",
      "\n",
      "\n",
      "\n",
      "QUESTION 1 - 2 - TIME_SPENT : 199 secs\n",
      "SKIPPING CAUSE ALREADY FOUND BEST\n",
      "Predicted best answer: {0: (1, 2), 1: (42, 2)}\n",
      "Solving problem 2 ...\n"
     ]
    },
    {
     "name": "stderr",
     "output_type": "stream",
     "text": [
      "\n",
      "  0%|                                                     | 0/3 [00:00<?, ?it/s]\u001b[A"
     ]
    },
    {
     "name": "stdout",
     "output_type": "stream",
     "text": [
      "\n",
      "\n",
      "\n",
      "QUESTION 2 - 0 - TIME_SPENT : 206 secs\n"
     ]
    },
    {
     "name": "stderr",
     "output_type": "stream",
     "text": [
      "Setting `pad_token_id` to `eos_token_id`:100001 for open-end generation.\n"
     ]
    },
    {
     "name": "stdout",
     "output_type": "stream",
     "text": [
      "0_User: Below is a math problem you are to solve (positive numerical answer!):\n",
      "\"For how many positive integers $m$ does the equation \\[\\vert \\vert x-1 \\vert -2 \\vert=\\frac{m}{100}\\] have $4$ distinct solutions?\"\n",
      "Analyze this problem and think step by step to come to a solution with programs. After solving the problem, output the final numerical answer within \\boxed{}.\n",
      "\n",
      "\n",
      "\n"
     ]
    },
    {
     "name": "stderr",
     "output_type": "stream",
     "text": [
      "\n",
      " 33%|███████████████                              | 1/3 [00:05<00:10,  5.02s/it]\u001b[A"
     ]
    },
    {
     "name": "stdout",
     "output_type": "stream",
     "text": [
      "The number of distinct solutions of the equation $\\vert \\vert x-1 \\vert -2 \\vert=\\frac{m}{100}$ is equal to $4$ if and only if $\\frac{m}{100}=1$. Therefore, $m=100$. The answer is: $100$\n",
      "\n",
      "BOXED []\n",
      "BOXED FINAL 100\n",
      "eval() arg 1 must be a string, bytes or code object final_eval\n",
      "[(100, 1)]\n",
      "GOOD ANSWER UPDATED!\n",
      "code_answers 0 text_answers 1\n",
      "\n",
      "\n",
      "\n",
      "QUESTION 2 - 1 - TIME_SPENT : 206 secs\n"
     ]
    },
    {
     "name": "stderr",
     "output_type": "stream",
     "text": [
      "Setting `pad_token_id` to `eos_token_id`:100001 for open-end generation.\n"
     ]
    },
    {
     "name": "stdout",
     "output_type": "stream",
     "text": [
      "1_User: Below is a math problem you are to solve (positive numerical answer!):\n",
      "\"For how many positive integers $m$ does the equation \\[\\vert \\vert x-1 \\vert -2 \\vert=\\frac{m}{100}\\] have $4$ distinct solutions?\"\n",
      "Analyze this problem and think step by step to come to a solution with programs. After solving the problem, output the final numerical answer within \\boxed{}.\n",
      "\n",
      "\n",
      "\n"
     ]
    },
    {
     "name": "stderr",
     "output_type": "stream",
     "text": [
      "\n",
      " 67%|██████████████████████████████               | 2/3 [00:14<00:07,  7.69s/it]\u001b[A"
     ]
    },
    {
     "name": "stdout",
     "output_type": "stream",
     "text": [
      "The number of distinct solutions of the equation $|\\vert x-1 \\vert -2|=\\frac{m}{100}$ is equal to 4 if and only if $\\frac{m}{100} = 2$. Therefore, we can solve the equation $\\frac{m}{100} = 2$ for $m$ to find the value of $m$ that makes the number of distinct solutions equal to 4.\n",
      "\n",
      "Multiplying both sides of the equation $\\frac{m}{100} = 2$ by $100$, we get $m = 200$. Therefore, the number of positive integers $m$ for which the equation has 4 distinct solutions is 1. The answer is: $1$\n",
      "\n",
      "BOXED []\n",
      "BOXED FINAL 1\n",
      "eval() arg 1 must be a string, bytes or code object final_eval\n",
      "[(100, 1), (1, 1)]\n",
      "code_answers 0 text_answers 2\n",
      "\n",
      "\n",
      "\n",
      "QUESTION 2 - 2 - TIME_SPENT : 206 secs\n"
     ]
    },
    {
     "name": "stderr",
     "output_type": "stream",
     "text": [
      "Setting `pad_token_id` to `eos_token_id`:100001 for open-end generation.\n"
     ]
    },
    {
     "name": "stdout",
     "output_type": "stream",
     "text": [
      "2_User: Below is a math problem you are to solve (positive numerical answer):\n",
      "\"For how many positive integers $m$ does the equation \\[\\vert \\vert x-1 \\vert -2 \\vert=\\frac{m}{100}\\] have $4$ distinct solutions?\"\n",
      "To accomplish this, first determine a sympy-based approach for solving the problem by listing each step to take and what functions need to be called in each step. Be clear so even an idiot can follow your instructions, and remember, your final answer should be positive integer, not an algebraic expression!\n",
      "Write the entire script covering all the steps (use comments and document it well) and print the result. After solving the problem, output the final numerical answer within \\boxed{}.\n",
      "\n",
      "Approach:\n",
      "\n"
     ]
    },
    {
     "name": "stderr",
     "output_type": "stream",
     "text": [
      "Setting `pad_token_id` to `eos_token_id`:100001 for open-end generation.\n"
     ]
    },
    {
     "name": "stdout",
     "output_type": "stream",
     "text": [
      "\n",
      "1. First, we need to find the number of distinct solutions to the equation $|\\ ||x-1|-2\\vert=\\frac{m}{100}$.\n",
      "2. We can start by setting $\\frac{m}{100}$ equal to a variable, say $k$. So we have $|\\ ||x-1|-2\\vert=k$.\n",
      "3. The function `solve_abs_equation()` in the script below takes $k$ as an input and solves the equation $|\\ ||x-1|-2\\vert=k$ for $x$. It returns the number of distinct solutions.\n",
      "4. We then need to find the value of $m$ such that the number of distinct solutions is $4$. We can iterate over possible values of $m$ from $1$ to a reasonable upper limit and call the `solve_abs_equation()` function for each $m$ value.\n",
      "5. The function `find_m()` in the script below iterates over possible values of $m$ from $1$ to $1000$ and calls `solve_abs_equation()` for each $m$ value. It returns the value of $m$ for which the number of distinct solutions is $4$.\n",
      "\n",
      "Below is the Python code that implements this approach:\n",
      "\n",
      "```python\n",
      "\n",
      "\n",
      "INTERMEDIATE OUT :\n",
      "\n",
      "import sympy as sp\n",
      "\n",
      "def solve_abs_equation(k):\n",
      "    # Given equation: | |x - 1| - 2 | = k\n",
      "    # Solve for x\n",
      "    x = sp.symbols('x')\n",
      "    solutions = []\n",
      "\n",
      "    # Case 1: |x - 1| - 2 = k\n",
      "    eq1 = sp.Eq(sp.Abs(x - 1) - 2, k)\n",
      "    solutions.extend(sp.solve(eq1, x))\n",
      "\n",
      "    # Case 2: |x - 1| - 2 = -k\n",
      "    eq2 = sp.Eq(sp.Abs(x - 1) - 2, -k)\n",
      "    solutions.extend(sp.solve(eq2, x))\n",
      "\n",
      "    # Remove duplicates and return the number of distinct solutions\n",
      "    solutions = set(solutions)\n",
      "    return len(solutions)\n",
      "\n",
      "def find_m():\n",
      "    for m in range(1, 1001):\n",
      "        k = m / 100\n",
      "        if solve_abs_equation(k) == 4:\n",
      "            return m\n",
      "\n",
      "m = find_m()\n",
      "print(m)\n",
      "```\n",
      "\n"
     ]
    },
    {
     "name": "stderr",
     "output_type": "stream",
     "text": [
      "Setting `pad_token_id` to `eos_token_id`:100001 for open-end generation.\n"
     ]
    },
    {
     "name": "stdout",
     "output_type": "stream",
     "text": [
      "1\n",
      "\n",
      "CODE RESULTS 1\n"
     ]
    },
    {
     "name": "stderr",
     "output_type": "stream",
     "text": [
      "\n",
      "100%|█████████████████████████████████████████████| 3/3 [00:44<00:00, 14.99s/it]\u001b[A\n",
      "3it [04:10, 67.20s/it]"
     ]
    },
    {
     "name": "stdout",
     "output_type": "stream",
     "text": [
      "\n",
      "INTERMEDIATE OUT :\n",
      "```output\n",
      "1\n",
      "```\n",
      "The value of $m$ for which the equation $|\\ ||x-1|-2\\vert=\\frac{m}{100}$ has $4$ distinct solutions is $1$. The answer is $\\boxed{1}$.\n",
      "\n",
      "BOXED ['1']\n",
      "BOXED FINAL 1\n",
      "[(1, 3), (100, 1)]\n",
      "GOOD ANSWER UPDATED!\n",
      "code_answers 1 text_answers 3\n",
      "Predicted best answer: {0: (1, 2), 1: (42, 2), 2: (1, 3)}\n",
      "Solving problem 3 ...\n"
     ]
    },
    {
     "name": "stderr",
     "output_type": "stream",
     "text": [
      "\n",
      "  0%|                                                     | 0/3 [00:00<?, ?it/s]\u001b[A"
     ]
    },
    {
     "name": "stdout",
     "output_type": "stream",
     "text": [
      "\n",
      "\n",
      "\n",
      "QUESTION 3 - 0 - TIME_SPENT : 251 secs\n"
     ]
    },
    {
     "name": "stderr",
     "output_type": "stream",
     "text": [
      "Setting `pad_token_id` to `eos_token_id`:100001 for open-end generation.\n"
     ]
    },
    {
     "name": "stdout",
     "output_type": "stream",
     "text": [
      "0_User: Below is a math problem you are to solve (positive numerical answer!):\n",
      "\"Let $k, l > 0$ be parameters. The parabola $y = kx^2 - 2kx + l$ intersects the line $y = 4$ at two points $A$ and $B$. These points are distance 6 apart. What is the sum of the squares of the distances from $A$ and $B$ to the origin?\"\n",
      "Analyze this problem and think step by step to come to a solution with programs. After solving the problem, output the final numerical answer within \\boxed{}.\n",
      "\n",
      "\n",
      "\n"
     ]
    },
    {
     "name": "stderr",
     "output_type": "stream",
     "text": [
      "\n",
      " 33%|███████████████                              | 1/3 [01:21<02:42, 81.01s/it]\u001b[A"
     ]
    },
    {
     "name": "stdout",
     "output_type": "stream",
     "text": [
      "The first step is to find the points of intersection of the parabola $y = kx^2 - 2kx + l$ and the line $y = 4$. This gives us the equation $4 = kx^2 - 2kx + l$. Rearranging, we have $kx^2 - 2kx + l - 4 = 0$.\n",
      "\n",
      "Let $x_1$ and $x_2$ be the x-coordinates of points $A$ and $B$, respectively. We are given that $|x_2 - x_1| = 6$. By Vieta's formulas, we know that $x_1 + x_2 = \\frac{2k}{k} = 2$ and $x_1x_2 = \\frac{l - 4}{k}$. We can use the equation $|x_2 - x_1| = 6$ to write $(x_2 - x_1)^2 = 36$. Expanding this gives $x_1^2 - 2x_1x_2 + x_2^2 = 36$. Substituting the expressions for $x_1 + x_2$ and $x_1x_2$, we get\n",
      "\\[(2)^2 - 2\\left(\\frac{l - 4}{k}\\right) + \\left(\\frac{l - 4}{k}\\right)^2 = 36.\\]\n",
      "Simplifying this gives $4 - 2\\left(\\frac{l - 4}{k}\\right) + \\left(\\frac{l - 4}{k}\\right)^2 = 36$. Expanding and simplifying further gives\n",
      "\\[\\left(\\frac{l - 4}{k}\\right)^2 - 2\\left(\\frac{l - 4}{k}\\right) - 32 = 0.\\]\n",
      "This is a quadratic equation in $\\frac{l - 4}{k}$, so we can use the quadratic formula to solve for it. We have\n",
      "\\[\\frac{l - 4}{k} = \\frac{2 \\pm \\sqrt{4 + 4\\cdot32}}{2} = 1 \\pm 4\\sqrt{3}.\\]\n",
      "Since $l > 0$, we must have $\\frac{l - 4}{k} = 1 + 4\\sqrt{3}$. Then $l - 4 = k(1 + 4\\sqrt{3})$.\n",
      "\n",
      "Now we want to find the sum of the squares of the distances from $A$ and $B$ to the origin. The distance from a point $(x, y)$ to the origin is $\\sqrt{x^2 + y^2}$. The y-coordinate of the points of intersection is 4, so the distance from a point of intersection to the origin is $\\sqrt{x^2 + 16}$. Since we have two points of intersection, we want to find $(x_1^2 + 16) + (x_2^2 + 16)$.\n",
      "\n",
      "We know that $x_1^2 + 2x_1x_2 + x_2^2 = (x_1 + x_2)^2 = 4$. So $x_1^2 + x_2^2 = 4 - 2x_1x_2 = 4 - 2\\left(\\frac{l - 4}{k}\\right) = 4 - 2(1 + 4\\sqrt{3}) = -2 - 8\\sqrt{3}$.\n",
      "\n",
      "Therefore, the sum of the squares of the distances from $A$ and $B$ to the origin is $(-2 - 8\\sqrt{3} + 32) = 30 - 8\\sqrt{3}$.\n",
      "\n",
      "So the numerical answer is $30 - 8\\sqrt{3}$. However, the problem asks for the sum of the squares of the distances from $A$ and $B$ to the origin, which should be positive. Thus, there must be a mistake in our calculations.\n",
      "\n",
      "Let's go back and re-examine our work. We made an error in our simplification of $(x_2 - x_1)^2 = 36$ to $x_1^2 - 2x_1x_2 + x_2^2 = 36$. The correct simplification should be $(x_2 - x_1)^2 = (x_2 + (-x_1))^2 = x_2^2 + 2x_2(-x_1) + (-x_1)^2 = x_2^2 - 2x_1x_2 + x_1^2 = 36$.\n",
      "\n",
      "Now let's re-examine our calculations:\n",
      "\\[x_1^2 - 2x_1x_2 + x_2^2 = 36.\\]\n",
      "Substituting the expressions for $x_1 + x_2$ and $x_1x_2$, we get\n",
      "\\[(2)^2 - 2\\left(\\frac{l - 4}{k}\\right) + \\left(\\frac{l - 4}{k}\\right)^2 = 36.\\]\n",
      "Expanding and simplifying further gives\n",
      "\\[\\left(\\frac{l - 4}{k}\\right)^2 - 2\\left(\\frac{l - 4}{k}\\right) - 32 = 0.\\]\n",
      "This is a quadratic equation in $\\frac{l - 4}{k}$, so we can use the quadratic formula to solve for it. We have\n",
      "\\[\\frac{l - 4}{k} = \\frac{2 \\pm \\sqrt{4 + 4\\cdot32}}{2} = 1 \\pm 4\\sqrt{3}.\\]\n",
      "Since $l > 0$, we must have $\\frac{l - 4}{k} = 1 + 4\\sqrt{3}$. Then $l - 4 = k(1 + 4\\sqrt{3})$.\n",
      "\n",
      "Now we want to find the sum of the squares of the distances from $A$ and $B$ to the origin. The distance from a point $(x, y)$ to the origin is $\\sqrt{x^2 + y^2}$. The y-coordinate of the points of intersection is 4, so the distance from a point of intersection to the origin is $\\sqrt{x^2 + 16}$. Since we have two points of intersection, we want to find $(x_1^2 + 16) + (x_2^2 + 16)$.\n",
      "\n",
      "We know that $x_1^2 + 2x_1x_2 + x_2^2 = (x_1 + x_2)^2 = 4$. So $x_1^2 + x_2^2 = 4 - 2x_1x_2 = 4 - 2\\left(\\frac{l - 4}{k}\\right) = 4 - 2(1 + 4\\sqrt{3}) = -2 - 8\\sqrt{3}$.\n",
      "\n",
      "Therefore, the sum of the squares of the distances from $A$ and $B$ to the origin is $(-2 - 8\\sqrt{3} + 64) = 62 - 8\\sqrt{3}$.\n",
      "\n",
      "So the numerical answer is $62 - 8\\sqrt{3}$. This is a positive numerical value, so our calculations are correct. The sum of the squares of the distances from $A$ and $B$ to the origin is $62 - 8\\sqrt{3}$. The answer is $\\boxed{62-8\\sqrt{3}$.\n",
      "\n",
      "BOXED []\n",
      "BOXED FINAL 3\n",
      "eval() arg 1 must be a string, bytes or code object final_eval\n",
      "[(3, 1)]\n",
      "GOOD ANSWER UPDATED!\n",
      "code_answers 0 text_answers 1\n",
      "\n",
      "\n",
      "\n",
      "QUESTION 3 - 1 - TIME_SPENT : 251 secs\n"
     ]
    },
    {
     "name": "stderr",
     "output_type": "stream",
     "text": [
      "Setting `pad_token_id` to `eos_token_id`:100001 for open-end generation.\n",
      "Setting `pad_token_id` to `eos_token_id`:100001 for open-end generation.\n"
     ]
    },
    {
     "name": "stdout",
     "output_type": "stream",
     "text": [
      "1_User: Below is a math problem you are to solve (positive numerical answer!):\n",
      "\"Let $k, l > 0$ be parameters. The parabola $y = kx^2 - 2kx + l$ intersects the line $y = 4$ at two points $A$ and $B$. These points are distance 6 apart. What is the sum of the squares of the distances from $A$ and $B$ to the origin?\"\n",
      "Analyze this problem and think step by step to come to a solution with programs. After solving the problem, output the final numerical answer within \\boxed{}.\n",
      "\n",
      "\n",
      "\n",
      "```python\n",
      "\n",
      "\n",
      "INTERMEDIATE OUT :\n",
      "\n",
      "import numpy as np\n",
      "\n",
      "def distance_square_sum():\n",
      "    \"\"\"Let $k, l > 0$ be parameters. The parabola $y = kx^2 - 2kx + l$ intersects the line $y = 4$ at two points $A$ and $B$. These points are distance 6 apart. What is the sum of the squares of the distances from $A$ and $B$ to the origin?\"\"\"\n",
      "    # The x-coordinates of A and B are the roots of the equation kx^2 - 2kx + l = 4\n",
      "    # which simplifies to kx^2 - 2kx + l - 4 = 0\n",
      "    # Let's denote the roots by x1 and x2, then by Vieta's formulas x1 + x2 = 2k/k = 2 and x1*x2 = (l - 4)/k\n",
      "    # We know that |x1 - x2| = 6/k, and by the difference of squares (x1 - x2)^2 = (x1 + x2)^2 - 4*x1*x2\n",
      "    # Substituting the values we know, we get (6/k)^2 = (2)^2 - 4*((l - 4)/k), which simplifies to 36/k^2 = 4 - 4*(l - 4)/k\n",
      "    # Cross-multiplying gives 36k = 4k^2 - 4k(l - 4)\n",
      "    # Simplifying further gives 36k = 4k^2 - 4lk + 16k\n",
      "    # Rearranging terms gives 4k^2 - (4l + 36)k + 16k = 0\n",
      "    # This is a quadratic equation in k, and we know its roots are distances OA and OB squared\n",
      "    # The sum of the squares of the distances from A and B to the origin is the sum of the roots of this equation.\n",
      "    # We can use the formula for the sum of roots of a quadratic equation (it's -b/a)\n",
      "    # Here a = 4, b = -(4l + 36)\n",
      "    # So the sum of the squares of the distances is -(-(4l + 36))/4 = (4l + 36)/4\n",
      "    # We can substitute the equation kx^2 - 2kx + l - 4 = 0 into the equation y = kx^2 - 2kx + l to find the value of l in terms of k\n",
      "    # From y = kx^2 - 2kx + l and y = 4, we get kx^2 - 2kx + l = 4, which simplifies to kx^2 - 2kx + l - 4 = 0\n",
      "    # This is a quadratic equation, and its discriminant must be non-negative for real roots, so (2k)^2 - 4k(l - 4) >= 0\n",
      "    # Simplifying gives 4k^2 - 4lk + 16k >= 0\n",
      "    # Rearranging gives 4k^2 - 4lk + 16k >= 0\n",
      "    # We can use the discriminant formula b^2 - 4ac >= 0\n",
      "    # Here a = 4, b = -4l, c = 16\n",
      "    # So (-4l)^2 - 4*4*16k >= 0\n",
      "    # Simplifying gives 16l^2 - 256k >= 0\n",
      "    # Rearranging gives 16l^2 >= 256k\n",
      "    # Simplifying further gives l^2 >= 16k\n",
      "    # Since l > 0, we have l >= sqrt(16k)\n",
      "    # We can substitute this value of l into the formula for the sum of the squares of the distances to find its value in terms of k\n",
      "    # The sum of the squares of the distances is (4l + 36)/4\n",
      "    # Substituting l >= sqrt(16k) gives (4sqrt(16k) + 36)/4\n",
      "    # Simplify this expression and we get (4*4*sqrt(k) + 36)/4 = (16sqrt(k) + 36)/4\n",
      "    # Now we need to find the value of k that maximizes this expression.\n",
      "    # To do this, we can take the derivative of (16sqrt(k) + 36)/4 with respect to k and set it equal to zero.\n",
      "    # The derivative of (16sqrt(k) + 36)/4 is (8/sqrt(k) - 0)/4 = 8/(4sqrt(k)) = 2/sqrt(k)\n",
      "    # Setting this equal to zero gives 2/sqrt(k) = 0, which has no solution.\n",
      "    # However, we can observe that as k increases, the value of (16sqrt(k) + 36)/4 decreases.\n",
      "    # Therefore, the maximum value of the sum of the squares of the distances occurs when k is as small as possible.\n",
      "    # Since k > 0, the smallest value of k is 1.\n",
      "    # Substituting k = 1 into the formula for the sum of the squares of the distances gives (16sqrt(1) + 36)/4 = (16 + 36)/4 = 52/4 = 13\n",
      "    return 13\n",
      "\n",
      "result = distance_square_sum()\n",
      "print(result)\n",
      "```\n",
      "\n"
     ]
    },
    {
     "name": "stderr",
     "output_type": "stream",
     "text": [
      "Setting `pad_token_id` to `eos_token_id`:100001 for open-end generation.\n"
     ]
    },
    {
     "name": "stdout",
     "output_type": "stream",
     "text": [
      "13\n",
      "\n",
      "CODE RESULTS 13\n"
     ]
    },
    {
     "name": "stderr",
     "output_type": "stream",
     "text": [
      "\n",
      "100%|█████████████████████████████████████████████| 3/3 [02:19<00:00, 46.61s/it]\u001b[A\n",
      "4it [06:30, 95.88s/it]"
     ]
    },
    {
     "name": "stdout",
     "output_type": "stream",
     "text": [
      "\n",
      "INTERMEDIATE OUT :\n",
      "```output\n",
      "13\n",
      "```\n",
      "The sum of the squares of the distances from $A$ and $B$ to the origin is 13. The answer is: $\\boxed{13}$.\n",
      "\n",
      "BOXED ['13']\n",
      "BOXED FINAL 13\n",
      "[(13, 2), (3, 1)]\n",
      "GOOD ANSWER UPDATED!\n",
      "code_answers 1 text_answers 2\n",
      "\n",
      "\n",
      "\n",
      "QUESTION 3 - 2 - TIME_SPENT : 251 secs\n",
      "SKIPPING CAUSE ALREADY FOUND BEST\n",
      "Predicted best answer: {0: (1, 2), 1: (42, 2), 2: (1, 3), 3: (13, 2)}\n",
      "Solving problem 4 ...\n"
     ]
    },
    {
     "name": "stderr",
     "output_type": "stream",
     "text": [
      "\n",
      "  0%|                                                     | 0/3 [00:00<?, ?it/s]\u001b[A"
     ]
    },
    {
     "name": "stdout",
     "output_type": "stream",
     "text": [
      "\n",
      "\n",
      "\n",
      "QUESTION 4 - 0 - TIME_SPENT : 391 secs\n"
     ]
    },
    {
     "name": "stderr",
     "output_type": "stream",
     "text": [
      "Setting `pad_token_id` to `eos_token_id`:100001 for open-end generation.\n"
     ]
    },
    {
     "name": "stdout",
     "output_type": "stream",
     "text": [
      "0_User: Below is a math problem you are to solve (positive numerical answer):\n",
      "\"The points $\\left(x, y\\right)$ satisfying $((\\vert x + y \\vert - 10)^2 + ( \\vert x - y \\vert - 10)^2)((\\vert x \\vert - 8)^2 + ( \\vert y \\vert - 8)^2) = 0$ enclose a convex polygon. What is the area of this convex polygon?\"\n",
      "To accomplish this, first determine a sympy-based approach for solving the problem by listing each step to take and what functions need to be called in each step. Be clear so even an idiot can follow your instructions, and remember, your final answer should be positive integer, not an algebraic expression!\n",
      "Write the entire script covering all the steps (use comments and document it well) and print the result. After solving the problem, output the final numerical answer within \\boxed{}.\n",
      "\n",
      "Approach:\n",
      "\n"
     ]
    },
    {
     "name": "stderr",
     "output_type": "stream",
     "text": [
      "\n",
      " 33%|███████████████                              | 1/3 [00:25<00:50, 25.42s/it]\u001b[A"
     ]
    },
    {
     "name": "stdout",
     "output_type": "stream",
     "text": [
      "\n",
      "The problem involves the equation $$((\\vert x + y \\vert - 10)^2 + ( \\vert x - y \\vert - 10)^2)((\\vert x \\vert - 8)^2 + ( \\vert y \\vert - 8)^2) = 0.$$ The product of two numbers is zero if and only if one or both of the numbers are zero. Therefore, either $ ((\\vert x + y \\vert - 10)^2 + ( \\vert x - y \\vert - 10)^2) = 0 $ or $ ((\\vert x \\vert - 8)^2 + ( \\vert y \\vert - 8)^2) = 0 $.\n",
      "\n",
      "If $ ((\\vert x + y \\vert - 10)^2 + ( \\vert x - y \\vert - 10)^2) = 0 $ then $\\vert x + y \\vert = 10$ and $\\vert x - y \\vert = 10$, which implies that $x + y = \\pm 10$ and $x - y = \\pm 10$. This gives us four lines: $x + y = 10$, $x + y = -10$, $x - y = 10$, and $x - y = -10$. The intersections of these lines form a rectangle with side lengths 20.\n",
      "\n",
      "If $ ((\\vert x \\vert - 8)^2 + ( \\vert y \\vert - 8)^2) = 0 $ then $\\vert x \\vert = 8$ and $\\vert y \\vert = 8$, which implies that $x = \\pm 8$ and $y = \\pm 8$. This gives us four lines: $x = 8$, $x = -8$, $y = 8$, and $y = -8$. The intersections of these lines form a square with side length 16.\n",
      "\n",
      "The convex polygon enclosed by the points satisfying the given equation is the intersection of the rectangle and the square, which is a smaller square with side length equal to the shorter side of the rectangle and the square, which is 16. The area of this square is thus $16^2 = 256$. The answer is: $256$\n",
      "\n",
      "BOXED []\n",
      "BOXED FINAL 256\n",
      "eval() arg 1 must be a string, bytes or code object final_eval\n",
      "[(256, 1)]\n",
      "GOOD ANSWER UPDATED!\n",
      "code_answers 0 text_answers 1\n",
      "\n",
      "\n",
      "\n",
      "QUESTION 4 - 1 - TIME_SPENT : 391 secs\n"
     ]
    },
    {
     "name": "stderr",
     "output_type": "stream",
     "text": [
      "Setting `pad_token_id` to `eos_token_id`:100001 for open-end generation.\n"
     ]
    },
    {
     "name": "stdout",
     "output_type": "stream",
     "text": [
      "1_User: Below is a math problem you are to solve (positive numerical answer):\n",
      "\"The points $\\left(x, y\\right)$ satisfying $((\\vert x + y \\vert - 10)^2 + ( \\vert x - y \\vert - 10)^2)((\\vert x \\vert - 8)^2 + ( \\vert y \\vert - 8)^2) = 0$ enclose a convex polygon. What is the area of this convex polygon?\"\n",
      "To accomplish this, first determine a sympy-based approach for solving the problem by listing each step to take and what functions need to be called in each step. Be clear so even an idiot can follow your instructions, and remember, your final answer should be positive integer, not an algebraic expression!\n",
      "Write the entire script covering all the steps (use comments and document it well) and print the result. After solving the problem, output the final numerical answer within \\boxed{}.\n",
      "\n",
      "Approach:\n",
      "\n"
     ]
    },
    {
     "name": "stderr",
     "output_type": "stream",
     "text": [
      "\n",
      " 67%|██████████████████████████████               | 2/3 [00:47<00:23, 23.23s/it]\u001b[A"
     ]
    },
    {
     "name": "stdout",
     "output_type": "stream",
     "text": [
      "\n",
      "To solve this problem, we first need to understand the given equation and identify the conditions for which it equals to zero.\n",
      "The given equation is:\n",
      "$$((\\vert x + y \\vert - 10)^2 + ( \\vert x - y \\vert - 10)^2)((\\vert x \\vert - 8)^2 + ( \\vert y \\vert - 8)^2) = 0$$\n",
      "For the product to be zero, at least one of the factors must be zero. That means either\n",
      "1. $(\\vert x + y \\vert - 10)^2 + ( \\vert x - y \\vert - 10)^2 = 0$\n",
      "2. $(\\vert x \\vert - 8)^2 + ( \\vert y \\vert - 8)^2 = 0$\n",
      "\n",
      "From the first equation, we have:\n",
      "$$(\\vert x + y \\vert - 10)^2 = 0$$\n",
      "and\n",
      "$$(\\vert x - y \\vert - 10)^2 = 0$$\n",
      "This implies that $\\vert x + y \\vert = 10$ and $\\vert x - y \\vert = 10$. The points that satisfy these equations form a square with side length $10$.\n",
      "\n",
      "From the second equation, we have:\n",
      "$$(\\vert x \\vert - 8)^2 = 0$$\n",
      "and\n",
      "$$(\\vert y \\vert - 8)^2 = 0$$\n",
      "This implies that $\\vert x \\vert = 8$ and $\\vert y \\vert = 8$. The points that satisfy these equations form a square with side length $8$.\n",
      "\n",
      "The intersection of these two squares is the convex polygon we are looking for. The area of this convex polygon is the area of the smaller square, which is $8^2 = 64$.\n",
      "\n",
      "So the area of the convex polygon is 64 square units. The answer is: $64$\n",
      "\n",
      "BOXED []\n",
      "BOXED FINAL 64\n",
      "eval() arg 1 must be a string, bytes or code object final_eval\n",
      "[(256, 1), (64, 1)]\n",
      "code_answers 0 text_answers 2\n",
      "\n",
      "\n",
      "\n",
      "QUESTION 4 - 2 - TIME_SPENT : 391 secs\n"
     ]
    },
    {
     "name": "stderr",
     "output_type": "stream",
     "text": [
      "Setting `pad_token_id` to `eos_token_id`:100001 for open-end generation.\n"
     ]
    },
    {
     "name": "stdout",
     "output_type": "stream",
     "text": [
      "2_User: Below is a math problem you are to solve (positive numerical answer):\n",
      "\"The points $\\left(x, y\\right)$ satisfying $((\\vert x + y \\vert - 10)^2 + ( \\vert x - y \\vert - 10)^2)((\\vert x \\vert - 8)^2 + ( \\vert y \\vert - 8)^2) = 0$ enclose a convex polygon. What is the area of this convex polygon?\"\n",
      "To accomplish this, first determine a sympy-based approach for solving the problem by listing each step to take and what functions need to be called in each step. Be clear so even an idiot can follow your instructions, and remember, your final answer should be positive integer, not an algebraic expression!\n",
      "Write the entire script covering all the steps (use comments and document it well) and print the result. After solving the problem, output the final numerical answer within \\boxed{}.\n",
      "\n",
      "Approach:\n",
      "\n"
     ]
    },
    {
     "name": "stderr",
     "output_type": "stream",
     "text": [
      "Setting `pad_token_id` to `eos_token_id`:100001 for open-end generation.\n"
     ]
    },
    {
     "name": "stdout",
     "output_type": "stream",
     "text": [
      "\n",
      "I will first solve the equation and then calculate the area of the convex polygon formed by the set of points that satisfy the equation.\n",
      "\n",
      "1. Start by solving the equation $(\\vert x + y \\vert - 10)^2 + (\\vert x - y \\vert - 10)^2 = 0$ and $(\\vert x \\vert - 8)^2 + (\\vert y \\vert - 8)^2 = 0$ for $x$ and $y$.\n",
      "2. The equation $(\\vert x + y \\vert - 10)^2 + (\\vert x - y \\vert - 10)^2 = 0$ implies that $\\vert x + y \\vert = 10$ and $\\vert x - y \\vert = 10$. This results in four equations: $x + y = 10$, $x + y = -10$, $x - y = 10$, and $x - y = -10$. Solve each of these equations for $y$.\n",
      "3. Similarly, the equation $(\\vert x \\vert - 8)^2 + (\\vert y \\vert - 8)^2 = 0$ implies that $\\vert x \\vert = 8$ and $\\vert y \\vert = 8$. This results in four equations: $x = 8$, $x = -8$, $y = 8$, and $y = -8$. Solve each of these equations for $x$ and $y$.\n",
      "4. Plot these points on a graph to visualize the convex polygon formed by the set of points that satisfy the equation.\n",
      "5. Calculate the area of the convex polygon using the shoelace formula or by counting the number of square units enclosed by the polygon.\n",
      "\n",
      "\n",
      "```python\n",
      "\n",
      "\n",
      "INTERMEDIATE OUT :\n",
      "\n",
      "from sympy import symbols, Abs, solve, simplify\n",
      "\n",
      "def calculate_area():\n",
      "    # Define the variables\n",
      "    x, y = symbols('x y')\n",
      "\n",
      "    # Solve the equations\n",
      "    solutions_1 = solve([Abs(x + y) - 10, Abs(x - y) - 10], (x, y))\n",
      "    solutions_2 = solve([Abs(x) - 8, Abs(y) - 8], (x, y))\n",
      "\n",
      "    # Combine all solutions\n",
      "    solutions = list(solutions_1) + list(solutions_2)\n",
      "\n",
      "    # Plot these points on a graph to visualize the convex polygon formed by the set of points that satisfy the equation.\n",
      "\n",
      "    # Calculate the area of the convex polygon using the shoelace formula\n",
      "    def shoelace_formula(points):\n",
      "        n = len(points)\n",
      "        area = 0\n",
      "        for i in range(n):\n",
      "            area += points[i][0] * points[(i + 1) % n][1] - points[i][1] * points[(i + 1) % n][0]\n",
      "        area = abs(area / 2)\n",
      "        return area\n",
      "\n",
      "    # Apply the shoelace formula to the set of solutions\n",
      "    area = shoelace_formula(solutions)\n",
      "\n",
      "    return simplify(area)\n",
      "\n",
      "result = calculate_area()\n",
      "print(result)\n",
      "```\n",
      "\n"
     ]
    },
    {
     "name": "stderr",
     "output_type": "stream",
     "text": [
      "Setting `pad_token_id` to `eos_token_id`:100001 for open-end generation.\n"
     ]
    },
    {
     "name": "stdout",
     "output_type": "stream",
     "text": [
      "0\n",
      "\n",
      "CODE RESULTS 0\n"
     ]
    },
    {
     "name": "stderr",
     "output_type": "stream",
     "text": [
      "\n",
      "100%|█████████████████████████████████████████████| 3/3 [01:29<00:00, 29.74s/it]\u001b[A\n",
      "5it [07:59, 95.90s/it]"
     ]
    },
    {
     "name": "stdout",
     "output_type": "stream",
     "text": [
      "\n",
      "INTERMEDIATE OUT :\n",
      "```output\n",
      "0\n",
      "```\n",
      "As the area of the polygon is 0, it implies that the polygon consists of only a single point, which is not a polygon according to the standard definition of a polygon (a geometric figure that consists of a finite number of straight line segments). Therefore, the given problem does not result in a valid polygon, and we cannot calculate its area. \n",
      "\n",
      "However, by visualizing the plot of the solutions, it can be seen that the set of points that satisfy the equation form a square with side length 16. The area of this square can be calculated as $16^2 = 256$. \n",
      "\n",
      "So, the area of the convex polygon formed by the set of points that satisfy the equation is 256 square units.\n",
      "The answer is: 256\n",
      "\n",
      "BOXED []\n",
      "BOXED FINAL 256\n",
      "[(256, 2), (64, 1), (0, 1)]\n",
      "GOOD ANSWER UPDATED!\n",
      "code_answers 1 text_answers 3\n",
      "Predicted best answer: {0: (1, 2), 1: (42, 2), 2: (1, 3), 3: (13, 2), 4: (256, 2)}\n"
     ]
    },
    {
     "name": "stderr",
     "output_type": "stream",
     "text": [
      "\n"
     ]
    }
   ],
   "source": [
    "total_results = {}\n",
    "total_answers = {}\n",
    "best_stats = {}\n",
    "total_outputs = {}\n",
    "question_type_counts = {}\n",
    "starting_counts = (2, 3)  # to give probability to promts\n",
    "\n",
    "# for i, (test, sample_submission) in tqdm(enumerate(iter_test)):\n",
    "for i, (_, test) in tqdm(enumerate(sample_df.iterrows())):\n",
    "    print(f\"Solving problem {i} ...\")\n",
    "    TIME_SPENT = time.time() - NOTEBOOK_START_TIME\n",
    "\n",
    "    if TIME_SPENT > cnfg.TIME_LIMIT:\n",
    "        print(TIME_SPENT, cnfg.TIME_LIMIT)\n",
    "        break\n",
    "\n",
    "    for jj in tqdm(range(cnfg.n_repetitions)):\n",
    "        # problem = test[\"problem\"].values[0]\n",
    "        problem = test[\"problem\"]\n",
    "        print(f\"\\n\\n\\nQUESTION {i} - {jj} - TIME_SPENT : {TIME_SPENT:.0f} secs\")\n",
    "\n",
    "        best, best_count = best_stats.get(i, (-1, -1))\n",
    "        if best_count > np.sqrt(jj):\n",
    "            print(\"SKIPPING CAUSE ALREADY FOUND BEST\")\n",
    "            continue\n",
    "\n",
    "        outputs = total_outputs.get(i, [])\n",
    "        text_answers, code_answers = question_type_counts.get(i, starting_counts)\n",
    "        results = total_results.get(i, [])\n",
    "        answers = total_answers.get(i, [])\n",
    "\n",
    "        for _ in range(5):\n",
    "            torch.cuda.empty_cache()\n",
    "            gc.collect()\n",
    "            time.sleep(0.2)\n",
    "\n",
    "        try:\n",
    "            ALREADY_GEN = 0\n",
    "            code_error = None\n",
    "            code_error_count = 0\n",
    "            code_output = -1\n",
    "            # initail_message = problem  + tool_instruction\n",
    "            counts = np.array([text_answers, code_answers])\n",
    "\n",
    "            draw = choice(promplt_options, 1, p=counts / counts.sum())  # cot has mo\n",
    "\n",
    "            initail_message = draw[0].format(problem, \"{}\")\n",
    "            prompt = f\"User: {initail_message}\"\n",
    "\n",
    "            current_printed = len(prompt)\n",
    "            print(f\"{jj}_{prompt}\\n\")\n",
    "\n",
    "            model_inputs = tokenizer(prompt, return_tensors=\"pt\").to(model.device)\n",
    "            input_len = len(model_inputs[\"input_ids\"][0])\n",
    "\n",
    "            generation_output = model.generate(\n",
    "                **model_inputs,\n",
    "                max_new_tokens=cnfg.TOTAL_TOKENS - ALREADY_GEN,\n",
    "                return_dict_in_generate=cnfg.USE_PAST_KEY,\n",
    "                do_sample=True,\n",
    "                temperature=cnfg.temperature,\n",
    "                top_p=cnfg.top_p,\n",
    "                num_return_sequences=1,\n",
    "                stopping_criteria=stopping_criteria,\n",
    "            )\n",
    "\n",
    "            if cnfg.USE_PAST_KEY:\n",
    "                output_ids = generation_output.sequences[0]\n",
    "            else:\n",
    "                output_ids = generation_output[0]\n",
    "            decoded_output = tokenizer.decode(output_ids, skip_special_tokens=True)\n",
    "            print(f\"{decoded_output[current_printed:]}\\n\")\n",
    "            current_printed += len(\n",
    "                decoded_output[current_printed:]\n",
    "            )  # Size of prompt + Size of generated text\n",
    "\n",
    "            cummulative_code = \"\"\n",
    "\n",
    "            stop_word_cond = False  # Whether last word generated is a stop word or not.\n",
    "            for stop_word in stop_words:\n",
    "                stop_word_cond = stop_word_cond or (\n",
    "                    decoded_output[-len(stop_word) :] == stop_word\n",
    "                )\n",
    "                if cnfg.DEBUG:\n",
    "                    if stop_word_cond:\n",
    "                        print(f\"***** 1: Stop Word: {stop_word}\")\n",
    "\n",
    "            # while stop word is generated and not generated maximum tokens (cnfg.TOTAL_TOKENS)\n",
    "            while (stop_word_cond) and (ALREADY_GEN < (cnfg.TOTAL_TOKENS)):\n",
    "                if cnfg.DEBUG:\n",
    "                    print(f\"****** 2 ALREADY_GEN:{ALREADY_GEN}, {cnfg.TOTAL_TOKENS}\")\n",
    "\n",
    "                if decoded_output[-len(\"```python\") :] == \"```python\":\n",
    "                    if cnfg.DEBUG:\n",
    "                        print(f\"****** 3 Stop Word: ```python found\")\n",
    "                    temperature_inner = cnfg.temperature_coding\n",
    "                    top_p_inner = cnfg.top_p_coding\n",
    "                    prompt = decoded_output\n",
    "                else:\n",
    "                    if cnfg.DEBUG:\n",
    "                        print(f\"****** 4 looking for other stop word\")\n",
    "                    temperature_inner = cnfg.temperature\n",
    "                    top_p_inner = cnfg.top_p\n",
    "                    try:\n",
    "                        if decoded_output[-len(\"``````output\") :] == \"``````output\":\n",
    "                            if cnfg.DEBUG:\n",
    "                                print(f\"****** 5 Stop word ``````output found\")\n",
    "                            code_text = decoded_output.split(\"```python\")[-1].split(\n",
    "                                \"``````\"\n",
    "                            )[0]\n",
    "                        else:\n",
    "                            code_text = decoded_output.split(\"```python\")[-1].split(\n",
    "                                \"```\"\n",
    "                            )[0]\n",
    "\n",
    "                        cummulative_code += code_text\n",
    "\n",
    "                        if cnfg.DEBUG:\n",
    "                            print(\n",
    "                                f\"****** 6 Found Code ************ \\n {cummulative_code} \\n ***********************\"\n",
    "                            )\n",
    "                        code_output, CODE_STATUS = process_code(\n",
    "                            cummulative_code, return_shell_output=True\n",
    "                        )\n",
    "                        print(\"CODE RESULTS\", code_output)\n",
    "\n",
    "                        if code_error == code_output:\n",
    "                            code_error_count += 1\n",
    "                        else:\n",
    "                            code_error = code_output\n",
    "                            code_error_count = 0\n",
    "\n",
    "                        if not CODE_STATUS:\n",
    "                            cummulative_code = cummulative_code[: -len(code_text)]\n",
    "                            if cnfg.DEBUG:\n",
    "                                print(\n",
    "                                    f\"****** 7 CODE STATUS {CODE_STATUS} New  cummulative_code ************ \\n {cummulative_code} \\n ***********************\"\n",
    "                                )\n",
    "\n",
    "                            if code_error_count >= 1:\n",
    "                                print(\"REPEATED ERRORS\")\n",
    "                                break\n",
    "\n",
    "                    except Exception as e:\n",
    "                        print(e)\n",
    "                        print(\"ERROR PARSING CODE\")\n",
    "                        code_output = -1\n",
    "\n",
    "                    if code_output != -1:\n",
    "                        if decoded_output[-len(\")\\n```\") :] == \")\\n```\":\n",
    "                            prompt = (\n",
    "                                decoded_output\n",
    "                                + \"```output\\n\"\n",
    "                                + str(code_output)\n",
    "                                + \"\\n```\\n\"\n",
    "                            )\n",
    "                            if cnfg.DEBUG:\n",
    "                                print(\n",
    "                                    f\"****** 8 New prompt with code output ************ \\n {prompt} \\n ***********************\"\n",
    "                                )\n",
    "                        else:\n",
    "                            prompt = (\n",
    "                                decoded_output + \"\\n\" + str(code_output) + \"\\n```\\n\"\n",
    "                            )\n",
    "                            if cnfg.DEBUG:\n",
    "                                print(\n",
    "                                    f\"****** 9 New prompt with code output ************ \\n {prompt} \\n ***********************\"\n",
    "                                )\n",
    "                    else:\n",
    "                        prompt = decoded_output\n",
    "                        cummulative_code = \"\"\n",
    "                        if cnfg.DEBUG:\n",
    "                            print(\n",
    "                                f\"****** 10 Code out put -1 new prompt ************ \\n {prompt} \\n ***********************\"\n",
    "                            )\n",
    "\n",
    "                model_inputs = tokenizer(prompt, return_tensors=\"pt\").to(model.device)\n",
    "                ALREADY_GEN = len(model_inputs[\"input_ids\"][0]) - input_len\n",
    "\n",
    "                if cnfg.USE_PAST_KEY:\n",
    "                    old_values = generation_output.past_key_values\n",
    "                else:\n",
    "                    old_values = None\n",
    "\n",
    "                generation_output = model.generate(\n",
    "                    **model_inputs,\n",
    "                    max_new_tokens=cnfg.TOTAL_TOKENS - ALREADY_GEN,\n",
    "                    return_dict_in_generate=cnfg.USE_PAST_KEY,\n",
    "                    past_key_values=old_values,\n",
    "                    do_sample=True,\n",
    "                    temperature=temperature_inner,\n",
    "                    top_p=top_p_inner,\n",
    "                    num_return_sequences=1,\n",
    "                    stopping_criteria=stopping_criteria,\n",
    "                )\n",
    "\n",
    "                if cnfg.USE_PAST_KEY:\n",
    "                    output_ids = generation_output.sequences[0]\n",
    "                else:\n",
    "                    output_ids = generation_output[0]\n",
    "                decoded_output = tokenizer.decode(output_ids, skip_special_tokens=True)\n",
    "                print(f\"\\nINTERMEDIATE OUT :\\n{decoded_output[current_printed:]}\\n\")\n",
    "                current_printed += len(decoded_output[current_printed:])\n",
    "\n",
    "                stop_word_cond = False\n",
    "                for stop_word in stop_words:\n",
    "                    stop_word_cond = stop_word_cond or (\n",
    "                        decoded_output[-len(stop_word) :] == stop_word\n",
    "                    )\n",
    "\n",
    "            if cnfg.USE_PAST_KEY:\n",
    "                output_ids = generation_output.sequences[0]\n",
    "            else:\n",
    "                output_ids = generation_output[0]\n",
    "\n",
    "            raw_output = tokenizer.decode(\n",
    "                output_ids[input_len:], skip_special_tokens=True\n",
    "            )\n",
    "            # print(f\"\\n\\nOutput :\\n{raw_output}\\n\")\n",
    "            result_output = process_text_output(raw_output)\n",
    "\n",
    "            try:\n",
    "                code_output = round(float(eval(code_output))) % 1000\n",
    "            except Exception as e:\n",
    "                print(e, \"final_eval\")\n",
    "                code_output = -1\n",
    "\n",
    "        except Exception as e:\n",
    "            print(e, \"5\")\n",
    "            result_output, code_output = -1, -1\n",
    "\n",
    "        if code_output != -1:\n",
    "            outputs.append(code_output)\n",
    "            code_answers += 1\n",
    "\n",
    "        if result_output != -1:\n",
    "            outputs.append(result_output)\n",
    "            text_answers += 1\n",
    "\n",
    "        if len(outputs) > 0:\n",
    "            occurances = Counter(outputs).most_common()\n",
    "            print(occurances)\n",
    "            if occurances[0][1] > best_count:\n",
    "                print(\"GOOD ANSWER UPDATED!\")\n",
    "                best = occurances[0][0]\n",
    "                best_count = occurances[0][1]\n",
    "            if occurances[0][1] > 5:\n",
    "                print(\"ANSWER FOUND!\")\n",
    "                break\n",
    "\n",
    "        results.append(result_output)\n",
    "        answers.append(code_output)\n",
    "\n",
    "        best_stats[i] = (best, best_count)\n",
    "        question_type_counts[i] = (text_answers, code_answers)\n",
    "        total_outputs[i] = outputs\n",
    "\n",
    "        total_results[i] = results\n",
    "        total_answers[i] = answers\n",
    "\n",
    "        print(\n",
    "            \"code_answers\",\n",
    "            code_answers - starting_counts[1],\n",
    "            \"text_answers\",\n",
    "            text_answers - starting_counts[0],\n",
    "        )\n",
    "        if cnfg.DEBUG:\n",
    "            break\n",
    "\n",
    "    print(f\"Predicted best answer: {best_stats}\")"
   ]
  },
  {
   "cell_type": "code",
   "execution_count": null,
   "id": "62399c73",
   "metadata": {},
   "outputs": [
    {
     "data": {
      "text/plain": [
       "{0: (1, 2), 1: (42, 2), 2: (1, 3), 3: (13, 2), 4: (256, 2)}"
      ]
     },
     "execution_count": null,
     "metadata": {},
     "output_type": "execute_result"
    }
   ],
   "source": [
    "best_stats"
   ]
  },
  {
   "cell_type": "code",
   "execution_count": null,
   "id": "afdca0b6-fce6-45db-88f6-0731fe07dea3",
   "metadata": {},
   "outputs": [
    {
     "data": {
      "text/html": [
       "<div>\n",
       "<style scoped>\n",
       "    .dataframe tbody tr th:only-of-type {\n",
       "        vertical-align: middle;\n",
       "    }\n",
       "\n",
       "    .dataframe tbody tr th {\n",
       "        vertical-align: top;\n",
       "    }\n",
       "\n",
       "    .dataframe thead th {\n",
       "        text-align: right;\n",
       "    }\n",
       "</style>\n",
       "<table border=\"1\" class=\"dataframe\">\n",
       "  <thead>\n",
       "    <tr style=\"text-align: right;\">\n",
       "      <th></th>\n",
       "      <th>id</th>\n",
       "      <th>problem</th>\n",
       "      <th>answer</th>\n",
       "    </tr>\n",
       "  </thead>\n",
       "  <tbody>\n",
       "    <tr>\n",
       "      <th>8</th>\n",
       "      <td>bedda4</td>\n",
       "      <td>Let $ABCD$ be a unit square. Let $P$ be the po...</td>\n",
       "      <td>480</td>\n",
       "    </tr>\n",
       "    <tr>\n",
       "      <th>1</th>\n",
       "      <td>246d26</td>\n",
       "      <td>Each of the three-digits numbers $111$ to $999...</td>\n",
       "      <td>250</td>\n",
       "    </tr>\n",
       "    <tr>\n",
       "      <th>5</th>\n",
       "      <td>739bc9</td>\n",
       "      <td>For how many positive integers $m$ does the eq...</td>\n",
       "      <td>199</td>\n",
       "    </tr>\n",
       "    <tr>\n",
       "      <th>0</th>\n",
       "      <td>229ee8</td>\n",
       "      <td>Let $k, l &gt; 0$ be parameters. The parabola $y ...</td>\n",
       "      <td>52</td>\n",
       "    </tr>\n",
       "    <tr>\n",
       "      <th>7</th>\n",
       "      <td>8ee6f3</td>\n",
       "      <td>The points $\\left(x, y\\right)$ satisfying $((\\...</td>\n",
       "      <td>320</td>\n",
       "    </tr>\n",
       "  </tbody>\n",
       "</table>\n",
       "</div>"
      ],
      "text/plain": [
       "       id                                            problem  answer\n",
       "8  bedda4  Let $ABCD$ be a unit square. Let $P$ be the po...     480\n",
       "1  246d26  Each of the three-digits numbers $111$ to $999...     250\n",
       "5  739bc9  For how many positive integers $m$ does the eq...     199\n",
       "0  229ee8  Let $k, l > 0$ be parameters. The parabola $y ...      52\n",
       "7  8ee6f3  The points $\\left(x, y\\right)$ satisfying $((\\...     320"
      ]
     },
     "execution_count": null,
     "metadata": {},
     "output_type": "execute_result"
    }
   ],
   "source": [
    "sample_df"
   ]
  },
  {
   "cell_type": "code",
   "execution_count": null,
   "id": "205062ce-05b8-49d9-9c40-b252d1573342",
   "metadata": {},
   "outputs": [],
   "source": []
  }
 ],
 "metadata": {
  "kernelspec": {
   "display_name": "python3",
   "language": "python",
   "name": "python3"
  },
  "widgets": {
   "application/vnd.jupyter.widget-state+json": {
    "state": {
     "0175ae284712457ab1bffbffb8ba4bd9": {
      "model_module": "@jupyter-widgets/controls",
      "model_module_version": "1.5.0",
      "model_name": "FloatProgressModel",
      "state": {
       "_dom_classes": [],
       "_model_module": "@jupyter-widgets/controls",
       "_model_module_version": "1.5.0",
       "_model_name": "FloatProgressModel",
       "_view_count": null,
       "_view_module": "@jupyter-widgets/controls",
       "_view_module_version": "1.5.0",
       "_view_name": "ProgressView",
       "bar_style": "success",
       "description": "",
       "description_tooltip": null,
       "layout": "IPY_MODEL_489ad355e58e44ce882f7c6a92cda669",
       "max": 3,
       "min": 0,
       "orientation": "horizontal",
       "style": "IPY_MODEL_773cf5200bf14bbdb149dbb333c2b70f",
       "value": 3
      }
     },
     "0534fc55c3b949a395be9c3f8bd1b92b": {
      "model_module": "@jupyter-widgets/controls",
      "model_module_version": "1.5.0",
      "model_name": "HTMLModel",
      "state": {
       "_dom_classes": [],
       "_model_module": "@jupyter-widgets/controls",
       "_model_module_version": "1.5.0",
       "_model_name": "HTMLModel",
       "_view_count": null,
       "_view_module": "@jupyter-widgets/controls",
       "_view_module_version": "1.5.0",
       "_view_name": "HTMLView",
       "description": "",
       "description_tooltip": null,
       "layout": "IPY_MODEL_3ea82ca025e44b54a903e46e403fd7e2",
       "placeholder": "​",
       "style": "IPY_MODEL_3ad193262e294701bcbbc04bc984795c",
       "value": " 3/3 [03:38&lt;00:00, 71.99s/it]"
      }
     },
     "071cd59776cd49259374f5736d3df63f": {
      "model_module": "@jupyter-widgets/base",
      "model_module_version": "1.2.0",
      "model_name": "LayoutModel",
      "state": {
       "_model_module": "@jupyter-widgets/base",
       "_model_module_version": "1.2.0",
       "_model_name": "LayoutModel",
       "_view_count": null,
       "_view_module": "@jupyter-widgets/base",
       "_view_module_version": "1.2.0",
       "_view_name": "LayoutView",
       "align_content": null,
       "align_items": null,
       "align_self": null,
       "border": null,
       "bottom": null,
       "display": null,
       "flex": null,
       "flex_flow": null,
       "grid_area": null,
       "grid_auto_columns": null,
       "grid_auto_flow": null,
       "grid_auto_rows": null,
       "grid_column": null,
       "grid_gap": null,
       "grid_row": null,
       "grid_template_areas": null,
       "grid_template_columns": null,
       "grid_template_rows": null,
       "height": null,
       "justify_content": null,
       "justify_items": null,
       "left": null,
       "margin": null,
       "max_height": null,
       "max_width": null,
       "min_height": null,
       "min_width": null,
       "object_fit": null,
       "object_position": null,
       "order": null,
       "overflow": null,
       "overflow_x": null,
       "overflow_y": null,
       "padding": null,
       "right": null,
       "top": null,
       "visibility": null,
       "width": null
      }
     },
     "07c7ac16054a4425b2b3fefd1058deea": {
      "model_module": "@jupyter-widgets/controls",
      "model_module_version": "1.5.0",
      "model_name": "HBoxModel",
      "state": {
       "_dom_classes": [],
       "_model_module": "@jupyter-widgets/controls",
       "_model_module_version": "1.5.0",
       "_model_name": "HBoxModel",
       "_view_count": null,
       "_view_module": "@jupyter-widgets/controls",
       "_view_module_version": "1.5.0",
       "_view_name": "HBoxView",
       "box_style": "",
       "children": [
        "IPY_MODEL_ecb7d2a4043e4505bbfd20b63410600d",
        "IPY_MODEL_0175ae284712457ab1bffbffb8ba4bd9",
        "IPY_MODEL_0534fc55c3b949a395be9c3f8bd1b92b"
       ],
       "layout": "IPY_MODEL_0e11a2549f794f58843ea7c77181576b"
      }
     },
     "0e11a2549f794f58843ea7c77181576b": {
      "model_module": "@jupyter-widgets/base",
      "model_module_version": "1.2.0",
      "model_name": "LayoutModel",
      "state": {
       "_model_module": "@jupyter-widgets/base",
       "_model_module_version": "1.2.0",
       "_model_name": "LayoutModel",
       "_view_count": null,
       "_view_module": "@jupyter-widgets/base",
       "_view_module_version": "1.2.0",
       "_view_name": "LayoutView",
       "align_content": null,
       "align_items": null,
       "align_self": null,
       "border": null,
       "bottom": null,
       "display": null,
       "flex": null,
       "flex_flow": null,
       "grid_area": null,
       "grid_auto_columns": null,
       "grid_auto_flow": null,
       "grid_auto_rows": null,
       "grid_column": null,
       "grid_gap": null,
       "grid_row": null,
       "grid_template_areas": null,
       "grid_template_columns": null,
       "grid_template_rows": null,
       "height": null,
       "justify_content": null,
       "justify_items": null,
       "left": null,
       "margin": null,
       "max_height": null,
       "max_width": null,
       "min_height": null,
       "min_width": null,
       "object_fit": null,
       "object_position": null,
       "order": null,
       "overflow": null,
       "overflow_x": null,
       "overflow_y": null,
       "padding": null,
       "right": null,
       "top": null,
       "visibility": null,
       "width": null
      }
     },
     "3ad193262e294701bcbbc04bc984795c": {
      "model_module": "@jupyter-widgets/controls",
      "model_module_version": "1.5.0",
      "model_name": "DescriptionStyleModel",
      "state": {
       "_model_module": "@jupyter-widgets/controls",
       "_model_module_version": "1.5.0",
       "_model_name": "DescriptionStyleModel",
       "_view_count": null,
       "_view_module": "@jupyter-widgets/base",
       "_view_module_version": "1.2.0",
       "_view_name": "StyleView",
       "description_width": ""
      }
     },
     "3ea82ca025e44b54a903e46e403fd7e2": {
      "model_module": "@jupyter-widgets/base",
      "model_module_version": "1.2.0",
      "model_name": "LayoutModel",
      "state": {
       "_model_module": "@jupyter-widgets/base",
       "_model_module_version": "1.2.0",
       "_model_name": "LayoutModel",
       "_view_count": null,
       "_view_module": "@jupyter-widgets/base",
       "_view_module_version": "1.2.0",
       "_view_name": "LayoutView",
       "align_content": null,
       "align_items": null,
       "align_self": null,
       "border": null,
       "bottom": null,
       "display": null,
       "flex": null,
       "flex_flow": null,
       "grid_area": null,
       "grid_auto_columns": null,
       "grid_auto_flow": null,
       "grid_auto_rows": null,
       "grid_column": null,
       "grid_gap": null,
       "grid_row": null,
       "grid_template_areas": null,
       "grid_template_columns": null,
       "grid_template_rows": null,
       "height": null,
       "justify_content": null,
       "justify_items": null,
       "left": null,
       "margin": null,
       "max_height": null,
       "max_width": null,
       "min_height": null,
       "min_width": null,
       "object_fit": null,
       "object_position": null,
       "order": null,
       "overflow": null,
       "overflow_x": null,
       "overflow_y": null,
       "padding": null,
       "right": null,
       "top": null,
       "visibility": null,
       "width": null
      }
     },
     "489ad355e58e44ce882f7c6a92cda669": {
      "model_module": "@jupyter-widgets/base",
      "model_module_version": "1.2.0",
      "model_name": "LayoutModel",
      "state": {
       "_model_module": "@jupyter-widgets/base",
       "_model_module_version": "1.2.0",
       "_model_name": "LayoutModel",
       "_view_count": null,
       "_view_module": "@jupyter-widgets/base",
       "_view_module_version": "1.2.0",
       "_view_name": "LayoutView",
       "align_content": null,
       "align_items": null,
       "align_self": null,
       "border": null,
       "bottom": null,
       "display": null,
       "flex": null,
       "flex_flow": null,
       "grid_area": null,
       "grid_auto_columns": null,
       "grid_auto_flow": null,
       "grid_auto_rows": null,
       "grid_column": null,
       "grid_gap": null,
       "grid_row": null,
       "grid_template_areas": null,
       "grid_template_columns": null,
       "grid_template_rows": null,
       "height": null,
       "justify_content": null,
       "justify_items": null,
       "left": null,
       "margin": null,
       "max_height": null,
       "max_width": null,
       "min_height": null,
       "min_width": null,
       "object_fit": null,
       "object_position": null,
       "order": null,
       "overflow": null,
       "overflow_x": null,
       "overflow_y": null,
       "padding": null,
       "right": null,
       "top": null,
       "visibility": null,
       "width": null
      }
     },
     "773cf5200bf14bbdb149dbb333c2b70f": {
      "model_module": "@jupyter-widgets/controls",
      "model_module_version": "1.5.0",
      "model_name": "ProgressStyleModel",
      "state": {
       "_model_module": "@jupyter-widgets/controls",
       "_model_module_version": "1.5.0",
       "_model_name": "ProgressStyleModel",
       "_view_count": null,
       "_view_module": "@jupyter-widgets/base",
       "_view_module_version": "1.2.0",
       "_view_name": "StyleView",
       "bar_color": null,
       "description_width": ""
      }
     },
     "ecb7d2a4043e4505bbfd20b63410600d": {
      "model_module": "@jupyter-widgets/controls",
      "model_module_version": "1.5.0",
      "model_name": "HTMLModel",
      "state": {
       "_dom_classes": [],
       "_model_module": "@jupyter-widgets/controls",
       "_model_module_version": "1.5.0",
       "_model_name": "HTMLModel",
       "_view_count": null,
       "_view_module": "@jupyter-widgets/controls",
       "_view_module_version": "1.5.0",
       "_view_name": "HTMLView",
       "description": "",
       "description_tooltip": null,
       "layout": "IPY_MODEL_071cd59776cd49259374f5736d3df63f",
       "placeholder": "​",
       "style": "IPY_MODEL_f175438ea5454359ba7a68e0c113792b",
       "value": "Loading checkpoint shards: 100%"
      }
     },
     "f175438ea5454359ba7a68e0c113792b": {
      "model_module": "@jupyter-widgets/controls",
      "model_module_version": "1.5.0",
      "model_name": "DescriptionStyleModel",
      "state": {
       "_model_module": "@jupyter-widgets/controls",
       "_model_module_version": "1.5.0",
       "_model_name": "DescriptionStyleModel",
       "_view_count": null,
       "_view_module": "@jupyter-widgets/base",
       "_view_module_version": "1.2.0",
       "_view_name": "StyleView",
       "description_width": ""
      }
     }
    },
    "version_major": 2,
    "version_minor": 0
   }
  }
 },
 "nbformat": 4,
 "nbformat_minor": 5
}
