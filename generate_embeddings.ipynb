{
 "cells": [
  {
   "cell_type": "code",
   "execution_count": null,
   "id": "9ff7873d-6fc8-4b48-be34-a86362b01849",
   "metadata": {},
   "outputs": [
    {
     "name": "stderr",
     "output_type": "stream",
     "text": [
      "/home/rohit/Desktop/rohit/virtualenvs/rohit_transformers/lib/python3.10/site-packages/sentence_transformers/cross_encoder/CrossEncoder.py:11: TqdmExperimentalWarning: Using `tqdm.autonotebook.tqdm` in notebook mode. Use `tqdm.tqdm` instead to force console mode (e.g. in jupyter console)\n",
      "  from tqdm.autonotebook import tqdm, trange\n"
     ]
    }
   ],
   "source": [
    "import pandas as pd\n",
    "from sentence_transformers import SentenceTransformer\n",
    "from tqdm import tqdm\n",
    "\n",
    "from config import Config"
   ]
  },
  {
   "cell_type": "code",
   "execution_count": null,
   "id": "d86666fa-f318-4249-a595-cc5a51d4caaa",
   "metadata": {},
   "outputs": [],
   "source": [
    "from transformers import AutoModelForSequenceClassification, AutoTokenizer"
   ]
  },
  {
   "cell_type": "code",
   "execution_count": null,
   "id": "17573e63-eaf1-4f80-96b1-cf167e8c8b02",
   "metadata": {},
   "outputs": [],
   "source": [
    "import faiss\n",
    "import numpy as np"
   ]
  },
  {
   "cell_type": "code",
   "execution_count": null,
   "id": "c6cb69e7-0abd-4963-b815-c5a5fc1f65f5",
   "metadata": {},
   "outputs": [],
   "source": [
    "cnfg = Config()"
   ]
  },
  {
   "cell_type": "code",
   "execution_count": null,
   "id": "dbd55efc-e2cb-4aa1-957e-c35fcdbce4be",
   "metadata": {},
   "outputs": [],
   "source": []
  },
  {
   "cell_type": "code",
   "execution_count": null,
   "id": "6ec4660f-6c99-4a98-bd4d-cc49feca9140",
   "metadata": {},
   "outputs": [],
   "source": [
    "external_df = pd.read_csv(f\"{cnfg.base_data_path}aimo_external/external_df.csv\")"
   ]
  },
  {
   "cell_type": "code",
   "execution_count": null,
   "id": "9e1ee052-052c-45bf-bf57-7aa6b5ecb338",
   "metadata": {},
   "outputs": [
    {
     "data": {
      "text/html": [
       "<div>\n",
       "<style scoped>\n",
       "    .dataframe tbody tr th:only-of-type {\n",
       "        vertical-align: middle;\n",
       "    }\n",
       "\n",
       "    .dataframe tbody tr th {\n",
       "        vertical-align: top;\n",
       "    }\n",
       "\n",
       "    .dataframe thead th {\n",
       "        text-align: right;\n",
       "    }\n",
       "</style>\n",
       "<table border=\"1\" class=\"dataframe\">\n",
       "  <thead>\n",
       "    <tr style=\"text-align: right;\">\n",
       "      <th></th>\n",
       "      <th>problem</th>\n",
       "      <th>level</th>\n",
       "      <th>type</th>\n",
       "      <th>solution</th>\n",
       "      <th>stage</th>\n",
       "      <th>source</th>\n",
       "    </tr>\n",
       "  </thead>\n",
       "  <tbody>\n",
       "    <tr>\n",
       "      <th>0</th>\n",
       "      <td>Kevin Kangaroo begins hopping on a number line...</td>\n",
       "      <td>Level 5</td>\n",
       "      <td>Algebra</td>\n",
       "      <td>Kevin hops $1/3$ of the remaining distance wit...</td>\n",
       "      <td>train</td>\n",
       "      <td>MATH</td>\n",
       "    </tr>\n",
       "    <tr>\n",
       "      <th>1</th>\n",
       "      <td>The ratio of the areas of two squares is $\\fra...</td>\n",
       "      <td>Level 4</td>\n",
       "      <td>Algebra</td>\n",
       "      <td>We start off by simplifying the ratio $\\frac{1...</td>\n",
       "      <td>train</td>\n",
       "      <td>MATH</td>\n",
       "    </tr>\n",
       "    <tr>\n",
       "      <th>2</th>\n",
       "      <td>If $\\sqrt{2\\sqrt{t-2}} = \\sqrt[4]{7 - t}$, the...</td>\n",
       "      <td>Level 4</td>\n",
       "      <td>Algebra</td>\n",
       "      <td>We raise both sides to the fourth power, which...</td>\n",
       "      <td>train</td>\n",
       "      <td>MATH</td>\n",
       "    </tr>\n",
       "    <tr>\n",
       "      <th>3</th>\n",
       "      <td>Let $t(x) = \\sqrt{3x+1}$ and $f(x)=5-t(x)$. Wh...</td>\n",
       "      <td>Level 4</td>\n",
       "      <td>Algebra</td>\n",
       "      <td>We first evaluate $f(5) = 5 -t(5) = 5-\\sqrt{5\\...</td>\n",
       "      <td>train</td>\n",
       "      <td>MATH</td>\n",
       "    </tr>\n",
       "    <tr>\n",
       "      <th>4</th>\n",
       "      <td>James has a total of 66 dollars in his piggy b...</td>\n",
       "      <td>Level 2</td>\n",
       "      <td>Algebra</td>\n",
       "      <td>Call the number of one dollar bills $x$ and th...</td>\n",
       "      <td>train</td>\n",
       "      <td>MATH</td>\n",
       "    </tr>\n",
       "  </tbody>\n",
       "</table>\n",
       "</div>"
      ],
      "text/plain": [
       "                                             problem    level     type  \\\n",
       "0  Kevin Kangaroo begins hopping on a number line...  Level 5  Algebra   \n",
       "1  The ratio of the areas of two squares is $\\fra...  Level 4  Algebra   \n",
       "2  If $\\sqrt{2\\sqrt{t-2}} = \\sqrt[4]{7 - t}$, the...  Level 4  Algebra   \n",
       "3  Let $t(x) = \\sqrt{3x+1}$ and $f(x)=5-t(x)$. Wh...  Level 4  Algebra   \n",
       "4  James has a total of 66 dollars in his piggy b...  Level 2  Algebra   \n",
       "\n",
       "                                            solution  stage source  \n",
       "0  Kevin hops $1/3$ of the remaining distance wit...  train   MATH  \n",
       "1  We start off by simplifying the ratio $\\frac{1...  train   MATH  \n",
       "2  We raise both sides to the fourth power, which...  train   MATH  \n",
       "3  We first evaluate $f(5) = 5 -t(5) = 5-\\sqrt{5\\...  train   MATH  \n",
       "4  Call the number of one dollar bills $x$ and th...  train   MATH  "
      ]
     },
     "execution_count": null,
     "metadata": {},
     "output_type": "execute_result"
    }
   ],
   "source": [
    "external_df.head()"
   ]
  },
  {
   "cell_type": "code",
   "execution_count": null,
   "id": "95322ebc-25c9-4ef9-8fcc-61e1603a3eb4",
   "metadata": {},
   "outputs": [
    {
     "name": "stderr",
     "output_type": "stream",
     "text": [
      "No sentence-transformers model found with name AnReu/albert-for-arqmath-3. Creating a new one with mean pooling.\n",
      "/home/rohit/Desktop/rohit/virtualenvs/rohit_transformers/lib/python3.10/site-packages/huggingface_hub/file_download.py:1132: FutureWarning: `resume_download` is deprecated and will be removed in version 1.0.0. Downloads always resume when possible. If you want to force a new download, use `force_download=True`.\n",
      "  warnings.warn(\n",
      "Some weights of the model checkpoint at AnReu/albert-for-arqmath-3 were not used when initializing AlbertModel: ['classifier.bias', 'classifier.weight']\n",
      "- This IS expected if you are initializing AlbertModel from the checkpoint of a model trained on another task or with another architecture (e.g. initializing a BertForSequenceClassification model from a BertForPreTraining model).\n",
      "- This IS NOT expected if you are initializing AlbertModel from the checkpoint of a model that you expect to be exactly identical (initializing a BertForSequenceClassification model from a BertForSequenceClassification model).\n"
     ]
    }
   ],
   "source": [
    "model = SentenceTransformer(\"AnReu/albert-for-arqmath-3\")\n",
    "# model = AutoModelForSequenceClassification.from_pretrained(\"AnReu/albert-for-arqmath-3\")\n",
    "# tokenizer = AutoTokenizer.from_pretrained(\"AnReu/albert-for-arqmath-3\")"
   ]
  },
  {
   "cell_type": "code",
   "execution_count": null,
   "id": "ef3f2f8a-aaa5-4eb4-a663-46704b90e8d9",
   "metadata": {},
   "outputs": [
    {
     "data": {
      "text/plain": [
       "SentenceTransformer(\n",
       "  (0): Transformer({'max_seq_length': 512, 'do_lower_case': False}) with Transformer model: AlbertModel \n",
       "  (1): Pooling({'word_embedding_dimension': 768, 'pooling_mode_cls_token': False, 'pooling_mode_mean_tokens': True, 'pooling_mode_max_tokens': False, 'pooling_mode_mean_sqrt_len_tokens': False, 'pooling_mode_weightedmean_tokens': False, 'pooling_mode_lasttoken': False, 'include_prompt': True})\n",
       ")"
      ]
     },
     "execution_count": null,
     "metadata": {},
     "output_type": "execute_result"
    }
   ],
   "source": [
    "model"
   ]
  },
  {
   "cell_type": "code",
   "execution_count": null,
   "id": "25beffb5-5058-4576-b13f-73d38edeb0b0",
   "metadata": {},
   "outputs": [],
   "source": [
    "# inp = \"A certain has $4$ digits when written in base $8$. The same integer has $d$ digits when written in base $2$. What is the sum of all possible values of $d$?\"\n",
    "# inputs = tokenizer.encode_plus(\n",
    "#         inp,  # Sentence to encode.\n",
    "#         add_special_tokens=True,  # Add '[CLS]' and '[SEP]'\n",
    "#         max_length=context_length,  # Pad & truncate all sentences.\n",
    "#         truncation=True,\n",
    "#         padding=\"max_length\",\n",
    "#         return_attention_mask=True,  # Construct attn. masks.\n",
    "#         return_tensors=\"pt\",\n",
    "#     )\n",
    "# outputs = model['encoder'](input_ids = inputs['input_ids'], attention_mask=inputs['attention_mask'])"
   ]
  },
  {
   "cell_type": "code",
   "execution_count": null,
   "id": "c681c62d-bd90-40d5-965a-c13baa51caf2",
   "metadata": {},
   "outputs": [],
   "source": [
    "# train_data_vec = []\n",
    "# for i,row in tqdm(external_df.iterrows()):\n",
    "#     embeddings = model.encode([row['problem']])\n",
    "#     train_data_vec.append(embeddings[0])"
   ]
  },
  {
   "cell_type": "code",
   "execution_count": null,
   "id": "58fc83cd-e595-4866-b287-19b33d34d848",
   "metadata": {},
   "outputs": [],
   "source": [
    "problem_list = list(external_df[\"problem\"])\n",
    "solution_list = list(external_df[\"solution\"])"
   ]
  },
  {
   "cell_type": "code",
   "execution_count": null,
   "id": "50a0b6af-b81d-4144-8067-57655f9f6c4c",
   "metadata": {},
   "outputs": [
    {
     "data": {
      "text/plain": [
       "('If $3+a=4-b$ and $4+b=7+a$, what is $3-a$?',\n",
       " 'First we begin by solving the system of equations \\\\begin{align*}\\n3+a&=4-b, \\\\\\\\\\n4+b&=7+a.\\n\\\\end{align*}Adding the two equations, we get $3+a+4+b=4-b+7+a$, which simplifies to $7+a+b=11+a-b$. Cancelling $a$ from both sides, we get $7+b=11-b$. Solving for $b$, we find that $b=2$. Plugging this into the first equation above, we obtain $3+a=4-2$. Hence $a=-1$ and $3-a=\\\\boxed{4}$.')"
      ]
     },
     "execution_count": null,
     "metadata": {},
     "output_type": "execute_result"
    }
   ],
   "source": [
    "problem_list[10], solution_list[10]"
   ]
  },
  {
   "cell_type": "code",
   "execution_count": null,
   "id": "c7bece9a-ace1-4310-84c4-17835a0389e2",
   "metadata": {},
   "outputs": [],
   "source": [
    "embeddings = model.encode(problem_list)"
   ]
  },
  {
   "cell_type": "code",
   "execution_count": null,
   "id": "168535c5-2456-44b4-a9a6-afc8b6ada80f",
   "metadata": {},
   "outputs": [
    {
     "name": "stdout",
     "output_type": "stream",
     "text": [
      "(21292, 768)\n",
      "Embedding length 768\n"
     ]
    }
   ],
   "source": [
    "print(embeddings.shape)\n",
    "print(\"Embedding length\", embeddings.shape[1])"
   ]
  },
  {
   "cell_type": "code",
   "execution_count": null,
   "id": "eff707d0-5d79-444e-92de-fd127367c3dd",
   "metadata": {},
   "outputs": [],
   "source": [
    "np.savez_compressed(\"compressed_array_embeddings.npz\", array_data=embeddings)"
   ]
  },
  {
   "cell_type": "code",
   "execution_count": null,
   "id": "cda2b07a-4f93-4b65-8ab1-944766419493",
   "metadata": {},
   "outputs": [
    {
     "name": "stdout",
     "output_type": "stream",
     "text": [
      "File size: 58.08137035369873 MB\n"
     ]
    }
   ],
   "source": [
    "import os\n",
    "\n",
    "# Get the size of the file in bytes\n",
    "file_size_bytes = os.path.getsize(\"compressed_array_embeddings.npz\")\n",
    "\n",
    "# Convert bytes to megabytes\n",
    "file_size_mb = file_size_bytes / (1024 * 1024)\n",
    "\n",
    "print(\"File size:\", file_size_mb, \"MB\")"
   ]
  },
  {
   "cell_type": "code",
   "execution_count": null,
   "id": "c8cd8529-0d9e-42ee-ab01-871c87211209",
   "metadata": {},
   "outputs": [
    {
     "data": {
      "text/plain": [
       "(21292, 768)"
      ]
     },
     "execution_count": null,
     "metadata": {},
     "output_type": "execute_result"
    }
   ],
   "source": [
    "loaded_embeddings = np.load(\"compressed_array_embeddings.npz\")\n",
    "\n",
    "# Access the array by the name you specified ('my_array' in this case)\n",
    "loaded_embeddings = loaded_embeddings[\"array_data\"]\n",
    "\n",
    "loaded_embeddings.shape"
   ]
  },
  {
   "cell_type": "code",
   "execution_count": null,
   "id": "f4bf0477-175c-43b4-80a9-42d429b18721",
   "metadata": {},
   "outputs": [],
   "source": [
    "external_df[[\"problem\", \"solution\"]].to_csv(\n",
    "    \"compressed_dataframe.csv.gz\", compression=\"gzip\", index=False\n",
    ")"
   ]
  },
  {
   "cell_type": "code",
   "execution_count": null,
   "id": "f81a1c04-a87d-4451-996f-f52a4b9b5a49",
   "metadata": {},
   "outputs": [],
   "source": []
  },
  {
   "cell_type": "code",
   "execution_count": null,
   "id": "0e18aeab-2a12-44bf-9c4e-fffb961eda53",
   "metadata": {},
   "outputs": [],
   "source": [
    "embed_length = loaded_embeddings.shape[1]\n",
    "\n",
    "index = faiss.IndexFlatL2(embed_length)\n",
    "\n",
    "index.add(loaded_embeddings)"
   ]
  },
  {
   "cell_type": "code",
   "execution_count": null,
   "id": "45db60e4-7ce9-4a88-b1b8-3278ae1cd4a9",
   "metadata": {},
   "outputs": [
    {
     "data": {
      "text/plain": [
       "True"
      ]
     },
     "execution_count": null,
     "metadata": {},
     "output_type": "execute_result"
    }
   ],
   "source": [
    "index.is_trained"
   ]
  },
  {
   "cell_type": "code",
   "execution_count": null,
   "id": "75ef36b3-c031-4563-889c-6ae3222dc266",
   "metadata": {},
   "outputs": [
    {
     "data": {
      "text/plain": [
       "21292"
      ]
     },
     "execution_count": null,
     "metadata": {},
     "output_type": "execute_result"
    }
   ],
   "source": [
    "# Check the total number of embeddings in the index\n",
    "index.ntotal"
   ]
  },
  {
   "cell_type": "code",
   "execution_count": null,
   "id": "a87f47ba-8760-4038-b245-87e257342aa5",
   "metadata": {},
   "outputs": [],
   "source": [
    "query_text = \"For how many positive integers $m$ does the equation \\[\\vert \\vert x-1 \\vert -2 \\vert=\\frac{m}{100}\\] have $4$ distinct solutions?\"\n",
    "query = [query_text]\n",
    "\n",
    "\n",
    "# Vectorize the query string\n",
    "query_embedding = model.encode(query)"
   ]
  },
  {
   "cell_type": "code",
   "execution_count": null,
   "id": "b24c3ccf-04c5-4741-86af-7ec9b01ceea0",
   "metadata": {},
   "outputs": [],
   "source": [
    "# Set the number of outputs we want\n",
    "top_k = 3\n",
    "\n",
    "# Run the query\n",
    "# index_vals refers to the chunk_list index values\n",
    "scores, index_vals = index.search(query_embedding, top_k)"
   ]
  },
  {
   "cell_type": "code",
   "execution_count": null,
   "id": "84461a47-56df-407f-9214-7f4a451372c1",
   "metadata": {},
   "outputs": [
    {
     "name": "stdout",
     "output_type": "stream",
     "text": [
      "[[ 5311  4807 12413]]\n",
      "[[2.5581956 2.5946705 2.6856375]]\n"
     ]
    }
   ],
   "source": [
    "print(index_vals)\n",
    "print(scores)"
   ]
  },
  {
   "cell_type": "code",
   "execution_count": null,
   "id": "cb625895-bb23-437b-b47e-dc041688dfc9",
   "metadata": {},
   "outputs": [],
   "source": [
    "pred_indexes = index_vals[0]"
   ]
  },
  {
   "cell_type": "code",
   "execution_count": null,
   "id": "092af28d-1847-4638-8d49-8002d9d22d22",
   "metadata": {},
   "outputs": [],
   "source": [
    "tmp = external_df.iloc[pred_indexes]"
   ]
  },
  {
   "cell_type": "code",
   "execution_count": null,
   "id": "5b111ebb-4057-4941-acb1-b4d4d06936c4",
   "metadata": {},
   "outputs": [
    {
     "data": {
      "text/plain": [
       "'1.8.0'"
      ]
     },
     "execution_count": null,
     "metadata": {},
     "output_type": "execute_result"
    }
   ],
   "source": [
    "faiss.__version__"
   ]
  },
  {
   "cell_type": "code",
   "execution_count": null,
   "id": "9c3b5c9c-f3d5-4867-97e6-6a6e8e556848",
   "metadata": {},
   "outputs": [
    {
     "data": {
      "text/plain": [
       "'What is the largest three-digit integer $n$ that satisfies $$55n\\\\equiv 165\\\\pmod{260}~?$$'"
      ]
     },
     "execution_count": null,
     "metadata": {},
     "output_type": "execute_result"
    }
   ],
   "source": [
    "tmp.iloc[0].problem"
   ]
  },
  {
   "cell_type": "code",
   "execution_count": null,
   "id": "405f632b-43fc-498e-987b-edb7ec3d65d5",
   "metadata": {},
   "outputs": [
    {
     "data": {
      "text/plain": [
       "'We have that \\\\[a\\\\equiv (3^{2n}+4)^{-1}\\\\equiv (9^{n}+4)^{-1}\\\\equiv 4^{-1}\\\\equiv \\\\boxed{7}\\\\pmod{9}.\\\\]'"
      ]
     },
     "execution_count": null,
     "metadata": {},
     "output_type": "execute_result"
    }
   ],
   "source": [
    "tmp.iloc[1].solution"
   ]
  },
  {
   "cell_type": "code",
   "execution_count": null,
   "id": "f8e951e7-68e2-4f99-9c6e-0e8396251c63",
   "metadata": {},
   "outputs": [],
   "source": [
    "# tmp.iloc[3].problem"
   ]
  },
  {
   "cell_type": "code",
   "execution_count": null,
   "id": "ad230246-a2ac-4a62-82d4-13267f47a05b",
   "metadata": {},
   "outputs": [],
   "source": []
  }
 ],
 "metadata": {
  "kernelspec": {
   "display_name": "python3",
   "language": "python",
   "name": "python3"
  }
 },
 "nbformat": 4,
 "nbformat_minor": 5
}
