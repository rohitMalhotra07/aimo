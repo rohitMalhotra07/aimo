{
 "cells": [
  {
   "cell_type": "code",
   "execution_count": null,
   "id": "97c1c2c1-b3ff-47a5-95da-3920624dbd16",
   "metadata": {},
   "outputs": [],
   "source": [
    "from transformers import (\n",
    "    AutoConfig,\n",
    "    AutoModelForCausalLM,\n",
    "    AutoTokenizer,\n",
    "    BitsAndBytesConfig,\n",
    "    pipeline,\n",
    ")\n",
    "from transformers import set_seed as transformers_set_seed\n",
    "from vllm import SamplingParams"
   ]
  },
  {
   "cell_type": "code",
   "execution_count": null,
   "id": "051d7be8-89c6-4220-954c-49442ec3bc36",
   "metadata": {},
   "outputs": [],
   "source": [
    "import ast\n",
    "import copy\n",
    "import gc\n",
    "import gzip\n",
    "import hashlib\n",
    "import io\n",
    "import json\n",
    "import math\n",
    "import os\n",
    "import pickle\n",
    "import random\n",
    "import re\n",
    "import shutil\n",
    "import string\n",
    "import subprocess\n",
    "import sys\n",
    "import textwrap\n",
    "import time\n",
    "import urllib\n",
    "import warnings\n",
    "import zipfile\n",
    "from collections import Counter\n",
    "from glob import glob\n",
    "from typing import Any, Callable, Generator, Iterable\n",
    "\n",
    "# import imageio\n",
    "import IPython\n",
    "import numpy as np\n",
    "import pandas as pd\n",
    "import requests\n",
    "import sympy\n",
    "import torch\n",
    "\n",
    "from config import Config"
   ]
  },
  {
   "cell_type": "code",
   "execution_count": null,
   "id": "e77db0b9-ac25-485b-91c9-2eae05fdfa68",
   "metadata": {},
   "outputs": [],
   "source": [
    "from tqdm.notebook import tqdm\n",
    "\n",
    "tqdm.pandas();"
   ]
  },
  {
   "cell_type": "code",
   "execution_count": null,
   "id": "b0a00a57-1fa1-4ac9-9ccc-a75b4c14bb25",
   "metadata": {},
   "outputs": [],
   "source": [
    "cnfg = Config()"
   ]
  },
  {
   "cell_type": "code",
   "execution_count": null,
   "id": "21fde25b-cb04-4b4a-b249-8ac6b83c74a5",
   "metadata": {},
   "outputs": [],
   "source": [
    "class CurrentConfig:\n",
    "    MODEL_PATH = \"deepseek-ai/deepseek-math-7b-rl\"\n",
    "    MAX_NEW_TOKENS = 1024\n",
    "    TEMPERATURE = 0.87654321\n",
    "    N_REPETITIONS = 20\n",
    "    OTHER_SAMPLING_KWARGS = {\"top_k\": 30}"
   ]
  },
  {
   "cell_type": "code",
   "execution_count": null,
   "id": "e5f620e4-7996-4147-81ce-a07992bcaa1c",
   "metadata": {},
   "outputs": [],
   "source": [
    "curr_cnfg = CurrentConfig()"
   ]
  },
  {
   "cell_type": "code",
   "execution_count": null,
   "id": "2993d6ba-783f-4c87-baab-af9e87981983",
   "metadata": {},
   "outputs": [],
   "source": [
    "def set_seed(seed: int = 42) -> None:\n",
    "    \"\"\"Sets the seed for generating random numbers to ensure reproducibility.\n",
    "\n",
    "    Args:\n",
    "        seed (int): The seed number. Default is 42.\n",
    "    \"\"\"\n",
    "    transformers_set_seed(seed)"
   ]
  },
  {
   "cell_type": "code",
   "execution_count": null,
   "id": "9d714d5f-efcd-4086-850d-3d4aca6d0741",
   "metadata": {},
   "outputs": [],
   "source": [
    "set_seed()"
   ]
  },
  {
   "cell_type": "code",
   "execution_count": null,
   "id": "d4127d16-7aab-4c45-a2ee-b76df5a647cc",
   "metadata": {},
   "outputs": [],
   "source": []
  },
  {
   "cell_type": "markdown",
   "id": "4a54820d-3793-4eb7-99dd-e12beb10273c",
   "metadata": {},
   "source": [
    "### Utils"
   ]
  },
  {
   "cell_type": "code",
   "execution_count": null,
   "id": "ca7165e6-5d80-4df5-b460-cf1b452f2b53",
   "metadata": {},
   "outputs": [],
   "source": [
    "def print_trainable_parameters(model):\n",
    "    \"\"\"\n",
    "    Prints the number of trainable parameters in the model.\n",
    "    \"\"\"\n",
    "    trainable_params = 0\n",
    "    all_param = 0\n",
    "    for _, param in model.named_parameters():\n",
    "        all_param += param.numel()\n",
    "        if param.requires_grad:\n",
    "            trainable_params += param.numel()\n",
    "    print(\n",
    "        f\"trainable params: {trainable_params} || all params: {all_param} || trainable%: {100 * trainable_params / all_param}\"\n",
    "    )"
   ]
  },
  {
   "cell_type": "code",
   "execution_count": null,
   "id": "9aa855fd-d7cd-4fa9-a787-227fa078763e",
   "metadata": {},
   "outputs": [],
   "source": []
  },
  {
   "cell_type": "markdown",
   "id": "f80920ba-e2a5-4f5c-a284-b9f1153a9d58",
   "metadata": {},
   "source": [
    "## Load model"
   ]
  },
  {
   "cell_type": "code",
   "execution_count": null,
   "id": "97ad7937-b88f-4898-be98-6cf0d8a31ec7",
   "metadata": {},
   "outputs": [],
   "source": []
  },
  {
   "cell_type": "code",
   "execution_count": null,
   "id": "833cf67a-23d3-473a-a3b9-b6333fa114f5",
   "metadata": {},
   "outputs": [],
   "source": [
    "bnb_config = BitsAndBytesConfig(\n",
    "    load_in_4bit=True,\n",
    "    bnb_4bit_quant_type=\"nf4\",\n",
    "    bnb_4bit_compute_dtype=torch.bfloat16,\n",
    "    bnb_4bit_use_double_quant=True,\n",
    ")"
   ]
  },
  {
   "cell_type": "code",
   "execution_count": null,
   "id": "b73b408c-f9e2-496b-bc6e-bdb6c03d5c40",
   "metadata": {},
   "outputs": [
    {
     "name": "stderr",
     "output_type": "stream",
     "text": [
      "/home/rohit/Desktop/rohit/virtualenvs/rohit_transformers/lib/python3.10/site-packages/huggingface_hub/file_download.py:1132: FutureWarning: `resume_download` is deprecated and will be removed in version 1.0.0. Downloads always resume when possible. If you want to force a new download, use `force_download=True`.\n",
      "  warnings.warn(\n",
      "Special tokens have been added in the vocabulary, make sure the associated word embeddings are fine-tuned or trained.\n"
     ]
    }
   ],
   "source": [
    "tokenizer = AutoTokenizer.from_pretrained(curr_cnfg.MODEL_PATH)"
   ]
  },
  {
   "cell_type": "code",
   "execution_count": null,
   "id": "49a6aff4-53e9-424a-926d-7bda4b94fa1d",
   "metadata": {},
   "outputs": [],
   "source": [
    "model_config = AutoConfig.from_pretrained(curr_cnfg.MODEL_PATH)\n",
    "model_config.gradient_checkpointing = True"
   ]
  },
  {
   "cell_type": "code",
   "execution_count": null,
   "id": "4585e24d-6e0e-4bd4-adef-bb7f258114dc",
   "metadata": {},
   "outputs": [
    {
     "data": {
      "text/plain": [
       "LlamaConfig {\n",
       "  \"_name_or_path\": \"deepseek-ai/deepseek-math-7b-rl\",\n",
       "  \"architectures\": [\n",
       "    \"LlamaForCausalLM\"\n",
       "  ],\n",
       "  \"attention_bias\": false,\n",
       "  \"attention_dropout\": 0.0,\n",
       "  \"bos_token_id\": 100000,\n",
       "  \"eos_token_id\": 100001,\n",
       "  \"gradient_checkpointing\": true,\n",
       "  \"hidden_act\": \"silu\",\n",
       "  \"hidden_size\": 4096,\n",
       "  \"initializer_range\": 0.02,\n",
       "  \"intermediate_size\": 11008,\n",
       "  \"max_position_embeddings\": 4096,\n",
       "  \"model_type\": \"llama\",\n",
       "  \"moe_intermediate_size\": 11008,\n",
       "  \"num_attention_heads\": 32,\n",
       "  \"num_hidden_layers\": 30,\n",
       "  \"num_key_value_heads\": 32,\n",
       "  \"pretraining_tp\": 1,\n",
       "  \"rms_norm_eps\": 1e-06,\n",
       "  \"rope_scaling\": null,\n",
       "  \"rope_theta\": 10000,\n",
       "  \"tie_word_embeddings\": false,\n",
       "  \"torch_dtype\": \"bfloat16\",\n",
       "  \"transformers_version\": \"4.40.1\",\n",
       "  \"use_cache\": true,\n",
       "  \"vocab_size\": 102400\n",
       "}"
      ]
     },
     "execution_count": null,
     "metadata": {},
     "output_type": "execute_result"
    }
   ],
   "source": [
    "model_config"
   ]
  },
  {
   "cell_type": "code",
   "execution_count": null,
   "id": "ce903fa4-a8f8-4038-90f2-04a46b60aa00",
   "metadata": {},
   "outputs": [
    {
     "data": {
      "application/vnd.jupyter.widget-view+json": {
       "model_id": "a5e96cf25496417b858e93fc05b95c2b",
       "version_major": 2,
       "version_minor": 0
      },
      "text/plain": [
       "Loading checkpoint shards:   0%|          | 0/2 [00:00<?, ?it/s]"
      ]
     },
     "metadata": {},
     "output_type": "display_data"
    }
   ],
   "source": [
    "model = AutoModelForCausalLM.from_pretrained(\n",
    "    curr_cnfg.MODEL_PATH,\n",
    "    device_map=\"auto\",\n",
    "    torch_dtype=\"auto\",\n",
    "    trust_remote_code=True,\n",
    "    quantization_config=bnb_config,\n",
    "    config=model_config,\n",
    ")"
   ]
  },
  {
   "cell_type": "code",
   "execution_count": null,
   "id": "b045ece5-07dd-4d70-b50a-64ec0ac631dc",
   "metadata": {},
   "outputs": [
    {
     "name": "stdout",
     "output_type": "stream",
     "text": [
      "trainable params: 839110656 || all params: 3874738176 || trainable%: 21.655931778756656\n"
     ]
    }
   ],
   "source": [
    "print_trainable_parameters(model)"
   ]
  },
  {
   "cell_type": "code",
   "execution_count": null,
   "id": "28f15b8b-a1b4-454d-b635-301493a7959a",
   "metadata": {},
   "outputs": [],
   "source": []
  },
  {
   "cell_type": "code",
   "execution_count": null,
   "id": "eda70a18-1b00-4085-a610-328bd36827f6",
   "metadata": {},
   "outputs": [],
   "source": []
  },
  {
   "cell_type": "markdown",
   "id": "6efc74bc-426d-4d14-8fba-e134b98d227c",
   "metadata": {},
   "source": [
    "### Read data"
   ]
  },
  {
   "cell_type": "code",
   "execution_count": null,
   "id": "80a1b29b-3b3e-4294-8344-adcdd5955ae3",
   "metadata": {},
   "outputs": [],
   "source": [
    "data_df = pd.read_csv(f\"{cnfg.ext_comb_pre_processed}\")"
   ]
  },
  {
   "cell_type": "code",
   "execution_count": null,
   "id": "74fa1d3a-6124-4d8b-a4e4-3c7b706c836e",
   "metadata": {},
   "outputs": [],
   "source": [
    "data_df2 = pd.read_csv(f\"{cnfg.base_data_path}aimo_given/train.csv\")"
   ]
  },
  {
   "cell_type": "code",
   "execution_count": null,
   "id": "48a5560f-b7c5-41b2-a090-f823c4589d0a",
   "metadata": {},
   "outputs": [],
   "source": []
  },
  {
   "cell_type": "code",
   "execution_count": null,
   "id": "90ac83a5-5a86-4917-b451-62884624c996",
   "metadata": {},
   "outputs": [
    {
     "data": {
      "text/html": [
       "<div>\n",
       "<style scoped>\n",
       "    .dataframe tbody tr th:only-of-type {\n",
       "        vertical-align: middle;\n",
       "    }\n",
       "\n",
       "    .dataframe tbody tr th {\n",
       "        vertical-align: top;\n",
       "    }\n",
       "\n",
       "    .dataframe thead th {\n",
       "        text-align: right;\n",
       "    }\n",
       "</style>\n",
       "<table border=\"1\" class=\"dataframe\">\n",
       "  <thead>\n",
       "    <tr style=\"text-align: right;\">\n",
       "      <th></th>\n",
       "      <th>problem_id</th>\n",
       "      <th>problem</th>\n",
       "      <th>solution</th>\n",
       "      <th>answer</th>\n",
       "      <th>link</th>\n",
       "      <th>source</th>\n",
       "      <th>level</th>\n",
       "      <th>type</th>\n",
       "      <th>stage</th>\n",
       "      <th>letter</th>\n",
       "    </tr>\n",
       "  </thead>\n",
       "  <tbody>\n",
       "    <tr>\n",
       "      <th>0</th>\n",
       "      <td>4ba30954e5f3ca72748b3e145f45b705</td>\n",
       "      <td>What is the ones digit of \\[222,222-22,222-2,2...</td>\n",
       "      <td>We can rewrite the expression as \\[222,222-(22...</td>\n",
       "      <td>2.00</td>\n",
       "      <td>https://artofproblemsolving.com/wiki/index.php...</td>\n",
       "      <td>AOPS</td>\n",
       "      <td>NaN</td>\n",
       "      <td>NaN</td>\n",
       "      <td>train</td>\n",
       "      <td>B</td>\n",
       "    </tr>\n",
       "    <tr>\n",
       "      <th>1</th>\n",
       "      <td>4ba30954e5f3ca72748b3e145f45b705</td>\n",
       "      <td>What is the ones digit of \\[222,222-22,222-2,2...</td>\n",
       "      <td>222,222-22,222 = 200,000\\n200,000 - 2,222 = 19...</td>\n",
       "      <td>2.00</td>\n",
       "      <td>https://artofproblemsolving.com/wiki/index.php...</td>\n",
       "      <td>AOPS</td>\n",
       "      <td>NaN</td>\n",
       "      <td>NaN</td>\n",
       "      <td>train</td>\n",
       "      <td>B</td>\n",
       "    </tr>\n",
       "    <tr>\n",
       "      <th>2</th>\n",
       "      <td>4ba30954e5f3ca72748b3e145f45b705</td>\n",
       "      <td>What is the ones digit of \\[222,222-22,222-2,2...</td>\n",
       "      <td>We only care about the unit's digits.\\nThus, $...</td>\n",
       "      <td>2.00</td>\n",
       "      <td>https://artofproblemsolving.com/wiki/index.php...</td>\n",
       "      <td>AOPS</td>\n",
       "      <td>NaN</td>\n",
       "      <td>NaN</td>\n",
       "      <td>train</td>\n",
       "      <td>B</td>\n",
       "    </tr>\n",
       "    <tr>\n",
       "      <th>3</th>\n",
       "      <td>4ba30954e5f3ca72748b3e145f45b705</td>\n",
       "      <td>What is the ones digit of \\[222,222-22,222-2,2...</td>\n",
       "      <td>We just take the units digit of each and subtr...</td>\n",
       "      <td>2.00</td>\n",
       "      <td>https://artofproblemsolving.com/wiki/index.php...</td>\n",
       "      <td>AOPS</td>\n",
       "      <td>NaN</td>\n",
       "      <td>NaN</td>\n",
       "      <td>train</td>\n",
       "      <td>B</td>\n",
       "    </tr>\n",
       "    <tr>\n",
       "      <th>4</th>\n",
       "      <td>085955dda8dfb374689b3f216b54d785</td>\n",
       "      <td>What is the value of this expression in decima...</td>\n",
       "      <td>We see that $\\frac{44}{11}$ is $4$ $\\frac{110}...</td>\n",
       "      <td>6.54</td>\n",
       "      <td>https://artofproblemsolving.com/wiki/index.php...</td>\n",
       "      <td>AOPS</td>\n",
       "      <td>NaN</td>\n",
       "      <td>NaN</td>\n",
       "      <td>train</td>\n",
       "      <td>C</td>\n",
       "    </tr>\n",
       "    <tr>\n",
       "      <th>...</th>\n",
       "      <td>...</td>\n",
       "      <td>...</td>\n",
       "      <td>...</td>\n",
       "      <td>...</td>\n",
       "      <td>...</td>\n",
       "      <td>...</td>\n",
       "      <td>...</td>\n",
       "      <td>...</td>\n",
       "      <td>...</td>\n",
       "      <td>...</td>\n",
       "    </tr>\n",
       "    <tr>\n",
       "      <th>27856</th>\n",
       "      <td>19044_GSM8K_test</td>\n",
       "      <td>John had a son James when he was 19.  James is...</td>\n",
       "      <td>Dora is 12-3=&lt;&lt;12-3=9&gt;&gt;9\\nSo James is 9*2=&lt;&lt;9*...</td>\n",
       "      <td>8.00</td>\n",
       "      <td>NaN</td>\n",
       "      <td>GSM8K</td>\n",
       "      <td>NaN</td>\n",
       "      <td>NaN</td>\n",
       "      <td>test</td>\n",
       "      <td>NaN</td>\n",
       "    </tr>\n",
       "    <tr>\n",
       "      <th>27857</th>\n",
       "      <td>19045_GSM8K_test</td>\n",
       "      <td>There are some oranges in a basket. Ana spends...</td>\n",
       "      <td>There are 60 minutes in an hour. Ana peels an ...</td>\n",
       "      <td>5.00</td>\n",
       "      <td>NaN</td>\n",
       "      <td>GSM8K</td>\n",
       "      <td>NaN</td>\n",
       "      <td>NaN</td>\n",
       "      <td>test</td>\n",
       "      <td>NaN</td>\n",
       "    </tr>\n",
       "    <tr>\n",
       "      <th>27858</th>\n",
       "      <td>19046_GSM8K_test</td>\n",
       "      <td>Mark's car breaks down and he needs to get a n...</td>\n",
       "      <td>The discount on the radiator was 400*.8=$&lt;&lt;400...</td>\n",
       "      <td>230.00</td>\n",
       "      <td>NaN</td>\n",
       "      <td>GSM8K</td>\n",
       "      <td>NaN</td>\n",
       "      <td>NaN</td>\n",
       "      <td>test</td>\n",
       "      <td>NaN</td>\n",
       "    </tr>\n",
       "    <tr>\n",
       "      <th>27859</th>\n",
       "      <td>19047_GSM8K_test</td>\n",
       "      <td>Farmer Brown has 20 animals on his farm, all e...</td>\n",
       "      <td>Let C be the number of chickens.\\nThere are 20...</td>\n",
       "      <td>5.00</td>\n",
       "      <td>NaN</td>\n",
       "      <td>GSM8K</td>\n",
       "      <td>NaN</td>\n",
       "      <td>NaN</td>\n",
       "      <td>test</td>\n",
       "      <td>NaN</td>\n",
       "    </tr>\n",
       "    <tr>\n",
       "      <th>27860</th>\n",
       "      <td>19048_GSM8K_test</td>\n",
       "      <td>Henry and 3 of his friends order 7 pizzas for ...</td>\n",
       "      <td>There are 7*8=&lt;&lt;7*8=56&gt;&gt;56 slices in total.\\nT...</td>\n",
       "      <td>14.00</td>\n",
       "      <td>NaN</td>\n",
       "      <td>GSM8K</td>\n",
       "      <td>NaN</td>\n",
       "      <td>NaN</td>\n",
       "      <td>test</td>\n",
       "      <td>NaN</td>\n",
       "    </tr>\n",
       "  </tbody>\n",
       "</table>\n",
       "<p>27861 rows × 10 columns</p>\n",
       "</div>"
      ],
      "text/plain": [
       "                             problem_id  \\\n",
       "0      4ba30954e5f3ca72748b3e145f45b705   \n",
       "1      4ba30954e5f3ca72748b3e145f45b705   \n",
       "2      4ba30954e5f3ca72748b3e145f45b705   \n",
       "3      4ba30954e5f3ca72748b3e145f45b705   \n",
       "4      085955dda8dfb374689b3f216b54d785   \n",
       "...                                 ...   \n",
       "27856                  19044_GSM8K_test   \n",
       "27857                  19045_GSM8K_test   \n",
       "27858                  19046_GSM8K_test   \n",
       "27859                  19047_GSM8K_test   \n",
       "27860                  19048_GSM8K_test   \n",
       "\n",
       "                                                 problem  \\\n",
       "0      What is the ones digit of \\[222,222-22,222-2,2...   \n",
       "1      What is the ones digit of \\[222,222-22,222-2,2...   \n",
       "2      What is the ones digit of \\[222,222-22,222-2,2...   \n",
       "3      What is the ones digit of \\[222,222-22,222-2,2...   \n",
       "4      What is the value of this expression in decima...   \n",
       "...                                                  ...   \n",
       "27856  John had a son James when he was 19.  James is...   \n",
       "27857  There are some oranges in a basket. Ana spends...   \n",
       "27858  Mark's car breaks down and he needs to get a n...   \n",
       "27859  Farmer Brown has 20 animals on his farm, all e...   \n",
       "27860  Henry and 3 of his friends order 7 pizzas for ...   \n",
       "\n",
       "                                                solution  answer  \\\n",
       "0      We can rewrite the expression as \\[222,222-(22...    2.00   \n",
       "1      222,222-22,222 = 200,000\\n200,000 - 2,222 = 19...    2.00   \n",
       "2      We only care about the unit's digits.\\nThus, $...    2.00   \n",
       "3      We just take the units digit of each and subtr...    2.00   \n",
       "4      We see that $\\frac{44}{11}$ is $4$ $\\frac{110}...    6.54   \n",
       "...                                                  ...     ...   \n",
       "27856  Dora is 12-3=<<12-3=9>>9\\nSo James is 9*2=<<9*...    8.00   \n",
       "27857  There are 60 minutes in an hour. Ana peels an ...    5.00   \n",
       "27858  The discount on the radiator was 400*.8=$<<400...  230.00   \n",
       "27859  Let C be the number of chickens.\\nThere are 20...    5.00   \n",
       "27860  There are 7*8=<<7*8=56>>56 slices in total.\\nT...   14.00   \n",
       "\n",
       "                                                    link source level type  \\\n",
       "0      https://artofproblemsolving.com/wiki/index.php...   AOPS   NaN  NaN   \n",
       "1      https://artofproblemsolving.com/wiki/index.php...   AOPS   NaN  NaN   \n",
       "2      https://artofproblemsolving.com/wiki/index.php...   AOPS   NaN  NaN   \n",
       "3      https://artofproblemsolving.com/wiki/index.php...   AOPS   NaN  NaN   \n",
       "4      https://artofproblemsolving.com/wiki/index.php...   AOPS   NaN  NaN   \n",
       "...                                                  ...    ...   ...  ...   \n",
       "27856                                                NaN  GSM8K   NaN  NaN   \n",
       "27857                                                NaN  GSM8K   NaN  NaN   \n",
       "27858                                                NaN  GSM8K   NaN  NaN   \n",
       "27859                                                NaN  GSM8K   NaN  NaN   \n",
       "27860                                                NaN  GSM8K   NaN  NaN   \n",
       "\n",
       "       stage letter  \n",
       "0      train      B  \n",
       "1      train      B  \n",
       "2      train      B  \n",
       "3      train      B  \n",
       "4      train      C  \n",
       "...      ...    ...  \n",
       "27856   test    NaN  \n",
       "27857   test    NaN  \n",
       "27858   test    NaN  \n",
       "27859   test    NaN  \n",
       "27860   test    NaN  \n",
       "\n",
       "[27861 rows x 10 columns]"
      ]
     },
     "execution_count": null,
     "metadata": {},
     "output_type": "execute_result"
    }
   ],
   "source": [
    "data_df"
   ]
  },
  {
   "cell_type": "markdown",
   "id": "d8075c2b-28d8-4f81-adfa-fbe10a4cc919",
   "metadata": {},
   "source": [
    "## Inference Pipeline"
   ]
  },
  {
   "cell_type": "markdown",
   "id": "95d8b5f1-aed2-4ee4-be79-000edcc4b064",
   "metadata": {},
   "source": [
    "#### VLLM"
   ]
  },
  {
   "cell_type": "code",
   "execution_count": null,
   "id": "25ac82fb-e7d9-4ca4-bbda-6ae4a228f657",
   "metadata": {},
   "outputs": [],
   "source": [
    "class InferenceVLLMPipeline:\n",
    "    def __init__(\n",
    "        self,\n",
    "        model: object | None = None,\n",
    "        tokenizer: object | None = None,\n",
    "        stop_words: list[str] | None = None,\n",
    "        model_sampling_params: dict[str, Any] | None = None,\n",
    "        **kwargs,\n",
    "    ) -> None:\n",
    "        self.model = model\n",
    "        self.tokenizer = tokenizer\n",
    "\n",
    "        # Set stop words and fallback\n",
    "        self.stop_words = stop_words\n",
    "        if stop_words is None:\n",
    "            self.stop_words = stop_words or [\n",
    "                (\n",
    "                    tokenizer.eos_token\n",
    "                    if tokenizer is not None and tokenizer.eos_token is not None\n",
    "                    else \"</s>\"\n",
    "                )\n",
    "            ]\n",
    "        self.model_sampling_params = model_sampling_params or {}\n",
    "        self.model_sampling_params[\"stop\"] = self.stop_words\n",
    "\n",
    "    def __call__(\n",
    "        self,\n",
    "        query_prompt: str | list[str],\n",
    "        max_new_tokens: int,\n",
    "        temperature: float,\n",
    "        do_sample: bool = True,\n",
    "        return_full_text: bool = False,\n",
    "        stop_word_overrides: list[str] | None = None,\n",
    "        n_repeats: int = 1,\n",
    "        sampling_kwargs: dict[str, Any] | None = None,\n",
    "        batch_style: str = \"multiply\",\n",
    "        do_cleanup: bool = False,\n",
    "    ):\n",
    "        # batch style is \"multiply\" or \"sampling_param_n\"\n",
    "        # Coerce into batch format\n",
    "        if isinstance(query_prompt, str):\n",
    "            query_prompt = [query_prompt]\n",
    "\n",
    "        # Validate sampling is allowed and if not adjust temperature\n",
    "        temperature = 0.0000001 if not do_sample else temperature\n",
    "\n",
    "        # Get sampling parameters and update with call specific params\n",
    "        sampling_params_kwargs = {**self.model_sampling_params}\n",
    "        sampling_params_kwargs.update(sampling_kwargs or {})\n",
    "        sampling_params_kwargs.update(\n",
    "            {\"temperature\": temperature, \"max_tokens\": max_new_tokens}\n",
    "        )\n",
    "\n",
    "        # Parse input batch\n",
    "        if batch_style == \"multiply\" and len(query_prompt) == 1:\n",
    "            query_prompt = query_prompt * n_repeats\n",
    "        elif batch_style == \"sampling_param_n\":\n",
    "            sampmling_params_kwargs.update({\"n\": n_repeats})\n",
    "\n",
    "        # Finalize sampling params\n",
    "        _sampling_params = SamplingParams(**sampling_params_kwargs)\n",
    "\n",
    "        # Do inference\n",
    "        model_output = model.generate(query_prompt, _sampling_params)\n",
    "\n",
    "        # Parse output\n",
    "        if batch_style == \"multiply\":\n",
    "            model_output = [output.outputs[0].text for output in model_output]\n",
    "        elif batch_style == \"sampling_param_n\":\n",
    "            model_output = [output.text for output in model_output[0].outputs]\n",
    "\n",
    "        # Cleanup\n",
    "        if do_cleanup:\n",
    "            torch.cuda.empty_cache()\n",
    "            gc.collect()\n",
    "\n",
    "        return model_output"
   ]
  },
  {
   "cell_type": "code",
   "execution_count": null,
   "id": "8d7099e6-13d8-4020-8e67-13c4cdcb4ed9",
   "metadata": {},
   "outputs": [],
   "source": [
    "def initialize_vllm_pipeline(\n",
    "    model,\n",
    "    tokenizer,\n",
    "    stop_words: list[str] | None = None,\n",
    "    model_sampling_params: dict[str, Any] | None = None,\n",
    "    **kwargs,\n",
    ") -> InferenceVLLMPipeline:\n",
    "    \"\"\"Artificial pipeline construct so we can mimic the transformers workflow.\n",
    "\n",
    "    Args:\n",
    "        model: The pre-trained model to be used for text generation.\n",
    "        tokenizer: The tokenizer for text preprocessing.\n",
    "\n",
    "    Returns:\n",
    "        InferenceLLMPipeline: A configured pipeline for text generation.\n",
    "    \"\"\"\n",
    "    return InferenceVLLMPipeline(\n",
    "        model=model,\n",
    "        tokenizer=tokenizer,\n",
    "        stop_words=stop_words,\n",
    "        model_sampling_params=model_sampling_params,\n",
    "        **kwargs,\n",
    "    )"
   ]
  },
  {
   "cell_type": "code",
   "execution_count": null,
   "id": "1c60ba05-567f-42cc-ba17-e5a4f9d4e960",
   "metadata": {},
   "outputs": [],
   "source": [
    "def run_vllm_pipeline(\n",
    "    model_pipeline: InferenceVLLMPipeline,\n",
    "    query_prompt: str,\n",
    "    max_new_tokens: int | None = None,\n",
    "    temperature: float = 0.85,\n",
    "    num_repetitions: int = 2,\n",
    "    sampling_kwargs: dict[str, Any] | None = None,\n",
    ") -> list:\n",
    "    \"\"\"Executes the text-generation pipeline multiple times and collects outputs.\n",
    "\n",
    "    Args:\n",
    "        model_pipeline: The initialized text generation pipeline.\n",
    "        query_prompt: Input text for the pipeline.\n",
    "        max_new_tokens: Maximum number of new tokens to generate.\n",
    "        temperature: Controls randomness in output generation.\n",
    "        num_repetitions: Number of times to run the pipeline for each input.\n",
    "\n",
    "    Returns:\n",
    "        A list of outputs from the pipeline.\n",
    "    \"\"\"\n",
    "    try:\n",
    "        model_results = model_pipeline(\n",
    "            query_prompt,\n",
    "            max_new_tokens=max_new_tokens,\n",
    "            temperature=temperature,\n",
    "            n_repeats=num_repetitions,\n",
    "            sampling_kwargs=sampling_kwargs,\n",
    "        )\n",
    "    except Exception as e:\n",
    "        print(f\"Exception occured in `model_pipeline`: {e}\")\n",
    "        model_results = [\n",
    "            \"\",\n",
    "        ] * num_repetitions\n",
    "\n",
    "    return model_results"
   ]
  },
  {
   "cell_type": "markdown",
   "id": "2536283b-9cea-4e66-bdb2-73bca0f9cc73",
   "metadata": {},
   "source": [
    "#### Huggingface"
   ]
  },
  {
   "cell_type": "code",
   "execution_count": null,
   "id": "e143f82c-502b-4183-8592-7b913e7a687e",
   "metadata": {},
   "outputs": [],
   "source": [
    "def initialize_pipeline(model, tokenizer) -> pipeline:\n",
    "    \"\"\"Initializes a pipeline for text generation using the provided model and tokenizer.\n",
    "\n",
    "    Args:\n",
    "        model: The pre-trained model to be used for text generation.\n",
    "        tokenizer: The tokenizer for text preprocessing.\n",
    "\n",
    "    Returns:\n",
    "        pipeline: A configured pipeline for text generation.\n",
    "    \"\"\"\n",
    "    return pipeline(\n",
    "        \"text-generation\",\n",
    "        model=model,\n",
    "        tokenizer=tokenizer,\n",
    "        torch_dtype=\"auto\",\n",
    "        device_map=\"auto\",\n",
    "    )"
   ]
  },
  {
   "cell_type": "code",
   "execution_count": null,
   "id": "30d9d267-34a0-420c-bc74-1a91b59777e7",
   "metadata": {},
   "outputs": [],
   "source": [
    "def run_pipeline(\n",
    "    model_pipeline: Callable,\n",
    "    query_prompt: str,\n",
    "    max_new_tokens: int = 2048,\n",
    "    temperature: float = 0.85,\n",
    "    num_repetitions: int = 2,\n",
    ") -> list:\n",
    "    \"\"\"Executes the text-generation pipeline multiple times and collects outputs.\n",
    "\n",
    "    Args:\n",
    "        model_pipeline: The initialized text generation pipeline.\n",
    "        query_prompt: Input text for the pipeline.\n",
    "        max_new_tokens: Maximum number of new tokens to generate.\n",
    "        temperature: Controls randomness in output generation.\n",
    "        num_repetitions: Number of times to run the pipeline for each input.\n",
    "\n",
    "    Returns:\n",
    "        A list of outputs from the pipeline.\n",
    "    \"\"\"\n",
    "\n",
    "    # Initialize the empty results list for this particular query prompt\n",
    "    results = []\n",
    "\n",
    "    # For N repetitions we will repeatedly attempt the problem.\n",
    "    for _ in tqdm(range(num_repetitions)):\n",
    "        try:\n",
    "            raw_output = model_pipeline(\n",
    "                query_prompt,\n",
    "                max_new_tokens=max_new_tokens,\n",
    "                do_sample=True,\n",
    "                temperature=temperature,\n",
    "                return_full_text=False,\n",
    "            )\n",
    "            results.append(raw_output[0][\"generated_text\"])\n",
    "            torch.cuda.empty_cache()\n",
    "            gc.collect()\n",
    "        except Exception as e:\n",
    "            print(f\"Exception occured in `model_pipeline`: {e}\")\n",
    "            results.append(None)\n",
    "    return results"
   ]
  },
  {
   "cell_type": "code",
   "execution_count": null,
   "id": "e69a87e2-3c6e-447f-95f3-710db3abf7f1",
   "metadata": {},
   "outputs": [],
   "source": []
  },
  {
   "cell_type": "code",
   "execution_count": null,
   "id": "f270e4fd-e234-4c10-8cce-4b1294b8a756",
   "metadata": {},
   "outputs": [],
   "source": []
  },
  {
   "cell_type": "markdown",
   "id": "cc3b668b-db55-4424-9922-cb504c7a6487",
   "metadata": {},
   "source": [
    "### Promt Engineering"
   ]
  },
  {
   "cell_type": "code",
   "execution_count": null,
   "id": "6cd978e3-2245-4b28-8588-945ec2d7eca6",
   "metadata": {},
   "outputs": [],
   "source": []
  },
  {
   "cell_type": "code",
   "execution_count": null,
   "id": "0762655b-3b7f-4fb9-8940-bbfac0ffc59b",
   "metadata": {},
   "outputs": [],
   "source": [
    "# def get_prediction_from_prompt(prompt):\n",
    "#     input_ = tokenizer(prompt, return_tensors=\"pt\")\n",
    "\n",
    "#     outputs = model.generate(\n",
    "#         input_ids=input_.input_ids,\n",
    "#         attention_mask=input_.attention_mask,\n",
    "#         max_new_tokens=150,\n",
    "#     )\n",
    "#     resp = tokenizer.decode(outputs[0], skip_special_tokens=True)\n",
    "#     return resp"
   ]
  },
  {
   "cell_type": "code",
   "execution_count": null,
   "id": "4aed3d22-c7f5-4a7f-ae30-b3768442cd56",
   "metadata": {},
   "outputs": [],
   "source": []
  },
  {
   "cell_type": "code",
   "execution_count": null,
   "id": "25a9a2be-7be0-43b7-9455-c131541ec9a3",
   "metadata": {},
   "outputs": [],
   "source": [
    "# cot = \"\"\"Below is a math problem you are to solve (positive numerical answer!):\n",
    "# \\\"{}\\\"\n",
    "# Analyze this problem and think step by step to come to a solution with programs. After solving the problem, output the final numerical answer within \\\\boxed{}.\\n\\n\"\"\""
   ]
  },
  {
   "cell_type": "code",
   "execution_count": null,
   "id": "274433fe-0916-4134-bac8-27d7d98a3145",
   "metadata": {},
   "outputs": [],
   "source": []
  },
  {
   "cell_type": "code",
   "execution_count": null,
   "id": "66a69daf-329c-49e5-816e-a8d625d696c7",
   "metadata": {},
   "outputs": [],
   "source": [
    "# problem = data_df.iloc[0].problem"
   ]
  },
  {
   "cell_type": "code",
   "execution_count": null,
   "id": "23c3133c-25ea-4f0c-bfc4-9968fb1cbc35",
   "metadata": {},
   "outputs": [],
   "source": [
    "# problem"
   ]
  },
  {
   "cell_type": "code",
   "execution_count": null,
   "id": "03bf8ae1-84c5-427f-b09f-04153f2f5a57",
   "metadata": {},
   "outputs": [],
   "source": []
  },
  {
   "cell_type": "code",
   "execution_count": null,
   "id": "281810e0-6e40-4942-9fe5-3bed387ccf4a",
   "metadata": {},
   "outputs": [],
   "source": [
    "# prompt = cot.format(problem, \"{}\")"
   ]
  },
  {
   "cell_type": "code",
   "execution_count": null,
   "id": "777a53fa-08a7-4bfc-99da-aab405e7e654",
   "metadata": {},
   "outputs": [],
   "source": [
    "# answer = get_prediction_from_prompt(prompt)"
   ]
  },
  {
   "cell_type": "code",
   "execution_count": null,
   "id": "5138d5fa-9226-48e3-b17e-01fe1d947444",
   "metadata": {},
   "outputs": [],
   "source": []
  },
  {
   "cell_type": "code",
   "execution_count": null,
   "id": "ef72ed6e-f97f-45f0-aa6d-eceb18cbfea9",
   "metadata": {},
   "outputs": [],
   "source": [
    "def prepare_problem_statement(\n",
    "    problem: str,\n",
    "    tool_instruction: str | None = None,\n",
    "    tokenizer: Any = None,\n",
    "    apply_chat_template: bool = True,\n",
    "    use_simple: bool = False,\n",
    ") -> str:\n",
    "    \"\"\"Prepares the complete problem statement by appending the tool instruction to the problem text.\n",
    "\n",
    "    Args:\n",
    "        problem (str):\n",
    "            The original problem text.\n",
    "        tool_instruction (str):\n",
    "            Additional instructions or information to append to the problem.\n",
    "        tokenizer ():\n",
    "            The huggingface tokenizer\n",
    "        apply_chat_template (bool, optional):\n",
    "            Whether to apply the HF prompt template (requires )\n",
    "            If no tokenizer is provided apply_chat_template will not work.\n",
    "        use_simple (bool, optional):\n",
    "            Whether to do 0 prompt engineering.\n",
    "\n",
    "\n",
    "\n",
    "    Returns:\n",
    "        A complete problem statement ready for processing.\n",
    "    \"\"\"\n",
    "    if not use_simple and tool_instruction is not None:\n",
    "        prompt_str = (\n",
    "            tool_instruction\n",
    "            + f\"\\nQUESTION:\\n{problem}\\n\\nYou must write out the logical solution in a step by step fashion before you write any python code to solve the problem.\\n\\nSOLUTION:\\n\"\n",
    "        )\n",
    "    else:\n",
    "        prompt_str = (\n",
    "            problem\n",
    "            + \"\\nPlease integrate natural language reasoning with programs to solve the problem above, and put your final answer within \\\\boxed{}.\"\n",
    "        )\n",
    "\n",
    "        #         cot = \"\"\"Below is a math problem you are to solve (positive numerical answer!):\n",
    "        # \\\"{}\\\"\n",
    "        # Analyze this problem and think step by step to come to a solution. Do not use program. After solving the problem, output the final numerical answer within \\\\boxed{}.\\n\\n\"\"\"\n",
    "    #         cot = \"\"\"Below is a math problem you are to solve (positive numerical answer!):\n",
    "    # \\\"{}\\\"\n",
    "    # Analyze this problem and think step by step to come to a solution with program. After solving the problem, output the final numerical answer within \\\\boxed{}.\\n\\n\"\"\"\n",
    "    #         prompt_str = cot.format(problem, \"{}\")\n",
    "\n",
    "    if apply_chat_template:\n",
    "        return tokenizer.apply_chat_template(\n",
    "            [{\"role\": \"user\", \"content\": prompt_str}], tokenize=False\n",
    "        )\n",
    "    else:\n",
    "        return prompt_str"
   ]
  },
  {
   "cell_type": "code",
   "execution_count": null,
   "id": "ce2f22c0-d5e4-4cc4-b32c-7caf9934115c",
   "metadata": {},
   "outputs": [],
   "source": [
    "def naive_parse(answer: str) -> str:\n",
    "    \"\"\"Extracts the last contiguous sequence of digits from a given string.\n",
    "\n",
    "    This function is based on the function that is floating around in the top scoring code notebooks.\n",
    "    I'm not sure who the original author was... but once I know I will attribute accordingly.\n",
    "\n",
    "    Args:\n",
    "        answer: A string from which to extract the digit sequence.\n",
    "\n",
    "    Returns:\n",
    "        A string containing the last sequence of digits found in the input string.\n",
    "        Returns an empty string if no digits are found.\n",
    "\n",
    "    Examples:\n",
    "        naive_parse(\"example123test456\") returns \"456\"\n",
    "        naive_parse(\"no digits here!\") returns \"\"\n",
    "    \"\"\"\n",
    "    last_digits = \"\"\n",
    "    found_digit = False\n",
    "\n",
    "    for char in reversed(answer):\n",
    "        if char.isdigit():\n",
    "            last_digits += char\n",
    "            found_digit = True\n",
    "        elif found_digit:\n",
    "            # Break the loop once the first non-digit is found after finding digits\n",
    "            break\n",
    "\n",
    "    # Reverse to correct the order of digits\n",
    "    return last_digits[::-1]"
   ]
  },
  {
   "cell_type": "code",
   "execution_count": null,
   "id": "cc52bc7f-9bc9-428a-bc05-6df3ed763671",
   "metadata": {},
   "outputs": [],
   "source": [
    "def execute_code(\n",
    "    code: str,\n",
    "    timeout_seconds: int = 7,\n",
    "    filename: str = \"code_to_execute.py\",\n",
    "    modulo: int = 1000,\n",
    "    sympy_star_import: bool = True,\n",
    ") -> int:\n",
    "    \"\"\"Executes the given Python code snippet and processes the output.\n",
    "\n",
    "    Args:\n",
    "        code: The Python code to execute.\n",
    "        timeout_seconds: Maximum allowed time for code execution in seconds.\n",
    "        filename: The filename to which the code will be written before execution.\n",
    "        modulo: The modulo value to use for processing the output.\n",
    "        sympy_star_import: Whether to always import everything from sympy\n",
    "\n",
    "    Returns:\n",
    "        An integer result derived from the execution output or -1 if an error occurs.\n",
    "    \"\"\"\n",
    "    try:\n",
    "        with open(filename, \"w\") as fout:\n",
    "            fout.write(\n",
    "                code if not sympy_star_import else \"from sympy import *\\n\" + code\n",
    "            )\n",
    "\n",
    "        batcmd = f\"timeout {timeout_seconds} {sys.executable} {filename}\"\n",
    "        shell_output = subprocess.check_output(batcmd, shell=True).decode(\"utf8\")\n",
    "        return postprocess_final_answer(shell_output, modulo)\n",
    "    except Exception as e:\n",
    "        print(f\"Exception occured in `execute_code`: {e}\")\n",
    "        return -1"
   ]
  },
  {
   "cell_type": "code",
   "execution_count": null,
   "id": "34720b85-248b-40cc-8de7-956fcf7fc413",
   "metadata": {},
   "outputs": [],
   "source": [
    "def postprocess_final_answer(expression: str, modulo: int = 1000) -> int:\n",
    "    \"\"\"Postprocesses the final answer by returning the rounded/modulod value.\n",
    "\n",
    "    Args:\n",
    "        expression: The mathematical expression to evaluate as a string. (raw final answer)\n",
    "        modulo: The modulo value to use in the calculation.\n",
    "\n",
    "    Returns:\n",
    "        An integer result of the evaluated expression modulo the specified value.\n",
    "    \"\"\"\n",
    "    try:\n",
    "        result = round(float(eval(expression)))\n",
    "        return result % modulo\n",
    "    except Exception as e:\n",
    "        print(f\"Exception occured in `postprocess_final_answer`: {e}\")\n",
    "        return -1"
   ]
  },
  {
   "cell_type": "code",
   "execution_count": null,
   "id": "49a291ba-d220-460c-bee7-35d6aa224473",
   "metadata": {},
   "outputs": [],
   "source": [
    "def extract_and_process_math(result: str, modulo: int = 1000) -> int:\n",
    "    \"\"\"Extracts and evaluates the mathematical expression from the given string.\n",
    "\n",
    "    Args:\n",
    "        result: The string containing the expression in a LaTeX-like \\\\boxed{} format.\n",
    "        modulo: The modulo value to use for the final result.\n",
    "\n",
    "    Returns:\n",
    "        An integer result of the evaluated expression or -1 if an error occurs.\n",
    "    \"\"\"\n",
    "    try:\n",
    "        result_output = re.findall(r\"\\\\boxed\\{(.*)\\}\", result)\n",
    "        # print(f\"Found pattern for search in box: {result_output}\")\n",
    "        if result_output:\n",
    "            expression = result_output[-1]\n",
    "        else:\n",
    "            expression = naive_parse(result)\n",
    "\n",
    "        if expression:\n",
    "            return postprocess_final_answer(expression, modulo)\n",
    "        return -1\n",
    "    except Exception as e:\n",
    "        print(f\"Exception occured in `extract_and_process_math`: {e}\")\n",
    "        return -1"
   ]
  },
  {
   "cell_type": "code",
   "execution_count": null,
   "id": "98319b55-53de-44a7-b5ea-6f7031a919a2",
   "metadata": {},
   "outputs": [],
   "source": [
    "def process_output(\n",
    "    output: str,\n",
    "    timeout_seconds: int = 7,\n",
    "    filename: str = \"code_to_execute.py\",\n",
    "    modulo: int = 1000,\n",
    ") -> tuple:\n",
    "    \"\"\"Processes the provided output string to execute contained code and extract mathematical results.\n",
    "\n",
    "    Args:\n",
    "        output: The string that may contain Python code in triple backticks and/or a mathematical expression in \\\\boxed{}.\n",
    "        timeout_seconds: Maximum allowed time for code execution in seconds.\n",
    "        filename: The filename for saving and executing the Python code.\n",
    "        modulo: The modulo value to use for processing the outputs.\n",
    "\n",
    "    Returns:\n",
    "        A tuple (result_output, code_output) where each is an integer result of the processing or -1 if an error occurs.\n",
    "    \"\"\"\n",
    "    code_output = -1\n",
    "    result_output = -1\n",
    "\n",
    "    # Extract and execute code from output\n",
    "    code_pattern = re.compile(r\"```(?:\\S*?\\n)?(.*?)```\", re.DOTALL)\n",
    "    code_match = code_pattern.search(output)\n",
    "    # print(f\"Code Match: {code_match}\")\n",
    "    if code_match:\n",
    "        code = code_match.group(1)\n",
    "        # print(f\"\\n=========== Found Code:{code} ===========\")\n",
    "        code_output = execute_code(code, timeout_seconds, filename, modulo)\n",
    "        # print(\"CODE RESULTS\", code_output)\n",
    "\n",
    "    # Extract and process mathematical result\n",
    "    result_output = extract_and_process_math(output, modulo)\n",
    "    # print(\"BOXED\", result_output)\n",
    "\n",
    "    return result_output, code_output"
   ]
  },
  {
   "cell_type": "code",
   "execution_count": null,
   "id": "55e8a935-4b74-4082-b881-eeacc4b91bec",
   "metadata": {},
   "outputs": [],
   "source": [
    "def aggregate_results(\n",
    "    code_results: Iterable,\n",
    "    boxed_results: Iterable,\n",
    "    boxed_copies_over_code_fail: bool = True,\n",
    "    use_code_and_boxed: bool = False,\n",
    ") -> int:\n",
    "    \"\"\"Aggregates the outputs, resolves errors, and determines the most common valid output.\n",
    "\n",
    "    Args:\n",
    "        code_results: List of code outputs.\n",
    "        boxed_results: List of mathematical result outputs.\n",
    "        boxed_copies_over_code_fail: Whether the non-error boxed results will copy over the failed code results\n",
    "        use_code_and_boxed: Whether to aggregate results from both code and boxed results initially\n",
    "\n",
    "    Returns:\n",
    "        The most common valid output among the provided answers or -1 if none are valid.\n",
    "    \"\"\"\n",
    "    # So we can pop\n",
    "    code_results, boxed_results = list(code_results), list(boxed_results)\n",
    "    if all(x < 0 for x in code_results):\n",
    "        boxed_copies_over_code_fail = True\n",
    "\n",
    "    # Get the results array\n",
    "    if boxed_copies_over_code_fail and not use_code_and_boxed:\n",
    "        results = []\n",
    "        for i in range(len(code_results) - 1, -1, -1):\n",
    "            if code_results[i] > 0:\n",
    "                results.append(code_results[i])\n",
    "            else:\n",
    "                code_results.pop(i)\n",
    "                results.append(boxed_results.pop(i))\n",
    "        results = results[::-1]\n",
    "    elif not boxed_copies_over_code_fail and not use_code_and_boxed:\n",
    "        results = code_results\n",
    "    else:\n",
    "        results = code_results + boxed_results\n",
    "    results = np.array(results)\n",
    "\n",
    "    # Handle negatives as invalid results and handle negatives in boxed_results if needed\n",
    "    results = np.where(results < 0, -1, results)\n",
    "    boxed_results = np.where(np.array(boxed_results) < 0, -1, np.array(boxed_results))\n",
    "\n",
    "    # Get most common\n",
    "    most_common_results_w_counts = [\n",
    "        x for x in Counter(results).most_common() if x[0] != -1\n",
    "    ]\n",
    "    if len(most_common_results_w_counts) == 0:\n",
    "        return 1\n",
    "    elif len(most_common_results_w_counts) == 1:\n",
    "        return int(abs(most_common_results_w_counts[0][0]))\n",
    "    if (\n",
    "        most_common_results_w_counts[0][1] == most_common_results_w_counts[1][1]\n",
    "        and not use_code_and_boxed\n",
    "    ):\n",
    "        most_common_results_w_counts = [\n",
    "            x\n",
    "            for x in Counter(\n",
    "                np.concatenate(\n",
    "                    (\n",
    "                        results,\n",
    "                        results,\n",
    "                        results,\n",
    "                        results,\n",
    "                        results,\n",
    "                        results,\n",
    "                        results,\n",
    "                        boxed_results,\n",
    "                    )\n",
    "                )\n",
    "            ).most_common()\n",
    "            if x[0] != -1\n",
    "        ]\n",
    "    return int(abs(most_common_results_w_counts[0][0]))"
   ]
  },
  {
   "cell_type": "code",
   "execution_count": null,
   "id": "5c8db8a1-c34f-4cc1-813d-cf38e6019fcf",
   "metadata": {},
   "outputs": [],
   "source": []
  },
  {
   "cell_type": "code",
   "execution_count": null,
   "id": "05309528-75b9-4a2b-b4d8-42b5f3627701",
   "metadata": {},
   "outputs": [],
   "source": []
  },
  {
   "cell_type": "code",
   "execution_count": null,
   "id": "902a816a-055c-49bc-8b21-bf805d33fd48",
   "metadata": {},
   "outputs": [],
   "source": []
  },
  {
   "cell_type": "code",
   "execution_count": null,
   "id": "39655aae-5dae-4483-ab23-a4c31ceb989f",
   "metadata": {},
   "outputs": [],
   "source": []
  },
  {
   "cell_type": "code",
   "execution_count": null,
   "id": "5efec72c-cfb0-453f-80fa-575ad90eb543",
   "metadata": {},
   "outputs": [],
   "source": [
    "# text_gen_pipeline = initialize_vllm_pipeline(\n",
    "#     model, tokenizer, model_sampling_params=curr_cnfg.OTHER_SAMPLING_KWARGS\n",
    "# )\n",
    "\n",
    "text_gen_pipeline = initialize_pipeline(model, tokenizer)"
   ]
  },
  {
   "cell_type": "code",
   "execution_count": null,
   "id": "2fd70d3b-d3a8-4312-90a0-385d4964db19",
   "metadata": {},
   "outputs": [],
   "source": []
  },
  {
   "cell_type": "code",
   "execution_count": null,
   "id": "894c5621-1598-4b31-bf9e-85630a415fce",
   "metadata": {},
   "outputs": [],
   "source": [
    "# tmp = data_df.iloc[101]\n",
    "# problem = tmp.problem\n",
    "# solution = tmp.solution\n",
    "# print(problem)\n",
    "# print(solution)"
   ]
  },
  {
   "cell_type": "code",
   "execution_count": null,
   "id": "a8757bba-596a-4d30-bae5-1807f2322c08",
   "metadata": {},
   "outputs": [
    {
     "name": "stdout",
     "output_type": "stream",
     "text": [
      "The points $\\left(x, y\\right)$ satisfying $((\\vert x + y \\vert - 10)^2 + ( \\vert x - y \\vert - 10)^2)((\\vert x \\vert - 8)^2 + ( \\vert y \\vert - 8)^2) = 0$ enclose a convex polygon. What is the area of this convex polygon?\n",
      "320\n"
     ]
    }
   ],
   "source": [
    "tmp = data_df2.iloc[7]\n",
    "problem = tmp.problem\n",
    "solution = tmp.answer\n",
    "print(problem)\n",
    "print(solution)"
   ]
  },
  {
   "cell_type": "code",
   "execution_count": null,
   "id": "ae4cd12f-8cff-4eba-8a88-130d06eb2c30",
   "metadata": {},
   "outputs": [],
   "source": []
  },
  {
   "cell_type": "code",
   "execution_count": null,
   "id": "efe51aa1-5661-4acb-9f4f-dd5039f58c03",
   "metadata": {},
   "outputs": [],
   "source": [
    "TOOL_INSTRUCTIONS = None"
   ]
  },
  {
   "cell_type": "code",
   "execution_count": null,
   "id": "700d5361-bc7e-472e-8bc2-fcf11d9a398d",
   "metadata": {},
   "outputs": [],
   "source": [
    "# prompt = prepare_problem_statement(\n",
    "#     problem,\n",
    "#     tool_instruction=TOOL_INSTRUCTIONS,\n",
    "#     tokenizer=None,\n",
    "#     apply_chat_template=None,\n",
    "# )\n",
    "# print(prompt)"
   ]
  },
  {
   "cell_type": "code",
   "execution_count": null,
   "id": "49d6fdb9-d05e-4469-9ca9-264cb90021d5",
   "metadata": {},
   "outputs": [
    {
     "name": "stdout",
     "output_type": "stream",
     "text": [
      "<｜begin▁of▁sentence｜>User: Below is a math problem you are to solve (positive numerical answer!):\n",
      "\"The points $\\left(x, y\\right)$ satisfying $((\\vert x + y \\vert - 10)^2 + ( \\vert x - y \\vert - 10)^2)((\\vert x \\vert - 8)^2 + ( \\vert y \\vert - 8)^2) = 0$ enclose a convex polygon. What is the area of this convex polygon?\"\n",
      "Analyze this problem and think step by step to come to a solution. Do not use program. After solving the problem, output the final numerical answer within \\boxed{}.\n",
      "\n",
      "\n",
      "\n",
      "\n"
     ]
    }
   ],
   "source": [
    "prompt = prepare_problem_statement(\n",
    "    problem,\n",
    "    tool_instruction=TOOL_INSTRUCTIONS,\n",
    "    tokenizer=tokenizer,\n",
    "    apply_chat_template=True,\n",
    ")\n",
    "print(prompt)"
   ]
  },
  {
   "cell_type": "code",
   "execution_count": null,
   "id": "f7f31924-75c9-4821-9e92-56cf18c2f8c2",
   "metadata": {},
   "outputs": [],
   "source": [
    "# # answer = get_prediction_from_prompt(prompt)\n",
    "# results = run_vllm_pipeline(\n",
    "#     model_pipeline=text_gen_pipeline,\n",
    "#     query_prompt=prompt,\n",
    "#     num_repetitions=curr_cnfg.N_REPETITIONS,\n",
    "#     temperature=curr_cnfg.TEMPERATURE,\n",
    "#     max_new_tokens=curr_cnfg.MAX_NEW_TOKENS,\n",
    "# )"
   ]
  },
  {
   "cell_type": "code",
   "execution_count": null,
   "id": "63af4881-40c8-4d80-b8f9-dc680ba7bb3f",
   "metadata": {},
   "outputs": [
    {
     "data": {
      "application/vnd.jupyter.widget-view+json": {
       "model_id": "5c7b41002f2b4a98a63f1415ead559ff",
       "version_major": 2,
       "version_minor": 0
      },
      "text/plain": [
       "  0%|          | 0/7 [00:00<?, ?it/s]"
      ]
     },
     "metadata": {},
     "output_type": "display_data"
    },
    {
     "name": "stderr",
     "output_type": "stream",
     "text": [
      "Setting `pad_token_id` to `eos_token_id`:100001 for open-end generation.\n",
      "Setting `pad_token_id` to `eos_token_id`:100001 for open-end generation.\n",
      "Setting `pad_token_id` to `eos_token_id`:100001 for open-end generation.\n",
      "Setting `pad_token_id` to `eos_token_id`:100001 for open-end generation.\n",
      "Setting `pad_token_id` to `eos_token_id`:100001 for open-end generation.\n",
      "Setting `pad_token_id` to `eos_token_id`:100001 for open-end generation.\n",
      "Setting `pad_token_id` to `eos_token_id`:100001 for open-end generation.\n"
     ]
    }
   ],
   "source": [
    "results = run_pipeline(\n",
    "    model_pipeline=text_gen_pipeline,\n",
    "    query_prompt=prompt,\n",
    "    num_repetitions=curr_cnfg.N_REPETITIONS,\n",
    "    temperature=curr_cnfg.TEMPERATURE,\n",
    "    max_new_tokens=curr_cnfg.MAX_NEW_TOKENS,\n",
    ")"
   ]
  },
  {
   "cell_type": "code",
   "execution_count": null,
   "id": "cde64f3b-7e53-4801-a906-d6452c0db7b3",
   "metadata": {},
   "outputs": [],
   "source": [
    "# results"
   ]
  },
  {
   "cell_type": "code",
   "execution_count": null,
   "id": "4510c102-6a4b-463c-8e7e-e1af345e3474",
   "metadata": {},
   "outputs": [],
   "source": [
    "processed_demo_results = [\n",
    "    process_output(demo_result) for demo_result in results if demo_result\n",
    "]\n",
    "demo_boxed_results, demo_code_results = (\n",
    "    zip(*processed_demo_results) if processed_demo_results else ([], [])\n",
    ")\n",
    "demo_final_answer = aggregate_results(\n",
    "    demo_code_results, demo_boxed_results, boxed_copies_over_code_fail=True\n",
    ")"
   ]
  },
  {
   "cell_type": "code",
   "execution_count": null,
   "id": "cc63f5ec-eaea-43dd-a7dd-8dad7d3dbb92",
   "metadata": {},
   "outputs": [
    {
     "name": "stdout",
     "output_type": "stream",
     "text": [
      "\n",
      "... RAW CODE RESULTS        : (-1, -1, -1, -1, -1, -1, -1)\n",
      "... RAW BOXED RESULTS       : (200, 320, 164, 100, 256, 100, 400)\n",
      "... AGGREGATED FINAL RESULT : 100\n",
      "\n",
      "\n"
     ]
    }
   ],
   "source": [
    "print(f\"\\n... RAW CODE RESULTS        : {demo_code_results}\")\n",
    "print(f\"... RAW BOXED RESULTS       : {demo_boxed_results}\")\n",
    "print(f\"... AGGREGATED FINAL RESULT : {demo_final_answer}\\n\\n\")"
   ]
  },
  {
   "cell_type": "code",
   "execution_count": null,
   "id": "acf37cf5-26c9-4cd4-bc53-118575563e1b",
   "metadata": {},
   "outputs": [],
   "source": [
    "# answer"
   ]
  },
  {
   "cell_type": "code",
   "execution_count": null,
   "id": "1ce35208-74df-4f40-b943-d981e55b8a39",
   "metadata": {},
   "outputs": [],
   "source": [
    "# process_output(answer)"
   ]
  },
  {
   "cell_type": "markdown",
   "id": "e9b92a1e-4d13-403c-94f5-8d9336394c1b",
   "metadata": {},
   "source": [
    "### Val Pipeline"
   ]
  },
  {
   "cell_type": "code",
   "execution_count": null,
   "id": "aa70b5fb-18a6-48c2-bef2-f06435a3c334",
   "metadata": {},
   "outputs": [],
   "source": [
    "def run_on_df(df):\n",
    "    df = df.copy()\n",
    "    for i, row in df.iterrows():\n",
    "        print(f\"\\n =========== Problem {i+1} ============\")\n",
    "        problem = row.problem\n",
    "        solution = row.answer\n",
    "        print(f\"\\n Problem: {problem} \")\n",
    "        print(f\"\\nAnswer: {solution}\")\n",
    "\n",
    "        prompt = prepare_problem_statement(\n",
    "            problem,\n",
    "            tool_instruction=TOOL_INSTRUCTIONS,\n",
    "            tokenizer=tokenizer,\n",
    "            apply_chat_template=True,\n",
    "        )\n",
    "        print(f\"\\n Prompt: {prompt} \")\n",
    "\n",
    "        results = run_pipeline(\n",
    "            model_pipeline=text_gen_pipeline,\n",
    "            query_prompt=prompt,\n",
    "            num_repetitions=curr_cnfg.N_REPETITIONS,\n",
    "            temperature=curr_cnfg.TEMPERATURE,\n",
    "            max_new_tokens=curr_cnfg.MAX_NEW_TOKENS,\n",
    "        )\n",
    "\n",
    "        processed_demo_results = [\n",
    "            process_output(demo_result) for demo_result in results if demo_result\n",
    "        ]\n",
    "        demo_boxed_results, demo_code_results = (\n",
    "            zip(*processed_demo_results) if processed_demo_results else ([], [])\n",
    "        )\n",
    "        demo_final_answer = aggregate_results(\n",
    "            demo_code_results, demo_boxed_results, boxed_copies_over_code_fail=True\n",
    "        )\n",
    "        print(f\"\\n... RAW CODE RESULTS        : {demo_code_results}\")\n",
    "        print(f\"... RAW BOXED RESULTS       : {demo_boxed_results}\")\n",
    "        print(f\"... AGGREGATED FINAL RESULT : {demo_final_answer}\\n\\n\")\n",
    "        df[\"pred\"] = demo_final_answer\n",
    "\n",
    "    return df"
   ]
  },
  {
   "cell_type": "code",
   "execution_count": null,
   "id": "aca46b13-7bc0-40c9-9b83-e195ec031258",
   "metadata": {},
   "outputs": [
    {
     "name": "stdout",
     "output_type": "stream",
     "text": [
      "\n",
      " =========== Problem 1 ============\n",
      "\n",
      " Problem: Let $k, l > 0$ be parameters. The parabola $y = kx^2 - 2kx + l$ intersects the line $y = 4$ at two points $A$ and $B$. These points are distance 6 apart. What is the sum of the squares of the distances from $A$ and $B$ to the origin? \n",
      "\n",
      "Answer: 52\n",
      "\n",
      " Prompt: <｜begin▁of▁sentence｜>User: Let $k, l > 0$ be parameters. The parabola $y = kx^2 - 2kx + l$ intersects the line $y = 4$ at two points $A$ and $B$. These points are distance 6 apart. What is the sum of the squares of the distances from $A$ and $B$ to the origin?\n",
      "Please integrate natural language reasoning with programs to solve the problem above, and put your final answer within \\boxed{}.\n",
      "\n",
      " \n"
     ]
    },
    {
     "data": {
      "application/vnd.jupyter.widget-view+json": {
       "model_id": "04ca584a87834d16a0039cd909d4198c",
       "version_major": 2,
       "version_minor": 0
      },
      "text/plain": [
       "  0%|          | 0/20 [00:00<?, ?it/s]"
      ]
     },
     "metadata": {},
     "output_type": "display_data"
    },
    {
     "name": "stderr",
     "output_type": "stream",
     "text": [
      "Setting `pad_token_id` to `eos_token_id`:100001 for open-end generation.\n",
      "Setting `pad_token_id` to `eos_token_id`:100001 for open-end generation.\n",
      "Setting `pad_token_id` to `eos_token_id`:100001 for open-end generation.\n",
      "Setting `pad_token_id` to `eos_token_id`:100001 for open-end generation.\n",
      "Setting `pad_token_id` to `eos_token_id`:100001 for open-end generation.\n",
      "Setting `pad_token_id` to `eos_token_id`:100001 for open-end generation.\n",
      "Setting `pad_token_id` to `eos_token_id`:100001 for open-end generation.\n",
      "Setting `pad_token_id` to `eos_token_id`:100001 for open-end generation.\n",
      "Setting `pad_token_id` to `eos_token_id`:100001 for open-end generation.\n",
      "Setting `pad_token_id` to `eos_token_id`:100001 for open-end generation.\n",
      "Setting `pad_token_id` to `eos_token_id`:100001 for open-end generation.\n",
      "Setting `pad_token_id` to `eos_token_id`:100001 for open-end generation.\n",
      "Setting `pad_token_id` to `eos_token_id`:100001 for open-end generation.\n",
      "Setting `pad_token_id` to `eos_token_id`:100001 for open-end generation.\n",
      "Setting `pad_token_id` to `eos_token_id`:100001 for open-end generation.\n",
      "Setting `pad_token_id` to `eos_token_id`:100001 for open-end generation.\n",
      "Setting `pad_token_id` to `eos_token_id`:100001 for open-end generation.\n",
      "Setting `pad_token_id` to `eos_token_id`:100001 for open-end generation.\n",
      "Setting `pad_token_id` to `eos_token_id`:100001 for open-end generation.\n",
      "Setting `pad_token_id` to `eos_token_id`:100001 for open-end generation.\n"
     ]
    },
    {
     "name": "stdout",
     "output_type": "stream",
     "text": [
      "Exception occured in `postprocess_final_answer`: name 'sqrt' is not defined\n",
      "Exception occured in `postprocess_final_answer`: name 'k' is not defined\n"
     ]
    },
    {
     "name": "stderr",
     "output_type": "stream",
     "text": [
      "Traceback (most recent call last):\n",
      "  File \"/home/rohit/Desktop/rohit/kaggle_llm/aimo/code_to_execute.py\", line 32, in <module>\n",
      "    result = sum_of_squares()\n",
      "  File \"/home/rohit/Desktop/rohit/kaggle_llm/aimo/code_to_execute.py\", line 19, in sum_of_squares\n",
      "    solutions = solveset(equation, x, domain=S.Reals)\n",
      "UnboundLocalError: local variable 'S' referenced before assignment\n",
      "Traceback (most recent call last):\n",
      "  File \"/home/rohit/Desktop/rohit/kaggle_llm/aimo/code_to_execute.py\", line 23, in <module>\n",
      "    result = sum_of_squares_of_distances()\n",
      "  File \"/home/rohit/Desktop/rohit/kaggle_llm/aimo/code_to_execute.py\", line 9, in sum_of_squares_of_distances\n",
      "    solutions = solve(parabola_eq, x)\n",
      "UnboundLocalError: local variable 'solve' referenced before assignment\n"
     ]
    },
    {
     "name": "stdout",
     "output_type": "stream",
     "text": [
      "Exception occured in `execute_code`: Command 'timeout 7 /home/rohit/Desktop/rohit/virtualenvs/rohit_transformers/bin/python3 code_to_execute.py' returned non-zero exit status 1.\n",
      "Exception occured in `execute_code`: Command 'timeout 7 /home/rohit/Desktop/rohit/virtualenvs/rohit_transformers/bin/python3 code_to_execute.py' returned non-zero exit status 1.\n",
      "Exception occured in `postprocess_final_answer`: name 'k' is not defined\n",
      "Exception occured in `postprocess_final_answer`: name 'k' is not defined\n",
      "Exception occured in `postprocess_final_answer`: invalid decimal literal (<string>, line 1)\n",
      "Exception occured in `postprocess_final_answer`: name 'k' is not defined\n",
      "Exception occured in `postprocess_final_answer`: name 'k' is not defined\n"
     ]
    },
    {
     "name": "stderr",
     "output_type": "stream",
     "text": [
      "Traceback (most recent call last):\n",
      "  File \"/home/rohit/Desktop/rohit/kaggle_llm/aimo/code_to_execute.py\", line 38, in <module>\n",
      "    result = sum_of_squares()\n",
      "  File \"/home/rohit/Desktop/rohit/kaggle_llm/aimo/code_to_execute.py\", line 19, in sum_of_squares\n",
      "    solutions_kl = solve(equation, (k, l))\n",
      "  File \"/home/rohit/Desktop/rohit/virtualenvs/rohit_transformers/lib/python3.10/site-packages/sympy/solvers/solvers.py\", line 1007, in solve\n",
      "    raise NotImplementedError('solving %s when the argument '\n",
      "NotImplementedError: solving Abs(sqrt(k**2 - k*l + 4*k)/k) when the argument is not real or imaginary.\n"
     ]
    },
    {
     "name": "stdout",
     "output_type": "stream",
     "text": [
      "Exception occured in `execute_code`: Command 'timeout 7 /home/rohit/Desktop/rohit/virtualenvs/rohit_transformers/bin/python3 code_to_execute.py' returned non-zero exit status 1.\n"
     ]
    },
    {
     "name": "stderr",
     "output_type": "stream",
     "text": [
      "Traceback (most recent call last):\n",
      "  File \"/home/rohit/Desktop/rohit/kaggle_llm/aimo/code_to_execute.py\", line 22, in <module>\n",
      "    result = sum_squares_distances()\n",
      "  File \"/home/rohit/Desktop/rohit/kaggle_llm/aimo/code_to_execute.py\", line 14, in sum_squares_distances\n",
      "    distance_A = sqrt(solutions[0]**2 + 4**2)\n",
      "TypeError: unsupported operand type(s) for ** or pow(): 'tuple' and 'int'\n"
     ]
    },
    {
     "name": "stdout",
     "output_type": "stream",
     "text": [
      "Exception occured in `execute_code`: Command 'timeout 7 /home/rohit/Desktop/rohit/virtualenvs/rohit_transformers/bin/python3 code_to_execute.py' returned non-zero exit status 1.\n",
      "Exception occured in `postprocess_final_answer`: name 'k' is not defined\n",
      "Exception occured in `postprocess_final_answer`: name 'k' is not defined\n",
      "Exception occured in `postprocess_final_answer`: name 'k' is not defined\n",
      "Exception occured in `postprocess_final_answer`: name 'k' is not defined\n",
      "Exception occured in `postprocess_final_answer`: name 'k' is not defined\n"
     ]
    },
    {
     "name": "stderr",
     "output_type": "stream",
     "text": [
      "Traceback (most recent call last):\n",
      "  File \"/home/rohit/Desktop/rohit/kaggle_llm/aimo/code_to_execute.py\", line 25, in <module>\n",
      "    result = sum_of_squares_of_distances()\n",
      "  File \"/home/rohit/Desktop/rohit/kaggle_llm/aimo/code_to_execute.py\", line 14, in sum_of_squares_of_distances\n",
      "    assert distance_ab == 6\n",
      "AssertionError\n"
     ]
    },
    {
     "name": "stdout",
     "output_type": "stream",
     "text": [
      "Exception occured in `execute_code`: Command 'timeout 7 /home/rohit/Desktop/rohit/virtualenvs/rohit_transformers/bin/python3 code_to_execute.py' returned non-zero exit status 1.\n",
      "Exception occured in `postprocess_final_answer`: name 'k' is not defined\n",
      "\n",
      "... RAW CODE RESULTS        : (-1, -1, -1, -1, -1, -1, -1, -1, -1, -1, -1, -1, 42, -1, -1, -1, -1, -1, -1, -1)\n",
      "... RAW BOXED RESULTS       : (13, 2, 132, 130, 1, -1, -1, 15, 16, 100, 6, -1, 100, 0, 4, 4, 2, 0, 0, 2)\n",
      "... AGGREGATED FINAL RESULT : 2\n",
      "\n",
      "\n",
      "\n",
      " =========== Problem 2 ============\n",
      "\n",
      " Problem: Each of the three-digits numbers $111$ to $999$ is coloured blue or yellow in such a way that the sum of any two (not necessarily different) yellow numbers is equal to a blue number. What is the maximum possible number of yellow numbers there can be? \n",
      "\n",
      "Answer: 250\n",
      "\n",
      " Prompt: <｜begin▁of▁sentence｜>User: Each of the three-digits numbers $111$ to $999$ is coloured blue or yellow in such a way that the sum of any two (not necessarily different) yellow numbers is equal to a blue number. What is the maximum possible number of yellow numbers there can be?\n",
      "Please integrate natural language reasoning with programs to solve the problem above, and put your final answer within \\boxed{}.\n",
      "\n",
      " \n"
     ]
    },
    {
     "data": {
      "application/vnd.jupyter.widget-view+json": {
       "model_id": "0380898dbfc647caba4bb0b279179486",
       "version_major": 2,
       "version_minor": 0
      },
      "text/plain": [
       "  0%|          | 0/20 [00:00<?, ?it/s]"
      ]
     },
     "metadata": {},
     "output_type": "display_data"
    },
    {
     "name": "stderr",
     "output_type": "stream",
     "text": [
      "Setting `pad_token_id` to `eos_token_id`:100001 for open-end generation.\n",
      "Setting `pad_token_id` to `eos_token_id`:100001 for open-end generation.\n",
      "Setting `pad_token_id` to `eos_token_id`:100001 for open-end generation.\n",
      "Setting `pad_token_id` to `eos_token_id`:100001 for open-end generation.\n",
      "Setting `pad_token_id` to `eos_token_id`:100001 for open-end generation.\n",
      "Setting `pad_token_id` to `eos_token_id`:100001 for open-end generation.\n",
      "Setting `pad_token_id` to `eos_token_id`:100001 for open-end generation.\n",
      "Setting `pad_token_id` to `eos_token_id`:100001 for open-end generation.\n",
      "Setting `pad_token_id` to `eos_token_id`:100001 for open-end generation.\n",
      "Setting `pad_token_id` to `eos_token_id`:100001 for open-end generation.\n",
      "Setting `pad_token_id` to `eos_token_id`:100001 for open-end generation.\n",
      "Setting `pad_token_id` to `eos_token_id`:100001 for open-end generation.\n",
      "Setting `pad_token_id` to `eos_token_id`:100001 for open-end generation.\n",
      "Setting `pad_token_id` to `eos_token_id`:100001 for open-end generation.\n",
      "Setting `pad_token_id` to `eos_token_id`:100001 for open-end generation.\n",
      "Setting `pad_token_id` to `eos_token_id`:100001 for open-end generation.\n",
      "Setting `pad_token_id` to `eos_token_id`:100001 for open-end generation.\n",
      "Setting `pad_token_id` to `eos_token_id`:100001 for open-end generation.\n",
      "Setting `pad_token_id` to `eos_token_id`:100001 for open-end generation.\n",
      "Setting `pad_token_id` to `eos_token_id`:100001 for open-end generation.\n"
     ]
    },
    {
     "name": "stdout",
     "output_type": "stream",
     "text": [
      "Exception occured in `postprocess_final_answer`: name 'sqrt' is not defined\n",
      "\n",
      "... RAW CODE RESULTS        : (-1, 111, -1, 749, 890, -1, 275, 450, 13, 302, 888, 0, 9, 555, 200, 450, 429, 343, 400, -1)\n",
      "... RAW BOXED RESULTS       : (777, 111, 125, 399, 890, 90, 287, 450, 9, 500, 888, 81, 280, 449, 380, 450, 429, 343, 332, 449)\n",
      "... AGGREGATED FINAL RESULT : 450\n",
      "\n",
      "\n",
      "\n",
      " =========== Problem 3 ============\n",
      "\n",
      " Problem: Let the `sparkle' operation on positive integer $n$ consist of calculating the sum of the digits of $n$ and taking its factorial, e.g. the sparkle of 13 is $4! = 24$. A robot starts with a positive integer on a blackboard, then after each second for the rest of eternity, replaces the number on the board with its sparkle. For some `special' numbers, if they're the first number, then eventually every number that appears will be less than 6. How many such special numbers are there with at most 36 digits? \n",
      "\n",
      "Answer: 702\n",
      "\n",
      " Prompt: <｜begin▁of▁sentence｜>User: Let the `sparkle' operation on positive integer $n$ consist of calculating the sum of the digits of $n$ and taking its factorial, e.g. the sparkle of 13 is $4! = 24$. A robot starts with a positive integer on a blackboard, then after each second for the rest of eternity, replaces the number on the board with its sparkle. For some `special' numbers, if they're the first number, then eventually every number that appears will be less than 6. How many such special numbers are there with at most 36 digits?\n",
      "Please integrate natural language reasoning with programs to solve the problem above, and put your final answer within \\boxed{}.\n",
      "\n",
      " \n"
     ]
    },
    {
     "data": {
      "application/vnd.jupyter.widget-view+json": {
       "model_id": "7376405ffb584acfa16ab1b5b0ae93e2",
       "version_major": 2,
       "version_minor": 0
      },
      "text/plain": [
       "  0%|          | 0/20 [00:00<?, ?it/s]"
      ]
     },
     "metadata": {},
     "output_type": "display_data"
    },
    {
     "name": "stderr",
     "output_type": "stream",
     "text": [
      "Setting `pad_token_id` to `eos_token_id`:100001 for open-end generation.\n",
      "Setting `pad_token_id` to `eos_token_id`:100001 for open-end generation.\n",
      "Setting `pad_token_id` to `eos_token_id`:100001 for open-end generation.\n",
      "Setting `pad_token_id` to `eos_token_id`:100001 for open-end generation.\n",
      "Setting `pad_token_id` to `eos_token_id`:100001 for open-end generation.\n",
      "Setting `pad_token_id` to `eos_token_id`:100001 for open-end generation.\n",
      "Setting `pad_token_id` to `eos_token_id`:100001 for open-end generation.\n",
      "Setting `pad_token_id` to `eos_token_id`:100001 for open-end generation.\n",
      "Setting `pad_token_id` to `eos_token_id`:100001 for open-end generation.\n",
      "Setting `pad_token_id` to `eos_token_id`:100001 for open-end generation.\n",
      "Setting `pad_token_id` to `eos_token_id`:100001 for open-end generation.\n",
      "Setting `pad_token_id` to `eos_token_id`:100001 for open-end generation.\n",
      "Setting `pad_token_id` to `eos_token_id`:100001 for open-end generation.\n",
      "Setting `pad_token_id` to `eos_token_id`:100001 for open-end generation.\n",
      "Setting `pad_token_id` to `eos_token_id`:100001 for open-end generation.\n",
      "Setting `pad_token_id` to `eos_token_id`:100001 for open-end generation.\n",
      "Setting `pad_token_id` to `eos_token_id`:100001 for open-end generation.\n",
      "Setting `pad_token_id` to `eos_token_id`:100001 for open-end generation.\n",
      "Setting `pad_token_id` to `eos_token_id`:100001 for open-end generation.\n",
      "Setting `pad_token_id` to `eos_token_id`:100001 for open-end generation.\n",
      "Traceback (most recent call last):\n",
      "  File \"/home/rohit/Desktop/rohit/kaggle_llm/aimo/code_to_execute.py\", line 22, in <module>\n",
      "    result = special_numbers()\n",
      "  File \"/home/rohit/Desktop/rohit/kaggle_llm/aimo/code_to_execute.py\", line 16, in special_numbers\n",
      "    number = sparkle(number)\n",
      "  File \"/home/rohit/Desktop/rohit/kaggle_llm/aimo/code_to_execute.py\", line 7, in sparkle\n",
      "    sum_of_digits = sum(int(digit) for digit in str(n))\n",
      "ValueError: Exceeds the limit (4300) for integer string conversion; use sys.set_int_max_str_digits() to increase the limit\n",
      "Traceback (most recent call last):\n",
      "  File \"/home/rohit/Desktop/rohit/kaggle_llm/aimo/code_to_execute.py\", line 2, in <module>\n",
      "    from sympy import factorial, digits, Integer\n",
      "ImportError: cannot import name 'digits' from 'sympy' (/home/rohit/Desktop/rohit/virtualenvs/rohit_transformers/lib/python3.10/site-packages/sympy/__init__.py)\n"
     ]
    },
    {
     "name": "stdout",
     "output_type": "stream",
     "text": [
      "Exception occured in `execute_code`: Command 'timeout 7 /home/rohit/Desktop/rohit/virtualenvs/rohit_transformers/bin/python3 code_to_execute.py' returned non-zero exit status 1.\n",
      "Exception occured in `execute_code`: Command 'timeout 7 /home/rohit/Desktop/rohit/virtualenvs/rohit_transformers/bin/python3 code_to_execute.py' returned non-zero exit status 1.\n"
     ]
    },
    {
     "name": "stderr",
     "output_type": "stream",
     "text": [
      "Traceback (most recent call last):\n",
      "  File \"/home/rohit/Desktop/rohit/kaggle_llm/aimo/code_to_execute.py\", line 25, in <module>\n",
      "    special_numbers = sparkle_operation(36)\n",
      "  File \"/home/rohit/Desktop/rohit/kaggle_llm/aimo/code_to_execute.py\", line 8, in sparkle_operation\n",
      "    current_number = factorial_of_digit_sum(current_number)\n",
      "  File \"/home/rohit/Desktop/rohit/kaggle_llm/aimo/code_to_execute.py\", line 15, in factorial_of_digit_sum\n",
      "    digit_sum = sum(int(digit) for digit in str(n))\n",
      "ValueError: Exceeds the limit (4300) for integer string conversion; use sys.set_int_max_str_digits() to increase the limit\n",
      "Traceback (most recent call last):\n",
      "  File \"/home/rohit/Desktop/rohit/kaggle_llm/aimo/code_to_execute.py\", line 2, in <module>\n",
      "    from sympy import factorial, Integer, digits\n",
      "ImportError: cannot import name 'digits' from 'sympy' (/home/rohit/Desktop/rohit/virtualenvs/rohit_transformers/lib/python3.10/site-packages/sympy/__init__.py)\n"
     ]
    },
    {
     "name": "stdout",
     "output_type": "stream",
     "text": [
      "Exception occured in `execute_code`: Command 'timeout 7 /home/rohit/Desktop/rohit/virtualenvs/rohit_transformers/bin/python3 code_to_execute.py' returned non-zero exit status 1.\n",
      "Exception occured in `execute_code`: Command 'timeout 7 /home/rohit/Desktop/rohit/virtualenvs/rohit_transformers/bin/python3 code_to_execute.py' returned non-zero exit status 1.\n",
      "Exception occured in `postprocess_final_answer`: invalid syntax (<string>, line 0)\n",
      "Exception occured in `execute_code`: Command 'timeout 7 /home/rohit/Desktop/rohit/virtualenvs/rohit_transformers/bin/python3 code_to_execute.py' returned non-zero exit status 1.\n",
      "Exception occured in `postprocess_final_answer`: unmatched '}' (<string>, line 1)\n"
     ]
    },
    {
     "name": "stderr",
     "output_type": "stream",
     "text": [
      "Traceback (most recent call last):\n",
      "  File \"/home/rohit/Desktop/rohit/kaggle_llm/aimo/code_to_execute.py\", line 33, in <module>\n",
      "    result = sparkle_operation()\n",
      "  File \"/home/rohit/Desktop/rohit/kaggle_llm/aimo/code_to_execute.py\", line 26, in sparkle_operation\n",
      "    i = sparkle(i)\n",
      "  File \"/home/rohit/Desktop/rohit/kaggle_llm/aimo/code_to_execute.py\", line 10, in sparkle\n",
      "    return factorial(digit_sum(n))\n",
      "  File \"/home/rohit/Desktop/rohit/kaggle_llm/aimo/code_to_execute.py\", line 6, in digit_sum\n",
      "    return sum(int(digit) for digit in str(n))\n",
      "ValueError: Exceeds the limit (4300) for integer string conversion; use sys.set_int_max_str_digits() to increase the limit\n",
      "Traceback (most recent call last):\n",
      "  File \"/home/rohit/Desktop/rohit/kaggle_llm/aimo/code_to_execute.py\", line 16, in <module>\n",
      "    result = special_numbers()\n",
      "  File \"/home/rohit/Desktop/rohit/kaggle_llm/aimo/code_to_execute.py\", line 10, in special_numbers\n",
      "    num = sum(int(digit) for digit in str(num))\n",
      "  File \"/home/rohit/Desktop/rohit/virtualenvs/rohit_transformers/lib/python3.10/site-packages/sympy/core/_print_helpers.py\", line 29, in __str__\n",
      "    return sstr(self, order=None)\n",
      "  File \"/home/rohit/Desktop/rohit/virtualenvs/rohit_transformers/lib/python3.10/site-packages/sympy/printing/printer.py\", line 372, in __call__\n",
      "    return self.__wrapped__(*args, **kwargs)\n",
      "  File \"/home/rohit/Desktop/rohit/virtualenvs/rohit_transformers/lib/python3.10/site-packages/sympy/printing/str.py\", line 998, in sstr\n",
      "    s = p.doprint(expr)\n",
      "  File \"/home/rohit/Desktop/rohit/virtualenvs/rohit_transformers/lib/python3.10/site-packages/sympy/printing/printer.py\", line 292, in doprint\n",
      "    return self._str(self._print(expr))\n",
      "  File \"/home/rohit/Desktop/rohit/virtualenvs/rohit_transformers/lib/python3.10/site-packages/sympy/printing/printer.py\", line 331, in _print\n",
      "    return printmethod(expr, **kwargs)\n",
      "  File \"/home/rohit/Desktop/rohit/virtualenvs/rohit_transformers/lib/python3.10/site-packages/sympy/printing/str.py\", line 679, in _print_Integer\n",
      "    return str(expr.p)\n",
      "ValueError: Exceeds the limit (4300) for integer string conversion; use sys.set_int_max_str_digits() to increase the limit\n"
     ]
    },
    {
     "name": "stdout",
     "output_type": "stream",
     "text": [
      "Exception occured in `execute_code`: Command 'timeout 7 /home/rohit/Desktop/rohit/virtualenvs/rohit_transformers/bin/python3 code_to_execute.py' returned non-zero exit status 1.\n",
      "Exception occured in `execute_code`: Command 'timeout 7 /home/rohit/Desktop/rohit/virtualenvs/rohit_transformers/bin/python3 code_to_execute.py' returned non-zero exit status 1.\n"
     ]
    },
    {
     "name": "stderr",
     "output_type": "stream",
     "text": [
      "Traceback (most recent call last):\n",
      "  File \"/home/rohit/Desktop/rohit/kaggle_llm/aimo/code_to_execute.py\", line 17, in <module>\n",
      "    result = sparkle_of_number()\n",
      "  File \"/home/rohit/Desktop/rohit/kaggle_llm/aimo/code_to_execute.py\", line 10, in sparkle_of_number\n",
      "    number = sum(int(digit) for digit in str(number))\n",
      "  File \"/home/rohit/Desktop/rohit/virtualenvs/rohit_transformers/lib/python3.10/site-packages/sympy/core/_print_helpers.py\", line 29, in __str__\n",
      "    return sstr(self, order=None)\n",
      "  File \"/home/rohit/Desktop/rohit/virtualenvs/rohit_transformers/lib/python3.10/site-packages/sympy/printing/printer.py\", line 372, in __call__\n",
      "    return self.__wrapped__(*args, **kwargs)\n",
      "  File \"/home/rohit/Desktop/rohit/virtualenvs/rohit_transformers/lib/python3.10/site-packages/sympy/printing/str.py\", line 998, in sstr\n",
      "    s = p.doprint(expr)\n",
      "  File \"/home/rohit/Desktop/rohit/virtualenvs/rohit_transformers/lib/python3.10/site-packages/sympy/printing/printer.py\", line 292, in doprint\n",
      "    return self._str(self._print(expr))\n",
      "  File \"/home/rohit/Desktop/rohit/virtualenvs/rohit_transformers/lib/python3.10/site-packages/sympy/printing/printer.py\", line 331, in _print\n",
      "    return printmethod(expr, **kwargs)\n",
      "  File \"/home/rohit/Desktop/rohit/virtualenvs/rohit_transformers/lib/python3.10/site-packages/sympy/printing/str.py\", line 679, in _print_Integer\n",
      "    return str(expr.p)\n",
      "ValueError: Exceeds the limit (4300) for integer string conversion; use sys.set_int_max_str_digits() to increase the limit\n",
      "Traceback (most recent call last):\n",
      "  File \"/home/rohit/Desktop/rohit/kaggle_llm/aimo/code_to_execute.py\", line 15, in <module>\n",
      "    result = count_special_numbers()\n",
      "  File \"/home/rohit/Desktop/rohit/kaggle_llm/aimo/code_to_execute.py\", line 8, in count_special_numbers\n",
      "    sparkle = factorial(sum(int(digit) for digit in str(sparkle)))\n",
      "  File \"/home/rohit/Desktop/rohit/virtualenvs/rohit_transformers/lib/python3.10/site-packages/sympy/core/_print_helpers.py\", line 29, in __str__\n",
      "    return sstr(self, order=None)\n",
      "  File \"/home/rohit/Desktop/rohit/virtualenvs/rohit_transformers/lib/python3.10/site-packages/sympy/printing/printer.py\", line 372, in __call__\n",
      "    return self.__wrapped__(*args, **kwargs)\n",
      "  File \"/home/rohit/Desktop/rohit/virtualenvs/rohit_transformers/lib/python3.10/site-packages/sympy/printing/str.py\", line 998, in sstr\n",
      "    s = p.doprint(expr)\n",
      "  File \"/home/rohit/Desktop/rohit/virtualenvs/rohit_transformers/lib/python3.10/site-packages/sympy/printing/printer.py\", line 292, in doprint\n",
      "    return self._str(self._print(expr))\n",
      "  File \"/home/rohit/Desktop/rohit/virtualenvs/rohit_transformers/lib/python3.10/site-packages/sympy/printing/printer.py\", line 331, in _print\n",
      "    return printmethod(expr, **kwargs)\n",
      "  File \"/home/rohit/Desktop/rohit/virtualenvs/rohit_transformers/lib/python3.10/site-packages/sympy/printing/str.py\", line 679, in _print_Integer\n",
      "    return str(expr.p)\n",
      "ValueError: Exceeds the limit (4300) for integer string conversion; use sys.set_int_max_str_digits() to increase the limit\n"
     ]
    },
    {
     "name": "stdout",
     "output_type": "stream",
     "text": [
      "Exception occured in `execute_code`: Command 'timeout 7 /home/rohit/Desktop/rohit/virtualenvs/rohit_transformers/bin/python3 code_to_execute.py' returned non-zero exit status 1.\n",
      "Exception occured in `execute_code`: Command 'timeout 7 /home/rohit/Desktop/rohit/virtualenvs/rohit_transformers/bin/python3 code_to_execute.py' returned non-zero exit status 124.\n",
      "Exception occured in `execute_code`: Command 'timeout 7 /home/rohit/Desktop/rohit/virtualenvs/rohit_transformers/bin/python3 code_to_execute.py' returned non-zero exit status 1.\n",
      "Exception occured in `postprocess_final_answer`: unmatched '}' (<string>, line 1)\n"
     ]
    },
    {
     "name": "stderr",
     "output_type": "stream",
     "text": [
      "Traceback (most recent call last):\n",
      "  File \"/home/rohit/Desktop/rohit/kaggle_llm/aimo/code_to_execute.py\", line 16, in <module>\n",
      "    result = sparkle_of_number()\n",
      "  File \"/home/rohit/Desktop/rohit/kaggle_llm/aimo/code_to_execute.py\", line 10, in sparkle_of_number\n",
      "    number = sum(int(digit) for digit in str(number))\n",
      "  File \"/home/rohit/Desktop/rohit/virtualenvs/rohit_transformers/lib/python3.10/site-packages/sympy/core/_print_helpers.py\", line 29, in __str__\n",
      "    return sstr(self, order=None)\n",
      "  File \"/home/rohit/Desktop/rohit/virtualenvs/rohit_transformers/lib/python3.10/site-packages/sympy/printing/printer.py\", line 372, in __call__\n",
      "    return self.__wrapped__(*args, **kwargs)\n",
      "  File \"/home/rohit/Desktop/rohit/virtualenvs/rohit_transformers/lib/python3.10/site-packages/sympy/printing/str.py\", line 998, in sstr\n",
      "    s = p.doprint(expr)\n",
      "  File \"/home/rohit/Desktop/rohit/virtualenvs/rohit_transformers/lib/python3.10/site-packages/sympy/printing/printer.py\", line 292, in doprint\n",
      "    return self._str(self._print(expr))\n",
      "  File \"/home/rohit/Desktop/rohit/virtualenvs/rohit_transformers/lib/python3.10/site-packages/sympy/printing/printer.py\", line 331, in _print\n",
      "    return printmethod(expr, **kwargs)\n",
      "  File \"/home/rohit/Desktop/rohit/virtualenvs/rohit_transformers/lib/python3.10/site-packages/sympy/printing/str.py\", line 679, in _print_Integer\n",
      "    return str(expr.p)\n",
      "ValueError: Exceeds the limit (4300) for integer string conversion; use sys.set_int_max_str_digits() to increase the limit\n",
      "Traceback (most recent call last):\n",
      "  File \"/home/rohit/Desktop/rohit/kaggle_llm/aimo/code_to_execute.py\", line 16, in <module>\n",
      "    result = special_numbers()\n",
      "  File \"/home/rohit/Desktop/rohit/kaggle_llm/aimo/code_to_execute.py\", line 10, in special_numbers\n",
      "    number = sum(int(digit) for digit in str(number))\n",
      "  File \"/home/rohit/Desktop/rohit/virtualenvs/rohit_transformers/lib/python3.10/site-packages/sympy/core/_print_helpers.py\", line 29, in __str__\n",
      "    return sstr(self, order=None)\n",
      "  File \"/home/rohit/Desktop/rohit/virtualenvs/rohit_transformers/lib/python3.10/site-packages/sympy/printing/printer.py\", line 372, in __call__\n",
      "    return self.__wrapped__(*args, **kwargs)\n",
      "  File \"/home/rohit/Desktop/rohit/virtualenvs/rohit_transformers/lib/python3.10/site-packages/sympy/printing/str.py\", line 998, in sstr\n",
      "    s = p.doprint(expr)\n",
      "  File \"/home/rohit/Desktop/rohit/virtualenvs/rohit_transformers/lib/python3.10/site-packages/sympy/printing/printer.py\", line 292, in doprint\n",
      "    return self._str(self._print(expr))\n",
      "  File \"/home/rohit/Desktop/rohit/virtualenvs/rohit_transformers/lib/python3.10/site-packages/sympy/printing/printer.py\", line 331, in _print\n",
      "    return printmethod(expr, **kwargs)\n",
      "  File \"/home/rohit/Desktop/rohit/virtualenvs/rohit_transformers/lib/python3.10/site-packages/sympy/printing/str.py\", line 679, in _print_Integer\n",
      "    return str(expr.p)\n",
      "ValueError: Exceeds the limit (4300) for integer string conversion; use sys.set_int_max_str_digits() to increase the limit\n"
     ]
    },
    {
     "name": "stdout",
     "output_type": "stream",
     "text": [
      "Exception occured in `execute_code`: Command 'timeout 7 /home/rohit/Desktop/rohit/virtualenvs/rohit_transformers/bin/python3 code_to_execute.py' returned non-zero exit status 1.\n",
      "Exception occured in `execute_code`: Command 'timeout 7 /home/rohit/Desktop/rohit/virtualenvs/rohit_transformers/bin/python3 code_to_execute.py' returned non-zero exit status 1.\n"
     ]
    },
    {
     "name": "stderr",
     "output_type": "stream",
     "text": [
      "Traceback (most recent call last):\n",
      "  File \"/home/rohit/Desktop/rohit/kaggle_llm/aimo/code_to_execute.py\", line 16, in <module>\n",
      "    result = sparkle_operation(36)\n",
      "  File \"/home/rohit/Desktop/rohit/kaggle_llm/aimo/code_to_execute.py\", line 10, in sparkle_operation\n",
      "    number = sum(int(digit) for digit in str(number))\n",
      "  File \"/home/rohit/Desktop/rohit/virtualenvs/rohit_transformers/lib/python3.10/site-packages/sympy/core/_print_helpers.py\", line 29, in __str__\n",
      "    return sstr(self, order=None)\n",
      "  File \"/home/rohit/Desktop/rohit/virtualenvs/rohit_transformers/lib/python3.10/site-packages/sympy/printing/printer.py\", line 372, in __call__\n",
      "    return self.__wrapped__(*args, **kwargs)\n",
      "  File \"/home/rohit/Desktop/rohit/virtualenvs/rohit_transformers/lib/python3.10/site-packages/sympy/printing/str.py\", line 998, in sstr\n",
      "    s = p.doprint(expr)\n",
      "  File \"/home/rohit/Desktop/rohit/virtualenvs/rohit_transformers/lib/python3.10/site-packages/sympy/printing/printer.py\", line 292, in doprint\n",
      "    return self._str(self._print(expr))\n",
      "  File \"/home/rohit/Desktop/rohit/virtualenvs/rohit_transformers/lib/python3.10/site-packages/sympy/printing/printer.py\", line 331, in _print\n",
      "    return printmethod(expr, **kwargs)\n",
      "  File \"/home/rohit/Desktop/rohit/virtualenvs/rohit_transformers/lib/python3.10/site-packages/sympy/printing/str.py\", line 679, in _print_Integer\n",
      "    return str(expr.p)\n",
      "ValueError: Exceeds the limit (4300) for integer string conversion; use sys.set_int_max_str_digits() to increase the limit\n",
      "Traceback (most recent call last):\n",
      "  File \"/home/rohit/Desktop/rohit/kaggle_llm/aimo/code_to_execute.py\", line 16, in <module>\n",
      "    result = sparkle_operation()\n",
      "  File \"/home/rohit/Desktop/rohit/kaggle_llm/aimo/code_to_execute.py\", line 10, in sparkle_operation\n",
      "    number = sum(int(digit) for digit in str(number))\n",
      "  File \"/home/rohit/Desktop/rohit/virtualenvs/rohit_transformers/lib/python3.10/site-packages/sympy/core/_print_helpers.py\", line 29, in __str__\n",
      "    return sstr(self, order=None)\n",
      "  File \"/home/rohit/Desktop/rohit/virtualenvs/rohit_transformers/lib/python3.10/site-packages/sympy/printing/printer.py\", line 372, in __call__\n",
      "    return self.__wrapped__(*args, **kwargs)\n",
      "  File \"/home/rohit/Desktop/rohit/virtualenvs/rohit_transformers/lib/python3.10/site-packages/sympy/printing/str.py\", line 998, in sstr\n",
      "    s = p.doprint(expr)\n",
      "  File \"/home/rohit/Desktop/rohit/virtualenvs/rohit_transformers/lib/python3.10/site-packages/sympy/printing/printer.py\", line 292, in doprint\n",
      "    return self._str(self._print(expr))\n",
      "  File \"/home/rohit/Desktop/rohit/virtualenvs/rohit_transformers/lib/python3.10/site-packages/sympy/printing/printer.py\", line 331, in _print\n",
      "    return printmethod(expr, **kwargs)\n",
      "  File \"/home/rohit/Desktop/rohit/virtualenvs/rohit_transformers/lib/python3.10/site-packages/sympy/printing/str.py\", line 679, in _print_Integer\n",
      "    return str(expr.p)\n",
      "ValueError: Exceeds the limit (4300) for integer string conversion; use sys.set_int_max_str_digits() to increase the limit\n"
     ]
    },
    {
     "name": "stdout",
     "output_type": "stream",
     "text": [
      "Exception occured in `execute_code`: Command 'timeout 7 /home/rohit/Desktop/rohit/virtualenvs/rohit_transformers/bin/python3 code_to_execute.py' returned non-zero exit status 1.\n",
      "Exception occured in `execute_code`: Command 'timeout 7 /home/rohit/Desktop/rohit/virtualenvs/rohit_transformers/bin/python3 code_to_execute.py' returned non-zero exit status 1.\n"
     ]
    },
    {
     "name": "stderr",
     "output_type": "stream",
     "text": [
      "Traceback (most recent call last):\n",
      "  File \"/home/rohit/Desktop/rohit/kaggle_llm/aimo/code_to_execute.py\", line 21, in <module>\n",
      "    if sparkle_operation(i):\n",
      "  File \"/home/rohit/Desktop/rohit/kaggle_llm/aimo/code_to_execute.py\", line 11, in sparkle_operation\n",
      "    while n!= '1' and n!= '2' and n!= '4' and n!= '9' and len(n) <= 36:  # Maximum length of the number under consideration\n",
      "TypeError: object of type 'Integer' has no len()\n",
      "Traceback (most recent call last):\n",
      "  File \"/home/rohit/Desktop/rohit/kaggle_llm/aimo/code_to_execute.py\", line 16, in <module>\n",
      "    result = special_numbers()\n",
      "  File \"/home/rohit/Desktop/rohit/kaggle_llm/aimo/code_to_execute.py\", line 10, in special_numbers\n",
      "    num = sum(int(digit) for digit in str(num))\n",
      "  File \"/home/rohit/Desktop/rohit/virtualenvs/rohit_transformers/lib/python3.10/site-packages/sympy/core/_print_helpers.py\", line 29, in __str__\n",
      "    return sstr(self, order=None)\n",
      "  File \"/home/rohit/Desktop/rohit/virtualenvs/rohit_transformers/lib/python3.10/site-packages/sympy/printing/printer.py\", line 372, in __call__\n",
      "    return self.__wrapped__(*args, **kwargs)\n",
      "  File \"/home/rohit/Desktop/rohit/virtualenvs/rohit_transformers/lib/python3.10/site-packages/sympy/printing/str.py\", line 998, in sstr\n",
      "    s = p.doprint(expr)\n",
      "  File \"/home/rohit/Desktop/rohit/virtualenvs/rohit_transformers/lib/python3.10/site-packages/sympy/printing/printer.py\", line 292, in doprint\n",
      "    return self._str(self._print(expr))\n",
      "  File \"/home/rohit/Desktop/rohit/virtualenvs/rohit_transformers/lib/python3.10/site-packages/sympy/printing/printer.py\", line 331, in _print\n",
      "    return printmethod(expr, **kwargs)\n",
      "  File \"/home/rohit/Desktop/rohit/virtualenvs/rohit_transformers/lib/python3.10/site-packages/sympy/printing/str.py\", line 679, in _print_Integer\n",
      "    return str(expr.p)\n",
      "ValueError: Exceeds the limit (4300) for integer string conversion; use sys.set_int_max_str_digits() to increase the limit\n"
     ]
    },
    {
     "name": "stdout",
     "output_type": "stream",
     "text": [
      "Exception occured in `execute_code`: Command 'timeout 7 /home/rohit/Desktop/rohit/virtualenvs/rohit_transformers/bin/python3 code_to_execute.py' returned non-zero exit status 1.\n",
      "Exception occured in `execute_code`: Command 'timeout 7 /home/rohit/Desktop/rohit/virtualenvs/rohit_transformers/bin/python3 code_to_execute.py' returned non-zero exit status 1.\n"
     ]
    },
    {
     "name": "stderr",
     "output_type": "stream",
     "text": [
      "Traceback (most recent call last):\n",
      "  File \"/home/rohit/Desktop/rohit/kaggle_llm/aimo/code_to_execute.py\", line 16, in <module>\n",
      "    number_of_special_numbers = special_numbers()\n",
      "  File \"/home/rohit/Desktop/rohit/kaggle_llm/aimo/code_to_execute.py\", line 10, in special_numbers\n",
      "    number = sum(int(digit) for digit in str(number))\n",
      "  File \"/home/rohit/Desktop/rohit/virtualenvs/rohit_transformers/lib/python3.10/site-packages/sympy/core/_print_helpers.py\", line 29, in __str__\n",
      "    return sstr(self, order=None)\n",
      "  File \"/home/rohit/Desktop/rohit/virtualenvs/rohit_transformers/lib/python3.10/site-packages/sympy/printing/printer.py\", line 372, in __call__\n",
      "    return self.__wrapped__(*args, **kwargs)\n",
      "  File \"/home/rohit/Desktop/rohit/virtualenvs/rohit_transformers/lib/python3.10/site-packages/sympy/printing/str.py\", line 998, in sstr\n",
      "    s = p.doprint(expr)\n",
      "  File \"/home/rohit/Desktop/rohit/virtualenvs/rohit_transformers/lib/python3.10/site-packages/sympy/printing/printer.py\", line 292, in doprint\n",
      "    return self._str(self._print(expr))\n",
      "  File \"/home/rohit/Desktop/rohit/virtualenvs/rohit_transformers/lib/python3.10/site-packages/sympy/printing/printer.py\", line 331, in _print\n",
      "    return printmethod(expr, **kwargs)\n",
      "  File \"/home/rohit/Desktop/rohit/virtualenvs/rohit_transformers/lib/python3.10/site-packages/sympy/printing/str.py\", line 679, in _print_Integer\n",
      "    return str(expr.p)\n",
      "ValueError: Exceeds the limit (4300) for integer string conversion; use sys.set_int_max_str_digits() to increase the limit\n",
      "Traceback (most recent call last):\n",
      "  File \"/home/rohit/Desktop/rohit/kaggle_llm/aimo/code_to_execute.py\", line 16, in <module>\n",
      "    result = special_numbers()\n",
      "  File \"/home/rohit/Desktop/rohit/kaggle_llm/aimo/code_to_execute.py\", line 10, in special_numbers\n",
      "    number = sum(int(digit) for digit in str(number))\n",
      "  File \"/home/rohit/Desktop/rohit/virtualenvs/rohit_transformers/lib/python3.10/site-packages/sympy/core/_print_helpers.py\", line 29, in __str__\n",
      "    return sstr(self, order=None)\n",
      "  File \"/home/rohit/Desktop/rohit/virtualenvs/rohit_transformers/lib/python3.10/site-packages/sympy/printing/printer.py\", line 372, in __call__\n",
      "    return self.__wrapped__(*args, **kwargs)\n",
      "  File \"/home/rohit/Desktop/rohit/virtualenvs/rohit_transformers/lib/python3.10/site-packages/sympy/printing/str.py\", line 998, in sstr\n",
      "    s = p.doprint(expr)\n",
      "  File \"/home/rohit/Desktop/rohit/virtualenvs/rohit_transformers/lib/python3.10/site-packages/sympy/printing/printer.py\", line 292, in doprint\n",
      "    return self._str(self._print(expr))\n",
      "  File \"/home/rohit/Desktop/rohit/virtualenvs/rohit_transformers/lib/python3.10/site-packages/sympy/printing/printer.py\", line 331, in _print\n",
      "    return printmethod(expr, **kwargs)\n",
      "  File \"/home/rohit/Desktop/rohit/virtualenvs/rohit_transformers/lib/python3.10/site-packages/sympy/printing/str.py\", line 679, in _print_Integer\n",
      "    return str(expr.p)\n",
      "ValueError: Exceeds the limit (4300) for integer string conversion; use sys.set_int_max_str_digits() to increase the limit\n"
     ]
    },
    {
     "name": "stdout",
     "output_type": "stream",
     "text": [
      "Exception occured in `execute_code`: Command 'timeout 7 /home/rohit/Desktop/rohit/virtualenvs/rohit_transformers/bin/python3 code_to_execute.py' returned non-zero exit status 1.\n",
      "Exception occured in `execute_code`: Command 'timeout 7 /home/rohit/Desktop/rohit/virtualenvs/rohit_transformers/bin/python3 code_to_execute.py' returned non-zero exit status 1.\n",
      "\n",
      "... RAW CODE RESULTS        : (-1, -1, -1, -1, -1, -1, -1, -1, -1, -1, -1, -1, -1, -1, -1, -1, -1, -1, -1, -1)\n",
      "... RAW BOXED RESULTS       : (142, 17, 26, 13, 12, -1, 26, 35, 13, 61, -1, 142, 4, 18, 7, 142, 48, 10, 13, 6)\n",
      "... AGGREGATED FINAL RESULT : 142\n",
      "\n",
      "\n",
      "\n",
      " =========== Problem 4 ============\n",
      "\n",
      " Problem: What is the minimum value of $5x^2+5y^2-8xy$ when $x$ and $y$ range over all real numbers such that $|x-2y| + |y-2x| = 40$? \n",
      "\n",
      "Answer: 800\n",
      "\n",
      " Prompt: <｜begin▁of▁sentence｜>User: What is the minimum value of $5x^2+5y^2-8xy$ when $x$ and $y$ range over all real numbers such that $|x-2y| + |y-2x| = 40$?\n",
      "Please integrate natural language reasoning with programs to solve the problem above, and put your final answer within \\boxed{}.\n",
      "\n",
      " \n"
     ]
    },
    {
     "name": "stderr",
     "output_type": "stream",
     "text": [
      "Traceback (most recent call last):\n",
      "  File \"/home/rohit/Desktop/rohit/kaggle_llm/aimo/code_to_execute.py\", line 19, in <module>\n",
      "    result = sparkle_operation(36)\n",
      "  File \"/home/rohit/Desktop/rohit/kaggle_llm/aimo/code_to_execute.py\", line 10, in sparkle_operation\n",
      "    number = sum(int(digit) for digit in str(number))\n",
      "  File \"/home/rohit/Desktop/rohit/virtualenvs/rohit_transformers/lib/python3.10/site-packages/sympy/core/_print_helpers.py\", line 29, in __str__\n",
      "    return sstr(self, order=None)\n",
      "  File \"/home/rohit/Desktop/rohit/virtualenvs/rohit_transformers/lib/python3.10/site-packages/sympy/printing/printer.py\", line 372, in __call__\n",
      "    return self.__wrapped__(*args, **kwargs)\n",
      "  File \"/home/rohit/Desktop/rohit/virtualenvs/rohit_transformers/lib/python3.10/site-packages/sympy/printing/str.py\", line 998, in sstr\n",
      "    s = p.doprint(expr)\n",
      "  File \"/home/rohit/Desktop/rohit/virtualenvs/rohit_transformers/lib/python3.10/site-packages/sympy/printing/printer.py\", line 292, in doprint\n",
      "    return self._str(self._print(expr))\n",
      "  File \"/home/rohit/Desktop/rohit/virtualenvs/rohit_transformers/lib/python3.10/site-packages/sympy/printing/printer.py\", line 331, in _print\n",
      "    return printmethod(expr, **kwargs)\n",
      "  File \"/home/rohit/Desktop/rohit/virtualenvs/rohit_transformers/lib/python3.10/site-packages/sympy/printing/str.py\", line 679, in _print_Integer\n",
      "    return str(expr.p)\n",
      "ValueError: Exceeds the limit (4300) for integer string conversion; use sys.set_int_max_str_digits() to increase the limit\n"
     ]
    },
    {
     "data": {
      "application/vnd.jupyter.widget-view+json": {
       "model_id": "b90a3134037f4f9ca85d4c3fd7e00c09",
       "version_major": 2,
       "version_minor": 0
      },
      "text/plain": [
       "  0%|          | 0/20 [00:00<?, ?it/s]"
      ]
     },
     "metadata": {},
     "output_type": "display_data"
    },
    {
     "name": "stderr",
     "output_type": "stream",
     "text": [
      "Setting `pad_token_id` to `eos_token_id`:100001 for open-end generation.\n",
      "Setting `pad_token_id` to `eos_token_id`:100001 for open-end generation.\n",
      "Setting `pad_token_id` to `eos_token_id`:100001 for open-end generation.\n",
      "Setting `pad_token_id` to `eos_token_id`:100001 for open-end generation.\n",
      "Setting `pad_token_id` to `eos_token_id`:100001 for open-end generation.\n",
      "Setting `pad_token_id` to `eos_token_id`:100001 for open-end generation.\n",
      "Setting `pad_token_id` to `eos_token_id`:100001 for open-end generation.\n",
      "Setting `pad_token_id` to `eos_token_id`:100001 for open-end generation.\n",
      "Setting `pad_token_id` to `eos_token_id`:100001 for open-end generation.\n",
      "Setting `pad_token_id` to `eos_token_id`:100001 for open-end generation.\n",
      "Setting `pad_token_id` to `eos_token_id`:100001 for open-end generation.\n",
      "Setting `pad_token_id` to `eos_token_id`:100001 for open-end generation.\n",
      "Setting `pad_token_id` to `eos_token_id`:100001 for open-end generation.\n",
      "Setting `pad_token_id` to `eos_token_id`:100001 for open-end generation.\n",
      "Setting `pad_token_id` to `eos_token_id`:100001 for open-end generation.\n",
      "Setting `pad_token_id` to `eos_token_id`:100001 for open-end generation.\n",
      "Setting `pad_token_id` to `eos_token_id`:100001 for open-end generation.\n",
      "Setting `pad_token_id` to `eos_token_id`:100001 for open-end generation.\n",
      "Setting `pad_token_id` to `eos_token_id`:100001 for open-end generation.\n",
      "Setting `pad_token_id` to `eos_token_id`:100001 for open-end generation.\n",
      "Traceback (most recent call last):\n",
      "  File \"/home/rohit/Desktop/rohit/kaggle_llm/aimo/code_to_execute.py\", line 15, in <module>\n",
      "    result = minimum_value()\n",
      "  File \"/home/rohit/Desktop/rohit/kaggle_llm/aimo/code_to_execute.py\", line 8, in minimum_value\n",
      "    equation = solve(abs(x - 2*y) + abs(y - 2*x) - 40, (x, y))\n",
      "  File \"/home/rohit/Desktop/rohit/virtualenvs/rohit_transformers/lib/python3.10/site-packages/sympy/solvers/solvers.py\", line 1007, in solve\n",
      "    raise NotImplementedError('solving %s when the argument '\n",
      "NotImplementedError: solving Abs(2*x - y) when the argument is not real or imaginary.\n"
     ]
    },
    {
     "name": "stdout",
     "output_type": "stream",
     "text": [
      "Exception occured in `execute_code`: Command 'timeout 7 /home/rohit/Desktop/rohit/virtualenvs/rohit_transformers/bin/python3 code_to_execute.py' returned non-zero exit status 1.\n"
     ]
    },
    {
     "name": "stderr",
     "output_type": "stream",
     "text": [
      "Traceback (most recent call last):\n",
      "  File \"/home/rohit/Desktop/rohit/kaggle_llm/aimo/code_to_execute.py\", line 19, in <module>\n",
      "    minimum_val = minimum_value()\n",
      "  File \"/home/rohit/Desktop/rohit/kaggle_llm/aimo/code_to_execute.py\", line 11, in minimum_value\n",
      "    solutions = solve(g, (x, y))\n",
      "  File \"/home/rohit/Desktop/rohit/virtualenvs/rohit_transformers/lib/python3.10/site-packages/sympy/solvers/solvers.py\", line 1007, in solve\n",
      "    raise NotImplementedError('solving %s when the argument '\n",
      "NotImplementedError: solving Abs(x - 2*y) when the argument is not real or imaginary.\n"
     ]
    },
    {
     "name": "stdout",
     "output_type": "stream",
     "text": [
      "Exception occured in `execute_code`: Command 'timeout 7 /home/rohit/Desktop/rohit/virtualenvs/rohit_transformers/bin/python3 code_to_execute.py' returned non-zero exit status 1.\n"
     ]
    },
    {
     "name": "stderr",
     "output_type": "stream",
     "text": [
      "Traceback (most recent call last):\n",
      "  File \"/home/rohit/Desktop/rohit/kaggle_llm/aimo/code_to_execute.py\", line 24, in <module>\n",
      "    result = minimum_value()\n",
      "  File \"/home/rohit/Desktop/rohit/kaggle_llm/aimo/code_to_execute.py\", line 11, in minimum_value\n",
      "    y_solution = solve(equation, y)\n",
      "  File \"/home/rohit/Desktop/rohit/virtualenvs/rohit_transformers/lib/python3.10/site-packages/sympy/solvers/solvers.py\", line 1007, in solve\n",
      "    raise NotImplementedError('solving %s when the argument '\n",
      "NotImplementedError: solving Abs(x - 2*y) when the argument is not real or imaginary.\n"
     ]
    },
    {
     "name": "stdout",
     "output_type": "stream",
     "text": [
      "Exception occured in `execute_code`: Command 'timeout 7 /home/rohit/Desktop/rohit/virtualenvs/rohit_transformers/bin/python3 code_to_execute.py' returned non-zero exit status 1.\n"
     ]
    },
    {
     "name": "stderr",
     "output_type": "stream",
     "text": [
      "Traceback (most recent call last):\n",
      "  File \"/home/rohit/Desktop/rohit/kaggle_llm/aimo/code_to_execute.py\", line 15, in <module>\n",
      "    result = minimize(objective_function, x0, bounds=b, constraints={'type': 'eq', 'fun': constraint_function})\n",
      "  File \"/home/rohit/Desktop/rohit/virtualenvs/rohit_transformers/lib/python3.10/site-packages/scipy/optimize/_minimize.py\", line 645, in minimize\n",
      "    bounds = standardize_bounds(bounds, x0, 'new')\n",
      "  File \"/home/rohit/Desktop/rohit/virtualenvs/rohit_transformers/lib/python3.10/site-packages/scipy/optimize/_minimize.py\", line 1021, in standardize_bounds\n",
      "    lb, ub = old_bound_to_new(bounds)\n",
      "  File \"/home/rohit/Desktop/rohit/virtualenvs/rohit_transformers/lib/python3.10/site-packages/scipy/optimize/_constraints.py\", line 429, in old_bound_to_new\n",
      "    lb, ub = zip(*bounds)\n",
      "TypeError: 'float' object is not iterable\n"
     ]
    },
    {
     "name": "stdout",
     "output_type": "stream",
     "text": [
      "Exception occured in `execute_code`: Command 'timeout 7 /home/rohit/Desktop/rohit/virtualenvs/rohit_transformers/bin/python3 code_to_execute.py' returned non-zero exit status 1.\n"
     ]
    },
    {
     "name": "stderr",
     "output_type": "stream",
     "text": [
      "Traceback (most recent call last):\n",
      "  File \"/home/rohit/Desktop/rohit/kaggle_llm/aimo/code_to_execute.py\", line 14, in <module>\n",
      "    result = minimum_value()\n",
      "  File \"/home/rohit/Desktop/rohit/kaggle_llm/aimo/code_to_execute.py\", line 9, in minimum_value\n",
      "    solutions = solve((constraint, ), (x, y))\n",
      "  File \"/home/rohit/Desktop/rohit/virtualenvs/rohit_transformers/lib/python3.10/site-packages/sympy/solvers/solvers.py\", line 1007, in solve\n",
      "    raise NotImplementedError('solving %s when the argument '\n",
      "NotImplementedError: solving Abs(2*x - y) when the argument is not real or imaginary.\n"
     ]
    },
    {
     "name": "stdout",
     "output_type": "stream",
     "text": [
      "Exception occured in `execute_code`: Command 'timeout 7 /home/rohit/Desktop/rohit/virtualenvs/rohit_transformers/bin/python3 code_to_execute.py' returned non-zero exit status 1.\n",
      "\n",
      "... RAW CODE RESULTS        : (-1, 800, 800, 800, 800, 200, -1, 800, 800, 800, -1, 800, 800, -1, 800, -1, -1, 800, 800, 800)\n",
      "... RAW BOXED RESULTS       : (400, 400, 600, 600, 600, 400, 400, 600, 600, 400, 400, 400, 600, 600, 400, 2, 600, 600, 400, 400)\n",
      "... AGGREGATED FINAL RESULT : 800\n",
      "\n",
      "\n",
      "\n",
      " =========== Problem 5 ============\n",
      "\n",
      " Problem: There exists a unique increasing geometric sequence of five 2-digit positive integers. What is their sum? \n",
      "\n",
      "Answer: 211\n",
      "\n",
      " Prompt: <｜begin▁of▁sentence｜>User: There exists a unique increasing geometric sequence of five 2-digit positive integers. What is their sum?\n",
      "Please integrate natural language reasoning with programs to solve the problem above, and put your final answer within \\boxed{}.\n",
      "\n",
      " \n"
     ]
    },
    {
     "data": {
      "application/vnd.jupyter.widget-view+json": {
       "model_id": "e96bfd270a2d404f98b29f624fedc0ac",
       "version_major": 2,
       "version_minor": 0
      },
      "text/plain": [
       "  0%|          | 0/20 [00:00<?, ?it/s]"
      ]
     },
     "metadata": {},
     "output_type": "display_data"
    },
    {
     "name": "stderr",
     "output_type": "stream",
     "text": [
      "Setting `pad_token_id` to `eos_token_id`:100001 for open-end generation.\n",
      "Setting `pad_token_id` to `eos_token_id`:100001 for open-end generation.\n",
      "Setting `pad_token_id` to `eos_token_id`:100001 for open-end generation.\n",
      "Setting `pad_token_id` to `eos_token_id`:100001 for open-end generation.\n",
      "Setting `pad_token_id` to `eos_token_id`:100001 for open-end generation.\n",
      "Setting `pad_token_id` to `eos_token_id`:100001 for open-end generation.\n",
      "Setting `pad_token_id` to `eos_token_id`:100001 for open-end generation.\n",
      "Setting `pad_token_id` to `eos_token_id`:100001 for open-end generation.\n",
      "Setting `pad_token_id` to `eos_token_id`:100001 for open-end generation.\n",
      "Setting `pad_token_id` to `eos_token_id`:100001 for open-end generation.\n",
      "Setting `pad_token_id` to `eos_token_id`:100001 for open-end generation.\n",
      "Setting `pad_token_id` to `eos_token_id`:100001 for open-end generation.\n",
      "Setting `pad_token_id` to `eos_token_id`:100001 for open-end generation.\n",
      "Setting `pad_token_id` to `eos_token_id`:100001 for open-end generation.\n",
      "Setting `pad_token_id` to `eos_token_id`:100001 for open-end generation.\n",
      "Setting `pad_token_id` to `eos_token_id`:100001 for open-end generation.\n",
      "Setting `pad_token_id` to `eos_token_id`:100001 for open-end generation.\n",
      "Setting `pad_token_id` to `eos_token_id`:100001 for open-end generation.\n",
      "Setting `pad_token_id` to `eos_token_id`:100001 for open-end generation.\n",
      "Setting `pad_token_id` to `eos_token_id`:100001 for open-end generation.\n"
     ]
    },
    {
     "name": "stdout",
     "output_type": "stream",
     "text": [
      "Exception occured in `postprocess_final_answer`: float() argument must be a string or a real number, not 'NoneType'\n"
     ]
    },
    {
     "name": "stderr",
     "output_type": "stream",
     "text": [
      "Traceback (most recent call last):\n",
      "  File \"/home/rohit/Desktop/rohit/kaggle_llm/aimo/code_to_execute.py\", line 24, in <module>\n",
      "    sum_sequence = geometric_sequence_sum()\n",
      "  File \"/home/rohit/Desktop/rohit/kaggle_llm/aimo/code_to_execute.py\", line 19, in geometric_sequence_sum\n",
      "    r_value = [sol.evalf() for sol in r_solution if sol.evalf() > 0][0]\n",
      "  File \"/home/rohit/Desktop/rohit/kaggle_llm/aimo/code_to_execute.py\", line 19, in <listcomp>\n",
      "    r_value = [sol.evalf() for sol in r_solution if sol.evalf() > 0][0]\n",
      "  File \"/home/rohit/Desktop/rohit/virtualenvs/rohit_transformers/lib/python3.10/site-packages/sympy/core/decorators.py\", line 236, in _func\n",
      "    return func(self, other)\n",
      "  File \"/home/rohit/Desktop/rohit/virtualenvs/rohit_transformers/lib/python3.10/site-packages/sympy/core/expr.py\", line 371, in __gt__\n",
      "    return StrictGreaterThan(self, other)\n",
      "  File \"/home/rohit/Desktop/rohit/virtualenvs/rohit_transformers/lib/python3.10/site-packages/sympy/core/relational.py\", line 822, in __new__\n",
      "    raise TypeError(\"Invalid comparison of non-real %s\" % me)\n",
      "TypeError: Invalid comparison of non-real -1.77827941003892*I\n"
     ]
    },
    {
     "name": "stdout",
     "output_type": "stream",
     "text": [
      "Exception occured in `execute_code`: Command 'timeout 7 /home/rohit/Desktop/rohit/virtualenvs/rohit_transformers/bin/python3 code_to_execute.py' returned non-zero exit status 1.\n",
      "Exception occured in `postprocess_final_answer`: float() argument must be a string or a real number, not 'NoneType'\n"
     ]
    },
    {
     "name": "stderr",
     "output_type": "stream",
     "text": [
      "Traceback (most recent call last):\n",
      "  File \"/home/rohit/Desktop/rohit/kaggle_llm/aimo/code_to_execute.py\", line 29, in <module>\n",
      "    result = sum_of_sequence()\n",
      "  File \"/home/rohit/Desktop/rohit/kaggle_llm/aimo/code_to_execute.py\", line 22, in sum_of_sequence\n",
      "    solution = solutions[0]\n",
      "IndexError: list index out of range\n"
     ]
    },
    {
     "name": "stdout",
     "output_type": "stream",
     "text": [
      "Exception occured in `execute_code`: Command 'timeout 7 /home/rohit/Desktop/rohit/virtualenvs/rohit_transformers/bin/python3 code_to_execute.py' returned non-zero exit status 1.\n"
     ]
    },
    {
     "name": "stderr",
     "output_type": "stream",
     "text": [
      "Traceback (most recent call last):\n",
      "  File \"/home/rohit/Desktop/rohit/kaggle_llm/aimo/code_to_execute.py\", line 23, in <module>\n",
      "    result = geometric_sequence_sum()\n",
      "  File \"/home/rohit/Desktop/rohit/kaggle_llm/aimo/code_to_execute.py\", line 15, in geometric_sequence_sum\n",
      "    solution = solution[0]\n",
      "IndexError: list index out of range\n",
      "Traceback (most recent call last):\n",
      "  File \"/home/rohit/Desktop/rohit/kaggle_llm/aimo/code_to_execute.py\", line 30, in <module>\n",
      "    result = geometric_sequence_sum()\n",
      "  File \"/home/rohit/Desktop/rohit/kaggle_llm/aimo/code_to_execute.py\", line 23, in geometric_sequence_sum\n",
      "    solution = solve(conditions, (a, r))\n",
      "  File \"/home/rohit/Desktop/rohit/virtualenvs/rohit_transformers/lib/python3.10/site-packages/sympy/solvers/solvers.py\", line 955, in solve\n",
      "    raise ValueError(\"can only solve for one symbol at a time\")\n",
      "ValueError: can only solve for one symbol at a time\n"
     ]
    },
    {
     "name": "stdout",
     "output_type": "stream",
     "text": [
      "Exception occured in `execute_code`: Command 'timeout 7 /home/rohit/Desktop/rohit/virtualenvs/rohit_transformers/bin/python3 code_to_execute.py' returned non-zero exit status 1.\n",
      "Exception occured in `execute_code`: Command 'timeout 7 /home/rohit/Desktop/rohit/virtualenvs/rohit_transformers/bin/python3 code_to_execute.py' returned non-zero exit status 1.\n",
      "Exception occured in `postprocess_final_answer`: float() argument must be a string or a real number, not 'NoneType'\n",
      "Exception occured in `execute_code`: Command 'timeout 7 /home/rohit/Desktop/rohit/virtualenvs/rohit_transformers/bin/python3 code_to_execute.py' returned non-zero exit status 1.\n"
     ]
    },
    {
     "name": "stderr",
     "output_type": "stream",
     "text": [
      "Traceback (most recent call last):\n",
      "  File \"/home/rohit/Desktop/rohit/kaggle_llm/aimo/code_to_execute.py\", line 36, in <module>\n",
      "    result = sum_of_sequence()\n",
      "  File \"/home/rohit/Desktop/rohit/kaggle_llm/aimo/code_to_execute.py\", line 19, in sum_of_sequence\n",
      "    solutions = solve(equation, r)\n",
      "  File \"/home/rohit/Desktop/rohit/virtualenvs/rohit_transformers/lib/python3.10/site-packages/sympy/solvers/solvers.py\", line 1007, in solve\n",
      "    raise NotImplementedError('solving %s when the argument '\n",
      "NotImplementedError: solving Abs(r) when the argument is not real or imaginary.\n"
     ]
    },
    {
     "name": "stdout",
     "output_type": "stream",
     "text": [
      "Exception occured in `execute_code`: Command 'timeout 7 /home/rohit/Desktop/rohit/virtualenvs/rohit_transformers/bin/python3 code_to_execute.py' returned non-zero exit status 124.\n",
      "Exception occured in `postprocess_final_answer`: name 'sqrt' is not defined\n"
     ]
    },
    {
     "name": "stderr",
     "output_type": "stream",
     "text": [
      "Traceback (most recent call last):\n",
      "  File \"/home/rohit/Desktop/rohit/kaggle_llm/aimo/code_to_execute.py\", line 34, in <module>\n",
      "    result = geometric_sequence_sum()\n",
      "  File \"/home/rohit/Desktop/rohit/kaggle_llm/aimo/code_to_execute.py\", line 26, in geometric_sequence_sum\n",
      "    r_value = [sol.evalf() for sol in solutions if sol.evalf() > 1][0]\n",
      "  File \"/home/rohit/Desktop/rohit/kaggle_llm/aimo/code_to_execute.py\", line 26, in <listcomp>\n",
      "    r_value = [sol.evalf() for sol in solutions if sol.evalf() > 1][0]\n",
      "  File \"/home/rohit/Desktop/rohit/virtualenvs/rohit_transformers/lib/python3.10/site-packages/sympy/core/decorators.py\", line 236, in _func\n",
      "    return func(self, other)\n",
      "  File \"/home/rohit/Desktop/rohit/virtualenvs/rohit_transformers/lib/python3.10/site-packages/sympy/core/expr.py\", line 371, in __gt__\n",
      "    return StrictGreaterThan(self, other)\n",
      "  File \"/home/rohit/Desktop/rohit/virtualenvs/rohit_transformers/lib/python3.10/site-packages/sympy/core/relational.py\", line 822, in __new__\n",
      "    raise TypeError(\"Invalid comparison of non-real %s\" % me)\n",
      "TypeError: Invalid comparison of non-real -0.22945854630677 - 2.81415914395343*I\n"
     ]
    },
    {
     "name": "stdout",
     "output_type": "stream",
     "text": [
      "Exception occured in `execute_code`: Command 'timeout 7 /home/rohit/Desktop/rohit/virtualenvs/rohit_transformers/bin/python3 code_to_execute.py' returned non-zero exit status 1.\n",
      "Exception occured in `postprocess_final_answer`: invalid syntax (<string>, line 1)\n",
      "Exception occured in `execute_code`: Command 'timeout 7 /home/rohit/Desktop/rohit/virtualenvs/rohit_transformers/bin/python3 code_to_execute.py' returned non-zero exit status 1.\n",
      "\n",
      "... RAW CODE RESULTS        : (-1, -1, 310, 100, -1, -1, -1, -1, -1, -1, 80, -1, -1, -1, 136, 310, 242, -1, -1, -1)\n",
      "... RAW BOXED RESULTS       : (615, 114, 310, 100, 110, 219, 315, 480, 111, 10, 80, 170, 650, 210, 615, 364, 122, 937, 495, 406)\n",
      "... AGGREGATED FINAL RESULT : 310\n",
      "\n",
      "\n",
      "\n",
      " =========== Problem 6 ============\n",
      "\n",
      " Problem: For how many positive integers $m$ does the equation \\[\\vert \\vert x-1 \\vert -2 \\vert=\\frac{m}{100}\\] have $4$ distinct solutions? \n",
      "\n",
      "Answer: 199\n",
      "\n",
      " Prompt: <｜begin▁of▁sentence｜>User: For how many positive integers $m$ does the equation \\[\\vert \\vert x-1 \\vert -2 \\vert=\\frac{m}{100}\\] have $4$ distinct solutions?\n",
      "Please integrate natural language reasoning with programs to solve the problem above, and put your final answer within \\boxed{}.\n",
      "\n",
      " \n"
     ]
    },
    {
     "name": "stderr",
     "output_type": "stream",
     "text": [
      "Traceback (most recent call last):\n",
      "  File \"/home/rohit/Desktop/rohit/kaggle_llm/aimo/code_to_execute.py\", line 27, in <module>\n",
      "    result = sum_of_sequence()\n",
      "  File \"/home/rohit/Desktop/rohit/kaggle_llm/aimo/code_to_execute.py\", line 15, in sum_of_sequence\n",
      "    sum_sequence = a1 + a2 + a3 + a4 + a5\n",
      "NameError: name 'a2' is not defined. Did you mean: 'a'?\n"
     ]
    },
    {
     "data": {
      "application/vnd.jupyter.widget-view+json": {
       "model_id": "ae4361bbe416442fbc211a9d76d8a85b",
       "version_major": 2,
       "version_minor": 0
      },
      "text/plain": [
       "  0%|          | 0/20 [00:00<?, ?it/s]"
      ]
     },
     "metadata": {},
     "output_type": "display_data"
    },
    {
     "name": "stderr",
     "output_type": "stream",
     "text": [
      "Setting `pad_token_id` to `eos_token_id`:100001 for open-end generation.\n",
      "Setting `pad_token_id` to `eos_token_id`:100001 for open-end generation.\n",
      "Setting `pad_token_id` to `eos_token_id`:100001 for open-end generation.\n",
      "Setting `pad_token_id` to `eos_token_id`:100001 for open-end generation.\n",
      "Setting `pad_token_id` to `eos_token_id`:100001 for open-end generation.\n",
      "Setting `pad_token_id` to `eos_token_id`:100001 for open-end generation.\n",
      "Setting `pad_token_id` to `eos_token_id`:100001 for open-end generation.\n",
      "Setting `pad_token_id` to `eos_token_id`:100001 for open-end generation.\n",
      "Setting `pad_token_id` to `eos_token_id`:100001 for open-end generation.\n",
      "Setting `pad_token_id` to `eos_token_id`:100001 for open-end generation.\n",
      "Setting `pad_token_id` to `eos_token_id`:100001 for open-end generation.\n",
      "Setting `pad_token_id` to `eos_token_id`:100001 for open-end generation.\n",
      "Setting `pad_token_id` to `eos_token_id`:100001 for open-end generation.\n",
      "Setting `pad_token_id` to `eos_token_id`:100001 for open-end generation.\n",
      "Setting `pad_token_id` to `eos_token_id`:100001 for open-end generation.\n",
      "Setting `pad_token_id` to `eos_token_id`:100001 for open-end generation.\n",
      "Setting `pad_token_id` to `eos_token_id`:100001 for open-end generation.\n",
      "Setting `pad_token_id` to `eos_token_id`:100001 for open-end generation.\n",
      "Setting `pad_token_id` to `eos_token_id`:100001 for open-end generation.\n",
      "Setting `pad_token_id` to `eos_token_id`:100001 for open-end generation.\n",
      "Traceback (most recent call last):\n",
      "  File \"/home/rohit/Desktop/rohit/kaggle_llm/aimo/code_to_execute.py\", line 18, in <module>\n",
      "    print(count_positive_integers())\n",
      "  File \"/home/rohit/Desktop/rohit/kaggle_llm/aimo/code_to_execute.py\", line 10, in count_positive_integers\n",
      "    solutions = solve(abs(abs(x - 1) - 2) - m/100, x) \n",
      "  File \"/home/rohit/Desktop/rohit/virtualenvs/rohit_transformers/lib/python3.10/site-packages/sympy/solvers/solvers.py\", line 1007, in solve\n",
      "    raise NotImplementedError('solving %s when the argument '\n",
      "NotImplementedError: solving Abs(x - 1) when the argument is not real or imaginary.\n"
     ]
    },
    {
     "name": "stdout",
     "output_type": "stream",
     "text": [
      "Exception occured in `execute_code`: Command 'timeout 7 /home/rohit/Desktop/rohit/virtualenvs/rohit_transformers/bin/python3 code_to_execute.py' returned non-zero exit status 1.\n",
      "Exception occured in `postprocess_final_answer`: unmatched '}' (<string>, line 1)\n"
     ]
    },
    {
     "name": "stderr",
     "output_type": "stream",
     "text": [
      "Traceback (most recent call last):\n",
      "  File \"/home/rohit/Desktop/rohit/kaggle_llm/aimo/code_to_execute.py\", line 19, in <module>\n",
      "    result = possible_values_of_m()\n",
      "  File \"/home/rohit/Desktop/rohit/kaggle_llm/aimo/code_to_execute.py\", line 12, in possible_values_of_m\n",
      "    solutions = solve(abs(abs(x - 1) - 2) - m_val/100, x)\n",
      "  File \"/home/rohit/Desktop/rohit/virtualenvs/rohit_transformers/lib/python3.10/site-packages/sympy/solvers/solvers.py\", line 1007, in solve\n",
      "    raise NotImplementedError('solving %s when the argument '\n",
      "NotImplementedError: solving Abs(x - 1) when the argument is not real or imaginary.\n"
     ]
    },
    {
     "name": "stdout",
     "output_type": "stream",
     "text": [
      "Exception occured in `execute_code`: Command 'timeout 7 /home/rohit/Desktop/rohit/virtualenvs/rohit_transformers/bin/python3 code_to_execute.py' returned non-zero exit status 1.\n"
     ]
    },
    {
     "name": "stderr",
     "output_type": "stream",
     "text": [
      "Traceback (most recent call last):\n",
      "  File \"/home/rohit/Desktop/rohit/kaggle_llm/aimo/code_to_execute.py\", line 17, in <module>\n",
      "    result = possible_values_m()\n",
      "  File \"/home/rohit/Desktop/rohit/kaggle_llm/aimo/code_to_execute.py\", line 11, in possible_values_m\n",
      "    solutions = solve(equation)\n",
      "  File \"/home/rohit/Desktop/rohit/virtualenvs/rohit_transformers/lib/python3.10/site-packages/sympy/solvers/solvers.py\", line 1007, in solve\n",
      "    raise NotImplementedError('solving %s when the argument '\n",
      "NotImplementedError: solving Abs(x - 1) when the argument is not real or imaginary.\n"
     ]
    },
    {
     "name": "stdout",
     "output_type": "stream",
     "text": [
      "Exception occured in `execute_code`: Command 'timeout 7 /home/rohit/Desktop/rohit/virtualenvs/rohit_transformers/bin/python3 code_to_execute.py' returned non-zero exit status 1.\n",
      "Exception occured in `postprocess_final_answer`: unmatched '}' (<string>, line 1)\n"
     ]
    },
    {
     "name": "stderr",
     "output_type": "stream",
     "text": [
      "Traceback (most recent call last):\n",
      "  File \"/home/rohit/Desktop/rohit/kaggle_llm/aimo/code_to_execute.py\", line 15, in <module>\n",
      "    result = find_m()\n",
      "  File \"/home/rohit/Desktop/rohit/kaggle_llm/aimo/code_to_execute.py\", line 10, in find_m\n",
      "    solutions = solve(equation)\n",
      "  File \"/home/rohit/Desktop/rohit/virtualenvs/rohit_transformers/lib/python3.10/site-packages/sympy/solvers/solvers.py\", line 1007, in solve\n",
      "    raise NotImplementedError('solving %s when the argument '\n",
      "NotImplementedError: solving Abs(x - 1) when the argument is not real or imaginary.\n"
     ]
    },
    {
     "name": "stdout",
     "output_type": "stream",
     "text": [
      "Exception occured in `execute_code`: Command 'timeout 7 /home/rohit/Desktop/rohit/virtualenvs/rohit_transformers/bin/python3 code_to_execute.py' returned non-zero exit status 1.\n",
      "Exception occured in `execute_code`: Command 'timeout 7 /home/rohit/Desktop/rohit/virtualenvs/rohit_transformers/bin/python3 code_to_execute.py' returned non-zero exit status 1.\n",
      "\n",
      "... RAW CODE RESULTS        : (-1, 99, 100, -1, -1, 99, 1, -1, 10, 100, -1, 100, 1, -1, -1, 399, -1, -1, -1, -1)\n",
      "... RAW BOXED RESULTS       : (1, 99, -1, 99, 1, 99, 1, 1, 10, 1, 3, 1, -1, 1, 1, 399, 1, 197, 1, 1)\n",
      "... AGGREGATED FINAL RESULT : 1\n",
      "\n",
      "\n",
      "\n",
      " =========== Problem 7 ============\n",
      "\n",
      " Problem: Suppose that we roll four 6-sided fair dice with faces numbered 1 to~6. Let $a/b$ be the probability that the highest roll is a 5, where $a$ and $b$ are relatively prime positive integers. Find $a + b$. \n",
      "\n",
      "Answer: 185\n",
      "\n",
      " Prompt: <｜begin▁of▁sentence｜>User: Suppose that we roll four 6-sided fair dice with faces numbered 1 to~6. Let $a/b$ be the probability that the highest roll is a 5, where $a$ and $b$ are relatively prime positive integers. Find $a + b$.\n",
      "Please integrate natural language reasoning with programs to solve the problem above, and put your final answer within \\boxed{}.\n",
      "\n",
      " \n"
     ]
    },
    {
     "name": "stderr",
     "output_type": "stream",
     "text": [
      "Traceback (most recent call last):\n",
      "  File \"/home/rohit/Desktop/rohit/kaggle_llm/aimo/code_to_execute.py\", line 15, in <module>\n",
      "    num_solutions = number_of_solutions()\n",
      "  File \"/home/rohit/Desktop/rohit/kaggle_llm/aimo/code_to_execute.py\", line 11, in number_of_solutions\n",
      "    num_solutions = len(solutions)\n",
      "TypeError: object of type 'ConditionSet' has no len()\n"
     ]
    },
    {
     "data": {
      "application/vnd.jupyter.widget-view+json": {
       "model_id": "2819446c2ab14fef848ca3e6b21f2c0e",
       "version_major": 2,
       "version_minor": 0
      },
      "text/plain": [
       "  0%|          | 0/20 [00:00<?, ?it/s]"
      ]
     },
     "metadata": {},
     "output_type": "display_data"
    },
    {
     "name": "stderr",
     "output_type": "stream",
     "text": [
      "Setting `pad_token_id` to `eos_token_id`:100001 for open-end generation.\n",
      "Setting `pad_token_id` to `eos_token_id`:100001 for open-end generation.\n",
      "Setting `pad_token_id` to `eos_token_id`:100001 for open-end generation.\n",
      "Setting `pad_token_id` to `eos_token_id`:100001 for open-end generation.\n",
      "Setting `pad_token_id` to `eos_token_id`:100001 for open-end generation.\n",
      "Setting `pad_token_id` to `eos_token_id`:100001 for open-end generation.\n",
      "Setting `pad_token_id` to `eos_token_id`:100001 for open-end generation.\n",
      "Setting `pad_token_id` to `eos_token_id`:100001 for open-end generation.\n",
      "Setting `pad_token_id` to `eos_token_id`:100001 for open-end generation.\n",
      "Setting `pad_token_id` to `eos_token_id`:100001 for open-end generation.\n",
      "Setting `pad_token_id` to `eos_token_id`:100001 for open-end generation.\n",
      "Setting `pad_token_id` to `eos_token_id`:100001 for open-end generation.\n",
      "Setting `pad_token_id` to `eos_token_id`:100001 for open-end generation.\n",
      "Setting `pad_token_id` to `eos_token_id`:100001 for open-end generation.\n",
      "Setting `pad_token_id` to `eos_token_id`:100001 for open-end generation.\n",
      "Setting `pad_token_id` to `eos_token_id`:100001 for open-end generation.\n",
      "Setting `pad_token_id` to `eos_token_id`:100001 for open-end generation.\n",
      "Setting `pad_token_id` to `eos_token_id`:100001 for open-end generation.\n",
      "Setting `pad_token_id` to `eos_token_id`:100001 for open-end generation.\n",
      "Setting `pad_token_id` to `eos_token_id`:100001 for open-end generation.\n"
     ]
    },
    {
     "name": "stdout",
     "output_type": "stream",
     "text": [
      "\n",
      "... RAW CODE RESULTS        : (1, 0, -1, 97, -1, -1, -1, -1, -1, -1, -1, -1, -1, 0, -1, 0, 0, -1, 1, -1)\n",
      "... RAW BOXED RESULTS       : (876, 580, 29, 194, 833, 194, 580, 449, 194, 360, 85, 449, 555, 167, 552, 546, 35, 671, 555, 449)\n",
      "... AGGREGATED FINAL RESULT : 449\n",
      "\n",
      "\n",
      "\n",
      " =========== Problem 8 ============\n",
      "\n",
      " Problem: The points $\\left(x, y\\right)$ satisfying $((\\vert x + y \\vert - 10)^2 + ( \\vert x - y \\vert - 10)^2)((\\vert x \\vert - 8)^2 + ( \\vert y \\vert - 8)^2) = 0$ enclose a convex polygon. What is the area of this convex polygon? \n",
      "\n",
      "Answer: 320\n",
      "\n",
      " Prompt: <｜begin▁of▁sentence｜>User: The points $\\left(x, y\\right)$ satisfying $((\\vert x + y \\vert - 10)^2 + ( \\vert x - y \\vert - 10)^2)((\\vert x \\vert - 8)^2 + ( \\vert y \\vert - 8)^2) = 0$ enclose a convex polygon. What is the area of this convex polygon?\n",
      "Please integrate natural language reasoning with programs to solve the problem above, and put your final answer within \\boxed{}.\n",
      "\n",
      " \n"
     ]
    },
    {
     "data": {
      "application/vnd.jupyter.widget-view+json": {
       "model_id": "35c5ea5971ef42a2a7556b820997dff4",
       "version_major": 2,
       "version_minor": 0
      },
      "text/plain": [
       "  0%|          | 0/20 [00:00<?, ?it/s]"
      ]
     },
     "metadata": {},
     "output_type": "display_data"
    },
    {
     "name": "stderr",
     "output_type": "stream",
     "text": [
      "Setting `pad_token_id` to `eos_token_id`:100001 for open-end generation.\n",
      "Setting `pad_token_id` to `eos_token_id`:100001 for open-end generation.\n",
      "Setting `pad_token_id` to `eos_token_id`:100001 for open-end generation.\n",
      "Setting `pad_token_id` to `eos_token_id`:100001 for open-end generation.\n",
      "Setting `pad_token_id` to `eos_token_id`:100001 for open-end generation.\n",
      "Setting `pad_token_id` to `eos_token_id`:100001 for open-end generation.\n",
      "Setting `pad_token_id` to `eos_token_id`:100001 for open-end generation.\n",
      "Setting `pad_token_id` to `eos_token_id`:100001 for open-end generation.\n",
      "Setting `pad_token_id` to `eos_token_id`:100001 for open-end generation.\n",
      "Setting `pad_token_id` to `eos_token_id`:100001 for open-end generation.\n",
      "Setting `pad_token_id` to `eos_token_id`:100001 for open-end generation.\n",
      "Setting `pad_token_id` to `eos_token_id`:100001 for open-end generation.\n",
      "Setting `pad_token_id` to `eos_token_id`:100001 for open-end generation.\n",
      "Setting `pad_token_id` to `eos_token_id`:100001 for open-end generation.\n",
      "Setting `pad_token_id` to `eos_token_id`:100001 for open-end generation.\n",
      "Setting `pad_token_id` to `eos_token_id`:100001 for open-end generation.\n",
      "Setting `pad_token_id` to `eos_token_id`:100001 for open-end generation.\n",
      "Setting `pad_token_id` to `eos_token_id`:100001 for open-end generation.\n",
      "Setting `pad_token_id` to `eos_token_id`:100001 for open-end generation.\n",
      "Setting `pad_token_id` to `eos_token_id`:100001 for open-end generation.\n",
      "Traceback (most recent call last):\n",
      "  File \"/home/rohit/Desktop/rohit/kaggle_llm/aimo/code_to_execute.py\", line 53, in <module>\n",
      "    result = area_of_polygon()\n",
      "  File \"/home/rohit/Desktop/rohit/kaggle_llm/aimo/code_to_execute.py\", line 15, in area_of_polygon\n",
      "    solutions1 = solve(equation1, (x, y))\n",
      "  File \"/home/rohit/Desktop/rohit/virtualenvs/rohit_transformers/lib/python3.10/site-packages/sympy/solvers/solvers.py\", line 1007, in solve\n",
      "    raise NotImplementedError('solving %s when the argument '\n",
      "NotImplementedError: solving Abs(x + y) when the argument is not real or imaginary.\n"
     ]
    },
    {
     "name": "stdout",
     "output_type": "stream",
     "text": [
      "Exception occured in `execute_code`: Command 'timeout 7 /home/rohit/Desktop/rohit/virtualenvs/rohit_transformers/bin/python3 code_to_execute.py' returned non-zero exit status 1.\n"
     ]
    },
    {
     "name": "stderr",
     "output_type": "stream",
     "text": [
      "Traceback (most recent call last):\n",
      "  File \"/home/rohit/Desktop/rohit/kaggle_llm/aimo/code_to_execute.py\", line 24, in <module>\n",
      "    result = area_of_polygon()\n",
      "  File \"/home/rohit/Desktop/rohit/kaggle_llm/aimo/code_to_execute.py\", line 17, in area_of_polygon\n",
      "    area = 2 * integrate(10 - x, (x, *points[0], *points[1]))\n",
      "  File \"/home/rohit/Desktop/rohit/virtualenvs/rohit_transformers/lib/python3.10/site-packages/sympy/integrals/integrals.py\", line 1564, in integrate\n",
      "    integral = Integral(*args, **kwargs)\n",
      "  File \"/home/rohit/Desktop/rohit/virtualenvs/rohit_transformers/lib/python3.10/site-packages/sympy/integrals/integrals.py\", line 96, in __new__\n",
      "    obj = AddWithLimits.__new__(cls, function, *symbols, **assumptions)\n",
      "  File \"/home/rohit/Desktop/rohit/virtualenvs/rohit_transformers/lib/python3.10/site-packages/sympy/concrete/expr_with_limits.py\", line 547, in __new__\n",
      "    pre = _common_new(cls, function, *symbols,\n",
      "  File \"/home/rohit/Desktop/rohit/virtualenvs/rohit_transformers/lib/python3.10/site-packages/sympy/concrete/expr_with_limits.py\", line 57, in _common_new\n",
      "    limits, orientation = _process_limits(*symbols, discrete=discrete)\n",
      "  File \"/home/rohit/Desktop/rohit/virtualenvs/rohit_transformers/lib/python3.10/site-packages/sympy/concrete/expr_with_limits.py\", line 194, in _process_limits\n",
      "    raise ValueError('Invalid limits given: %s' % str(symbols))\n",
      "ValueError: Invalid limits given: ((x, 5 - 7*sqrt(2)*I/2, 5 + 7*sqrt(2)*I/2, 5 + 7*sqrt(2)*I/2, 5 - 7*sqrt(2)*I/2),)\n"
     ]
    },
    {
     "name": "stdout",
     "output_type": "stream",
     "text": [
      "Exception occured in `execute_code`: Command 'timeout 7 /home/rohit/Desktop/rohit/virtualenvs/rohit_transformers/bin/python3 code_to_execute.py' returned non-zero exit status 1.\n"
     ]
    },
    {
     "name": "stderr",
     "output_type": "stream",
     "text": [
      "Traceback (most recent call last):\n",
      "  File \"/home/rohit/Desktop/rohit/kaggle_llm/aimo/code_to_execute.py\", line 21, in <module>\n",
      "    result = area_of_polygon()\n",
      "  File \"/home/rohit/Desktop/rohit/kaggle_llm/aimo/code_to_execute.py\", line 14, in area_of_polygon\n",
      "    poly = geometry.Polygon(*lines)\n",
      "  File \"/home/rohit/Desktop/rohit/virtualenvs/rohit_transformers/lib/python3.10/site-packages/sympy/geometry/polygon.py\", line 132, in __new__\n",
      "    vertices = [Point(a, dim=2, **kwargs) for a in args]\n",
      "  File \"/home/rohit/Desktop/rohit/virtualenvs/rohit_transformers/lib/python3.10/site-packages/sympy/geometry/polygon.py\", line 132, in <listcomp>\n",
      "    vertices = [Point(a, dim=2, **kwargs) for a in args]\n",
      "  File \"/home/rohit/Desktop/rohit/virtualenvs/rohit_transformers/lib/python3.10/site-packages/sympy/geometry/point.py\", line 125, in __new__\n",
      "    raise TypeError(filldedent('''\n",
      "TypeError: \n",
      "Expecting sequence of coordinates, not `Equality`\n"
     ]
    },
    {
     "name": "stdout",
     "output_type": "stream",
     "text": [
      "Exception occured in `execute_code`: Command 'timeout 7 /home/rohit/Desktop/rohit/virtualenvs/rohit_transformers/bin/python3 code_to_execute.py' returned non-zero exit status 1.\n",
      "\n",
      "... RAW CODE RESULTS        : (-1, 256, -1, -1, -1, 256, 544, 144, 24, 24, 356, 515, -1, 256, 256, -1, -1, 256, 256, 256)\n",
      "... RAW BOXED RESULTS       : (356, 256, 256, 100, 256, 256, 544, 144, 256, 24, 356, 503, 32, 256, 256, 32, 32, 256, 256, 256)\n",
      "... AGGREGATED FINAL RESULT : 256\n",
      "\n",
      "\n",
      "\n",
      " =========== Problem 9 ============\n",
      "\n",
      " Problem: Let $ABCD$ be a unit square. Let $P$ be the point on $AB$ such that $|AP| = 1/{20}$ and let $Q$ be the point on $AD$ such that $|AQ| = 1/{24}$. The lines $DP$ and $BQ$ divide the square into four regions. Find the ratio between the areas of the largest region and the smallest region. \n",
      "\n",
      "Answer: 480\n",
      "\n",
      " Prompt: <｜begin▁of▁sentence｜>User: Let $ABCD$ be a unit square. Let $P$ be the point on $AB$ such that $|AP| = 1/{20}$ and let $Q$ be the point on $AD$ such that $|AQ| = 1/{24}$. The lines $DP$ and $BQ$ divide the square into four regions. Find the ratio between the areas of the largest region and the smallest region.\n",
      "Please integrate natural language reasoning with programs to solve the problem above, and put your final answer within \\boxed{}.\n",
      "\n",
      " \n"
     ]
    },
    {
     "data": {
      "application/vnd.jupyter.widget-view+json": {
       "model_id": "39be6832274f48d1b963403b21f01846",
       "version_major": 2,
       "version_minor": 0
      },
      "text/plain": [
       "  0%|          | 0/20 [00:00<?, ?it/s]"
      ]
     },
     "metadata": {},
     "output_type": "display_data"
    },
    {
     "name": "stderr",
     "output_type": "stream",
     "text": [
      "Setting `pad_token_id` to `eos_token_id`:100001 for open-end generation.\n",
      "Setting `pad_token_id` to `eos_token_id`:100001 for open-end generation.\n",
      "Setting `pad_token_id` to `eos_token_id`:100001 for open-end generation.\n",
      "Setting `pad_token_id` to `eos_token_id`:100001 for open-end generation.\n",
      "Setting `pad_token_id` to `eos_token_id`:100001 for open-end generation.\n",
      "Setting `pad_token_id` to `eos_token_id`:100001 for open-end generation.\n",
      "Setting `pad_token_id` to `eos_token_id`:100001 for open-end generation.\n",
      "Setting `pad_token_id` to `eos_token_id`:100001 for open-end generation.\n",
      "Setting `pad_token_id` to `eos_token_id`:100001 for open-end generation.\n",
      "Setting `pad_token_id` to `eos_token_id`:100001 for open-end generation.\n",
      "Setting `pad_token_id` to `eos_token_id`:100001 for open-end generation.\n",
      "Setting `pad_token_id` to `eos_token_id`:100001 for open-end generation.\n",
      "Setting `pad_token_id` to `eos_token_id`:100001 for open-end generation.\n",
      "Setting `pad_token_id` to `eos_token_id`:100001 for open-end generation.\n",
      "Setting `pad_token_id` to `eos_token_id`:100001 for open-end generation.\n",
      "Setting `pad_token_id` to `eos_token_id`:100001 for open-end generation.\n",
      "Setting `pad_token_id` to `eos_token_id`:100001 for open-end generation.\n",
      "Setting `pad_token_id` to `eos_token_id`:100001 for open-end generation.\n",
      "Setting `pad_token_id` to `eos_token_id`:100001 for open-end generation.\n",
      "Setting `pad_token_id` to `eos_token_id`:100001 for open-end generation.\n"
     ]
    },
    {
     "name": "stdout",
     "output_type": "stream",
     "text": [
      "Exception occured in `postprocess_final_answer`: unexpected character after line continuation character (<string>, line 1)\n",
      "Exception occured in `postprocess_final_answer`: unexpected character after line continuation character (<string>, line 1)\n",
      "Exception occured in `postprocess_final_answer`: unexpected character after line continuation character (<string>, line 1)\n",
      "Exception occured in `postprocess_final_answer`: unexpected character after line continuation character (<string>, line 1)\n",
      "\n",
      "... RAW CODE RESULTS        : (958, 48, -1, 917, -1, 2, -1, -1, -1, 43, 227, 38, -1, -1, 771, -1, 1, 456, -1, 916)\n",
      "... RAW BOXED RESULTS       : (92, 118, 437, 13, 10, -1, 49, 911, 900, 13, -1, -1, -1, 812, 2, 192, 13, 1, 40, 340)\n",
      "... AGGREGATED FINAL RESULT : 2\n",
      "\n",
      "\n",
      "\n",
      " =========== Problem 10 ============\n",
      "\n",
      " Problem: A function $f: \\mathbb N \\to \\mathbb N$ satisfies the following two conditions for all positive integers $n$:$f(f(f(n)))=8n-7$ and $f(2n)=2f(n)+1$. Calculate $f(100)$. \n",
      "\n",
      "Answer: 199\n",
      "\n",
      " Prompt: <｜begin▁of▁sentence｜>User: A function $f: \\mathbb N \\to \\mathbb N$ satisfies the following two conditions for all positive integers $n$:$f(f(f(n)))=8n-7$ and $f(2n)=2f(n)+1$. Calculate $f(100)$.\n",
      "Please integrate natural language reasoning with programs to solve the problem above, and put your final answer within \\boxed{}.\n",
      "\n",
      " \n"
     ]
    },
    {
     "data": {
      "application/vnd.jupyter.widget-view+json": {
       "model_id": "09a267b599f94f5e9dc7845394291c38",
       "version_major": 2,
       "version_minor": 0
      },
      "text/plain": [
       "  0%|          | 0/20 [00:00<?, ?it/s]"
      ]
     },
     "metadata": {},
     "output_type": "display_data"
    },
    {
     "name": "stderr",
     "output_type": "stream",
     "text": [
      "Setting `pad_token_id` to `eos_token_id`:100001 for open-end generation.\n",
      "Setting `pad_token_id` to `eos_token_id`:100001 for open-end generation.\n",
      "Setting `pad_token_id` to `eos_token_id`:100001 for open-end generation.\n",
      "Setting `pad_token_id` to `eos_token_id`:100001 for open-end generation.\n",
      "Setting `pad_token_id` to `eos_token_id`:100001 for open-end generation.\n",
      "Setting `pad_token_id` to `eos_token_id`:100001 for open-end generation.\n",
      "Setting `pad_token_id` to `eos_token_id`:100001 for open-end generation.\n",
      "Setting `pad_token_id` to `eos_token_id`:100001 for open-end generation.\n",
      "Setting `pad_token_id` to `eos_token_id`:100001 for open-end generation.\n",
      "Setting `pad_token_id` to `eos_token_id`:100001 for open-end generation.\n",
      "Setting `pad_token_id` to `eos_token_id`:100001 for open-end generation.\n",
      "Setting `pad_token_id` to `eos_token_id`:100001 for open-end generation.\n",
      "Setting `pad_token_id` to `eos_token_id`:100001 for open-end generation.\n",
      "Setting `pad_token_id` to `eos_token_id`:100001 for open-end generation.\n",
      "Setting `pad_token_id` to `eos_token_id`:100001 for open-end generation.\n",
      "Setting `pad_token_id` to `eos_token_id`:100001 for open-end generation.\n",
      "Setting `pad_token_id` to `eos_token_id`:100001 for open-end generation.\n",
      "Setting `pad_token_id` to `eos_token_id`:100001 for open-end generation.\n",
      "Setting `pad_token_id` to `eos_token_id`:100001 for open-end generation.\n",
      "Setting `pad_token_id` to `eos_token_id`:100001 for open-end generation.\n",
      "Traceback (most recent call last):\n",
      "  File \"/home/rohit/Desktop/rohit/kaggle_llm/aimo/code_to_execute.py\", line 18, in <module>\n",
      "    result = find_f_of_100()\n",
      "  File \"/home/rohit/Desktop/rohit/kaggle_llm/aimo/code_to_execute.py\", line 12, in find_f_of_100\n",
      "    if i == 2**int(math.log2(i)):\n",
      "NameError: name 'math' is not defined\n"
     ]
    },
    {
     "name": "stdout",
     "output_type": "stream",
     "text": [
      "Exception occured in `execute_code`: Command 'timeout 7 /home/rohit/Desktop/rohit/virtualenvs/rohit_transformers/bin/python3 code_to_execute.py' returned non-zero exit status 1.\n"
     ]
    },
    {
     "name": "stderr",
     "output_type": "stream",
     "text": [
      "Traceback (most recent call last):\n",
      "  File \"/home/rohit/Desktop/rohit/kaggle_llm/aimo/code_to_execute.py\", line 25, in <module>\n",
      "    result = find_f_of_100()\n",
      "  File \"/home/rohit/Desktop/rohit/kaggle_llm/aimo/code_to_execute.py\", line 16, in find_f_of_100\n",
      "    if f(2*i)!= 2*f(i) + 1:\n",
      "  File \"/home/rohit/Desktop/rohit/kaggle_llm/aimo/code_to_execute.py\", line 18, in <lambda>\n",
      "    f = lambda n: n if n!= i else (2*f(i) + 1)\n",
      "  File \"/home/rohit/Desktop/rohit/kaggle_llm/aimo/code_to_execute.py\", line 18, in <lambda>\n",
      "    f = lambda n: n if n!= i else (2*f(i) + 1)\n",
      "  File \"/home/rohit/Desktop/rohit/kaggle_llm/aimo/code_to_execute.py\", line 18, in <lambda>\n",
      "    f = lambda n: n if n!= i else (2*f(i) + 1)\n",
      "  [Previous line repeated 995 more times]\n",
      "RecursionError: maximum recursion depth exceeded in comparison\n"
     ]
    },
    {
     "name": "stdout",
     "output_type": "stream",
     "text": [
      "Exception occured in `execute_code`: Command 'timeout 7 /home/rohit/Desktop/rohit/virtualenvs/rohit_transformers/bin/python3 code_to_execute.py' returned non-zero exit status 1.\n",
      "Exception occured in `postprocess_final_answer`: invalid syntax (<string>, line 1)\n",
      "\n",
      "... RAW CODE RESULTS        : (-1, 393, 793, 775, 201, 793, 999, 127, 775, -1, -1, -1, 793, 999, -1, 775, 201, -1, -1, -1)\n",
      "... RAW BOXED RESULTS       : (767, 393, 793, 617, 201, 793, 7, 199, 193, 8, 199, 159, 793, 793, 87, 7, 201, 1, 983, 3)\n",
      "... AGGREGATED FINAL RESULT : 793\n",
      "\n",
      "\n"
     ]
    }
   ],
   "source": [
    "reslt_df = run_on_df(data_df2)"
   ]
  },
  {
   "cell_type": "code",
   "execution_count": null,
   "id": "f6a430f6-552f-423b-b830-5bf2edd2e9c9",
   "metadata": {},
   "outputs": [],
   "source": []
  }
 ],
 "metadata": {
  "kernelspec": {
   "display_name": "python3",
   "language": "python",
   "name": "python3"
  }
 },
 "nbformat": 4,
 "nbformat_minor": 5
}
