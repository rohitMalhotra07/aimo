{
 "cells": [
  {
   "cell_type": "markdown",
   "id": "e3ff14f5",
   "metadata": {},
   "source": [
    "## Imports"
   ]
  },
  {
   "cell_type": "code",
   "execution_count": null,
   "id": "29e28da2",
   "metadata": {},
   "outputs": [
    {
     "name": "stdout",
     "output_type": "stream",
     "text": [
      "python： 3.10.12 (main, Nov 20 2023, 15:14:05) [GCC 11.4.0]\n"
     ]
    },
    {
     "name": "stderr",
     "output_type": "stream",
     "text": [
      "/tmp/ipykernel_9993/1559013524.py:7: DeprecationWarning: pkg_resources is deprecated as an API. See https://setuptools.pypa.io/en/latest/pkg_resources.html\n",
      "  import pkg_resources\n"
     ]
    }
   ],
   "source": [
    "import sys\n",
    "\n",
    "print(\"python：\", sys.version)\n",
    "\n",
    "import gc\n",
    "\n",
    "import pkg_resources"
   ]
  },
  {
   "cell_type": "code",
   "execution_count": null,
   "id": "b9202ca9",
   "metadata": {},
   "outputs": [],
   "source": [
    "def get_package_version(package_name):\n",
    "    try:\n",
    "        version = pkg_resources.get_distribution(package_name).version\n",
    "        return version\n",
    "    except pkg_resources.DistributionNotFound:\n",
    "        return \"Package not found\""
   ]
  },
  {
   "cell_type": "code",
   "execution_count": null,
   "id": "1b4315a4",
   "metadata": {},
   "outputs": [
    {
     "name": "stdout",
     "output_type": "stream",
     "text": [
      "torch：2.3.0\n"
     ]
    }
   ],
   "source": [
    "package_name = \"torch\"\n",
    "version = get_package_version(package_name)\n",
    "print(f\"{package_name}：{version}\")"
   ]
  },
  {
   "cell_type": "code",
   "execution_count": null,
   "id": "7a8e34ff",
   "metadata": {},
   "outputs": [
    {
     "name": "stdout",
     "output_type": "stream",
     "text": [
      "transformers：4.40.1\n"
     ]
    }
   ],
   "source": [
    "package_name = \"transformers\"\n",
    "version = get_package_version(package_name)\n",
    "print(f\"{package_name}：{version}\")"
   ]
  },
  {
   "cell_type": "code",
   "execution_count": null,
   "id": "fa7c6afb",
   "metadata": {},
   "outputs": [
    {
     "name": "stdout",
     "output_type": "stream",
     "text": [
      "pandas：2.2.2\n"
     ]
    }
   ],
   "source": [
    "package_name = \"pandas\"\n",
    "version = get_package_version(package_name)\n",
    "print(f\"{package_name}：{version}\")"
   ]
  },
  {
   "cell_type": "code",
   "execution_count": null,
   "id": "bbf43da8",
   "metadata": {},
   "outputs": [],
   "source": [
    "import math\n",
    "import random\n",
    "import re\n",
    "import subprocess\n",
    "import sys\n",
    "from collections import Counter, defaultdict\n",
    "\n",
    "import numpy as np\n",
    "import pandas as pd\n",
    "from numpy.random import choice\n",
    "from tqdm import tqdm"
   ]
  },
  {
   "cell_type": "code",
   "execution_count": null,
   "id": "a1407238",
   "metadata": {},
   "outputs": [],
   "source": [
    "import transformers\n",
    "from transformers import (\n",
    "    AutoConfig,\n",
    "    AutoModelForCausalLM,\n",
    "    AutoTokenizer,\n",
    "    StoppingCriteria,\n",
    "    StoppingCriteriaList,\n",
    "    set_seed,\n",
    ")"
   ]
  },
  {
   "cell_type": "code",
   "execution_count": null,
   "id": "0ffafd3d",
   "metadata": {},
   "outputs": [
    {
     "name": "stdout",
     "output_type": "stream",
     "text": [
      "CUDA： 12.1\n"
     ]
    }
   ],
   "source": [
    "import torch\n",
    "\n",
    "cuda_version = torch.version.cuda\n",
    "print(\"CUDA：\", cuda_version)"
   ]
  },
  {
   "cell_type": "code",
   "execution_count": null,
   "id": "8cee40db",
   "metadata": {},
   "outputs": [],
   "source": [
    "import time"
   ]
  },
  {
   "cell_type": "code",
   "execution_count": null,
   "id": "90a61c76",
   "metadata": {},
   "outputs": [],
   "source": []
  },
  {
   "cell_type": "code",
   "execution_count": null,
   "id": "629ce043",
   "metadata": {},
   "outputs": [],
   "source": [
    "## Config\n",
    "class Config:\n",
    "    SEED = 42  # SEEDING\n",
    "    DEBUG = False\n",
    "    QUANT = True  # To use quantised version or not\n",
    "    PRIVATE = False  # True for Kaggle submission\n",
    "    USE_PAST_KEY = True\n",
    "    MEM_EFFICIENT_SDP = False  # enable memory efficient scaled dot product\n",
    "    n_repetitions = 19 if PRIVATE else 3  # Number of answers to generate\n",
    "    TOTAL_TOKENS = 2048\n",
    "    # TIME_LIMIT = 31500 if PRIVATE else 1\n",
    "    TIME_LIMIT = 31500\n",
    "\n",
    "    #     MODEL_PATH = \"/kaggle/input/deepseek-math\"\n",
    "    # MODEL_PATH =  \"/kaggle/input/open-math-mistral\"\n",
    "    MODEL_PATH = \"deepseek-ai/deepseek-math-7b-rl\"\n",
    "\n",
    "    ENABLE_GRADIENT_CHECKPOINTING = True\n",
    "\n",
    "    temperature = 0.9\n",
    "    top_p = 1.0\n",
    "\n",
    "    temperature_coding = 0.9\n",
    "    top_p_coding = 1.0"
   ]
  },
  {
   "cell_type": "code",
   "execution_count": null,
   "id": "beabd296",
   "metadata": {},
   "outputs": [],
   "source": [
    "cnfg = Config()"
   ]
  },
  {
   "cell_type": "code",
   "execution_count": null,
   "id": "ca6243bf",
   "metadata": {},
   "outputs": [],
   "source": []
  },
  {
   "cell_type": "code",
   "execution_count": null,
   "id": "4badc215",
   "metadata": {},
   "outputs": [],
   "source": [
    "torch.backends.cuda.enable_mem_efficient_sdp(cnfg.MEM_EFFICIENT_SDP)"
   ]
  },
  {
   "cell_type": "code",
   "execution_count": null,
   "id": "8a8d154c",
   "metadata": {},
   "outputs": [
    {
     "name": "stdout",
     "output_type": "stream",
     "text": [
      "CPU times: user 4.26 ms, sys: 181 µs, total: 4.44 ms\n",
      "Wall time: 4.22 ms\n"
     ]
    }
   ],
   "source": [
    "%%time\n",
    "if cnfg.QUANT:\n",
    "    from transformers import BitsAndBytesConfig\n",
    "\n",
    "    quantization_config = BitsAndBytesConfig(\n",
    "        load_in_4bit=True,\n",
    "        bnb_4bit_quant_type=\"nf4\",\n",
    "        bnb_4bit_compute_dtype=torch.bfloat16,\n",
    "        bnb_4bit_use_double_quant=True,\n",
    "    )\n",
    "\n",
    "    # !pip install -U /kaggle/input/accelerate-wheelwhl/accelerate-0.29.1-py3-none-any.whl -qq\n",
    "    # !pip install -U /kaggle/input/bitsandbytes-0-42-0-py3-none-any-whl/bitsandbytes-0.42.0-py3-none-any.whl -qq\n",
    "\n",
    "\n",
    "set_seed(cnfg.SEED)"
   ]
  },
  {
   "cell_type": "code",
   "execution_count": null,
   "id": "9c78bc6d",
   "metadata": {},
   "outputs": [],
   "source": []
  },
  {
   "cell_type": "markdown",
   "id": "287cdc98",
   "metadata": {},
   "source": [
    "## Utils"
   ]
  },
  {
   "cell_type": "code",
   "execution_count": null,
   "id": "6e201bdc",
   "metadata": {},
   "outputs": [],
   "source": [
    "def naive_parse(answer):\n",
    "    \"\"\"\n",
    "    Takes the generated text and parses the numerical text in the end.\n",
    "    \"\"\"\n",
    "    out = []\n",
    "    start = False\n",
    "    end = False\n",
    "    for l in reversed(list(answer)):\n",
    "        if l in \"0123456789\" and not end:\n",
    "            start = True\n",
    "            out.append(l)\n",
    "        else:\n",
    "            if start:\n",
    "                end = True\n",
    "\n",
    "    out = reversed(out)\n",
    "    return \"\".join(out)"
   ]
  },
  {
   "cell_type": "code",
   "execution_count": null,
   "id": "8f8f32f5",
   "metadata": {},
   "outputs": [],
   "source": [
    "def return_last_print(output, n):\n",
    "    \"\"\"\n",
    "    Return the nth line from the given output\n",
    "    Used for getting the last print from the generated code.\n",
    "    \"\"\"\n",
    "    lines = output.strip().split(\"\\n\")\n",
    "    if lines:\n",
    "        return lines[n]\n",
    "    else:\n",
    "        return \"\""
   ]
  },
  {
   "cell_type": "code",
   "execution_count": null,
   "id": "8d84542e",
   "metadata": {},
   "outputs": [],
   "source": [
    "def process_code(code, return_shell_output=False):\n",
    "    \"\"\"\n",
    "    Given the generated code this functions executes and returns the output\n",
    "    \"\"\"\n",
    "\n",
    "    def repl(match):\n",
    "        if \"real\" not in match.group():\n",
    "            return \"{}{}\".format(match.group()[:-1], \", real=True)\")\n",
    "        else:\n",
    "            return \"{}{}\".format(match.group()[:-1], \")\")\n",
    "\n",
    "    code = re.sub(r\"symbols\\([^)]+\\)\", repl, code)\n",
    "\n",
    "    if return_shell_output:\n",
    "        code = code.replace(\"\\n\", \"\\n    \")\n",
    "        # Add a try...except block\n",
    "        code = \"\\ntry:\\n    from sympy import *\\n{}\\nexcept Exception as e:\\n    print(e)\\n    print('FAIL')\\n\".format(\n",
    "            code\n",
    "        )\n",
    "\n",
    "    if not return_shell_output:\n",
    "        print(code)\n",
    "    with open(\"code.py\", \"w\") as fout:\n",
    "        fout.write(code)\n",
    "\n",
    "    batcmd = \"timeout 7 \" + sys.executable + \" code.py\"\n",
    "    try:\n",
    "        shell_output = subprocess.check_output(batcmd, shell=True).decode(\"utf8\")\n",
    "        return_value = return_last_print(shell_output, -1)\n",
    "        print(shell_output)\n",
    "        if return_shell_output:\n",
    "            if return_value == \"FAIL\":\n",
    "                CODE_STATUS = False\n",
    "                return_value = return_last_print(shell_output, -2)\n",
    "                if \"not defined\" in return_value:\n",
    "                    return_value += \"\\nTry checking the formatting and imports\"\n",
    "            else:\n",
    "                CODE_STATUS = True\n",
    "            return return_value, CODE_STATUS\n",
    "        code_output = round(float(eval(return_value))) % 1000\n",
    "    except Exception as e:\n",
    "        print(e, \"shell_output\")\n",
    "        code_output = -1\n",
    "\n",
    "    if return_shell_output:\n",
    "        if code_output == -1:\n",
    "            CODE_STATUS = False\n",
    "        else:\n",
    "            CODE_STATUS = True\n",
    "        return code_output, CODE_STATUS\n",
    "\n",
    "    return code_output"
   ]
  },
  {
   "cell_type": "code",
   "execution_count": null,
   "id": "b4d0ad15",
   "metadata": {},
   "outputs": [],
   "source": [
    "def process_text_output(output):\n",
    "    \"\"\"\n",
    "    Parsing text output.\n",
    "    \"\"\"\n",
    "    result = output\n",
    "    try:\n",
    "        result_output = re.findall(r\"\\\\boxed\\{(\\d+)\\}\", result)\n",
    "\n",
    "        print(\"BOXED\", result_output)\n",
    "        if not len(result_output):\n",
    "            result_output = naive_parse(result)\n",
    "        else:\n",
    "            result_output = result_output[-1]\n",
    "\n",
    "        print(\"BOXED FINAL\", result_output)\n",
    "        if not len(result_output):\n",
    "            result_output = -1\n",
    "\n",
    "        else:\n",
    "            result_output = round(float(eval(result_output))) % 1000\n",
    "\n",
    "    except Exception as e:\n",
    "        print(e)\n",
    "        print(\"ERROR PARSING TEXT\")\n",
    "        result_output = -1\n",
    "\n",
    "    return result_output"
   ]
  },
  {
   "cell_type": "code",
   "execution_count": null,
   "id": "dac90bd6-a7c9-42fc-8491-eadf55d4bdd8",
   "metadata": {},
   "outputs": [],
   "source": []
  },
  {
   "cell_type": "code",
   "execution_count": null,
   "id": "816bd7cf-22d0-4c74-a48c-4559e361dd98",
   "metadata": {},
   "outputs": [],
   "source": []
  },
  {
   "cell_type": "code",
   "execution_count": null,
   "id": "d428f85b",
   "metadata": {},
   "outputs": [],
   "source": []
  },
  {
   "cell_type": "markdown",
   "id": "247111f6",
   "metadata": {},
   "source": [
    "## Model"
   ]
  },
  {
   "cell_type": "code",
   "execution_count": null,
   "id": "febc2614",
   "metadata": {},
   "outputs": [
    {
     "data": {
      "text/plain": [
       "40"
      ]
     },
     "execution_count": null,
     "metadata": {},
     "output_type": "execute_result"
    }
   ],
   "source": [
    "torch.cuda.empty_cache()\n",
    "gc.collect()"
   ]
  },
  {
   "cell_type": "code",
   "execution_count": null,
   "id": "9f210aac-5e4b-4e67-a63f-7fd480ae9373",
   "metadata": {},
   "outputs": [
    {
     "name": "stderr",
     "output_type": "stream",
     "text": [
      "/home/rohit/Desktop/rohit/virtualenvs/rohit_transformers/lib/python3.10/site-packages/huggingface_hub/file_download.py:1132: FutureWarning: `resume_download` is deprecated and will be removed in version 1.0.0. Downloads always resume when possible. If you want to force a new download, use `force_download=True`.\n",
      "  warnings.warn(\n",
      "Special tokens have been added in the vocabulary, make sure the associated word embeddings are fine-tuned or trained.\n"
     ]
    },
    {
     "name": "stdout",
     "output_type": "stream",
     "text": [
      "CPU times: user 197 ms, sys: 48.7 ms, total: 246 ms\n",
      "Wall time: 589 ms\n"
     ]
    }
   ],
   "source": [
    "%%time\n",
    "config = AutoConfig.from_pretrained(cnfg.MODEL_PATH)\n",
    "config.gradient_checkpointing = cnfg.ENABLE_GRADIENT_CHECKPOINTING\n",
    "\n",
    "tokenizer = AutoTokenizer.from_pretrained(cnfg.MODEL_PATH)"
   ]
  },
  {
   "cell_type": "code",
   "execution_count": null,
   "id": "46a2821a-0629-4719-bd96-5acb91b1f896",
   "metadata": {},
   "outputs": [],
   "source": [
    "# ## For 2 T4 GPUs\n",
    "# device_map = [('model.embed_tokens', 0),\n",
    "#              ('model.layers.0', 0),\n",
    "#              ('model.layers.1', 0),\n",
    "#              ('model.layers.2', 0),\n",
    "#              ('model.layers.3', 0),\n",
    "#              ('model.layers.4', 0),\n",
    "#              ('model.layers.5', 0),\n",
    "#              ('model.layers.6', 0),\n",
    "#              ('model.layers.7', 0),\n",
    "#              ('model.layers.8', 0),\n",
    "#              ('model.layers.9', 0),\n",
    "#              ('model.layers.10', 0),\n",
    "#              ('model.layers.11', 0),\n",
    "#              ('model.layers.12', 0),\n",
    "#              ('model.layers.13', 0),\n",
    "#              ('model.layers.14', 0),\n",
    "#              ('model.layers.15', 0),\n",
    "#              ('model.layers.16', 0),\n",
    "#              ('model.layers.17', 0),\n",
    "#              ('model.layers.18', 0),\n",
    "#              ('model.layers.19', 0),\n",
    "#              ('model.layers.20', 0),\n",
    "#              ('model.layers.21', 0),\n",
    "#              ('model.layers.22', 1),\n",
    "#              ('model.layers.23', 1),\n",
    "#              ('model.layers.24', 1),\n",
    "#              ('model.layers.25', 1),\n",
    "#              ('model.layers.26', 1),\n",
    "#              ('model.layers.27', 1),\n",
    "#              ('model.layers.28', 1),\n",
    "#              ('model.layers.29', 1),\n",
    "#              ('model.norm', 1),\n",
    "#              ('lm_head', 1)]\n",
    "\n",
    "# if 'open-math' in cnfg.MODEL_PATH:\n",
    "#     device_map = 'auto'\n",
    "#     print(device_map)\n",
    "# else:\n",
    "#     device_map = {ii:jj for (ii,jj) in device_map}"
   ]
  },
  {
   "cell_type": "code",
   "execution_count": null,
   "id": "1144b172-6ab8-4fef-a5ef-762c1d2fc051",
   "metadata": {},
   "outputs": [],
   "source": [
    "device_map = \"auto\""
   ]
  },
  {
   "cell_type": "code",
   "execution_count": null,
   "id": "5ed2bdcb-214e-4563-a627-04f35acc45b5",
   "metadata": {},
   "outputs": [],
   "source": []
  },
  {
   "cell_type": "code",
   "execution_count": null,
   "id": "1eae36b8",
   "metadata": {},
   "outputs": [
    {
     "data": {
      "application/vnd.jupyter.widget-view+json": {
       "model_id": "452f8c31c20f4e93a171ae6de01ccb3b",
       "version_major": 2,
       "version_minor": 0
      },
      "text/plain": [
       "Loading checkpoint shards:   0%|          | 0/2 [00:00<?, ?it/s]"
      ]
     },
     "metadata": {},
     "output_type": "display_data"
    },
    {
     "name": "stderr",
     "output_type": "stream",
     "text": [
      "/home/rohit/Desktop/rohit/virtualenvs/rohit_transformers/lib/python3.10/site-packages/huggingface_hub/file_download.py:1132: FutureWarning: `resume_download` is deprecated and will be removed in version 1.0.0. Downloads always resume when possible. If you want to force a new download, use `force_download=True`.\n",
      "  warnings.warn(\n"
     ]
    }
   ],
   "source": [
    "if cnfg.QUANT:\n",
    "    from transformers import BitsAndBytesConfig\n",
    "\n",
    "    quantization_config = BitsAndBytesConfig(\n",
    "        load_in_4bit=True,\n",
    "        bnb_4bit_quant_type=\"nf4\",\n",
    "        bnb_4bit_compute_dtype=torch.bfloat16,\n",
    "        bnb_4bit_use_double_quant=True,\n",
    "    )\n",
    "    model = AutoModelForCausalLM.from_pretrained(\n",
    "        cnfg.MODEL_PATH,\n",
    "        device_map=\"sequential\",\n",
    "        torch_dtype=\"auto\",\n",
    "        trust_remote_code=True,\n",
    "        quantization_config=quantization_config,\n",
    "        config=config,\n",
    "    )\n",
    "else:\n",
    "    model = AutoModelForCausalLM.from_pretrained(\n",
    "        cnfg.MODEL_PATH,\n",
    "        device_map=device_map,\n",
    "        torch_dtype=\"auto\",\n",
    "        trust_remote_code=True,\n",
    "        # quantization_config=quantization_config,\n",
    "        config=config,\n",
    "    )\n",
    "\n",
    "pipeline = transformers.pipeline(\n",
    "    \"text-generation\",\n",
    "    model=model,\n",
    "    tokenizer=tokenizer,\n",
    "    torch_dtype=\"auto\",\n",
    "    device_map=device_map,\n",
    ")"
   ]
  },
  {
   "cell_type": "code",
   "execution_count": null,
   "id": "9b3fd325",
   "metadata": {},
   "outputs": [
    {
     "data": {
      "text/plain": [
       "(torch.bfloat16, {'': 0})"
      ]
     },
     "execution_count": null,
     "metadata": {},
     "output_type": "execute_result"
    }
   ],
   "source": [
    "model.dtype, model.hf_device_map"
   ]
  },
  {
   "cell_type": "code",
   "execution_count": null,
   "id": "9b9e1131",
   "metadata": {},
   "outputs": [],
   "source": [
    "class StoppingCriteriaSub(StoppingCriteria):\n",
    "    def __init__(self, stops=[], encounters=1):\n",
    "        super().__init__()\n",
    "        self.stops = [stop.to(\"cuda\") for stop in stops]\n",
    "\n",
    "    def __call__(self, input_ids: torch.LongTensor, scores: torch.FloatTensor):\n",
    "        for stop in self.stops:\n",
    "            last_token = input_ids[0][-len(stop) :]\n",
    "            if torch.all(torch.eq(stop, last_token)):\n",
    "                return True\n",
    "        return False\n",
    "\n",
    "\n",
    "stop_words = [\"```output\", \"```python\", \"```\\nOutput\", \")\\n```\", \"``````output\"]  # ,\n",
    "stop_words_ids = [\n",
    "    tokenizer(stop_word, return_tensors=\"pt\", add_special_tokens=False)[\n",
    "        \"input_ids\"\n",
    "    ].squeeze()\n",
    "    for stop_word in stop_words\n",
    "]\n",
    "stopping_criteria = StoppingCriteriaList([StoppingCriteriaSub(stops=stop_words_ids)])"
   ]
  },
  {
   "cell_type": "code",
   "execution_count": null,
   "id": "9f1ccbc6",
   "metadata": {},
   "outputs": [],
   "source": []
  },
  {
   "cell_type": "markdown",
   "id": "9e1e7aa6",
   "metadata": {},
   "source": [
    "## Prompts"
   ]
  },
  {
   "cell_type": "code",
   "execution_count": null,
   "id": "17112e06-51c6-4657-a313-19336d109252",
   "metadata": {},
   "outputs": [],
   "source": []
  },
  {
   "cell_type": "code",
   "execution_count": null,
   "id": "c4185995",
   "metadata": {},
   "outputs": [],
   "source": [
    "# Chain of thought\n",
    "cot1 = \"\"\"Here are few sample math problems and there solution with explanation without program:\n",
    "\n",
    "1) Sample Problem 1:\n",
    "\n",
    "\\\"A bag has 3 red marbles and 5 white marbles.  Two marbles are drawn from the bag and not replaced.  What is the probability that the first marble is red and the second marble is white?\\\"\n",
    "\n",
    "Solution for sample problem 1:\n",
    "\n",
    "\\\"The probability that the first is red is $\\dfrac38$.  Now with 7 remaining, the probability that the second is white is $\\dfrac57$. The answer is $\\dfrac38 \\times \\dfrac57 = \\boxed{\\dfrac{15}{56}}$.\\\"\n",
    "\n",
    "\n",
    "2) Sample Problem 2:\n",
    "\n",
    "\\\"A certain integer has $4$ digits when written in base $8$. The same integer has $d$ digits when written in base $2$. What is the sum of all possible values of $d$?\\\"\n",
    "\n",
    "Solution for sample problem 2:\n",
    "\n",
    "\\\"The smallest integer that has $4$ digits in base $8$ is $1000_8$, which stands for $8^3 = 2^9$. The largest integer that has $4$ digits in base $8$ is $7777_8$, which is $1$ less than $10000_8$ and therefore stands for $8^4-1 = 2^{12}-1$.\n",
    "\n",
    "Thus, when a $4$-digit base-$8$ integer is written in base $2$, its highest place value is either $2^9$, $2^{10}$, or $2^{11}$. It follows that the base-$2$ expression has $10$, $11$, or $12$ digits, so the sum of all possible values for $d$ is $10+11+12 = \\boxed{33}$.\\\"\n",
    "\n",
    "\n",
    "\n",
    "Now below is a math problem you are to solve (positive numerical answer!):\n",
    "\\\"{..rohit..}\\\"\n",
    "\n",
    "Analyze this problem, give an explanation and then come to a solution with programs. \n",
    "\n",
    "After solving the problem, output the final numerical answer within \\\\boxed{}.\\n\\n\"\"\""
   ]
  },
  {
   "cell_type": "code",
   "execution_count": null,
   "id": "b0853b4f-6d4c-49ce-99c7-689604e53208",
   "metadata": {},
   "outputs": [],
   "source": [
    "# Chain of thought\n",
    "cot2 = \"\"\"Here are few sample math problems and there solution with explanation without program:\n",
    "\n",
    "1) Sample Problem 1:\n",
    "\n",
    "\\\"A bag has 3 red marbles and 5 white marbles.  Two marbles are drawn from the bag and not replaced.  What is the probability that the first marble is red and the second marble is white?\\\"\n",
    "\n",
    "Solution for sample problem 1:\n",
    "\n",
    "\\\"The probability that the first is red is $\\dfrac38$.  Now with 7 remaining, the probability that the second is white is $\\dfrac57$. The answer is $\\dfrac38 \\times \\dfrac57 = \\boxed{\\dfrac{15}{56}}$.\\\"\n",
    "\n",
    "\n",
    "2) Sample Problem 2:\n",
    "\n",
    "\\\"A certain integer has $4$ digits when written in base $8$. The same integer has $d$ digits when written in base $2$. What is the sum of all possible values of $d$?\\\"\n",
    "\n",
    "Solution for sample problem 2:\n",
    "\n",
    "\\\"The smallest integer that has $4$ digits in base $8$ is $1000_8$, which stands for $8^3 = 2^9$. The largest integer that has $4$ digits in base $8$ is $7777_8$, which is $1$ less than $10000_8$ and therefore stands for $8^4-1 = 2^{12}-1$.\n",
    "\n",
    "Thus, when a $4$-digit base-$8$ integer is written in base $2$, its highest place value is either $2^9$, $2^{10}$, or $2^{11}$. It follows that the base-$2$ expression has $10$, $11$, or $12$ digits, so the sum of all possible values for $d$ is $10+11+12 = \\boxed{33}$.\\\"\n",
    "\n",
    "\n",
    "\n",
    "Now below is a math problem you are to solve (positive numerical answer!):\n",
    "\\\"{..rohit..}\\\"\n",
    "\n",
    "Analyze this problem, give an explanation and then come to a solution without programs. \n",
    "\n",
    "After solving the problem, output the final numerical answer within \\\\boxed{}.\\n\\n\"\"\""
   ]
  },
  {
   "cell_type": "code",
   "execution_count": null,
   "id": "3a14b141-8706-457f-b7b8-a07a11da50fe",
   "metadata": {},
   "outputs": [],
   "source": []
  },
  {
   "cell_type": "code",
   "execution_count": null,
   "id": "dd731e76",
   "metadata": {},
   "outputs": [],
   "source": [
    "tool_instruction = \"\\n\\nPlease integrate natural language reasoning with programs to solve the above problem, and put your final numerical answer within \\\\boxed{}.\\nNote that the intermediary calculations may be real numbers, but the final numerical answer would always be an integer.\""
   ]
  },
  {
   "cell_type": "code",
   "execution_count": null,
   "id": "870c1efb",
   "metadata": {},
   "outputs": [],
   "source": [
    "promplt_options = [cot1, cot2]"
   ]
  },
  {
   "cell_type": "code",
   "execution_count": null,
   "id": "e5d72ca9-f48f-4cb6-9362-3c5ef80635b9",
   "metadata": {},
   "outputs": [],
   "source": []
  },
  {
   "cell_type": "markdown",
   "id": "99623505-7254-415e-b399-f7d948d2b048",
   "metadata": {},
   "source": [
    "### Read Data"
   ]
  },
  {
   "cell_type": "code",
   "execution_count": null,
   "id": "9978234f-b8a8-489a-8759-144327de4888",
   "metadata": {},
   "outputs": [],
   "source": [
    "data_df = pd.read_csv(\"./data/aimo_given/train.csv\")"
   ]
  },
  {
   "cell_type": "code",
   "execution_count": null,
   "id": "e906d0b2-6d72-4e5d-9368-74a0c22ff41a",
   "metadata": {},
   "outputs": [
    {
     "data": {
      "text/html": [
       "<div>\n",
       "<style scoped>\n",
       "    .dataframe tbody tr th:only-of-type {\n",
       "        vertical-align: middle;\n",
       "    }\n",
       "\n",
       "    .dataframe tbody tr th {\n",
       "        vertical-align: top;\n",
       "    }\n",
       "\n",
       "    .dataframe thead th {\n",
       "        text-align: right;\n",
       "    }\n",
       "</style>\n",
       "<table border=\"1\" class=\"dataframe\">\n",
       "  <thead>\n",
       "    <tr style=\"text-align: right;\">\n",
       "      <th></th>\n",
       "      <th>id</th>\n",
       "      <th>problem</th>\n",
       "      <th>answer</th>\n",
       "    </tr>\n",
       "  </thead>\n",
       "  <tbody>\n",
       "    <tr>\n",
       "      <th>0</th>\n",
       "      <td>229ee8</td>\n",
       "      <td>Let $k, l &gt; 0$ be parameters. The parabola $y ...</td>\n",
       "      <td>52</td>\n",
       "    </tr>\n",
       "    <tr>\n",
       "      <th>1</th>\n",
       "      <td>246d26</td>\n",
       "      <td>Each of the three-digits numbers $111$ to $999...</td>\n",
       "      <td>250</td>\n",
       "    </tr>\n",
       "    <tr>\n",
       "      <th>2</th>\n",
       "      <td>2fc4ad</td>\n",
       "      <td>Let the `sparkle' operation on positive intege...</td>\n",
       "      <td>702</td>\n",
       "    </tr>\n",
       "    <tr>\n",
       "      <th>3</th>\n",
       "      <td>430b63</td>\n",
       "      <td>What is the minimum value of $5x^2+5y^2-8xy$ w...</td>\n",
       "      <td>800</td>\n",
       "    </tr>\n",
       "    <tr>\n",
       "      <th>4</th>\n",
       "      <td>5277ed</td>\n",
       "      <td>There exists a unique increasing geometric seq...</td>\n",
       "      <td>211</td>\n",
       "    </tr>\n",
       "  </tbody>\n",
       "</table>\n",
       "</div>"
      ],
      "text/plain": [
       "       id                                            problem  answer\n",
       "0  229ee8  Let $k, l > 0$ be parameters. The parabola $y ...      52\n",
       "1  246d26  Each of the three-digits numbers $111$ to $999...     250\n",
       "2  2fc4ad  Let the `sparkle' operation on positive intege...     702\n",
       "3  430b63  What is the minimum value of $5x^2+5y^2-8xy$ w...     800\n",
       "4  5277ed  There exists a unique increasing geometric seq...     211"
      ]
     },
     "execution_count": null,
     "metadata": {},
     "output_type": "execute_result"
    }
   ],
   "source": [
    "data_df.head()"
   ]
  },
  {
   "cell_type": "code",
   "execution_count": null,
   "id": "06f084d2-7a1b-4426-8c69-b5813df11ab4",
   "metadata": {},
   "outputs": [],
   "source": [
    "sample_df = data_df.sample(2)"
   ]
  },
  {
   "cell_type": "code",
   "execution_count": null,
   "id": "53edbdd8-cf0c-400b-8399-aa0ab10f7f2a",
   "metadata": {},
   "outputs": [
    {
     "data": {
      "text/html": [
       "<div>\n",
       "<style scoped>\n",
       "    .dataframe tbody tr th:only-of-type {\n",
       "        vertical-align: middle;\n",
       "    }\n",
       "\n",
       "    .dataframe tbody tr th {\n",
       "        vertical-align: top;\n",
       "    }\n",
       "\n",
       "    .dataframe thead th {\n",
       "        text-align: right;\n",
       "    }\n",
       "</style>\n",
       "<table border=\"1\" class=\"dataframe\">\n",
       "  <thead>\n",
       "    <tr style=\"text-align: right;\">\n",
       "      <th></th>\n",
       "      <th>id</th>\n",
       "      <th>problem</th>\n",
       "      <th>answer</th>\n",
       "    </tr>\n",
       "  </thead>\n",
       "  <tbody>\n",
       "    <tr>\n",
       "      <th>5</th>\n",
       "      <td>739bc9</td>\n",
       "      <td>For how many positive integers $m$ does the eq...</td>\n",
       "      <td>199</td>\n",
       "    </tr>\n",
       "    <tr>\n",
       "      <th>4</th>\n",
       "      <td>5277ed</td>\n",
       "      <td>There exists a unique increasing geometric seq...</td>\n",
       "      <td>211</td>\n",
       "    </tr>\n",
       "  </tbody>\n",
       "</table>\n",
       "</div>"
      ],
      "text/plain": [
       "       id                                            problem  answer\n",
       "5  739bc9  For how many positive integers $m$ does the eq...     199\n",
       "4  5277ed  There exists a unique increasing geometric seq...     211"
      ]
     },
     "execution_count": null,
     "metadata": {},
     "output_type": "execute_result"
    }
   ],
   "source": [
    "sample_df"
   ]
  },
  {
   "cell_type": "code",
   "execution_count": null,
   "id": "1eeef4a0-4348-4694-8f48-3737bf79fde5",
   "metadata": {},
   "outputs": [
    {
     "data": {
      "text/plain": [
       "'For how many positive integers $m$ does the equation \\\\[\\\\vert \\\\vert x-1 \\\\vert -2 \\\\vert=\\\\frac{m}{100}\\\\] have $4$ distinct solutions?'"
      ]
     },
     "execution_count": null,
     "metadata": {},
     "output_type": "execute_result"
    }
   ],
   "source": [
    "sample_df.iloc[0].problem"
   ]
  },
  {
   "cell_type": "code",
   "execution_count": null,
   "id": "1fcea3cb-2382-49ce-a348-3ad803a5e600",
   "metadata": {},
   "outputs": [
    {
     "data": {
      "text/plain": [
       "'Here are few sample math problems and there solution with explanation without program:\\n\\n1) Sample Problem 1:\\n\\n\"A bag has 3 red marbles and 5 white marbles.  Two marbles are drawn from the bag and not replaced.  What is the probability that the first marble is red and the second marble is white?\"\\n\\nSolution for sample problem 1:\\n\\n\"The probability that the first is red is $\\\\dfrac38$.  Now with 7 remaining, the probability that the second is white is $\\\\dfrac57$. The answer is $\\\\dfrac38 \\times \\\\dfrac57 = \\x08oxed{\\\\dfrac{15}{56}}$.\"\\n\\n\\n2) Sample Problem 2:\\n\\n\"A certain integer has $4$ digits when written in base $8$. The same integer has $d$ digits when written in base $2$. What is the sum of all possible values of $d$?\"\\n\\nSolution for sample problem 2:\\n\\n\"The smallest integer that has $4$ digits in base $8$ is $1000_8$, which stands for $8^3 = 2^9$. The largest integer that has $4$ digits in base $8$ is $7777_8$, which is $1$ less than $10000_8$ and therefore stands for $8^4-1 = 2^{12}-1$.\\n\\nThus, when a $4$-digit base-$8$ integer is written in base $2$, its highest place value is either $2^9$, $2^{10}$, or $2^{11}$. It follows that the base-$2$ expression has $10$, $11$, or $12$ digits, so the sum of all possible values for $d$ is $10+11+12 = \\x08oxed{33}$.\"\\n\\n\\n\\nNow below is a math problem you are to solve (positive numerical answer!):\\n\"For how many positive integers $m$ does the equation \\\\[\\\\vert \\\\vert x-1 \\\\vert -2 \\\\vert=\\\\frac{m}{100}\\\\] have $4$ distinct solutions?\"\\nAnalyze this problem, give an explanation and then come to a solution without programs. \\n\\nAfter solving the problem, output the final numerical answer within \\\\boxed{}.\\n\\n'"
      ]
     },
     "execution_count": null,
     "metadata": {},
     "output_type": "execute_result"
    }
   ],
   "source": [
    "cot.replace(\"{..rohit..}\", sample_df.iloc[0].problem)"
   ]
  },
  {
   "cell_type": "code",
   "execution_count": null,
   "id": "13dd3340-aa1f-4f7a-89c9-8fef8190e824",
   "metadata": {},
   "outputs": [],
   "source": []
  },
  {
   "cell_type": "markdown",
   "id": "66f534bc",
   "metadata": {},
   "source": [
    "## Inference"
   ]
  },
  {
   "cell_type": "code",
   "execution_count": null,
   "id": "b7b8507e-de6d-4013-bdbc-5a51b63d88da",
   "metadata": {},
   "outputs": [],
   "source": []
  },
  {
   "cell_type": "code",
   "execution_count": null,
   "id": "cab4b99a-7389-491d-b890-342e444b2d36",
   "metadata": {},
   "outputs": [],
   "source": [
    "NOTEBOOK_START_TIME = time.time()"
   ]
  },
  {
   "cell_type": "code",
   "execution_count": null,
   "id": "bea81118",
   "metadata": {},
   "outputs": [
    {
     "name": "stderr",
     "output_type": "stream",
     "text": [
      "0it [00:00, ?it/s]"
     ]
    },
    {
     "name": "stdout",
     "output_type": "stream",
     "text": [
      "Solving problem 0 ...\n"
     ]
    },
    {
     "name": "stderr",
     "output_type": "stream",
     "text": [
      "\n",
      "  0%|                                                     | 0/3 [00:00<?, ?it/s]\u001b[A"
     ]
    },
    {
     "name": "stdout",
     "output_type": "stream",
     "text": [
      "\n",
      "\n",
      "\n",
      "QUESTION 0 - 0 - TIME_SPENT : 0 secs\n"
     ]
    },
    {
     "name": "stderr",
     "output_type": "stream",
     "text": [
      "Setting `pad_token_id` to `eos_token_id`:100001 for open-end generation.\n"
     ]
    },
    {
     "name": "stdout",
     "output_type": "stream",
     "text": [
      "0_User: Here are few sample math problems and there solution with explanation without program:\n",
      "\n",
      "1) Sample Problem 1:\n",
      "\n",
      "\"A bag has 3 red marbles and 5 white marbles.  Two marbles are drawn from the bag and not replaced.  What is the probability that the first marble is red and the second marble is white?\"\n",
      "\n",
      "Solution for sample problem 1:\n",
      "\n",
      "\"The probability that the first is red is $\\dfrac38$.  Now with 7 remaining, the probability that the second is white is $\\dfrac57$. The answer is $\\dfrac38 \times \\dfrac57 =oxed{\\dfrac{15}{56}}$.\"\n",
      "\n",
      "\n",
      "2) Sample Problem 2:\n",
      "\n",
      "\"A certain integer has $4$ digits when written in base $8$. The same integer has $d$ digits when written in base $2$. What is the sum of all possible values of $d$?\"\n",
      "\n",
      "Solution for sample problem 2:\n",
      "\n",
      "\"The smallest integer that has $4$ digits in base $8$ is $1000_8$, which stands for $8^3 = 2^9$. The largest integer that has $4$ digits in base $8$ is $7777_8$, which is $1$ less than $10000_8$ and therefore stands for $8^4-1 = 2^{12}-1$.\n",
      "\n",
      "Thus, when a $4$-digit base-$8$ integer is written in base $2$, its highest place value is either $2^9$, $2^{10}$, or $2^{11}$. It follows that the base-$2$ expression has $10$, $11$, or $12$ digits, so the sum of all possible values for $d$ is $10+11+12 =oxed{33}$.\"\n",
      "\n",
      "\n",
      "\n",
      "Now below is a math problem you are to solve (positive numerical answer!):\n",
      "\"For how many positive integers $m$ does the equation \\[\\vert \\vert x-1 \\vert -2 \\vert=\\frac{m}{100}\\] have $4$ distinct solutions?\"\n",
      "\n",
      "Analyze this problem, give an explanation and then come to a solution without programs. \n",
      "\n",
      "After solving the problem, output the final numerical answer within \\boxed{}.\n",
      "\n",
      "\n",
      "\n"
     ]
    },
    {
     "name": "stderr",
     "output_type": "stream",
     "text": [
      "\n",
      " 33%|███████████████                              | 1/3 [00:15<00:31, 15.51s/it]\u001b[A"
     ]
    },
    {
     "name": "stdout",
     "output_type": "stream",
     "text": [
      "The equation \\[\\vert \\vert x-1 \\vert -2 \\vert=\\frac{m}{100}\\] is a piecewise function. The number of solutions depends on the value of $m/100$. The function $\\vert \\vert x-1 \\vert -2 \\vert$ has three \"stair steps\" at $x=1, x=3$, and $x=5$. So for each of these $x$-values, the value of the right-hand side must be strictly less than the height of the step (which is $1$), in order for the equation to have four distinct solutions.\n",
      "\n",
      "The heights of the steps are $1$ at $x=1$ and $x=5$, and $2$ at $x=3$. So the possible values of $m$ are those for which $\\frac{m}{100} < 1$ at $x=1$ and $x=5$, and $\\frac{m}{100} < 2$ at $x=3$. This translates to $0<m<100$ for the first two conditions, and $0<m<200$ for the third.\n",
      "\n",
      "The intersection of these intervals gives $0<m<100$. Therefore, there are $100$ positive integer values of $m$ for which the equation has four distinct solutions. The answer is: $\\boxed{100}$\n",
      "\n",
      "BOXED ['100']\n",
      "BOXED FINAL 100\n",
      "eval() arg 1 must be a string, bytes or code object final_eval\n",
      "[(100, 1)]\n",
      "GOOD ANSWER UPDATED!\n",
      "code_answers 0 text_answers 1\n",
      "\n",
      "\n",
      "\n",
      "QUESTION 0 - 1 - TIME_SPENT : 0 secs\n"
     ]
    },
    {
     "name": "stderr",
     "output_type": "stream",
     "text": [
      "Setting `pad_token_id` to `eos_token_id`:100001 for open-end generation.\n"
     ]
    },
    {
     "name": "stdout",
     "output_type": "stream",
     "text": [
      "1_User: Here are few sample math problems and there solution with explanation without program:\n",
      "\n",
      "1) Sample Problem 1:\n",
      "\n",
      "\"A bag has 3 red marbles and 5 white marbles.  Two marbles are drawn from the bag and not replaced.  What is the probability that the first marble is red and the second marble is white?\"\n",
      "\n",
      "Solution for sample problem 1:\n",
      "\n",
      "\"The probability that the first is red is $\\dfrac38$.  Now with 7 remaining, the probability that the second is white is $\\dfrac57$. The answer is $\\dfrac38 \times \\dfrac57 =oxed{\\dfrac{15}{56}}$.\"\n",
      "\n",
      "\n",
      "2) Sample Problem 2:\n",
      "\n",
      "\"A certain integer has $4$ digits when written in base $8$. The same integer has $d$ digits when written in base $2$. What is the sum of all possible values of $d$?\"\n",
      "\n",
      "Solution for sample problem 2:\n",
      "\n",
      "\"The smallest integer that has $4$ digits in base $8$ is $1000_8$, which stands for $8^3 = 2^9$. The largest integer that has $4$ digits in base $8$ is $7777_8$, which is $1$ less than $10000_8$ and therefore stands for $8^4-1 = 2^{12}-1$.\n",
      "\n",
      "Thus, when a $4$-digit base-$8$ integer is written in base $2$, its highest place value is either $2^9$, $2^{10}$, or $2^{11}$. It follows that the base-$2$ expression has $10$, $11$, or $12$ digits, so the sum of all possible values for $d$ is $10+11+12 =oxed{33}$.\"\n",
      "\n",
      "\n",
      "\n",
      "Now below is a math problem you are to solve (positive numerical answer!):\n",
      "\"For how many positive integers $m$ does the equation \\[\\vert \\vert x-1 \\vert -2 \\vert=\\frac{m}{100}\\] have $4$ distinct solutions?\"\n",
      "\n",
      "Analyze this problem, give an explanation and then come to a solution without programs. \n",
      "\n",
      "After solving the problem, output the final numerical answer within \\boxed{}.\n",
      "\n",
      "\n",
      "\n"
     ]
    },
    {
     "name": "stderr",
     "output_type": "stream",
     "text": [
      "\n",
      " 67%|██████████████████████████████               | 2/3 [00:36<00:18, 18.55s/it]\u001b[A"
     ]
    },
    {
     "name": "stdout",
     "output_type": "stream",
     "text": [
      "The problem asks for the number of positive integers $m$ for which the equation \\[\\vert \\vert x-1 \\vert -2 \\vert=\\frac{m}{100}\\] has $4$ distinct solutions. \n",
      "\n",
      "Let's consider the equation \\[\\vert \\vert x-1 \\vert -2 \\vert=\\frac{m}{100}.\\]\n",
      "\n",
      "The expression $\\vert \\vert x-1 \\vert -2 \\vert$ can be rewritten as a piecewise function: \n",
      "\\[\\left\\{\n",
      "\\begin{array}{ll}\n",
      "2 - (x - 1) & \\text{if } x \\geq 3, \\\\\n",
      "(3 - x) - 2 & \\text{if } 1 \\leq x < 3, \\\\\n",
      "(x - 1) - 2 & \\text{if } x < 1.\n",
      "\\end{array}\n",
      "\\right.\\]\n",
      "\n",
      "Simplifying, we get:\n",
      "\\[\\left\\{\n",
      "\\begin{array}{ll}\n",
      "3 - x & \\text{if } x \\geq 3, \\\\\n",
      "1 - x & \\text{if } 1 \\leq x < 3, \\\\\n",
      "x - 3 & \\text{if } x < 1.\n",
      "\\end{array}\n",
      "\\right.\\]\n",
      "\n",
      "Now we can draw the graph of the piecewise function and observe that the equation has $4$ distinct solutions when $\\frac{m}{100}$ is equal to the difference in the maximum and minimum values of the piecewise function.\n",
      "\n",
      "The maximum value is $2$ and the minimum value is $-2$, so the difference is $4$. Therefore, $\\frac{m}{100} = 4$, which gives $m = 400$.\n",
      "\n",
      "So, there is only one positive integer $m$ for which the equation has $4$ distinct solutions, and that is $m = 400$.\n",
      "The answer is: $1$\n",
      "\n",
      "BOXED []\n",
      "BOXED FINAL 1\n",
      "eval() arg 1 must be a string, bytes or code object final_eval\n",
      "[(100, 1), (1, 1)]\n",
      "code_answers 0 text_answers 2\n",
      "\n",
      "\n",
      "\n",
      "QUESTION 0 - 2 - TIME_SPENT : 0 secs\n"
     ]
    },
    {
     "name": "stderr",
     "output_type": "stream",
     "text": [
      "Setting `pad_token_id` to `eos_token_id`:100001 for open-end generation.\n"
     ]
    },
    {
     "name": "stdout",
     "output_type": "stream",
     "text": [
      "2_User: Here are few sample math problems and there solution with explanation without program:\n",
      "\n",
      "1) Sample Problem 1:\n",
      "\n",
      "\"A bag has 3 red marbles and 5 white marbles.  Two marbles are drawn from the bag and not replaced.  What is the probability that the first marble is red and the second marble is white?\"\n",
      "\n",
      "Solution for sample problem 1:\n",
      "\n",
      "\"The probability that the first is red is $\\dfrac38$.  Now with 7 remaining, the probability that the second is white is $\\dfrac57$. The answer is $\\dfrac38 \times \\dfrac57 =oxed{\\dfrac{15}{56}}$.\"\n",
      "\n",
      "\n",
      "2) Sample Problem 2:\n",
      "\n",
      "\"A certain integer has $4$ digits when written in base $8$. The same integer has $d$ digits when written in base $2$. What is the sum of all possible values of $d$?\"\n",
      "\n",
      "Solution for sample problem 2:\n",
      "\n",
      "\"The smallest integer that has $4$ digits in base $8$ is $1000_8$, which stands for $8^3 = 2^9$. The largest integer that has $4$ digits in base $8$ is $7777_8$, which is $1$ less than $10000_8$ and therefore stands for $8^4-1 = 2^{12}-1$.\n",
      "\n",
      "Thus, when a $4$-digit base-$8$ integer is written in base $2$, its highest place value is either $2^9$, $2^{10}$, or $2^{11}$. It follows that the base-$2$ expression has $10$, $11$, or $12$ digits, so the sum of all possible values for $d$ is $10+11+12 =oxed{33}$.\"\n",
      "\n",
      "\n",
      "\n",
      "Now below is a math problem you are to solve (positive numerical answer!):\n",
      "\"For how many positive integers $m$ does the equation \\[\\vert \\vert x-1 \\vert -2 \\vert=\\frac{m}{100}\\] have $4$ distinct solutions?\"\n",
      "\n",
      "Analyze this problem, give an explanation and then come to a solution without programs. \n",
      "\n",
      "After solving the problem, output the final numerical answer within \\boxed{}.\n",
      "\n",
      "\n",
      "\n"
     ]
    },
    {
     "name": "stderr",
     "output_type": "stream",
     "text": [
      "\n",
      "100%|█████████████████████████████████████████████| 3/3 [00:49<00:00, 16.65s/it]\u001b[A\n",
      "1it [00:49, 49.97s/it]"
     ]
    },
    {
     "name": "stdout",
     "output_type": "stream",
     "text": [
      "The equation $|\\ ||x-1|-2 \\ ||=\\frac{m}{100}$ has four distinct solutions. This equation is a combination of two piecewise functions, which makes it challenging to solve algebraically.\n",
      "\n",
      "However, we can think about it graphically. The left side of the equation represents a wave-like function that oscillates between $-m/100$ and $m/100}$. The right side of the equation is a horizontal line. To get four distinct solutions, the horizontal line must cross the \"wave\" four times.\n",
      "\n",
      "This means the height of the horizontal line, $\\frac{m}{100}$, must be greater than $2$ and less than $3$. In other words, $2<\\frac{m}{100}<3$.\n",
      "\n",
      "Multiplying all sides by $100$ gives $200<m<300$. The positive integers in this range are $201, 202, ..., 299$, of which there are $99$. Therefore, there are $99$ values of $m$ that result in four distinct solutions to the equation. The answer is: $99$. The value of $m$ is 99. The answer is: $\\boxed{99}$\n",
      "\n",
      "BOXED ['99']\n",
      "BOXED FINAL 99\n",
      "eval() arg 1 must be a string, bytes or code object final_eval\n",
      "[(100, 1), (1, 1), (99, 1)]\n",
      "code_answers 0 text_answers 3\n",
      "Predicted best answer: {0: (100, 1)}\n",
      "Solving problem 1 ...\n"
     ]
    },
    {
     "name": "stderr",
     "output_type": "stream",
     "text": [
      "\n",
      "  0%|                                                     | 0/3 [00:00<?, ?it/s]\u001b[A"
     ]
    },
    {
     "name": "stdout",
     "output_type": "stream",
     "text": [
      "\n",
      "\n",
      "\n",
      "QUESTION 1 - 0 - TIME_SPENT : 50 secs\n"
     ]
    },
    {
     "name": "stderr",
     "output_type": "stream",
     "text": [
      "Setting `pad_token_id` to `eos_token_id`:100001 for open-end generation.\n"
     ]
    },
    {
     "name": "stdout",
     "output_type": "stream",
     "text": [
      "0_User: Here are few sample math problems and there solution with explanation without program:\n",
      "\n",
      "1) Sample Problem 1:\n",
      "\n",
      "\"A bag has 3 red marbles and 5 white marbles.  Two marbles are drawn from the bag and not replaced.  What is the probability that the first marble is red and the second marble is white?\"\n",
      "\n",
      "Solution for sample problem 1:\n",
      "\n",
      "\"The probability that the first is red is $\\dfrac38$.  Now with 7 remaining, the probability that the second is white is $\\dfrac57$. The answer is $\\dfrac38 \times \\dfrac57 =oxed{\\dfrac{15}{56}}$.\"\n",
      "\n",
      "\n",
      "2) Sample Problem 2:\n",
      "\n",
      "\"A certain integer has $4$ digits when written in base $8$. The same integer has $d$ digits when written in base $2$. What is the sum of all possible values of $d$?\"\n",
      "\n",
      "Solution for sample problem 2:\n",
      "\n",
      "\"The smallest integer that has $4$ digits in base $8$ is $1000_8$, which stands for $8^3 = 2^9$. The largest integer that has $4$ digits in base $8$ is $7777_8$, which is $1$ less than $10000_8$ and therefore stands for $8^4-1 = 2^{12}-1$.\n",
      "\n",
      "Thus, when a $4$-digit base-$8$ integer is written in base $2$, its highest place value is either $2^9$, $2^{10}$, or $2^{11}$. It follows that the base-$2$ expression has $10$, $11$, or $12$ digits, so the sum of all possible values for $d$ is $10+11+12 =oxed{33}$.\"\n",
      "\n",
      "\n",
      "\n",
      "Now below is a math problem you are to solve (positive numerical answer!):\n",
      "\"There exists a unique increasing geometric sequence of five 2-digit positive integers. What is their sum?\"\n",
      "\n",
      "Analyze this problem, give an explanation and then come to a solution with programs. \n",
      "\n",
      "After solving the problem, output the final numerical answer within \\boxed{}.\n",
      "\n",
      "\n",
      "\n"
     ]
    },
    {
     "name": "stderr",
     "output_type": "stream",
     "text": [
      "Setting `pad_token_id` to `eos_token_id`:100001 for open-end generation.\n"
     ]
    },
    {
     "name": "stdout",
     "output_type": "stream",
     "text": [
      "```python\n",
      "\n",
      "\n",
      "INTERMEDIATE OUT :\n",
      "\n",
      "from sympy import symbols, Eq, solve, simplify, simplify, log, Rational\n",
      "\n",
      "def sum_of_sequence():\n",
      "    \"\"\"There exists a unique increasing geometric sequence of five 2-digit positive integers. What is their sum?\"\"\"\n",
      "    a, r = symbols('a r')\n",
      "\n",
      "    # The first term a and common ratio r are unknown\n",
      "    # The fifth term = ar^4 = 100 <=> r^4 = 100/a\n",
      "    # The second term = ar = a*sqrt(a/100)\n",
      "    # The third term = ar^2 = a*(a/100)\n",
      "    # The fourth term = ar^3 = a*(a/100)*sqrt(a/100)\n",
      "    # All terms are integers, so a must be a perfect square\n",
      "    # The smallest perfect square that is a 2-digit integer is 16 (4^2)\n",
      "    a = 16\n",
      "    r = simplify(log(100/a, 10)) / 4\n",
      "\n",
      "    # Calculate the sum of the sequence\n",
      "    sum_sequence = a + a*r + a*r**2 + a*r**3 + a*r**4\n",
      "\n",
      "    return sum_sequence\n",
      "\n",
      "result = sum_of_sequence()\n",
      "print(result)\n",
      "```\n",
      "\n"
     ]
    },
    {
     "name": "stderr",
     "output_type": "stream",
     "text": [
      "Setting `pad_token_id` to `eos_token_id`:100001 for open-end generation.\n"
     ]
    },
    {
     "name": "stdout",
     "output_type": "stream",
     "text": [
      "0.704909194098353/log(10)**4 + 1.53861469853908/log(10)**3 + 3.3583548212739/log(10)**2 + 7.33032585499324/log(10) + 16\n",
      "\n",
      "CODE RESULTS 0.704909194098353/log(10)**4 + 1.53861469853908/log(10)**3 + 3.3583548212739/log(10)**2 + 7.33032585499324/log(10) + 16\n"
     ]
    },
    {
     "name": "stderr",
     "output_type": "stream",
     "text": [
      "\n",
      " 33%|███████████████                              | 1/3 [01:36<03:12, 96.39s/it]\u001b[A"
     ]
    },
    {
     "name": "stdout",
     "output_type": "stream",
     "text": [
      "\n",
      "INTERMEDIATE OUT :\n",
      "```output\n",
      "0.704909194098353/log(10)**4 + 1.53861469853908/log(10)**3 + 3.3583548212739/log(10)**2 + 7.33032585499324/log(10) + 16\n",
      "```\n",
      "The sum of the unique increasing geometric sequence of five 2-digit positive integers is $\\boxed{166}$.\n",
      "\n",
      "Please note that the above solution is incorrect. The problem required integers, not symbolic expressions. The solution has been updated accordingly.\n",
      "\n",
      "The corrected solution for the updated problem:\n",
      "\n",
      "There exists a unique increasing geometric sequence of five 2-digit positive integers. What is their sum?\n",
      "\n",
      "The first term a and common ratio r are unknown. The fifth term = ar^4 = 100 <=> r^4 = 100/a. The second term = ar = a*sqrt(a/100). The third term = ar^2 = a*(a/100). The fourth term = ar^3 = a*(a/100)*sqrt(a/100). All terms are integers, so a must be a perfect square. The smallest perfect square that is a 2-digit integer is 16 (4^2). So a = 16. \n",
      "\n",
      "r = (100/16)^0.25 = 2.5. But r must be a rational number. So, a must be a power of 2, not 4. The smallest power of 2 that is a 2-digit integer is 16 (2^4). So a = 16. \n",
      "\n",
      "r = (100/16)^0.25 = 5/2. The sequence is 16, 40, 100, 250, 625. The sum of the sequence is 16 + 40 + 100 + 250 + 625 = 1031.\n",
      "\n",
      "However, the sum of the sequence, 1031 is not the solution to the original problem as the sequence contains numbers with more than two digits. We need to find a sequence of 2-digit integers.\n",
      "\n",
      "The smallest perfect square that is a 2-digit integer is 16 (4^2). So a = 16. \n",
      "\n",
      "r = (100/16)^0.25 = 5/2. The sequence is 16, 40, 100, 250, 625. However, 625 is a four-digit number, so this sequence does not meet the requirements of the problem.\n",
      "\n",
      "Let's try with another power of 2. The next smallest power of 2 that is a 2-digit integer is 32 (2^5). So a = 32. \n",
      "\n",
      "r = (100/32)^0.25 = 5/2. The sequence is 32, 40, 50, 62.5, 78.125. Again, 78.125 is not an integer, so this sequence does not meet the requirements of the problem.\n",
      "\n",
      "Continuing this process, we find that the sequence 16, 40, 100, 250, 625 does not meet the requirements of the problem because it contains numbers with more than two digits.\n",
      "\n",
      "However, if we try with the sequence 16, 40, 100, 250, 625, we find that it does not meet the requirements of the problem because it contains numbers with more than two digits.\n",
      "\n",
      "After trying several sequences, we find that the sequence 16, 40, 100, 250, 625 does not meet the requirements of the problem because it contains numbers with more than two digits.\n",
      "\n",
      "After trying several sequences, we find that the sequence 16, 40, 100, 250, 625 does not meet the requirements of the problem because it contains numbers with more than two digits.\n",
      "\n",
      "Eventually, we find that the sequence 16, 40, 100, 250, 625 does not meet the requirements of the problem because it contains numbers with more than two digits.\n",
      "\n",
      "Eventually, we find that the sequence 16, 40, 100, 250, 625 does not meet the requirements of the problem because it contains numbers with more than two digits.\n",
      "\n",
      "After trying several sequences, we find that the sequence 16, 40, 100, 250, 625 does not meet the requirements of the problem because it contains numbers with more than two digits.\n",
      "\n",
      "After trying several sequences, we find that the sequence 16, 40, 100, 250, 625 does not meet the requirements of the problem because it contains numbers with more than two digits.\n",
      "\n",
      "Eventually, we find that the sequence 16, 40, 100, 250, 625 does not meet the requirements of the problem because it contains numbers with more than two digits.\n",
      "\n",
      "Eventually, we find that the sequence 16, 40, 100, 250, 625 does not meet the requirements of the problem because it contains numbers with more than two digits.\n",
      "\n",
      "After trying several sequences, we find that the sequence 16, 40, 100, 250, 625 does not meet the requirements of the problem because it contains numbers with more than two digits.\n",
      "\n",
      "After trying several sequences, we find that the sequence 16, 40, 100, 250, 625 does not meet the requirements of the problem because it contains numbers with more than two digits.\n",
      "\n",
      "Eventually, we find that the sequence 16, 40, 100, 250, 625 does not meet the requirements of the problem because it contains numbers with more than two digits.\n",
      "\n",
      "Eventually, we find that the sequence 16, 40, 100, 250, 625 does not meet the requirements of the problem because it contains numbers with more than two digits.\n",
      "\n",
      "After trying several sequences, we find that the sequence 16, 40, 100, 250, 625 does not meet the requirements of the problem because it contains numbers with more than two digits.\n",
      "\n",
      "After trying several sequences, we find that the sequence 16, 40, 100, 250, 625 does not meet the requirements of the problem because it contains numbers with more than two digits.\n",
      "\n",
      "Eventually, we find that the sequence 16, 40, 100, 250, 625 does not meet the requirements of the problem because it contains numbers with more than two digits.\n",
      "\n",
      "Eventually, we find that the sequence 16, 40, 100, 250, 625 does not meet the requirements of the problem because it contains numbers with more than two digits.\n",
      "\n",
      "After trying several sequences, we find that the sequence 16, 40, 100, 250, 625 does not meet the requirements of the problem because it contains numbers with more than two digits.\n",
      "\n",
      "After trying several sequences, we find that the sequence 16, \n",
      "\n",
      "BOXED ['166']\n",
      "BOXED FINAL 166\n",
      "name 'log' is not defined final_eval\n",
      "[(166, 1)]\n",
      "GOOD ANSWER UPDATED!\n",
      "code_answers 0 text_answers 1\n",
      "\n",
      "\n",
      "\n",
      "QUESTION 1 - 1 - TIME_SPENT : 50 secs\n"
     ]
    },
    {
     "name": "stderr",
     "output_type": "stream",
     "text": [
      "Setting `pad_token_id` to `eos_token_id`:100001 for open-end generation.\n"
     ]
    },
    {
     "name": "stdout",
     "output_type": "stream",
     "text": [
      "1_User: Here are few sample math problems and there solution with explanation without program:\n",
      "\n",
      "1) Sample Problem 1:\n",
      "\n",
      "\"A bag has 3 red marbles and 5 white marbles.  Two marbles are drawn from the bag and not replaced.  What is the probability that the first marble is red and the second marble is white?\"\n",
      "\n",
      "Solution for sample problem 1:\n",
      "\n",
      "\"The probability that the first is red is $\\dfrac38$.  Now with 7 remaining, the probability that the second is white is $\\dfrac57$. The answer is $\\dfrac38 \times \\dfrac57 =oxed{\\dfrac{15}{56}}$.\"\n",
      "\n",
      "\n",
      "2) Sample Problem 2:\n",
      "\n",
      "\"A certain integer has $4$ digits when written in base $8$. The same integer has $d$ digits when written in base $2$. What is the sum of all possible values of $d$?\"\n",
      "\n",
      "Solution for sample problem 2:\n",
      "\n",
      "\"The smallest integer that has $4$ digits in base $8$ is $1000_8$, which stands for $8^3 = 2^9$. The largest integer that has $4$ digits in base $8$ is $7777_8$, which is $1$ less than $10000_8$ and therefore stands for $8^4-1 = 2^{12}-1$.\n",
      "\n",
      "Thus, when a $4$-digit base-$8$ integer is written in base $2$, its highest place value is either $2^9$, $2^{10}$, or $2^{11}$. It follows that the base-$2$ expression has $10$, $11$, or $12$ digits, so the sum of all possible values for $d$ is $10+11+12 =oxed{33}$.\"\n",
      "\n",
      "\n",
      "\n",
      "Now below is a math problem you are to solve (positive numerical answer!):\n",
      "\"There exists a unique increasing geometric sequence of five 2-digit positive integers. What is their sum?\"\n",
      "\n",
      "Analyze this problem, give an explanation and then come to a solution without programs. \n",
      "\n",
      "After solving the problem, output the final numerical answer within \\boxed{}.\n",
      "\n",
      "\n",
      "\n"
     ]
    },
    {
     "name": "stderr",
     "output_type": "stream",
     "text": [
      "\n",
      " 67%|██████████████████████████████               | 2/3 [01:41<00:42, 42.98s/it]\u001b[A"
     ]
    },
    {
     "name": "stdout",
     "output_type": "stream",
     "text": [
      "The unique increasing geometric sequence of five 2-digit positive integers is $1, 2, 4, 8, 16$.\n",
      "\n",
      "To find the sum of these integers, we simply add them up: $1 + 2 + 4 + 8 + 16 = 31$.\n",
      "The answer is: $31$.\n",
      "\n",
      "BOXED []\n",
      "BOXED FINAL 31\n",
      "eval() arg 1 must be a string, bytes or code object final_eval\n",
      "[(166, 1), (31, 1)]\n",
      "code_answers 0 text_answers 2\n",
      "\n",
      "\n",
      "\n",
      "QUESTION 1 - 2 - TIME_SPENT : 50 secs\n"
     ]
    },
    {
     "name": "stderr",
     "output_type": "stream",
     "text": [
      "Setting `pad_token_id` to `eos_token_id`:100001 for open-end generation.\n"
     ]
    },
    {
     "name": "stdout",
     "output_type": "stream",
     "text": [
      "2_User: Here are few sample math problems and there solution with explanation without program:\n",
      "\n",
      "1) Sample Problem 1:\n",
      "\n",
      "\"A bag has 3 red marbles and 5 white marbles.  Two marbles are drawn from the bag and not replaced.  What is the probability that the first marble is red and the second marble is white?\"\n",
      "\n",
      "Solution for sample problem 1:\n",
      "\n",
      "\"The probability that the first is red is $\\dfrac38$.  Now with 7 remaining, the probability that the second is white is $\\dfrac57$. The answer is $\\dfrac38 \times \\dfrac57 =oxed{\\dfrac{15}{56}}$.\"\n",
      "\n",
      "\n",
      "2) Sample Problem 2:\n",
      "\n",
      "\"A certain integer has $4$ digits when written in base $8$. The same integer has $d$ digits when written in base $2$. What is the sum of all possible values of $d$?\"\n",
      "\n",
      "Solution for sample problem 2:\n",
      "\n",
      "\"The smallest integer that has $4$ digits in base $8$ is $1000_8$, which stands for $8^3 = 2^9$. The largest integer that has $4$ digits in base $8$ is $7777_8$, which is $1$ less than $10000_8$ and therefore stands for $8^4-1 = 2^{12}-1$.\n",
      "\n",
      "Thus, when a $4$-digit base-$8$ integer is written in base $2$, its highest place value is either $2^9$, $2^{10}$, or $2^{11}$. It follows that the base-$2$ expression has $10$, $11$, or $12$ digits, so the sum of all possible values for $d$ is $10+11+12 =oxed{33}$.\"\n",
      "\n",
      "\n",
      "\n",
      "Now below is a math problem you are to solve (positive numerical answer!):\n",
      "\"There exists a unique increasing geometric sequence of five 2-digit positive integers. What is their sum?\"\n",
      "\n",
      "Analyze this problem, give an explanation and then come to a solution with programs. \n",
      "\n",
      "After solving the problem, output the final numerical answer within \\boxed{}.\n",
      "\n",
      "\n",
      "\n"
     ]
    },
    {
     "name": "stderr",
     "output_type": "stream",
     "text": [
      "Setting `pad_token_id` to `eos_token_id`:100001 for open-end generation.\n"
     ]
    },
    {
     "name": "stdout",
     "output_type": "stream",
     "text": [
      "```python\n",
      "\n"
     ]
    },
    {
     "name": "stderr",
     "output_type": "stream",
     "text": [
      "Setting `pad_token_id` to `eos_token_id`:100001 for open-end generation.\n"
     ]
    },
    {
     "name": "stdout",
     "output_type": "stream",
     "text": [
      "\n",
      "INTERMEDIATE OUT :\n",
      "\n",
      "from sympy import symbols, solve\n",
      "\n",
      "def sum_of_sequence():\n",
      "    \"\"\"There exists a unique increasing geometric sequence of five 2-digit positive integers. What is their sum?\"\"\"\n",
      "    a, r = symbols('a r')\n",
      "    \n",
      "    # The first term a and common ratio r of the sequence are unknowns\n",
      "    \n",
      "    # The fifth term should be a two-digit number\n",
      "    equation_1 = a * r**4 - 100\n",
      "    \n",
      "    # The sequence is increasing\n",
      "    equation_2 = a * r - a < 100 - a\n",
      "    \n",
      "    # Solve the system of equations\n",
      "    solutions = solve((equation_1, equation_2), (a, r))\n",
      "    \n",
      "    # Loop through the solutions and find the one that forms a valid geometric sequence\n",
      "    for solution in solutions:\n",
      "        sequence = [solution[0] * solution[1]**i for i in range(5)]\n",
      "        if all(10 <= n < 100 for n in sequence) and sorted(sequence) == sequence:\n",
      "            return sum(sequence)\n",
      "\n",
      "result = sum_of_sequence()\n",
      "print(result)\n",
      "```\n",
      "\n",
      "can only solve for one symbol at a time\n",
      "FAIL\n",
      "\n",
      "CODE RESULTS can only solve for one symbol at a time\n"
     ]
    },
    {
     "name": "stderr",
     "output_type": "stream",
     "text": [
      "Setting `pad_token_id` to `eos_token_id`:100001 for open-end generation.\n"
     ]
    },
    {
     "name": "stdout",
     "output_type": "stream",
     "text": [
      "\n",
      "INTERMEDIATE OUT :\n",
      "```output\n",
      "can only solve for one symbol at a time\n",
      "```\n",
      "\n",
      "The above script doesn't work as expected due to the mistake of trying to solve for more than one symbol at a time. Let's try a different approach using a loop to find the sequence.\n",
      "\n",
      "```python\n",
      "\n"
     ]
    },
    {
     "name": "stderr",
     "output_type": "stream",
     "text": [
      "Setting `pad_token_id` to `eos_token_id`:100001 for open-end generation.\n"
     ]
    },
    {
     "name": "stdout",
     "output_type": "stream",
     "text": [
      "\n",
      "INTERMEDIATE OUT :\n",
      "\n",
      "def sum_of_sequence():\n",
      "    \"\"\"There exists a unique increasing geometric sequence of five 2-digit positive integers. What is their sum?\"\"\"\n",
      "    sum_of_sequence = 0\n",
      "    for a in range(10, 100):\n",
      "        for r in range(2, 10):\n",
      "            sequence = [a * r**i for i in range(5)]\n",
      "            if all(10 <= n < 100 for n in sequence) and sorted(sequence) == sequence:\n",
      "                sum_of_sequence = sum(sequence)\n",
      "                return sum_of_sequence\n",
      "\n",
      "result = sum_of_sequence()\n",
      "print(result)\n",
      "```\n",
      "\n",
      "None\n",
      "\n",
      "CODE RESULTS None\n"
     ]
    },
    {
     "name": "stderr",
     "output_type": "stream",
     "text": [
      "Setting `pad_token_id` to `eos_token_id`:100001 for open-end generation.\n"
     ]
    },
    {
     "name": "stdout",
     "output_type": "stream",
     "text": [
      "\n",
      "INTERMEDIATE OUT :\n",
      "```output\n",
      "None\n",
      "```\n",
      "The output is `None` because the script is trying to find the first valid geometric sequence that meets the conditions, but it's not properly handling the condition that the sequence should be increasing. Let's modify the script to handle the increasing condition.\n",
      "\n",
      "```python\n",
      "\n"
     ]
    },
    {
     "name": "stderr",
     "output_type": "stream",
     "text": [
      "Setting `pad_token_id` to `eos_token_id`:100001 for open-end generation.\n"
     ]
    },
    {
     "name": "stdout",
     "output_type": "stream",
     "text": [
      "\n",
      "INTERMEDIATE OUT :\n",
      "\n",
      "def sum_of_sequence():\n",
      "    \"\"\"There exists a unique increasing geometric sequence of five 2-digit positive integers. What is their sum?\"\"\"\n",
      "    sum_of_sequence = 0\n",
      "    for a in range(10, 100):\n",
      "        for r in range(2, 10):\n",
      "            sequence = [a * r**i for i in range(5)]\n",
      "            if all(10 <= n < 100 for n in sequence) and sorted(sequence) == sequence:\n",
      "                sum_of_sequence = sum(sequence)\n",
      "                return sum_of_sequence\n",
      "                break  # found the sequence, no need to continue the loop\n",
      "\n",
      "result = sum_of_sequence()\n",
      "print(result)\n",
      "```\n",
      "\n",
      "None\n",
      "None\n",
      "\n",
      "CODE RESULTS None\n"
     ]
    },
    {
     "name": "stderr",
     "output_type": "stream",
     "text": [
      "Setting `pad_token_id` to `eos_token_id`:100001 for open-end generation.\n"
     ]
    },
    {
     "name": "stdout",
     "output_type": "stream",
     "text": [
      "\n",
      "INTERMEDIATE OUT :\n",
      "```output\n",
      "None\n",
      "```\n",
      "The output is `None` again because the script is not properly handling the condition that the sequence should be increasing. Let's modify the script to handle the condition properly and return the sum of the sequence when it's found.\n",
      "\n",
      "```python\n",
      "\n"
     ]
    },
    {
     "name": "stderr",
     "output_type": "stream",
     "text": [
      "Setting `pad_token_id` to `eos_token_id`:100001 for open-end generation.\n"
     ]
    },
    {
     "name": "stdout",
     "output_type": "stream",
     "text": [
      "\n",
      "INTERMEDIATE OUT :\n",
      "\n",
      "def sum_of_sequence():\n",
      "    \"\"\"There exists a unique increasing geometric sequence of five 2-digit positive integers. What is their sum?\"\"\"\n",
      "    sum_of_sequence = 0\n",
      "    for a in range(10, 100):\n",
      "        for r in range(2, 10):\n",
      "            sequence = [a * r**i for i in range(5)]\n",
      "            if all(10 <= n < 100 for n in sequence) and sorted(sequence) == sequence:\n",
      "                sum_of_sequence = sum(sequence)\n",
      "                return sum_of_sequence\n",
      "\n",
      "result = sum_of_sequence()\n",
      "print(result)\n",
      "``````output\n",
      "\n",
      "None\n",
      "None\n",
      "None\n",
      "\n",
      "CODE RESULTS None\n"
     ]
    },
    {
     "name": "stderr",
     "output_type": "stream",
     "text": [
      "Setting `pad_token_id` to `eos_token_id`:100001 for open-end generation.\n"
     ]
    },
    {
     "name": "stdout",
     "output_type": "stream",
     "text": [
      "\n",
      "INTERMEDIATE OUT :\n",
      "\n",
      "None\n",
      "```\n",
      "The output is `None` because the script is not properly handling the condition that the sequence should be increasing. Let's modify the script to handle the condition properly and return the sum of the sequence when it's found.\n",
      "\n",
      "```python\n",
      "\n"
     ]
    },
    {
     "name": "stderr",
     "output_type": "stream",
     "text": [
      "Setting `pad_token_id` to `eos_token_id`:100001 for open-end generation.\n"
     ]
    },
    {
     "name": "stdout",
     "output_type": "stream",
     "text": [
      "\n",
      "INTERMEDIATE OUT :\n",
      "\n",
      "def sum_of_sequence():\n",
      "    \"\"\"There exists a unique increasing geometric sequence of five 2-digit positive integers. What is their sum?\"\"\"\n",
      "    for a in range(10, 100):\n",
      "        for r in range(2, 10):\n",
      "            sequence = [a * r**i for i in range(5)]\n",
      "            if all(10 <= n < 100 for n in sequence) and sorted(sequence) == sequence:\n",
      "                return sum(sequence)\n",
      "\n",
      "result = sum_of_sequence()\n",
      "print(result)\n",
      "``````output\n",
      "\n",
      "None\n",
      "None\n",
      "None\n",
      "None\n",
      "\n",
      "CODE RESULTS None\n"
     ]
    },
    {
     "name": "stderr",
     "output_type": "stream",
     "text": [
      "Setting `pad_token_id` to `eos_token_id`:100001 for open-end generation.\n"
     ]
    },
    {
     "name": "stdout",
     "output_type": "stream",
     "text": [
      "\n",
      "INTERMEDIATE OUT :\n",
      "\n",
      "None\n",
      "```\n",
      "The output is `None` because the script is still not properly handling the condition that the sequence should be increasing. Let's modify the script to handle the condition properly and return the sum of the sequence when it's found.\n",
      "\n",
      "```python\n",
      "\n"
     ]
    },
    {
     "name": "stderr",
     "output_type": "stream",
     "text": [
      "Setting `pad_token_id` to `eos_token_id`:100001 for open-end generation.\n"
     ]
    },
    {
     "name": "stdout",
     "output_type": "stream",
     "text": [
      "\n",
      "INTERMEDIATE OUT :\n",
      "\n",
      "def sum_of_sequence():\n",
      "    \"\"\"There exists a unique increasing geometric sequence of five 2-digit positive integers. What is their sum?\"\"\"\n",
      "    for a in range(10, 100):\n",
      "        for r in range(2, 10):\n",
      "            sequence = [a * r**i for i in range(5)]\n",
      "            if all(10 <= n < 100 for n in sequence) and sorted(sequence) == sequence:\n",
      "                sum_of_sequence = sum(sequence)\n",
      "                return sum_of_sequence\n",
      "\n",
      "result = sum_of_sequence()\n",
      "print(result)\n",
      "``````output\n",
      "\n",
      "None\n",
      "None\n",
      "None\n",
      "None\n",
      "None\n",
      "\n",
      "CODE RESULTS None\n"
     ]
    },
    {
     "name": "stderr",
     "output_type": "stream",
     "text": [
      "Setting `pad_token_id` to `eos_token_id`:100001 for open-end generation.\n"
     ]
    },
    {
     "name": "stdout",
     "output_type": "stream",
     "text": [
      "\n",
      "INTERMEDIATE OUT :\n",
      "\n",
      "None\n",
      "```\n",
      "The output is still `None` because the script is still not properly handling the condition that the sequence should be increasing. Let's modify the script to handle the condition properly and return the sum of the sequence when it's found.\n",
      "\n",
      "```python\n",
      "\n"
     ]
    },
    {
     "name": "stderr",
     "output_type": "stream",
     "text": [
      "Setting `pad_token_id` to `eos_token_id`:100001 for open-end generation.\n"
     ]
    },
    {
     "name": "stdout",
     "output_type": "stream",
     "text": [
      "\n",
      "INTERMEDIATE OUT :\n",
      "\n",
      "def sum_of_sequence():\n",
      "    \"\"\"There exists a unique increasing geometric sequence of five 2-digit positive integers. What is their sum?\"\"\"\n",
      "    for a in range(10, 100):\n",
      "        for r in range(2, 10):\n",
      "            sequence = [a * r**i for i in range(5)]\n",
      "            if all(10 <= n < 100 for n in sequence) and sorted(sequence) == sequence:\n",
      "                sum_of_sequence = sum(sequence)\n",
      "                return sum_of_sequence\n",
      "\n",
      "result = sum_of_sequence()\n",
      "print(result)\n",
      "``````output\n",
      "\n",
      "None\n",
      "None\n",
      "None\n",
      "None\n",
      "None\n",
      "None\n",
      "\n",
      "CODE RESULTS None\n"
     ]
    },
    {
     "name": "stderr",
     "output_type": "stream",
     "text": [
      "Setting `pad_token_id` to `eos_token_id`:100001 for open-end generation.\n"
     ]
    },
    {
     "name": "stdout",
     "output_type": "stream",
     "text": [
      "\n",
      "INTERMEDIATE OUT :\n",
      "\n",
      "None\n",
      "```\n",
      "The output is still `None` because the script is still not properly handling the condition that the sequence should be increasing. Let's modify the script to handle the condition properly and return the sum of the sequence when it's found.\n",
      "\n",
      "```python\n",
      "\n"
     ]
    },
    {
     "name": "stderr",
     "output_type": "stream",
     "text": [
      "Setting `pad_token_id` to `eos_token_id`:100001 for open-end generation.\n"
     ]
    },
    {
     "name": "stdout",
     "output_type": "stream",
     "text": [
      "\n",
      "INTERMEDIATE OUT :\n",
      "\n",
      "def sum_of_sequence():\n",
      "    \"\"\"There exists a unique increasing geometric sequence of five 2-digit positive integers. What is their sum?\"\"\"\n",
      "    for a in range(10, 100):\n",
      "        for r in range(2, 10):\n",
      "            sequence = [a * r**i for i in range(5)]\n",
      "            if all(10 <= n < 100 for n in sequence) and sorted(sequence) == sequence:\n",
      "                sum_of_sequence = sum(sequence)\n",
      "                return sum_of_sequence\n",
      "\n",
      "result = sum_of_sequence()\n",
      "print(result)\n",
      "``````output\n",
      "\n",
      "None\n",
      "None\n",
      "None\n",
      "None\n",
      "None\n",
      "None\n",
      "None\n",
      "\n",
      "CODE RESULTS None\n"
     ]
    },
    {
     "name": "stderr",
     "output_type": "stream",
     "text": [
      "Setting `pad_token_id` to `eos_token_id`:100001 for open-end generation.\n"
     ]
    },
    {
     "name": "stdout",
     "output_type": "stream",
     "text": [
      "\n",
      "INTERMEDIATE OUT :\n",
      "\n",
      "None\n",
      "```\n",
      "The output is still `None` because the script is still not properly handling the condition that the sequence should be increasing. Let's modify the script to handle the condition properly and return the sum of the sequence when it's found.\n",
      "\n",
      "```python\n",
      "\n"
     ]
    },
    {
     "name": "stderr",
     "output_type": "stream",
     "text": [
      "Setting `pad_token_id` to `eos_token_id`:100001 for open-end generation.\n"
     ]
    },
    {
     "name": "stdout",
     "output_type": "stream",
     "text": [
      "\n",
      "INTERMEDIATE OUT :\n",
      "\n",
      "def sum_of_sequence():\n",
      "    \"\"\"There exists a unique increasing geometric sequence of five 2-digit positive integers. What is their sum?\"\"\"\n",
      "    for a in range(10, 100):\n",
      "        for r in range(2, 10):\n",
      "            sequence = [a * r**i for i in range(5)]\n",
      "            if all(10 <= n < 100 for n in sequence) and sorted(sequence) == sequence:\n",
      "                sum_of_sequence = sum(sequence)\n",
      "                return sum_of_sequence\n",
      "\n",
      "result = sum_of_sequence()\n",
      "print(result)\n",
      "``````output\n",
      "\n",
      "None\n",
      "None\n",
      "None\n",
      "None\n",
      "None\n",
      "None\n",
      "None\n",
      "None\n",
      "\n",
      "CODE RESULTS None\n"
     ]
    },
    {
     "name": "stderr",
     "output_type": "stream",
     "text": [
      "Setting `pad_token_id` to `eos_token_id`:100001 for open-end generation.\n"
     ]
    },
    {
     "name": "stdout",
     "output_type": "stream",
     "text": [
      "\n",
      "INTERMEDIATE OUT :\n",
      "\n",
      "None\n",
      "```\n",
      "The output is still `None` because the script is still not properly handling the condition that the sequence should be increasing. Let's modify the script to handle the condition properly and return the sum of the sequence when it's found.\n",
      "\n",
      "```python\n",
      "\n"
     ]
    },
    {
     "name": "stderr",
     "output_type": "stream",
     "text": [
      "\n",
      "100%|█████████████████████████████████████████████| 3/3 [03:21<00:00, 67.20s/it]\u001b[A\n",
      "2it [04:11, 125.79s/it]"
     ]
    },
    {
     "name": "stdout",
     "output_type": "stream",
     "text": [
      "\n",
      "INTERMEDIATE OUT :\n",
      "\n",
      "def sum_of_sequence():\n",
      "    \"\"\"There exists a unique increasing geometric sequence of five 2-digit positive integers. What is their sum?\"\"\"\n",
      "    for a in range(10, 100):\n",
      "        for r in range(2, 10):\n",
      "            sequence = [a * r**i for i in range(5)]\n",
      "\n",
      "BOXED []\n",
      "BOXED FINAL 5\n",
      "float() argument must be a string or a real number, not 'NoneType' final_eval\n",
      "[(166, 1), (31, 1), (5, 1)]\n",
      "code_answers 0 text_answers 3\n",
      "Predicted best answer: {0: (100, 1), 1: (166, 1)}\n"
     ]
    },
    {
     "name": "stderr",
     "output_type": "stream",
     "text": [
      "\n"
     ]
    }
   ],
   "source": [
    "total_results = {}\n",
    "total_answers = {}\n",
    "best_stats = {}\n",
    "total_outputs = {}\n",
    "question_type_counts = {}\n",
    "starting_counts = (2, 3)  # to give probability to promts\n",
    "\n",
    "# for i, (test, sample_submission) in tqdm(enumerate(iter_test)):\n",
    "for i, (_, test) in tqdm(enumerate(sample_df.iterrows())):\n",
    "    print(f\"Solving problem {i} ...\")\n",
    "    TIME_SPENT = time.time() - NOTEBOOK_START_TIME\n",
    "\n",
    "    if TIME_SPENT > cnfg.TIME_LIMIT:\n",
    "        print(TIME_SPENT, cnfg.TIME_LIMIT)\n",
    "        break\n",
    "\n",
    "    for jj in tqdm(range(cnfg.n_repetitions)):\n",
    "        # problem = test[\"problem\"].values[0]\n",
    "        problem = test[\"problem\"]\n",
    "        print(f\"\\n\\n\\nQUESTION {i} - {jj} - TIME_SPENT : {TIME_SPENT:.0f} secs\")\n",
    "\n",
    "        best, best_count = best_stats.get(i, (-1, -1))\n",
    "        if best_count > np.sqrt(jj):\n",
    "            print(\"SKIPPING CAUSE ALREADY FOUND BEST\")\n",
    "            continue\n",
    "\n",
    "        outputs = total_outputs.get(i, [])\n",
    "        text_answers, code_answers = question_type_counts.get(i, starting_counts)\n",
    "        results = total_results.get(i, [])\n",
    "        answers = total_answers.get(i, [])\n",
    "\n",
    "        for _ in range(5):\n",
    "            torch.cuda.empty_cache()\n",
    "            gc.collect()\n",
    "            time.sleep(0.2)\n",
    "\n",
    "        try:\n",
    "            ALREADY_GEN = 0\n",
    "            code_error = None\n",
    "            code_error_count = 0\n",
    "            code_output = -1\n",
    "            # initail_message = problem  + tool_instruction\n",
    "            counts = np.array([text_answers, code_answers])\n",
    "\n",
    "            draw = choice(promplt_options, 1, p=counts / counts.sum())  # cot has mo\n",
    "\n",
    "            # initail_message = draw[0].format(problem, \"{}\")\n",
    "            initail_message = draw[0].replace(\"{..rohit..}\", problem)\n",
    "            prompt = f\"User: {initail_message}\"\n",
    "\n",
    "            current_printed = len(prompt)\n",
    "            print(f\"{jj}_{prompt}\\n\")\n",
    "\n",
    "            model_inputs = tokenizer(prompt, return_tensors=\"pt\").to(model.device)\n",
    "            input_len = len(model_inputs[\"input_ids\"][0])\n",
    "\n",
    "            generation_output = model.generate(\n",
    "                **model_inputs,\n",
    "                max_new_tokens=cnfg.TOTAL_TOKENS - ALREADY_GEN,\n",
    "                return_dict_in_generate=cnfg.USE_PAST_KEY,\n",
    "                do_sample=True,\n",
    "                temperature=cnfg.temperature,\n",
    "                top_p=cnfg.top_p,\n",
    "                num_return_sequences=1,\n",
    "                stopping_criteria=stopping_criteria,\n",
    "            )\n",
    "\n",
    "            if cnfg.USE_PAST_KEY:\n",
    "                output_ids = generation_output.sequences[0]\n",
    "            else:\n",
    "                output_ids = generation_output[0]\n",
    "            decoded_output = tokenizer.decode(output_ids, skip_special_tokens=True)\n",
    "            print(f\"{decoded_output[current_printed:]}\\n\")\n",
    "            current_printed += len(\n",
    "                decoded_output[current_printed:]\n",
    "            )  # Size of prompt + Size of generated text\n",
    "\n",
    "            cummulative_code = \"\"\n",
    "\n",
    "            stop_word_cond = False  # Whether last word generated is a stop word or not.\n",
    "            for stop_word in stop_words:\n",
    "                stop_word_cond = stop_word_cond or (\n",
    "                    decoded_output[-len(stop_word) :] == stop_word\n",
    "                )\n",
    "                if cnfg.DEBUG:\n",
    "                    if stop_word_cond:\n",
    "                        print(f\"***** 1: Stop Word: {stop_word}\")\n",
    "\n",
    "            # while stop word is generated and not generated maximum tokens (cnfg.TOTAL_TOKENS)\n",
    "            while (stop_word_cond) and (ALREADY_GEN < (cnfg.TOTAL_TOKENS)):\n",
    "                if cnfg.DEBUG:\n",
    "                    print(f\"****** 2 ALREADY_GEN:{ALREADY_GEN}, {cnfg.TOTAL_TOKENS}\")\n",
    "\n",
    "                if decoded_output[-len(\"```python\") :] == \"```python\":\n",
    "                    if cnfg.DEBUG:\n",
    "                        print(f\"****** 3 Stop Word: ```python found\")\n",
    "                    temperature_inner = cnfg.temperature_coding\n",
    "                    top_p_inner = cnfg.top_p_coding\n",
    "                    prompt = decoded_output\n",
    "                else:\n",
    "                    if cnfg.DEBUG:\n",
    "                        print(f\"****** 4 looking for other stop word\")\n",
    "                    temperature_inner = cnfg.temperature\n",
    "                    top_p_inner = cnfg.top_p\n",
    "                    try:\n",
    "                        if decoded_output[-len(\"``````output\") :] == \"``````output\":\n",
    "                            if cnfg.DEBUG:\n",
    "                                print(f\"****** 5 Stop word ``````output found\")\n",
    "                            code_text = decoded_output.split(\"```python\")[-1].split(\n",
    "                                \"``````\"\n",
    "                            )[0]\n",
    "                        else:\n",
    "                            code_text = decoded_output.split(\"```python\")[-1].split(\n",
    "                                \"```\"\n",
    "                            )[0]\n",
    "\n",
    "                        cummulative_code += code_text\n",
    "\n",
    "                        if cnfg.DEBUG:\n",
    "                            print(\n",
    "                                f\"****** 6 Found Code ************ \\n {cummulative_code} \\n ***********************\"\n",
    "                            )\n",
    "                        code_output, CODE_STATUS = process_code(\n",
    "                            cummulative_code, return_shell_output=True\n",
    "                        )\n",
    "                        print(\"CODE RESULTS\", code_output)\n",
    "\n",
    "                        if code_error == code_output:\n",
    "                            code_error_count += 1\n",
    "                        else:\n",
    "                            code_error = code_output\n",
    "                            code_error_count = 0\n",
    "\n",
    "                        if not CODE_STATUS:\n",
    "                            cummulative_code = cummulative_code[: -len(code_text)]\n",
    "                            if cnfg.DEBUG:\n",
    "                                print(\n",
    "                                    f\"****** 7 CODE STATUS {CODE_STATUS} New  cummulative_code ************ \\n {cummulative_code} \\n ***********************\"\n",
    "                                )\n",
    "\n",
    "                            if code_error_count >= 1:\n",
    "                                print(\"REPEATED ERRORS\")\n",
    "                                break\n",
    "\n",
    "                    except Exception as e:\n",
    "                        print(e)\n",
    "                        print(\"ERROR PARSING CODE\")\n",
    "                        code_output = -1\n",
    "\n",
    "                    if code_output != -1:\n",
    "                        if decoded_output[-len(\")\\n```\") :] == \")\\n```\":\n",
    "                            prompt = (\n",
    "                                decoded_output\n",
    "                                + \"```output\\n\"\n",
    "                                + str(code_output)\n",
    "                                + \"\\n```\\n\"\n",
    "                            )\n",
    "                            if cnfg.DEBUG:\n",
    "                                print(\n",
    "                                    f\"****** 8 New prompt with code output ************ \\n {prompt} \\n ***********************\"\n",
    "                                )\n",
    "                        else:\n",
    "                            prompt = (\n",
    "                                decoded_output + \"\\n\" + str(code_output) + \"\\n```\\n\"\n",
    "                            )\n",
    "                            if cnfg.DEBUG:\n",
    "                                print(\n",
    "                                    f\"****** 9 New prompt with code output ************ \\n {prompt} \\n ***********************\"\n",
    "                                )\n",
    "                    else:\n",
    "                        prompt = decoded_output\n",
    "                        cummulative_code = \"\"\n",
    "                        if cnfg.DEBUG:\n",
    "                            print(\n",
    "                                f\"****** 10 Code out put -1 new prompt ************ \\n {prompt} \\n ***********************\"\n",
    "                            )\n",
    "\n",
    "                model_inputs = tokenizer(prompt, return_tensors=\"pt\").to(model.device)\n",
    "                ALREADY_GEN = len(model_inputs[\"input_ids\"][0]) - input_len\n",
    "\n",
    "                if cnfg.USE_PAST_KEY:\n",
    "                    old_values = generation_output.past_key_values\n",
    "                else:\n",
    "                    old_values = None\n",
    "\n",
    "                generation_output = model.generate(\n",
    "                    **model_inputs,\n",
    "                    max_new_tokens=cnfg.TOTAL_TOKENS - ALREADY_GEN,\n",
    "                    return_dict_in_generate=cnfg.USE_PAST_KEY,\n",
    "                    past_key_values=old_values,\n",
    "                    do_sample=True,\n",
    "                    temperature=temperature_inner,\n",
    "                    top_p=top_p_inner,\n",
    "                    num_return_sequences=1,\n",
    "                    stopping_criteria=stopping_criteria,\n",
    "                )\n",
    "\n",
    "                if cnfg.USE_PAST_KEY:\n",
    "                    output_ids = generation_output.sequences[0]\n",
    "                else:\n",
    "                    output_ids = generation_output[0]\n",
    "                decoded_output = tokenizer.decode(output_ids, skip_special_tokens=True)\n",
    "                print(f\"\\nINTERMEDIATE OUT :\\n{decoded_output[current_printed:]}\\n\")\n",
    "                current_printed += len(decoded_output[current_printed:])\n",
    "\n",
    "                stop_word_cond = False\n",
    "                for stop_word in stop_words:\n",
    "                    stop_word_cond = stop_word_cond or (\n",
    "                        decoded_output[-len(stop_word) :] == stop_word\n",
    "                    )\n",
    "\n",
    "            if cnfg.USE_PAST_KEY:\n",
    "                output_ids = generation_output.sequences[0]\n",
    "            else:\n",
    "                output_ids = generation_output[0]\n",
    "\n",
    "            raw_output = tokenizer.decode(\n",
    "                output_ids[input_len:], skip_special_tokens=True\n",
    "            )\n",
    "            # print(f\"\\n\\nOutput :\\n{raw_output}\\n\")\n",
    "            result_output = process_text_output(raw_output)\n",
    "\n",
    "            try:\n",
    "                code_output = round(float(eval(code_output))) % 1000\n",
    "            except Exception as e:\n",
    "                print(e, \"final_eval\")\n",
    "                code_output = -1\n",
    "\n",
    "        except Exception as e:\n",
    "            print(e, \"5\")\n",
    "            result_output, code_output = -1, -1\n",
    "\n",
    "        if code_output != -1:\n",
    "            outputs.append(code_output)\n",
    "            code_answers += 1\n",
    "\n",
    "        if result_output != -1:\n",
    "            outputs.append(result_output)\n",
    "            text_answers += 1\n",
    "\n",
    "        if len(outputs) > 0:\n",
    "            occurances = Counter(outputs).most_common()\n",
    "            print(occurances)\n",
    "            if occurances[0][1] > best_count:\n",
    "                print(\"GOOD ANSWER UPDATED!\")\n",
    "                best = occurances[0][0]\n",
    "                best_count = occurances[0][1]\n",
    "            if occurances[0][1] > 5:\n",
    "                print(\"ANSWER FOUND!\")\n",
    "                break\n",
    "\n",
    "        results.append(result_output)\n",
    "        answers.append(code_output)\n",
    "\n",
    "        best_stats[i] = (best, best_count)\n",
    "        question_type_counts[i] = (text_answers, code_answers)\n",
    "        total_outputs[i] = outputs\n",
    "\n",
    "        total_results[i] = results\n",
    "        total_answers[i] = answers\n",
    "\n",
    "        print(\n",
    "            \"code_answers\",\n",
    "            code_answers - starting_counts[1],\n",
    "            \"text_answers\",\n",
    "            text_answers - starting_counts[0],\n",
    "        )\n",
    "        if cnfg.DEBUG:\n",
    "            break\n",
    "\n",
    "    print(f\"Predicted best answer: {best_stats}\")"
   ]
  },
  {
   "cell_type": "code",
   "execution_count": null,
   "id": "62399c73",
   "metadata": {},
   "outputs": [
    {
     "data": {
      "text/plain": [
       "{0: (100, 1), 1: (166, 1)}"
      ]
     },
     "execution_count": null,
     "metadata": {},
     "output_type": "execute_result"
    }
   ],
   "source": [
    "best_stats"
   ]
  },
  {
   "cell_type": "code",
   "execution_count": null,
   "id": "afdca0b6-fce6-45db-88f6-0731fe07dea3",
   "metadata": {},
   "outputs": [
    {
     "data": {
      "text/html": [
       "<div>\n",
       "<style scoped>\n",
       "    .dataframe tbody tr th:only-of-type {\n",
       "        vertical-align: middle;\n",
       "    }\n",
       "\n",
       "    .dataframe tbody tr th {\n",
       "        vertical-align: top;\n",
       "    }\n",
       "\n",
       "    .dataframe thead th {\n",
       "        text-align: right;\n",
       "    }\n",
       "</style>\n",
       "<table border=\"1\" class=\"dataframe\">\n",
       "  <thead>\n",
       "    <tr style=\"text-align: right;\">\n",
       "      <th></th>\n",
       "      <th>id</th>\n",
       "      <th>problem</th>\n",
       "      <th>answer</th>\n",
       "    </tr>\n",
       "  </thead>\n",
       "  <tbody>\n",
       "    <tr>\n",
       "      <th>5</th>\n",
       "      <td>739bc9</td>\n",
       "      <td>For how many positive integers $m$ does the eq...</td>\n",
       "      <td>199</td>\n",
       "    </tr>\n",
       "    <tr>\n",
       "      <th>4</th>\n",
       "      <td>5277ed</td>\n",
       "      <td>There exists a unique increasing geometric seq...</td>\n",
       "      <td>211</td>\n",
       "    </tr>\n",
       "  </tbody>\n",
       "</table>\n",
       "</div>"
      ],
      "text/plain": [
       "       id                                            problem  answer\n",
       "5  739bc9  For how many positive integers $m$ does the eq...     199\n",
       "4  5277ed  There exists a unique increasing geometric seq...     211"
      ]
     },
     "execution_count": null,
     "metadata": {},
     "output_type": "execute_result"
    }
   ],
   "source": [
    "sample_df"
   ]
  },
  {
   "cell_type": "code",
   "execution_count": null,
   "id": "205062ce-05b8-49d9-9c40-b252d1573342",
   "metadata": {},
   "outputs": [],
   "source": []
  }
 ],
 "metadata": {
  "kernelspec": {
   "display_name": "python3",
   "language": "python",
   "name": "python3"
  },
  "widgets": {
   "application/vnd.jupyter.widget-state+json": {
    "state": {
     "0175ae284712457ab1bffbffb8ba4bd9": {
      "model_module": "@jupyter-widgets/controls",
      "model_module_version": "1.5.0",
      "model_name": "FloatProgressModel",
      "state": {
       "_dom_classes": [],
       "_model_module": "@jupyter-widgets/controls",
       "_model_module_version": "1.5.0",
       "_model_name": "FloatProgressModel",
       "_view_count": null,
       "_view_module": "@jupyter-widgets/controls",
       "_view_module_version": "1.5.0",
       "_view_name": "ProgressView",
       "bar_style": "success",
       "description": "",
       "description_tooltip": null,
       "layout": "IPY_MODEL_489ad355e58e44ce882f7c6a92cda669",
       "max": 3,
       "min": 0,
       "orientation": "horizontal",
       "style": "IPY_MODEL_773cf5200bf14bbdb149dbb333c2b70f",
       "value": 3
      }
     },
     "0534fc55c3b949a395be9c3f8bd1b92b": {
      "model_module": "@jupyter-widgets/controls",
      "model_module_version": "1.5.0",
      "model_name": "HTMLModel",
      "state": {
       "_dom_classes": [],
       "_model_module": "@jupyter-widgets/controls",
       "_model_module_version": "1.5.0",
       "_model_name": "HTMLModel",
       "_view_count": null,
       "_view_module": "@jupyter-widgets/controls",
       "_view_module_version": "1.5.0",
       "_view_name": "HTMLView",
       "description": "",
       "description_tooltip": null,
       "layout": "IPY_MODEL_3ea82ca025e44b54a903e46e403fd7e2",
       "placeholder": "​",
       "style": "IPY_MODEL_3ad193262e294701bcbbc04bc984795c",
       "value": " 3/3 [03:38&lt;00:00, 71.99s/it]"
      }
     },
     "071cd59776cd49259374f5736d3df63f": {
      "model_module": "@jupyter-widgets/base",
      "model_module_version": "1.2.0",
      "model_name": "LayoutModel",
      "state": {
       "_model_module": "@jupyter-widgets/base",
       "_model_module_version": "1.2.0",
       "_model_name": "LayoutModel",
       "_view_count": null,
       "_view_module": "@jupyter-widgets/base",
       "_view_module_version": "1.2.0",
       "_view_name": "LayoutView",
       "align_content": null,
       "align_items": null,
       "align_self": null,
       "border": null,
       "bottom": null,
       "display": null,
       "flex": null,
       "flex_flow": null,
       "grid_area": null,
       "grid_auto_columns": null,
       "grid_auto_flow": null,
       "grid_auto_rows": null,
       "grid_column": null,
       "grid_gap": null,
       "grid_row": null,
       "grid_template_areas": null,
       "grid_template_columns": null,
       "grid_template_rows": null,
       "height": null,
       "justify_content": null,
       "justify_items": null,
       "left": null,
       "margin": null,
       "max_height": null,
       "max_width": null,
       "min_height": null,
       "min_width": null,
       "object_fit": null,
       "object_position": null,
       "order": null,
       "overflow": null,
       "overflow_x": null,
       "overflow_y": null,
       "padding": null,
       "right": null,
       "top": null,
       "visibility": null,
       "width": null
      }
     },
     "07c7ac16054a4425b2b3fefd1058deea": {
      "model_module": "@jupyter-widgets/controls",
      "model_module_version": "1.5.0",
      "model_name": "HBoxModel",
      "state": {
       "_dom_classes": [],
       "_model_module": "@jupyter-widgets/controls",
       "_model_module_version": "1.5.0",
       "_model_name": "HBoxModel",
       "_view_count": null,
       "_view_module": "@jupyter-widgets/controls",
       "_view_module_version": "1.5.0",
       "_view_name": "HBoxView",
       "box_style": "",
       "children": [
        "IPY_MODEL_ecb7d2a4043e4505bbfd20b63410600d",
        "IPY_MODEL_0175ae284712457ab1bffbffb8ba4bd9",
        "IPY_MODEL_0534fc55c3b949a395be9c3f8bd1b92b"
       ],
       "layout": "IPY_MODEL_0e11a2549f794f58843ea7c77181576b"
      }
     },
     "0e11a2549f794f58843ea7c77181576b": {
      "model_module": "@jupyter-widgets/base",
      "model_module_version": "1.2.0",
      "model_name": "LayoutModel",
      "state": {
       "_model_module": "@jupyter-widgets/base",
       "_model_module_version": "1.2.0",
       "_model_name": "LayoutModel",
       "_view_count": null,
       "_view_module": "@jupyter-widgets/base",
       "_view_module_version": "1.2.0",
       "_view_name": "LayoutView",
       "align_content": null,
       "align_items": null,
       "align_self": null,
       "border": null,
       "bottom": null,
       "display": null,
       "flex": null,
       "flex_flow": null,
       "grid_area": null,
       "grid_auto_columns": null,
       "grid_auto_flow": null,
       "grid_auto_rows": null,
       "grid_column": null,
       "grid_gap": null,
       "grid_row": null,
       "grid_template_areas": null,
       "grid_template_columns": null,
       "grid_template_rows": null,
       "height": null,
       "justify_content": null,
       "justify_items": null,
       "left": null,
       "margin": null,
       "max_height": null,
       "max_width": null,
       "min_height": null,
       "min_width": null,
       "object_fit": null,
       "object_position": null,
       "order": null,
       "overflow": null,
       "overflow_x": null,
       "overflow_y": null,
       "padding": null,
       "right": null,
       "top": null,
       "visibility": null,
       "width": null
      }
     },
     "3ad193262e294701bcbbc04bc984795c": {
      "model_module": "@jupyter-widgets/controls",
      "model_module_version": "1.5.0",
      "model_name": "DescriptionStyleModel",
      "state": {
       "_model_module": "@jupyter-widgets/controls",
       "_model_module_version": "1.5.0",
       "_model_name": "DescriptionStyleModel",
       "_view_count": null,
       "_view_module": "@jupyter-widgets/base",
       "_view_module_version": "1.2.0",
       "_view_name": "StyleView",
       "description_width": ""
      }
     },
     "3ea82ca025e44b54a903e46e403fd7e2": {
      "model_module": "@jupyter-widgets/base",
      "model_module_version": "1.2.0",
      "model_name": "LayoutModel",
      "state": {
       "_model_module": "@jupyter-widgets/base",
       "_model_module_version": "1.2.0",
       "_model_name": "LayoutModel",
       "_view_count": null,
       "_view_module": "@jupyter-widgets/base",
       "_view_module_version": "1.2.0",
       "_view_name": "LayoutView",
       "align_content": null,
       "align_items": null,
       "align_self": null,
       "border": null,
       "bottom": null,
       "display": null,
       "flex": null,
       "flex_flow": null,
       "grid_area": null,
       "grid_auto_columns": null,
       "grid_auto_flow": null,
       "grid_auto_rows": null,
       "grid_column": null,
       "grid_gap": null,
       "grid_row": null,
       "grid_template_areas": null,
       "grid_template_columns": null,
       "grid_template_rows": null,
       "height": null,
       "justify_content": null,
       "justify_items": null,
       "left": null,
       "margin": null,
       "max_height": null,
       "max_width": null,
       "min_height": null,
       "min_width": null,
       "object_fit": null,
       "object_position": null,
       "order": null,
       "overflow": null,
       "overflow_x": null,
       "overflow_y": null,
       "padding": null,
       "right": null,
       "top": null,
       "visibility": null,
       "width": null
      }
     },
     "489ad355e58e44ce882f7c6a92cda669": {
      "model_module": "@jupyter-widgets/base",
      "model_module_version": "1.2.0",
      "model_name": "LayoutModel",
      "state": {
       "_model_module": "@jupyter-widgets/base",
       "_model_module_version": "1.2.0",
       "_model_name": "LayoutModel",
       "_view_count": null,
       "_view_module": "@jupyter-widgets/base",
       "_view_module_version": "1.2.0",
       "_view_name": "LayoutView",
       "align_content": null,
       "align_items": null,
       "align_self": null,
       "border": null,
       "bottom": null,
       "display": null,
       "flex": null,
       "flex_flow": null,
       "grid_area": null,
       "grid_auto_columns": null,
       "grid_auto_flow": null,
       "grid_auto_rows": null,
       "grid_column": null,
       "grid_gap": null,
       "grid_row": null,
       "grid_template_areas": null,
       "grid_template_columns": null,
       "grid_template_rows": null,
       "height": null,
       "justify_content": null,
       "justify_items": null,
       "left": null,
       "margin": null,
       "max_height": null,
       "max_width": null,
       "min_height": null,
       "min_width": null,
       "object_fit": null,
       "object_position": null,
       "order": null,
       "overflow": null,
       "overflow_x": null,
       "overflow_y": null,
       "padding": null,
       "right": null,
       "top": null,
       "visibility": null,
       "width": null
      }
     },
     "773cf5200bf14bbdb149dbb333c2b70f": {
      "model_module": "@jupyter-widgets/controls",
      "model_module_version": "1.5.0",
      "model_name": "ProgressStyleModel",
      "state": {
       "_model_module": "@jupyter-widgets/controls",
       "_model_module_version": "1.5.0",
       "_model_name": "ProgressStyleModel",
       "_view_count": null,
       "_view_module": "@jupyter-widgets/base",
       "_view_module_version": "1.2.0",
       "_view_name": "StyleView",
       "bar_color": null,
       "description_width": ""
      }
     },
     "ecb7d2a4043e4505bbfd20b63410600d": {
      "model_module": "@jupyter-widgets/controls",
      "model_module_version": "1.5.0",
      "model_name": "HTMLModel",
      "state": {
       "_dom_classes": [],
       "_model_module": "@jupyter-widgets/controls",
       "_model_module_version": "1.5.0",
       "_model_name": "HTMLModel",
       "_view_count": null,
       "_view_module": "@jupyter-widgets/controls",
       "_view_module_version": "1.5.0",
       "_view_name": "HTMLView",
       "description": "",
       "description_tooltip": null,
       "layout": "IPY_MODEL_071cd59776cd49259374f5736d3df63f",
       "placeholder": "​",
       "style": "IPY_MODEL_f175438ea5454359ba7a68e0c113792b",
       "value": "Loading checkpoint shards: 100%"
      }
     },
     "f175438ea5454359ba7a68e0c113792b": {
      "model_module": "@jupyter-widgets/controls",
      "model_module_version": "1.5.0",
      "model_name": "DescriptionStyleModel",
      "state": {
       "_model_module": "@jupyter-widgets/controls",
       "_model_module_version": "1.5.0",
       "_model_name": "DescriptionStyleModel",
       "_view_count": null,
       "_view_module": "@jupyter-widgets/base",
       "_view_module_version": "1.2.0",
       "_view_name": "StyleView",
       "description_width": ""
      }
     }
    },
    "version_major": 2,
    "version_minor": 0
   }
  }
 },
 "nbformat": 4,
 "nbformat_minor": 5
}
