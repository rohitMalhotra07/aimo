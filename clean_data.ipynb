{
 "cells": [
  {
   "cell_type": "code",
   "execution_count": null,
   "id": "9243d730-414e-44e5-bd05-1d14d4408e0d",
   "metadata": {},
   "outputs": [],
   "source": [
    "import pandas as pd\n",
    "from config import Config\n",
    "import numpy as np"
   ]
  },
  {
   "cell_type": "code",
   "execution_count": null,
   "id": "425cda7a-dc5e-410c-ae3b-6652c17e613a",
   "metadata": {},
   "outputs": [],
   "source": []
  },
  {
   "cell_type": "code",
   "execution_count": null,
   "id": "76c6665e-c791-474e-ace7-74c29b7dbb13",
   "metadata": {},
   "outputs": [],
   "source": [
    "cnfg = Config()"
   ]
  },
  {
   "cell_type": "code",
   "execution_count": null,
   "id": "1fb06a36-3d3e-47bb-a98b-a81460444524",
   "metadata": {},
   "outputs": [],
   "source": [
    "external_1 = pd.read_csv(cnfg.external_1)"
   ]
  },
  {
   "cell_type": "code",
   "execution_count": null,
   "id": "d688f5a3-52f3-4ff9-b7ac-b354811dd950",
   "metadata": {},
   "outputs": [],
   "source": [
    "external_2 = pd.read_csv(cnfg.external_2)"
   ]
  },
  {
   "cell_type": "code",
   "execution_count": null,
   "id": "3119fc9b-8ebd-4ac6-92ae-c6beb2378494",
   "metadata": {},
   "outputs": [
    {
     "data": {
      "text/html": [
       "<div>\n",
       "<style scoped>\n",
       "    .dataframe tbody tr th:only-of-type {\n",
       "        vertical-align: middle;\n",
       "    }\n",
       "\n",
       "    .dataframe tbody tr th {\n",
       "        vertical-align: top;\n",
       "    }\n",
       "\n",
       "    .dataframe thead th {\n",
       "        text-align: right;\n",
       "    }\n",
       "</style>\n",
       "<table border=\"1\" class=\"dataframe\">\n",
       "  <thead>\n",
       "    <tr style=\"text-align: right;\">\n",
       "      <th></th>\n",
       "      <th>problem</th>\n",
       "      <th>level</th>\n",
       "      <th>type</th>\n",
       "      <th>solution</th>\n",
       "      <th>stage</th>\n",
       "      <th>source</th>\n",
       "    </tr>\n",
       "  </thead>\n",
       "  <tbody>\n",
       "    <tr>\n",
       "      <th>0</th>\n",
       "      <td>Kevin Kangaroo begins hopping on a number line...</td>\n",
       "      <td>Level 5</td>\n",
       "      <td>Algebra</td>\n",
       "      <td>Kevin hops $1/3$ of the remaining distance wit...</td>\n",
       "      <td>train</td>\n",
       "      <td>MATH</td>\n",
       "    </tr>\n",
       "    <tr>\n",
       "      <th>1</th>\n",
       "      <td>The ratio of the areas of two squares is $\\fra...</td>\n",
       "      <td>Level 4</td>\n",
       "      <td>Algebra</td>\n",
       "      <td>We start off by simplifying the ratio $\\frac{1...</td>\n",
       "      <td>train</td>\n",
       "      <td>MATH</td>\n",
       "    </tr>\n",
       "    <tr>\n",
       "      <th>2</th>\n",
       "      <td>If $\\sqrt{2\\sqrt{t-2}} = \\sqrt[4]{7 - t}$, the...</td>\n",
       "      <td>Level 4</td>\n",
       "      <td>Algebra</td>\n",
       "      <td>We raise both sides to the fourth power, which...</td>\n",
       "      <td>train</td>\n",
       "      <td>MATH</td>\n",
       "    </tr>\n",
       "    <tr>\n",
       "      <th>3</th>\n",
       "      <td>Let $t(x) = \\sqrt{3x+1}$ and $f(x)=5-t(x)$. Wh...</td>\n",
       "      <td>Level 4</td>\n",
       "      <td>Algebra</td>\n",
       "      <td>We first evaluate $f(5) = 5 -t(5) = 5-\\sqrt{5\\...</td>\n",
       "      <td>train</td>\n",
       "      <td>MATH</td>\n",
       "    </tr>\n",
       "    <tr>\n",
       "      <th>4</th>\n",
       "      <td>James has a total of 66 dollars in his piggy b...</td>\n",
       "      <td>Level 2</td>\n",
       "      <td>Algebra</td>\n",
       "      <td>Call the number of one dollar bills $x$ and th...</td>\n",
       "      <td>train</td>\n",
       "      <td>MATH</td>\n",
       "    </tr>\n",
       "  </tbody>\n",
       "</table>\n",
       "</div>"
      ],
      "text/plain": [
       "                                             problem    level     type  \\\n",
       "0  Kevin Kangaroo begins hopping on a number line...  Level 5  Algebra   \n",
       "1  The ratio of the areas of two squares is $\\fra...  Level 4  Algebra   \n",
       "2  If $\\sqrt{2\\sqrt{t-2}} = \\sqrt[4]{7 - t}$, the...  Level 4  Algebra   \n",
       "3  Let $t(x) = \\sqrt{3x+1}$ and $f(x)=5-t(x)$. Wh...  Level 4  Algebra   \n",
       "4  James has a total of 66 dollars in his piggy b...  Level 2  Algebra   \n",
       "\n",
       "                                            solution  stage source  \n",
       "0  Kevin hops $1/3$ of the remaining distance wit...  train   MATH  \n",
       "1  We start off by simplifying the ratio $\\frac{1...  train   MATH  \n",
       "2  We raise both sides to the fourth power, which...  train   MATH  \n",
       "3  We first evaluate $f(5) = 5 -t(5) = 5-\\sqrt{5\\...  train   MATH  \n",
       "4  Call the number of one dollar bills $x$ and th...  train   MATH  "
      ]
     },
     "execution_count": null,
     "metadata": {},
     "output_type": "execute_result"
    }
   ],
   "source": [
    "external_1.head()"
   ]
  },
  {
   "cell_type": "code",
   "execution_count": null,
   "id": "8d1ef0d8-734f-4fa0-b9fb-e30ed9db9294",
   "metadata": {},
   "outputs": [
    {
     "data": {
      "text/html": [
       "<div>\n",
       "<style scoped>\n",
       "    .dataframe tbody tr th:only-of-type {\n",
       "        vertical-align: middle;\n",
       "    }\n",
       "\n",
       "    .dataframe tbody tr th {\n",
       "        vertical-align: top;\n",
       "    }\n",
       "\n",
       "    .dataframe thead th {\n",
       "        text-align: right;\n",
       "    }\n",
       "</style>\n",
       "<table border=\"1\" class=\"dataframe\">\n",
       "  <thead>\n",
       "    <tr style=\"text-align: right;\">\n",
       "      <th></th>\n",
       "      <th>problem_id</th>\n",
       "      <th>link</th>\n",
       "      <th>problem</th>\n",
       "      <th>solution</th>\n",
       "      <th>letter</th>\n",
       "      <th>answer</th>\n",
       "    </tr>\n",
       "  </thead>\n",
       "  <tbody>\n",
       "    <tr>\n",
       "      <th>0</th>\n",
       "      <td>4ba30954e5f3ca72748b3e145f45b705</td>\n",
       "      <td>https://artofproblemsolving.com/wiki/index.php...</td>\n",
       "      <td>What is the ones digit of \\[222,222-22,222-2,2...</td>\n",
       "      <td>We can rewrite the expression as \\[222,222-(22...</td>\n",
       "      <td>B</td>\n",
       "      <td>2</td>\n",
       "    </tr>\n",
       "    <tr>\n",
       "      <th>1</th>\n",
       "      <td>4ba30954e5f3ca72748b3e145f45b705</td>\n",
       "      <td>https://artofproblemsolving.com/wiki/index.php...</td>\n",
       "      <td>What is the ones digit of \\[222,222-22,222-2,2...</td>\n",
       "      <td>222,222-22,222 = 200,000\\n200,000 - 2,222 = 19...</td>\n",
       "      <td>B</td>\n",
       "      <td>2</td>\n",
       "    </tr>\n",
       "    <tr>\n",
       "      <th>2</th>\n",
       "      <td>4ba30954e5f3ca72748b3e145f45b705</td>\n",
       "      <td>https://artofproblemsolving.com/wiki/index.php...</td>\n",
       "      <td>What is the ones digit of \\[222,222-22,222-2,2...</td>\n",
       "      <td>We only care about the unit's digits.\\nThus, $...</td>\n",
       "      <td>B</td>\n",
       "      <td>2</td>\n",
       "    </tr>\n",
       "    <tr>\n",
       "      <th>3</th>\n",
       "      <td>4ba30954e5f3ca72748b3e145f45b705</td>\n",
       "      <td>https://artofproblemsolving.com/wiki/index.php...</td>\n",
       "      <td>What is the ones digit of \\[222,222-22,222-2,2...</td>\n",
       "      <td>We just take the units digit of each and subtr...</td>\n",
       "      <td>B</td>\n",
       "      <td>2</td>\n",
       "    </tr>\n",
       "    <tr>\n",
       "      <th>4</th>\n",
       "      <td>085955dda8dfb374689b3f216b54d785</td>\n",
       "      <td>https://artofproblemsolving.com/wiki/index.php...</td>\n",
       "      <td>What is the value of this expression in decima...</td>\n",
       "      <td>We see that $\\frac{44}{11}$ is $4$ $\\frac{110}...</td>\n",
       "      <td>C</td>\n",
       "      <td>6.54</td>\n",
       "    </tr>\n",
       "  </tbody>\n",
       "</table>\n",
       "</div>"
      ],
      "text/plain": [
       "                         problem_id  \\\n",
       "0  4ba30954e5f3ca72748b3e145f45b705   \n",
       "1  4ba30954e5f3ca72748b3e145f45b705   \n",
       "2  4ba30954e5f3ca72748b3e145f45b705   \n",
       "3  4ba30954e5f3ca72748b3e145f45b705   \n",
       "4  085955dda8dfb374689b3f216b54d785   \n",
       "\n",
       "                                                link  \\\n",
       "0  https://artofproblemsolving.com/wiki/index.php...   \n",
       "1  https://artofproblemsolving.com/wiki/index.php...   \n",
       "2  https://artofproblemsolving.com/wiki/index.php...   \n",
       "3  https://artofproblemsolving.com/wiki/index.php...   \n",
       "4  https://artofproblemsolving.com/wiki/index.php...   \n",
       "\n",
       "                                             problem  \\\n",
       "0  What is the ones digit of \\[222,222-22,222-2,2...   \n",
       "1  What is the ones digit of \\[222,222-22,222-2,2...   \n",
       "2  What is the ones digit of \\[222,222-22,222-2,2...   \n",
       "3  What is the ones digit of \\[222,222-22,222-2,2...   \n",
       "4  What is the value of this expression in decima...   \n",
       "\n",
       "                                            solution letter answer  \n",
       "0  We can rewrite the expression as \\[222,222-(22...      B      2  \n",
       "1  222,222-22,222 = 200,000\\n200,000 - 2,222 = 19...      B      2  \n",
       "2  We only care about the unit's digits.\\nThus, $...      B      2  \n",
       "3  We just take the units digit of each and subtr...      B      2  \n",
       "4  We see that $\\frac{44}{11}$ is $4$ $\\frac{110}...      C   6.54  "
      ]
     },
     "execution_count": null,
     "metadata": {},
     "output_type": "execute_result"
    }
   ],
   "source": [
    "external_2.head()"
   ]
  },
  {
   "cell_type": "code",
   "execution_count": null,
   "id": "73381bff-efd8-4510-a16d-a22b718c31f4",
   "metadata": {},
   "outputs": [],
   "source": [
    "external_comb = pd.read_csv(cnfg.ext_comb_pre_processed)"
   ]
  },
  {
   "cell_type": "code",
   "execution_count": null,
   "id": "31598743-bdce-4f43-80ba-d50c66a14c26",
   "metadata": {},
   "outputs": [
    {
     "data": {
      "text/plain": [
       "(27861, 10)"
      ]
     },
     "execution_count": null,
     "metadata": {},
     "output_type": "execute_result"
    }
   ],
   "source": [
    "external_comb.shape"
   ]
  },
  {
   "cell_type": "code",
   "execution_count": null,
   "id": "fbfdad04-f631-4423-b65a-180113ac5a94",
   "metadata": {},
   "outputs": [
    {
     "data": {
      "text/html": [
       "<div>\n",
       "<style scoped>\n",
       "    .dataframe tbody tr th:only-of-type {\n",
       "        vertical-align: middle;\n",
       "    }\n",
       "\n",
       "    .dataframe tbody tr th {\n",
       "        vertical-align: top;\n",
       "    }\n",
       "\n",
       "    .dataframe thead th {\n",
       "        text-align: right;\n",
       "    }\n",
       "</style>\n",
       "<table border=\"1\" class=\"dataframe\">\n",
       "  <thead>\n",
       "    <tr style=\"text-align: right;\">\n",
       "      <th></th>\n",
       "      <th>problem_id</th>\n",
       "      <th>problem</th>\n",
       "      <th>solution</th>\n",
       "      <th>answer</th>\n",
       "      <th>link</th>\n",
       "      <th>source</th>\n",
       "      <th>level</th>\n",
       "      <th>type</th>\n",
       "      <th>stage</th>\n",
       "      <th>letter</th>\n",
       "    </tr>\n",
       "  </thead>\n",
       "  <tbody>\n",
       "    <tr>\n",
       "      <th>0</th>\n",
       "      <td>4ba30954e5f3ca72748b3e145f45b705</td>\n",
       "      <td>What is the ones digit of \\[222,222-22,222-2,2...</td>\n",
       "      <td>We can rewrite the expression as \\[222,222-(22...</td>\n",
       "      <td>2.00</td>\n",
       "      <td>https://artofproblemsolving.com/wiki/index.php...</td>\n",
       "      <td>AOPS</td>\n",
       "      <td>NaN</td>\n",
       "      <td>NaN</td>\n",
       "      <td>train</td>\n",
       "      <td>B</td>\n",
       "    </tr>\n",
       "    <tr>\n",
       "      <th>1</th>\n",
       "      <td>4ba30954e5f3ca72748b3e145f45b705</td>\n",
       "      <td>What is the ones digit of \\[222,222-22,222-2,2...</td>\n",
       "      <td>222,222-22,222 = 200,000\\n200,000 - 2,222 = 19...</td>\n",
       "      <td>2.00</td>\n",
       "      <td>https://artofproblemsolving.com/wiki/index.php...</td>\n",
       "      <td>AOPS</td>\n",
       "      <td>NaN</td>\n",
       "      <td>NaN</td>\n",
       "      <td>train</td>\n",
       "      <td>B</td>\n",
       "    </tr>\n",
       "    <tr>\n",
       "      <th>2</th>\n",
       "      <td>4ba30954e5f3ca72748b3e145f45b705</td>\n",
       "      <td>What is the ones digit of \\[222,222-22,222-2,2...</td>\n",
       "      <td>We only care about the unit's digits.\\nThus, $...</td>\n",
       "      <td>2.00</td>\n",
       "      <td>https://artofproblemsolving.com/wiki/index.php...</td>\n",
       "      <td>AOPS</td>\n",
       "      <td>NaN</td>\n",
       "      <td>NaN</td>\n",
       "      <td>train</td>\n",
       "      <td>B</td>\n",
       "    </tr>\n",
       "    <tr>\n",
       "      <th>3</th>\n",
       "      <td>4ba30954e5f3ca72748b3e145f45b705</td>\n",
       "      <td>What is the ones digit of \\[222,222-22,222-2,2...</td>\n",
       "      <td>We just take the units digit of each and subtr...</td>\n",
       "      <td>2.00</td>\n",
       "      <td>https://artofproblemsolving.com/wiki/index.php...</td>\n",
       "      <td>AOPS</td>\n",
       "      <td>NaN</td>\n",
       "      <td>NaN</td>\n",
       "      <td>train</td>\n",
       "      <td>B</td>\n",
       "    </tr>\n",
       "    <tr>\n",
       "      <th>4</th>\n",
       "      <td>085955dda8dfb374689b3f216b54d785</td>\n",
       "      <td>What is the value of this expression in decima...</td>\n",
       "      <td>We see that $\\frac{44}{11}$ is $4$ $\\frac{110}...</td>\n",
       "      <td>6.54</td>\n",
       "      <td>https://artofproblemsolving.com/wiki/index.php...</td>\n",
       "      <td>AOPS</td>\n",
       "      <td>NaN</td>\n",
       "      <td>NaN</td>\n",
       "      <td>train</td>\n",
       "      <td>C</td>\n",
       "    </tr>\n",
       "  </tbody>\n",
       "</table>\n",
       "</div>"
      ],
      "text/plain": [
       "                         problem_id  \\\n",
       "0  4ba30954e5f3ca72748b3e145f45b705   \n",
       "1  4ba30954e5f3ca72748b3e145f45b705   \n",
       "2  4ba30954e5f3ca72748b3e145f45b705   \n",
       "3  4ba30954e5f3ca72748b3e145f45b705   \n",
       "4  085955dda8dfb374689b3f216b54d785   \n",
       "\n",
       "                                             problem  \\\n",
       "0  What is the ones digit of \\[222,222-22,222-2,2...   \n",
       "1  What is the ones digit of \\[222,222-22,222-2,2...   \n",
       "2  What is the ones digit of \\[222,222-22,222-2,2...   \n",
       "3  What is the ones digit of \\[222,222-22,222-2,2...   \n",
       "4  What is the value of this expression in decima...   \n",
       "\n",
       "                                            solution  answer  \\\n",
       "0  We can rewrite the expression as \\[222,222-(22...    2.00   \n",
       "1  222,222-22,222 = 200,000\\n200,000 - 2,222 = 19...    2.00   \n",
       "2  We only care about the unit's digits.\\nThus, $...    2.00   \n",
       "3  We just take the units digit of each and subtr...    2.00   \n",
       "4  We see that $\\frac{44}{11}$ is $4$ $\\frac{110}...    6.54   \n",
       "\n",
       "                                                link source level type  stage  \\\n",
       "0  https://artofproblemsolving.com/wiki/index.php...   AOPS   NaN  NaN  train   \n",
       "1  https://artofproblemsolving.com/wiki/index.php...   AOPS   NaN  NaN  train   \n",
       "2  https://artofproblemsolving.com/wiki/index.php...   AOPS   NaN  NaN  train   \n",
       "3  https://artofproblemsolving.com/wiki/index.php...   AOPS   NaN  NaN  train   \n",
       "4  https://artofproblemsolving.com/wiki/index.php...   AOPS   NaN  NaN  train   \n",
       "\n",
       "  letter  \n",
       "0      B  \n",
       "1      B  \n",
       "2      B  \n",
       "3      B  \n",
       "4      C  "
      ]
     },
     "execution_count": null,
     "metadata": {},
     "output_type": "execute_result"
    }
   ],
   "source": [
    "external_comb.head()"
   ]
  },
  {
   "cell_type": "code",
   "execution_count": null,
   "id": "232b8e6d-9b97-45ce-a5ad-24e23c67d9c2",
   "metadata": {},
   "outputs": [],
   "source": []
  },
  {
   "cell_type": "code",
   "execution_count": null,
   "id": "52fcd8c2-c597-4d35-9477-d524b4eccd8f",
   "metadata": {},
   "outputs": [],
   "source": []
  },
  {
   "cell_type": "code",
   "execution_count": null,
   "id": "9a5acb9b-613a-442b-ae8c-8ad92a9ecdfd",
   "metadata": {},
   "outputs": [],
   "source": [
    "def remove_multiple_choice_options_in_problem(problem_str):\n",
    "    return problem_str.rsplit(\"$\\\\textbf{(A\", 1)[0].rsplit(\"$\\\\text{(A\", 1)[0].strip()\n",
    "\n",
    "\n",
    "def remove_asy_block(text):\n",
    "    if text.count(\"[asy]\") > 0:\n",
    "        text = text.split(\"[asy]\", 1)[0] + text.split(\"[/asy]\", 1)[-1]\n",
    "        remove_asy_block(text)\n",
    "    return text.strip()\n",
    "\n",
    "\n",
    "def fix_and_filter_external_data(df: pd.DataFrame, drop_non_pos_int_rows: bool = True):\n",
    "    \"\"\"\"\"\"\n",
    "    _df = df.copy()\n",
    "\n",
    "    # Drop rows with infinite values in answer\n",
    "    _df = _df[~_df[\"answer\"].replace([np.inf, -np.inf], np.nan).isna()]\n",
    "\n",
    "    # Force answer to be appropriate dtype (int or float)\n",
    "    _df[\"answer\"] = _df[\"answer\"].apply(\n",
    "        lambda x: int(x) if float(int(x)) == float(x) else float(x)\n",
    "    )\n",
    "\n",
    "    # Remove multiple choices in problem string\n",
    "    _df.loc[~pd.isna(_df[\"letter\"]), \"problem\"] = _df.loc[\n",
    "        ~pd.isna(_df[\"letter\"]), \"problem\"\n",
    "    ].apply(remove_multiple_choice_options_in_problem)\n",
    "\n",
    "    # Replace hashtag solutions with boxed\n",
    "    _df.loc[_df.solution.str.contains(\"#### \"), \"solution\"] = _df.loc[\n",
    "        _df.solution.str.contains(\"#### \"), \"solution\"\n",
    "    ].apply(\n",
    "        lambda x: x.strip().rsplit(\"####\", 1)[0]\n",
    "        + \"$\\\\boxed{\"\n",
    "        + x.strip().rsplit(\"####\", 1)[-1].strip()\n",
    "        + \"}$\"\n",
    "    )\n",
    "\n",
    "    # Drop rows where the answer is less than 0 or non-int\n",
    "    if drop_non_pos_int_rows:\n",
    "        _df = _df[_df.answer.apply(lambda x: isinstance(x, int) and 0 <= x)]\n",
    "\n",
    "    # Drop rows where there is\n",
    "\n",
    "    # Modulo the answer and store the original in a separate column\n",
    "    _df[\"original_answer\"] = _df[\"answer\"].copy()\n",
    "    _df[\"answer\"] = _df[\"answer\"].apply(lambda x: x % 1000)\n",
    "\n",
    "    return _df.reset_index(drop=True)\n",
    "\n",
    "\n",
    "def filter_by_consensus(\n",
    "    df: pd.DataFrame, id_col: str = \"problem_id\", answer_col: str = \"answer\"\n",
    ") -> pd.DataFrame:\n",
    "    \"\"\"\n",
    "    Filters a DataFrame to retain only rows where the answer has the majority consensus\n",
    "    for each unique problem identifier.\n",
    "\n",
    "    This function groups the DataFrame by a problem identifier and determines the most frequent\n",
    "    answer for each group. Only rows where the answer matches the most frequent (mode) answer\n",
    "    for their corresponding group are retained.\n",
    "\n",
    "    Args:\n",
    "        df (pd.DataFrame): The DataFrame to filter.\n",
    "        id_col (str, optional): The column name in the DataFrame that contains the problem identifiers.\n",
    "                                Defaults to 'problem_id'.\n",
    "        answer_col (str, optional): The column name in the DataFrame that contains the answers.\n",
    "                                    Defaults to 'answer'.\n",
    "\n",
    "    Returns:\n",
    "        pd.DataFrame: A DataFrame containing only the rows with the majority consensus answer\n",
    "                      for each unique problem identifier.\n",
    "\n",
    "    Example:\n",
    "        >>> data = {'problem_id': ['1', '1', '1', '2', '2', '3'],\n",
    "        ...         'answer': [10, 10, 4, 150, 150, 3]}\n",
    "        >>> df = pd.DataFrame(data)\n",
    "        >>> filtered_df = filter_by_consensus(df)\n",
    "        >>> print(filtered_df)\n",
    "    \"\"\"\n",
    "    _df = df.copy()\n",
    "\n",
    "    # Calculate the mode of the answers for each problem_id\n",
    "    mode_df = (\n",
    "        _df.groupby(id_col)[answer_col]\n",
    "        .agg(lambda x: pd.Series.mode(x)[0])\n",
    "        .reset_index()\n",
    "    )\n",
    "    mode_df.rename(columns={answer_col: \"mode_answer\"}, inplace=True)\n",
    "\n",
    "    # Merge this back with the original DataFrame to filter\n",
    "    merged_df = _df.merge(mode_df, on=id_col)\n",
    "\n",
    "    # Keep only rows where the answer matches the mode answer\n",
    "    result_df = merged_df[merged_df[answer_col] == merged_df[\"mode_answer\"]]\n",
    "\n",
    "    # Remove the temporary mode_answer column\n",
    "    result_df = result_df.drop(columns=[\"mode_answer\"])\n",
    "\n",
    "    return result_df.reset_index(drop=True)"
   ]
  },
  {
   "cell_type": "code",
   "execution_count": null,
   "id": "83f5a481-fb88-4b51-bc57-237e6b737507",
   "metadata": {},
   "outputs": [],
   "source": []
  },
  {
   "cell_type": "code",
   "execution_count": null,
   "id": "6c7be4cb-eccc-4b82-9511-8d868a0ba413",
   "metadata": {},
   "outputs": [],
   "source": []
  },
  {
   "cell_type": "code",
   "execution_count": null,
   "id": "def5da9d-c3f1-426b-a7ab-a26e846af58c",
   "metadata": {},
   "outputs": [
    {
     "data": {
      "text/plain": [
       "(27861, 10)"
      ]
     },
     "execution_count": null,
     "metadata": {},
     "output_type": "execute_result"
    }
   ],
   "source": [
    "external_comb.shape"
   ]
  },
  {
   "cell_type": "code",
   "execution_count": null,
   "id": "25712a47-03e1-4571-891d-f8567eb23213",
   "metadata": {},
   "outputs": [],
   "source": [
    "external_comb = fix_and_filter_external_data(external_comb)"
   ]
  },
  {
   "cell_type": "code",
   "execution_count": null,
   "id": "4d163c79-7cd3-4214-aa33-bd89a996f446",
   "metadata": {},
   "outputs": [
    {
     "data": {
      "text/plain": [
       "(24952, 11)"
      ]
     },
     "execution_count": null,
     "metadata": {},
     "output_type": "execute_result"
    }
   ],
   "source": [
    "external_comb.shape"
   ]
  },
  {
   "cell_type": "code",
   "execution_count": null,
   "id": "99161d29-5f3d-4088-954a-3925f6e88969",
   "metadata": {},
   "outputs": [],
   "source": [
    "external_comb = filter_by_consensus(external_comb)"
   ]
  },
  {
   "cell_type": "code",
   "execution_count": null,
   "id": "f8726009-6c80-4f01-b775-c305125b5474",
   "metadata": {},
   "outputs": [
    {
     "data": {
      "text/plain": [
       "(24943, 11)"
      ]
     },
     "execution_count": null,
     "metadata": {},
     "output_type": "execute_result"
    }
   ],
   "source": [
    "external_comb.shape"
   ]
  },
  {
   "cell_type": "code",
   "execution_count": null,
   "id": "923814a2-64a0-47e1-a66d-16563c79490d",
   "metadata": {},
   "outputs": [
    {
     "data": {
      "text/plain": [
       "'We can rewrite the expression as \\\\[222,222-(22,222+2,222+222+22+2).\\\\]\\nWe note that the units digit of the addition is $0$ because all the units digits of the five numbers are $2$ and $5*2=10$ , which has a units digit of $0$\\nNow, we have something with a units digit of $0$ subtracted from $222,222$ . The units digit of this expression is obviously $2$ , and we get $\\\\boxed{2}$ as our answer.'"
      ]
     },
     "execution_count": null,
     "metadata": {},
     "output_type": "execute_result"
    }
   ],
   "source": [
    "external_comb.iloc[0].solution"
   ]
  },
  {
   "cell_type": "code",
   "execution_count": null,
   "id": "59c3b287-dff1-4387-bf8b-91899cb994ad",
   "metadata": {},
   "outputs": [],
   "source": [
    "external_comb.to_csv(f'{cnfg.base_data_path}aimo_external/cleaned_comb.csv', index=False)"
   ]
  },
  {
   "cell_type": "code",
   "execution_count": null,
   "id": "6f304ae4-a0f6-4dcd-8f49-bea7ea828038",
   "metadata": {},
   "outputs": [],
   "source": []
  }
 ],
 "metadata": {
  "kernelspec": {
   "display_name": "python3",
   "language": "python",
   "name": "python3"
  }
 },
 "nbformat": 4,
 "nbformat_minor": 5
}
