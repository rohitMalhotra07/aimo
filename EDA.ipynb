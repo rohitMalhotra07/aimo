{
 "cells": [
  {
   "cell_type": "code",
   "execution_count": null,
   "id": "eeaf59dd-3b7f-4bce-93de-2bc534e0917f",
   "metadata": {},
   "outputs": [],
   "source": [
    "import pandas as pd\n",
    "\n",
    "from config import Config"
   ]
  },
  {
   "cell_type": "code",
   "execution_count": null,
   "id": "90a8b865-a69d-4ca2-855e-be229efe3f63",
   "metadata": {},
   "outputs": [],
   "source": []
  },
  {
   "cell_type": "code",
   "execution_count": null,
   "id": "481edea0-94b3-4995-b2d2-4eb59e2555dd",
   "metadata": {},
   "outputs": [],
   "source": []
  },
  {
   "cell_type": "code",
   "execution_count": null,
   "id": "00e87955-bbe9-4bd9-b948-bd8b96a17cbc",
   "metadata": {},
   "outputs": [],
   "source": []
  },
  {
   "cell_type": "code",
   "execution_count": null,
   "id": "ec38bc3d-9009-44b3-845d-b02d9cce5d4b",
   "metadata": {},
   "outputs": [],
   "source": []
  },
  {
   "cell_type": "code",
   "execution_count": null,
   "id": "0606c25d-cd4d-4164-9973-f7fbeed45354",
   "metadata": {},
   "outputs": [],
   "source": [
    "cnfg = Config()"
   ]
  },
  {
   "cell_type": "code",
   "execution_count": null,
   "id": "d32e2a17-0912-4818-b665-0c7fc112502d",
   "metadata": {},
   "outputs": [],
   "source": [
    "train_df = pd.read_csv(f\"{cnfg.base_data_path}aimo_given/train.csv\")"
   ]
  },
  {
   "cell_type": "code",
   "execution_count": null,
   "id": "277f0ffc-8dbd-40ae-a798-b1d14ecc0805",
   "metadata": {},
   "outputs": [
    {
     "data": {
      "text/plain": [
       "(10, 3)"
      ]
     },
     "execution_count": null,
     "metadata": {},
     "output_type": "execute_result"
    }
   ],
   "source": [
    "train_df.shape"
   ]
  },
  {
   "cell_type": "code",
   "execution_count": null,
   "id": "fbcf9780-01a3-4099-a594-0c2e198fcfdf",
   "metadata": {},
   "outputs": [
    {
     "data": {
      "text/html": [
       "<div>\n",
       "<style scoped>\n",
       "    .dataframe tbody tr th:only-of-type {\n",
       "        vertical-align: middle;\n",
       "    }\n",
       "\n",
       "    .dataframe tbody tr th {\n",
       "        vertical-align: top;\n",
       "    }\n",
       "\n",
       "    .dataframe thead th {\n",
       "        text-align: right;\n",
       "    }\n",
       "</style>\n",
       "<table border=\"1\" class=\"dataframe\">\n",
       "  <thead>\n",
       "    <tr style=\"text-align: right;\">\n",
       "      <th></th>\n",
       "      <th>id</th>\n",
       "      <th>problem</th>\n",
       "      <th>answer</th>\n",
       "    </tr>\n",
       "  </thead>\n",
       "  <tbody>\n",
       "    <tr>\n",
       "      <th>0</th>\n",
       "      <td>229ee8</td>\n",
       "      <td>Let $k, l &gt; 0$ be parameters. The parabola $y ...</td>\n",
       "      <td>52</td>\n",
       "    </tr>\n",
       "    <tr>\n",
       "      <th>1</th>\n",
       "      <td>246d26</td>\n",
       "      <td>Each of the three-digits numbers $111$ to $999...</td>\n",
       "      <td>250</td>\n",
       "    </tr>\n",
       "    <tr>\n",
       "      <th>2</th>\n",
       "      <td>2fc4ad</td>\n",
       "      <td>Let the `sparkle' operation on positive intege...</td>\n",
       "      <td>702</td>\n",
       "    </tr>\n",
       "    <tr>\n",
       "      <th>3</th>\n",
       "      <td>430b63</td>\n",
       "      <td>What is the minimum value of $5x^2+5y^2-8xy$ w...</td>\n",
       "      <td>800</td>\n",
       "    </tr>\n",
       "    <tr>\n",
       "      <th>4</th>\n",
       "      <td>5277ed</td>\n",
       "      <td>There exists a unique increasing geometric seq...</td>\n",
       "      <td>211</td>\n",
       "    </tr>\n",
       "    <tr>\n",
       "      <th>5</th>\n",
       "      <td>739bc9</td>\n",
       "      <td>For how many positive integers $m$ does the eq...</td>\n",
       "      <td>199</td>\n",
       "    </tr>\n",
       "    <tr>\n",
       "      <th>6</th>\n",
       "      <td>82e2a0</td>\n",
       "      <td>Suppose that we roll four 6-sided fair dice wi...</td>\n",
       "      <td>185</td>\n",
       "    </tr>\n",
       "    <tr>\n",
       "      <th>7</th>\n",
       "      <td>8ee6f3</td>\n",
       "      <td>The points $\\left(x, y\\right)$ satisfying $((\\...</td>\n",
       "      <td>320</td>\n",
       "    </tr>\n",
       "    <tr>\n",
       "      <th>8</th>\n",
       "      <td>bedda4</td>\n",
       "      <td>Let $ABCD$ be a unit square. Let $P$ be the po...</td>\n",
       "      <td>480</td>\n",
       "    </tr>\n",
       "    <tr>\n",
       "      <th>9</th>\n",
       "      <td>d7e9c9</td>\n",
       "      <td>A function $f: \\mathbb N \\to \\mathbb N$ satisf...</td>\n",
       "      <td>199</td>\n",
       "    </tr>\n",
       "  </tbody>\n",
       "</table>\n",
       "</div>"
      ],
      "text/plain": [
       "       id                                            problem  answer\n",
       "0  229ee8  Let $k, l > 0$ be parameters. The parabola $y ...      52\n",
       "1  246d26  Each of the three-digits numbers $111$ to $999...     250\n",
       "2  2fc4ad  Let the `sparkle' operation on positive intege...     702\n",
       "3  430b63  What is the minimum value of $5x^2+5y^2-8xy$ w...     800\n",
       "4  5277ed  There exists a unique increasing geometric seq...     211\n",
       "5  739bc9  For how many positive integers $m$ does the eq...     199\n",
       "6  82e2a0  Suppose that we roll four 6-sided fair dice wi...     185\n",
       "7  8ee6f3  The points $\\left(x, y\\right)$ satisfying $((\\...     320\n",
       "8  bedda4  Let $ABCD$ be a unit square. Let $P$ be the po...     480\n",
       "9  d7e9c9  A function $f: \\mathbb N \\to \\mathbb N$ satisf...     199"
      ]
     },
     "execution_count": null,
     "metadata": {},
     "output_type": "execute_result"
    }
   ],
   "source": [
    "train_df"
   ]
  },
  {
   "cell_type": "code",
   "execution_count": null,
   "id": "ba37d650-d19c-466a-9de2-68f22bf6fb20",
   "metadata": {},
   "outputs": [
    {
     "name": "stdout",
     "output_type": "stream",
     "text": [
      "Let $k, l > 0$ be parameters. The parabola $y = kx^2 - 2kx + l$ intersects the line $y = 4$ at two points $A$ and $B$. These points are distance 6 apart. What is the sum of the squares of the distances from $A$ and $B$ to the origin? \n",
      " 52\n",
      "\n",
      " ========= \n",
      "\n",
      "Each of the three-digits numbers $111$ to $999$ is coloured blue or yellow in such a way that the sum of any two (not necessarily different) yellow numbers is equal to a blue number. What is the maximum possible number of yellow numbers there can be? \n",
      " 250\n",
      "\n",
      " ========= \n",
      "\n",
      "Let the `sparkle' operation on positive integer $n$ consist of calculating the sum of the digits of $n$ and taking its factorial, e.g. the sparkle of 13 is $4! = 24$. A robot starts with a positive integer on a blackboard, then after each second for the rest of eternity, replaces the number on the board with its sparkle. For some `special' numbers, if they're the first number, then eventually every number that appears will be less than 6. How many such special numbers are there with at most 36 digits? \n",
      " 702\n",
      "\n",
      " ========= \n",
      "\n",
      "What is the minimum value of $5x^2+5y^2-8xy$ when $x$ and $y$ range over all real numbers such that $|x-2y| + |y-2x| = 40$? \n",
      " 800\n",
      "\n",
      " ========= \n",
      "\n",
      "There exists a unique increasing geometric sequence of five 2-digit positive integers. What is their sum? \n",
      " 211\n",
      "\n",
      " ========= \n",
      "\n",
      "For how many positive integers $m$ does the equation \\[\\vert \\vert x-1 \\vert -2 \\vert=\\frac{m}{100}\\] have $4$ distinct solutions? \n",
      " 199\n",
      "\n",
      " ========= \n",
      "\n",
      "Suppose that we roll four 6-sided fair dice with faces numbered 1 to~6. Let $a/b$ be the probability that the highest roll is a 5, where $a$ and $b$ are relatively prime positive integers. Find $a + b$. \n",
      " 185\n",
      "\n",
      " ========= \n",
      "\n",
      "The points $\\left(x, y\\right)$ satisfying $((\\vert x + y \\vert - 10)^2 + ( \\vert x - y \\vert - 10)^2)((\\vert x \\vert - 8)^2 + ( \\vert y \\vert - 8)^2) = 0$ enclose a convex polygon. What is the area of this convex polygon? \n",
      " 320\n",
      "\n",
      " ========= \n",
      "\n",
      "Let $ABCD$ be a unit square. Let $P$ be the point on $AB$ such that $|AP| = 1/{20}$ and let $Q$ be the point on $AD$ such that $|AQ| = 1/{24}$. The lines $DP$ and $BQ$ divide the square into four regions. Find the ratio between the areas of the largest region and the smallest region. \n",
      " 480\n",
      "\n",
      " ========= \n",
      "\n",
      "A function $f: \\mathbb N \\to \\mathbb N$ satisfies the following two conditions for all positive integers $n$:$f(f(f(n)))=8n-7$ and $f(2n)=2f(n)+1$. Calculate $f(100)$. \n",
      " 199\n",
      "\n",
      " ========= \n",
      "\n"
     ]
    }
   ],
   "source": [
    "for i, row in train_df.iterrows():\n",
    "    print(row.problem, \"\\n\", row.answer)\n",
    "    print(\"\\n ========= \\n\")"
   ]
  },
  {
   "cell_type": "markdown",
   "id": "82386887-715a-4c7c-a9a2-6d69506e050b",
   "metadata": {},
   "source": [
    "### AIMO External Data Source"
   ]
  },
  {
   "cell_type": "code",
   "execution_count": null,
   "id": "8a851cbd-5a9a-4e85-80f4-00af897d1774",
   "metadata": {},
   "outputs": [],
   "source": [
    "external_df = pd.read_csv(f\"{cnfg.base_data_path}aimo_external/external_df.csv\")"
   ]
  },
  {
   "cell_type": "code",
   "execution_count": null,
   "id": "c0c12587-cc62-494e-b698-0ee5bf38cb56",
   "metadata": {},
   "outputs": [
    {
     "data": {
      "text/plain": [
       "(21292, 6)"
      ]
     },
     "execution_count": null,
     "metadata": {},
     "output_type": "execute_result"
    }
   ],
   "source": [
    "external_df.shape"
   ]
  },
  {
   "cell_type": "code",
   "execution_count": null,
   "id": "16f324eb-08f1-4881-8701-71414e572115",
   "metadata": {},
   "outputs": [
    {
     "data": {
      "text/html": [
       "<div>\n",
       "<style scoped>\n",
       "    .dataframe tbody tr th:only-of-type {\n",
       "        vertical-align: middle;\n",
       "    }\n",
       "\n",
       "    .dataframe tbody tr th {\n",
       "        vertical-align: top;\n",
       "    }\n",
       "\n",
       "    .dataframe thead th {\n",
       "        text-align: right;\n",
       "    }\n",
       "</style>\n",
       "<table border=\"1\" class=\"dataframe\">\n",
       "  <thead>\n",
       "    <tr style=\"text-align: right;\">\n",
       "      <th></th>\n",
       "      <th>problem</th>\n",
       "      <th>level</th>\n",
       "      <th>type</th>\n",
       "      <th>solution</th>\n",
       "      <th>stage</th>\n",
       "      <th>source</th>\n",
       "    </tr>\n",
       "  </thead>\n",
       "  <tbody>\n",
       "    <tr>\n",
       "      <th>0</th>\n",
       "      <td>Kevin Kangaroo begins hopping on a number line...</td>\n",
       "      <td>Level 5</td>\n",
       "      <td>Algebra</td>\n",
       "      <td>Kevin hops $1/3$ of the remaining distance wit...</td>\n",
       "      <td>train</td>\n",
       "      <td>MATH</td>\n",
       "    </tr>\n",
       "    <tr>\n",
       "      <th>1</th>\n",
       "      <td>The ratio of the areas of two squares is $\\fra...</td>\n",
       "      <td>Level 4</td>\n",
       "      <td>Algebra</td>\n",
       "      <td>We start off by simplifying the ratio $\\frac{1...</td>\n",
       "      <td>train</td>\n",
       "      <td>MATH</td>\n",
       "    </tr>\n",
       "    <tr>\n",
       "      <th>2</th>\n",
       "      <td>If $\\sqrt{2\\sqrt{t-2}} = \\sqrt[4]{7 - t}$, the...</td>\n",
       "      <td>Level 4</td>\n",
       "      <td>Algebra</td>\n",
       "      <td>We raise both sides to the fourth power, which...</td>\n",
       "      <td>train</td>\n",
       "      <td>MATH</td>\n",
       "    </tr>\n",
       "    <tr>\n",
       "      <th>3</th>\n",
       "      <td>Let $t(x) = \\sqrt{3x+1}$ and $f(x)=5-t(x)$. Wh...</td>\n",
       "      <td>Level 4</td>\n",
       "      <td>Algebra</td>\n",
       "      <td>We first evaluate $f(5) = 5 -t(5) = 5-\\sqrt{5\\...</td>\n",
       "      <td>train</td>\n",
       "      <td>MATH</td>\n",
       "    </tr>\n",
       "    <tr>\n",
       "      <th>4</th>\n",
       "      <td>James has a total of 66 dollars in his piggy b...</td>\n",
       "      <td>Level 2</td>\n",
       "      <td>Algebra</td>\n",
       "      <td>Call the number of one dollar bills $x$ and th...</td>\n",
       "      <td>train</td>\n",
       "      <td>MATH</td>\n",
       "    </tr>\n",
       "  </tbody>\n",
       "</table>\n",
       "</div>"
      ],
      "text/plain": [
       "                                             problem    level     type  \\\n",
       "0  Kevin Kangaroo begins hopping on a number line...  Level 5  Algebra   \n",
       "1  The ratio of the areas of two squares is $\\fra...  Level 4  Algebra   \n",
       "2  If $\\sqrt{2\\sqrt{t-2}} = \\sqrt[4]{7 - t}$, the...  Level 4  Algebra   \n",
       "3  Let $t(x) = \\sqrt{3x+1}$ and $f(x)=5-t(x)$. Wh...  Level 4  Algebra   \n",
       "4  James has a total of 66 dollars in his piggy b...  Level 2  Algebra   \n",
       "\n",
       "                                            solution  stage source  \n",
       "0  Kevin hops $1/3$ of the remaining distance wit...  train   MATH  \n",
       "1  We start off by simplifying the ratio $\\frac{1...  train   MATH  \n",
       "2  We raise both sides to the fourth power, which...  train   MATH  \n",
       "3  We first evaluate $f(5) = 5 -t(5) = 5-\\sqrt{5\\...  train   MATH  \n",
       "4  Call the number of one dollar bills $x$ and th...  train   MATH  "
      ]
     },
     "execution_count": null,
     "metadata": {},
     "output_type": "execute_result"
    }
   ],
   "source": [
    "external_df.head()"
   ]
  },
  {
   "cell_type": "code",
   "execution_count": null,
   "id": "ad6cd5f0-085b-4eae-8632-3d8b9cb87a7f",
   "metadata": {},
   "outputs": [
    {
     "name": "stdout",
     "output_type": "stream",
     "text": [
      "A certain integer has $4$ digits when written in base $8$. The same integer has $d$ digits when written in base $2$. What is the sum of all possible values of $d$?\n",
      "The smallest integer that has $4$ digits in base $8$ is $1000_8$, which stands for $8^3 = 2^9$. The largest integer that has $4$ digits in base $8$ is $7777_8$, which is $1$ less than $10000_8$ and therefore stands for $8^4-1 = 2^{12}-1$.\n",
      "\n",
      "Thus, when a $4$-digit base-$8$ integer is written in base $2$, its highest place value is either $2^9$, $2^{10}$, or $2^{11}$. It follows that the base-$2$ expression has $10$, $11$, or $12$ digits, so the sum of all possible values for $d$ is $10+11+12 = \\boxed{33}$.\n"
     ]
    }
   ],
   "source": [
    "tmp = external_df.sample(1).iloc[0]\n",
    "print(tmp.problem)\n",
    "print(tmp.solution)"
   ]
  },
  {
   "cell_type": "code",
   "execution_count": null,
   "id": "cc8dfb9f-46e1-437a-9cac-e22cba46a6f1",
   "metadata": {},
   "outputs": [
    {
     "data": {
      "text/html": [
       "<div>\n",
       "<style scoped>\n",
       "    .dataframe tbody tr th:only-of-type {\n",
       "        vertical-align: middle;\n",
       "    }\n",
       "\n",
       "    .dataframe tbody tr th {\n",
       "        vertical-align: top;\n",
       "    }\n",
       "\n",
       "    .dataframe thead th {\n",
       "        text-align: right;\n",
       "    }\n",
       "</style>\n",
       "<table border=\"1\" class=\"dataframe\">\n",
       "  <thead>\n",
       "    <tr style=\"text-align: right;\">\n",
       "      <th></th>\n",
       "      <th>problem</th>\n",
       "      <th>level</th>\n",
       "      <th>type</th>\n",
       "      <th>solution</th>\n",
       "      <th>stage</th>\n",
       "      <th>source</th>\n",
       "    </tr>\n",
       "  </thead>\n",
       "  <tbody>\n",
       "    <tr>\n",
       "      <th>0</th>\n",
       "      <td>Kevin Kangaroo begins hopping on a number line...</td>\n",
       "      <td>Level 5</td>\n",
       "      <td>Algebra</td>\n",
       "      <td>Kevin hops $1/3$ of the remaining distance wit...</td>\n",
       "      <td>train</td>\n",
       "      <td>MATH</td>\n",
       "    </tr>\n",
       "    <tr>\n",
       "      <th>1</th>\n",
       "      <td>The ratio of the areas of two squares is $\\fra...</td>\n",
       "      <td>Level 4</td>\n",
       "      <td>Algebra</td>\n",
       "      <td>We start off by simplifying the ratio $\\frac{1...</td>\n",
       "      <td>train</td>\n",
       "      <td>MATH</td>\n",
       "    </tr>\n",
       "    <tr>\n",
       "      <th>2</th>\n",
       "      <td>If $\\sqrt{2\\sqrt{t-2}} = \\sqrt[4]{7 - t}$, the...</td>\n",
       "      <td>Level 4</td>\n",
       "      <td>Algebra</td>\n",
       "      <td>We raise both sides to the fourth power, which...</td>\n",
       "      <td>train</td>\n",
       "      <td>MATH</td>\n",
       "    </tr>\n",
       "    <tr>\n",
       "      <th>3</th>\n",
       "      <td>Let $t(x) = \\sqrt{3x+1}$ and $f(x)=5-t(x)$. Wh...</td>\n",
       "      <td>Level 4</td>\n",
       "      <td>Algebra</td>\n",
       "      <td>We first evaluate $f(5) = 5 -t(5) = 5-\\sqrt{5\\...</td>\n",
       "      <td>train</td>\n",
       "      <td>MATH</td>\n",
       "    </tr>\n",
       "    <tr>\n",
       "      <th>4</th>\n",
       "      <td>James has a total of 66 dollars in his piggy b...</td>\n",
       "      <td>Level 2</td>\n",
       "      <td>Algebra</td>\n",
       "      <td>Call the number of one dollar bills $x$ and th...</td>\n",
       "      <td>train</td>\n",
       "      <td>MATH</td>\n",
       "    </tr>\n",
       "    <tr>\n",
       "      <th>...</th>\n",
       "      <td>...</td>\n",
       "      <td>...</td>\n",
       "      <td>...</td>\n",
       "      <td>...</td>\n",
       "      <td>...</td>\n",
       "      <td>...</td>\n",
       "    </tr>\n",
       "    <tr>\n",
       "      <th>21287</th>\n",
       "      <td>John had a son James when he was 19.  James is...</td>\n",
       "      <td>NaN</td>\n",
       "      <td>NaN</td>\n",
       "      <td>Dora is 12-3=&lt;&lt;12-3=9&gt;&gt;9\\nSo James is 9*2=&lt;&lt;9*...</td>\n",
       "      <td>test</td>\n",
       "      <td>GSM8K</td>\n",
       "    </tr>\n",
       "    <tr>\n",
       "      <th>21288</th>\n",
       "      <td>There are some oranges in a basket. Ana spends...</td>\n",
       "      <td>NaN</td>\n",
       "      <td>NaN</td>\n",
       "      <td>There are 60 minutes in an hour. Ana peels an ...</td>\n",
       "      <td>test</td>\n",
       "      <td>GSM8K</td>\n",
       "    </tr>\n",
       "    <tr>\n",
       "      <th>21289</th>\n",
       "      <td>Mark's car breaks down and he needs to get a n...</td>\n",
       "      <td>NaN</td>\n",
       "      <td>NaN</td>\n",
       "      <td>The discount on the radiator was 400*.8=$&lt;&lt;400...</td>\n",
       "      <td>test</td>\n",
       "      <td>GSM8K</td>\n",
       "    </tr>\n",
       "    <tr>\n",
       "      <th>21290</th>\n",
       "      <td>Farmer Brown has 20 animals on his farm, all e...</td>\n",
       "      <td>NaN</td>\n",
       "      <td>NaN</td>\n",
       "      <td>Let C be the number of chickens.\\nThere are 20...</td>\n",
       "      <td>test</td>\n",
       "      <td>GSM8K</td>\n",
       "    </tr>\n",
       "    <tr>\n",
       "      <th>21291</th>\n",
       "      <td>Henry and 3 of his friends order 7 pizzas for ...</td>\n",
       "      <td>NaN</td>\n",
       "      <td>NaN</td>\n",
       "      <td>There are 7*8=&lt;&lt;7*8=56&gt;&gt;56 slices in total.\\nT...</td>\n",
       "      <td>test</td>\n",
       "      <td>GSM8K</td>\n",
       "    </tr>\n",
       "  </tbody>\n",
       "</table>\n",
       "<p>21292 rows × 6 columns</p>\n",
       "</div>"
      ],
      "text/plain": [
       "                                                 problem    level     type  \\\n",
       "0      Kevin Kangaroo begins hopping on a number line...  Level 5  Algebra   \n",
       "1      The ratio of the areas of two squares is $\\fra...  Level 4  Algebra   \n",
       "2      If $\\sqrt{2\\sqrt{t-2}} = \\sqrt[4]{7 - t}$, the...  Level 4  Algebra   \n",
       "3      Let $t(x) = \\sqrt{3x+1}$ and $f(x)=5-t(x)$. Wh...  Level 4  Algebra   \n",
       "4      James has a total of 66 dollars in his piggy b...  Level 2  Algebra   \n",
       "...                                                  ...      ...      ...   \n",
       "21287  John had a son James when he was 19.  James is...      NaN      NaN   \n",
       "21288  There are some oranges in a basket. Ana spends...      NaN      NaN   \n",
       "21289  Mark's car breaks down and he needs to get a n...      NaN      NaN   \n",
       "21290  Farmer Brown has 20 animals on his farm, all e...      NaN      NaN   \n",
       "21291  Henry and 3 of his friends order 7 pizzas for ...      NaN      NaN   \n",
       "\n",
       "                                                solution  stage source  \n",
       "0      Kevin hops $1/3$ of the remaining distance wit...  train   MATH  \n",
       "1      We start off by simplifying the ratio $\\frac{1...  train   MATH  \n",
       "2      We raise both sides to the fourth power, which...  train   MATH  \n",
       "3      We first evaluate $f(5) = 5 -t(5) = 5-\\sqrt{5\\...  train   MATH  \n",
       "4      Call the number of one dollar bills $x$ and th...  train   MATH  \n",
       "...                                                  ...    ...    ...  \n",
       "21287  Dora is 12-3=<<12-3=9>>9\\nSo James is 9*2=<<9*...   test  GSM8K  \n",
       "21288  There are 60 minutes in an hour. Ana peels an ...   test  GSM8K  \n",
       "21289  The discount on the radiator was 400*.8=$<<400...   test  GSM8K  \n",
       "21290  Let C be the number of chickens.\\nThere are 20...   test  GSM8K  \n",
       "21291  There are 7*8=<<7*8=56>>56 slices in total.\\nT...   test  GSM8K  \n",
       "\n",
       "[21292 rows x 6 columns]"
      ]
     },
     "execution_count": null,
     "metadata": {},
     "output_type": "execute_result"
    }
   ],
   "source": [
    "external_df"
   ]
  },
  {
   "cell_type": "code",
   "execution_count": null,
   "id": "23fa76ad-435b-4681-bb05-0b7c786b189c",
   "metadata": {},
   "outputs": [
    {
     "data": {
      "text/plain": [
       "163"
      ]
     },
     "execution_count": null,
     "metadata": {},
     "output_type": "execute_result"
    }
   ],
   "source": [
    "len(\"A certain integer has $4$ digits when written in base $8$. The same integer has $d$ digits when written in base $2$. What is the sum of all possible values of $d$?\")"
   ]
  },
  {
   "cell_type": "code",
   "execution_count": null,
   "id": "5c0457f2-b234-42c5-843c-4e3164ab68ba",
   "metadata": {},
   "outputs": [],
   "source": []
  }
 ],
 "metadata": {
  "kernelspec": {
   "display_name": "python3",
   "language": "python",
   "name": "python3"
  }
 },
 "nbformat": 4,
 "nbformat_minor": 5
}
